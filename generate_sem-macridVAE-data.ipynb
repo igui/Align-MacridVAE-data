{
 "cells": [
  {
   "cell_type": "code",
   "execution_count": 5,
   "metadata": {},
   "outputs": [],
   "source": [
    "from pathlib import Path\n",
    "from typing import List\n",
    "from tqdm import tqdm\n",
    "\n",
    "import numpy as np\n",
    "import pandas as pd\n",
    "\n",
    "import amazon_dataset"
   ]
  },
  {
   "attachments": {},
   "cell_type": "markdown",
   "metadata": {},
   "source": [
    "# Intialize Datasets"
   ]
  },
  {
   "cell_type": "code",
   "execution_count": 3,
   "metadata": {},
   "outputs": [],
   "source": [
    "DATASET = 'Clothing_Shoes_and_Jewelry'\n",
    "VALIDATION_SIZE=0.15\n",
    "RANDOM_SEED = 20230219\n",
    "ALEXNET_IMAGE_FEATURES = Path(f'data/amazon/{DATASET}_alexnet_features.npz')\n",
    "VIT_IMAGE_FEATURES = Path(f'data/amazon/{DATASET}_vit_features.npz')\n",
    "TEXT_FEATURES = Path(f'data/amazon/{DATASET}_bert_features.npz')\n",
    "SEM_MACRID_DEST_FOLDER = Path(f'data/SEM-MacridVAE-{DATASET}')\n",
    "DMRL_DEST_FOLDER = Path(f'data/DMRL-{DATASET}')\n",
    "\n",
    "assert ALEXNET_IMAGE_FEATURES.exists()\n",
    "assert VIT_IMAGE_FEATURES.exists()\n",
    "assert TEXT_FEATURES.exists()\n",
    "SEM_MACRID_DEST_FOLDER.mkdir(exist_ok=True)\n",
    "DMRL_DEST_FOLDER.mkdir(exist_ok=True)"
   ]
  },
  {
   "cell_type": "code",
   "execution_count": 3,
   "metadata": {},
   "outputs": [],
   "source": [
    "def generate_unique_ids(series: pd.Series) -> pd.Series:\n",
    "    rng = np.random.default_rng(RANDOM_SEED)\n",
    "    unique_ids = series.unique()\n",
    "    return pd.Series(\n",
    "        index=rng.permutation(unique_ids), \n",
    "        data=range(len(unique_ids))\n",
    "    )\n",
    "\n",
    "def df_stats(df: pd.DataFrame) -> str:\n",
    "    n_items = len(df['asin'].unique())\n",
    "    n_users = len(df['reviewerID'].unique())\n",
    "    sparsity = 1. * len(df) / (n_users * n_items)\n",
    "    return f'{n_items} items {n_users} users. Sparsity {sparsity * 100:.3f}%'\n",
    "\n",
    "def save_numerized(\n",
    "    reviews: pd.DataFrame, \n",
    "    uids: pd.Series, \n",
    "    product_ids: pd.Series,\n",
    "    user_id_column: str,\n",
    "    product_ids_column: str,\n",
    "    columns: List[str],\n",
    "    dest: Path\n",
    "):\n",
    "    \"\"\"Save a Dataframe following userids and product_ids\"\"\"\n",
    "    joined = reviews.join(uids.to_frame(user_id_column), on='reviewerID')\n",
    "    assert joined[user_id_column].isna().sum() == 0\n",
    "    \n",
    "    joined = joined.join(product_ids.to_frame(product_ids_column), on='asin')\n",
    "    assert joined[product_ids_column].isna().sum() == 0\n",
    "    \n",
    "    res = joined[columns]\n",
    "    \n",
    "    res.to_csv(dest, index=False)\n",
    "\n",
    "    return res\n",
    "\n",
    "def split_train_test_proportion(df: pd.DataFrame, test_prop=0.2):\n",
    "    \"\"\"\n",
    "    Split the dataframe by reviewer and take exactly `test_prop` records\n",
    "    for test and leave the rest for training\n",
    "    \"\"\"\n",
    "    rng = np.random.default_rng(RANDOM_SEED)\n",
    "\n",
    "    res = df.copy()\n",
    "    res['rnd'] = rng.random(size=len(df))\n",
    "    res['rnd_rank'] = res.groupby('reviewerID')['rnd'].rank(pct=True)\n",
    "    condition = res['rnd_rank'] <= test_prop\n",
    "    \n",
    "    (_, train), (_, test) = res.groupby(condition)\n",
    "    \n",
    "    assert(len(set(train.index) & set(test.index)) == 0)\n",
    "\n",
    "    return df.loc[train.index], df.loc[test.index]"
   ]
  },
  {
   "cell_type": "code",
   "execution_count": 4,
   "metadata": {},
   "outputs": [
    {
     "data": {
      "text/html": [
       "<div>\n",
       "<style scoped>\n",
       "    .dataframe tbody tr th:only-of-type {\n",
       "        vertical-align: middle;\n",
       "    }\n",
       "\n",
       "    .dataframe tbody tr th {\n",
       "        vertical-align: top;\n",
       "    }\n",
       "\n",
       "    .dataframe thead th {\n",
       "        text-align: right;\n",
       "    }\n",
       "</style>\n",
       "<table border=\"1\" class=\"dataframe\">\n",
       "  <thead>\n",
       "    <tr style=\"text-align: right;\">\n",
       "      <th></th>\n",
       "      <th>id</th>\n",
       "      <th>asin</th>\n",
       "      <th>reviewerID</th>\n",
       "      <th>reviewerName</th>\n",
       "      <th>overall</th>\n",
       "      <th>text</th>\n",
       "      <th>reviewTime</th>\n",
       "      <th>summary</th>\n",
       "      <th>verified</th>\n",
       "      <th>vote</th>\n",
       "    </tr>\n",
       "  </thead>\n",
       "  <tbody>\n",
       "    <tr>\n",
       "      <th>0</th>\n",
       "      <td>676</td>\n",
       "      <td>5120053084</td>\n",
       "      <td>A35EUS1E3WK1HC</td>\n",
       "      <td>Kiley and Mars</td>\n",
       "      <td>5.0</td>\n",
       "      <td>It's a cute top, works good for nursing and la...</td>\n",
       "      <td>2018-04-10</td>\n",
       "      <td>Decent lounge around top</td>\n",
       "      <td>True</td>\n",
       "      <td>NaN</td>\n",
       "    </tr>\n",
       "    <tr>\n",
       "      <th>1</th>\n",
       "      <td>677</td>\n",
       "      <td>5120053084</td>\n",
       "      <td>AKIZYAIS4SYVF</td>\n",
       "      <td>Bethany</td>\n",
       "      <td>5.0</td>\n",
       "      <td>Looks really cute and super easy to nurse my d...</td>\n",
       "      <td>2018-03-22</td>\n",
       "      <td>Cute</td>\n",
       "      <td>True</td>\n",
       "      <td>NaN</td>\n",
       "    </tr>\n",
       "    <tr>\n",
       "      <th>2</th>\n",
       "      <td>679</td>\n",
       "      <td>5120053084</td>\n",
       "      <td>A2L74OWEP7H1VC</td>\n",
       "      <td>Shelby0516</td>\n",
       "      <td>3.0</td>\n",
       "      <td>The tie is longer than the pictures showed. Ha...</td>\n",
       "      <td>2018-03-14</td>\n",
       "      <td>Awkward tie</td>\n",
       "      <td>True</td>\n",
       "      <td>NaN</td>\n",
       "    </tr>\n",
       "    <tr>\n",
       "      <th>3</th>\n",
       "      <td>681</td>\n",
       "      <td>5120053084</td>\n",
       "      <td>A260RMKZXGDHVH</td>\n",
       "      <td>Kelly Kennedy</td>\n",
       "      <td>5.0</td>\n",
       "      <td>Of all the nursing shirts I bought my daughter...</td>\n",
       "      <td>2018-03-07</td>\n",
       "      <td>this one is her favorite. She wears it with pa...</td>\n",
       "      <td>True</td>\n",
       "      <td>NaN</td>\n",
       "    </tr>\n",
       "    <tr>\n",
       "      <th>4</th>\n",
       "      <td>1300</td>\n",
       "      <td>7709260373</td>\n",
       "      <td>A13QI8GT2FFGN6</td>\n",
       "      <td>Amy</td>\n",
       "      <td>5.0</td>\n",
       "      <td>For the price... this is awesome!</td>\n",
       "      <td>2018-03-13</td>\n",
       "      <td>this is awesome!</td>\n",
       "      <td>True</td>\n",
       "      <td>NaN</td>\n",
       "    </tr>\n",
       "    <tr>\n",
       "      <th>...</th>\n",
       "      <td>...</td>\n",
       "      <td>...</td>\n",
       "      <td>...</td>\n",
       "      <td>...</td>\n",
       "      <td>...</td>\n",
       "      <td>...</td>\n",
       "      <td>...</td>\n",
       "      <td>...</td>\n",
       "      <td>...</td>\n",
       "      <td>...</td>\n",
       "    </tr>\n",
       "    <tr>\n",
       "      <th>178939</th>\n",
       "      <td>32291840</td>\n",
       "      <td>B01HJCSCLK</td>\n",
       "      <td>AAHWQ4FMWLNH3</td>\n",
       "      <td>amazonlover</td>\n",
       "      <td>5.0</td>\n",
       "      <td>Beautiful. Strong, durable, and chic but subtl...</td>\n",
       "      <td>2018-07-25</td>\n",
       "      <td>Beautiful</td>\n",
       "      <td>True</td>\n",
       "      <td>NaN</td>\n",
       "    </tr>\n",
       "    <tr>\n",
       "      <th>178940</th>\n",
       "      <td>32291855</td>\n",
       "      <td>B01HJDVCJI</td>\n",
       "      <td>A2WUHKA1I75SL3</td>\n",
       "      <td>FRCP</td>\n",
       "      <td>3.0</td>\n",
       "      <td>Fit is great on these and they are very comfor...</td>\n",
       "      <td>2018-09-03</td>\n",
       "      <td>Comfortable</td>\n",
       "      <td>False</td>\n",
       "      <td>NaN</td>\n",
       "    </tr>\n",
       "    <tr>\n",
       "      <th>178941</th>\n",
       "      <td>32291863</td>\n",
       "      <td>B01HJDVCJI</td>\n",
       "      <td>A7B48AJT6IC0A</td>\n",
       "      <td>Lives2read</td>\n",
       "      <td>4.0</td>\n",
       "      <td>Excellent arch support. Unique tongue design c...</td>\n",
       "      <td>2018-08-13</td>\n",
       "      <td>Unique look and comfort</td>\n",
       "      <td>False</td>\n",
       "      <td>NaN</td>\n",
       "    </tr>\n",
       "    <tr>\n",
       "      <th>178942</th>\n",
       "      <td>32291875</td>\n",
       "      <td>B01HJDZM30</td>\n",
       "      <td>A2CJOG4NUHVDGK</td>\n",
       "      <td>Brittney Mitchell</td>\n",
       "      <td>5.0</td>\n",
       "      <td>Bought this for my husband and he absolutely l...</td>\n",
       "      <td>2018-08-29</td>\n",
       "      <td>Five Stars</td>\n",
       "      <td>False</td>\n",
       "      <td>NaN</td>\n",
       "    </tr>\n",
       "    <tr>\n",
       "      <th>178943</th>\n",
       "      <td>32291883</td>\n",
       "      <td>B01HJD4BBE</td>\n",
       "      <td>A3UVMG2B3BG5O2</td>\n",
       "      <td>Sharla Murrill</td>\n",
       "      <td>5.0</td>\n",
       "      <td>I love this wallet. It is smells great and hol...</td>\n",
       "      <td>2018-04-27</td>\n",
       "      <td>Five Stars</td>\n",
       "      <td>True</td>\n",
       "      <td>NaN</td>\n",
       "    </tr>\n",
       "  </tbody>\n",
       "</table>\n",
       "<p>178944 rows × 10 columns</p>\n",
       "</div>"
      ],
      "text/plain": [
       "              id        asin      reviewerID       reviewerName  overall  \\\n",
       "0            676  5120053084  A35EUS1E3WK1HC     Kiley and Mars      5.0   \n",
       "1            677  5120053084   AKIZYAIS4SYVF            Bethany      5.0   \n",
       "2            679  5120053084  A2L74OWEP7H1VC         Shelby0516      3.0   \n",
       "3            681  5120053084  A260RMKZXGDHVH      Kelly Kennedy      5.0   \n",
       "4           1300  7709260373  A13QI8GT2FFGN6                Amy      5.0   \n",
       "...          ...         ...             ...                ...      ...   \n",
       "178939  32291840  B01HJCSCLK   AAHWQ4FMWLNH3        amazonlover      5.0   \n",
       "178940  32291855  B01HJDVCJI  A2WUHKA1I75SL3               FRCP      3.0   \n",
       "178941  32291863  B01HJDVCJI   A7B48AJT6IC0A         Lives2read      4.0   \n",
       "178942  32291875  B01HJDZM30  A2CJOG4NUHVDGK  Brittney Mitchell      5.0   \n",
       "178943  32291883  B01HJD4BBE  A3UVMG2B3BG5O2     Sharla Murrill      5.0   \n",
       "\n",
       "                                                     text  reviewTime  \\\n",
       "0       It's a cute top, works good for nursing and la...  2018-04-10   \n",
       "1       Looks really cute and super easy to nurse my d...  2018-03-22   \n",
       "2       The tie is longer than the pictures showed. Ha...  2018-03-14   \n",
       "3       Of all the nursing shirts I bought my daughter...  2018-03-07   \n",
       "4                       For the price... this is awesome!  2018-03-13   \n",
       "...                                                   ...         ...   \n",
       "178939  Beautiful. Strong, durable, and chic but subtl...  2018-07-25   \n",
       "178940  Fit is great on these and they are very comfor...  2018-09-03   \n",
       "178941  Excellent arch support. Unique tongue design c...  2018-08-13   \n",
       "178942  Bought this for my husband and he absolutely l...  2018-08-29   \n",
       "178943  I love this wallet. It is smells great and hol...  2018-04-27   \n",
       "\n",
       "                                                  summary  verified  vote  \n",
       "0                                Decent lounge around top      True   NaN  \n",
       "1                                                    Cute      True   NaN  \n",
       "2                                             Awkward tie      True   NaN  \n",
       "3       this one is her favorite. She wears it with pa...      True   NaN  \n",
       "4                                        this is awesome!      True   NaN  \n",
       "...                                                   ...       ...   ...  \n",
       "178939                                          Beautiful      True   NaN  \n",
       "178940                                        Comfortable     False   NaN  \n",
       "178941                            Unique look and comfort     False   NaN  \n",
       "178942                                         Five Stars     False   NaN  \n",
       "178943                                         Five Stars      True   NaN  \n",
       "\n",
       "[178944 rows x 10 columns]"
      ]
     },
     "execution_count": 4,
     "metadata": {},
     "output_type": "execute_result"
    }
   ],
   "source": [
    "reviews_df = amazon_dataset.reviews_df(DATASET)\n",
    "reviews_df"
   ]
  },
  {
   "attachments": {},
   "cell_type": "markdown",
   "metadata": {},
   "source": [
    "# Generate Data for SEM-MacridVAE"
   ]
  },
  {
   "attachments": {},
   "cell_type": "markdown",
   "metadata": {},
   "source": [
    "Some data stats"
   ]
  },
  {
   "cell_type": "code",
   "execution_count": 5,
   "metadata": {},
   "outputs": [
    {
     "name": "stdout",
     "output_type": "stream",
     "text": [
      "38493 items 23318 users. Sparsity 0.020%\n"
     ]
    }
   ],
   "source": [
    "print(df_stats(reviews_df))"
   ]
  },
  {
   "attachments": {},
   "cell_type": "markdown",
   "metadata": {},
   "source": [
    "Sort some users randomly"
   ]
  },
  {
   "cell_type": "code",
   "execution_count": 6,
   "metadata": {},
   "outputs": [
    {
     "data": {
      "text/plain": [
       "A30NKRF3KBGA06        0\n",
       "AL0XGCBE6Z22M         1\n",
       "AMT5LF0TKY67C         2\n",
       "A2BY8EVXA3NRHD        3\n",
       "AWE6KR1ELIYQ3         4\n",
       "                  ...  \n",
       "A1MFBF49ZFMH2N    23313\n",
       "A36AF5I7D0VO8F    23314\n",
       "A35ZS7JT3G9B8     23315\n",
       "A3GC94SEKQI3QU    23316\n",
       "A185C12Y9XLYGY    23317\n",
       "Length: 23318, dtype: int64"
      ]
     },
     "execution_count": 6,
     "metadata": {},
     "output_type": "execute_result"
    }
   ],
   "source": [
    "user_ids = generate_unique_ids(reviews_df['reviewerID'])\n",
    "user_ids"
   ]
  },
  {
   "attachments": {},
   "cell_type": "markdown",
   "metadata": {},
   "source": [
    "Same with products"
   ]
  },
  {
   "cell_type": "code",
   "execution_count": 7,
   "metadata": {},
   "outputs": [
    {
     "data": {
      "text/plain": [
       "B000B6AV7K        0\n",
       "B0143D7EE4        1\n",
       "B0105V2DEY        2\n",
       "B014EY21H2        3\n",
       "B005LUROIK        4\n",
       "              ...  \n",
       "B00A9R2P7A    38488\n",
       "B017HK485S    38489\n",
       "B008H7UKYY    38490\n",
       "B006K6PJTK    38491\n",
       "B01DUSBHZ0    38492\n",
       "Length: 38493, dtype: int64"
      ]
     },
     "execution_count": 7,
     "metadata": {},
     "output_type": "execute_result"
    }
   ],
   "source": [
    "item_ids = generate_unique_ids(reviews_df['asin'])\n",
    "item_ids"
   ]
  },
  {
   "attachments": {},
   "cell_type": "markdown",
   "metadata": {},
   "source": [
    "Split train test and validation by user"
   ]
  },
  {
   "cell_type": "code",
   "execution_count": 8,
   "metadata": {},
   "outputs": [],
   "source": [
    "train_reviews, validation_test_reviews = split_train_test_proportion(reviews_df, test_prop=0.4)\n",
    "validation_reviews, test_reviews = split_train_test_proportion(validation_test_reviews, test_prop=0.5)"
   ]
  },
  {
   "cell_type": "code",
   "execution_count": 9,
   "metadata": {},
   "outputs": [
    {
     "data": {
      "text/plain": [
       "113836"
      ]
     },
     "execution_count": 9,
     "metadata": {},
     "output_type": "execute_result"
    }
   ],
   "source": [
    "len(train_reviews)"
   ]
  },
  {
   "attachments": {},
   "cell_type": "markdown",
   "metadata": {},
   "source": [
    "len(validation_reviews)"
   ]
  },
  {
   "cell_type": "code",
   "execution_count": 10,
   "metadata": {},
   "outputs": [
    {
     "data": {
      "text/plain": [
       "30728"
      ]
     },
     "execution_count": 10,
     "metadata": {},
     "output_type": "execute_result"
    }
   ],
   "source": [
    "len(test_reviews)"
   ]
  },
  {
   "attachments": {},
   "cell_type": "markdown",
   "metadata": {},
   "source": [
    "Sanity checks. All users are in the train validation and test sets!"
   ]
  },
  {
   "cell_type": "code",
   "execution_count": 11,
   "metadata": {},
   "outputs": [
    {
     "data": {
      "text/plain": [
       "True"
      ]
     },
     "execution_count": 11,
     "metadata": {},
     "output_type": "execute_result"
    }
   ],
   "source": [
    "set(train_reviews['reviewerID']) == set(test_reviews['reviewerID']) ==  set(validation_reviews['reviewerID'])"
   ]
  },
  {
   "attachments": {},
   "cell_type": "markdown",
   "metadata": {},
   "source": [
    "Check that the train set and the validation set all have at least one item (same check as above)"
   ]
  },
  {
   "cell_type": "code",
   "execution_count": 12,
   "metadata": {},
   "outputs": [
    {
     "data": {
      "text/html": [
       "<div>\n",
       "<style scoped>\n",
       "    .dataframe tbody tr th:only-of-type {\n",
       "        vertical-align: middle;\n",
       "    }\n",
       "\n",
       "    .dataframe tbody tr th {\n",
       "        vertical-align: top;\n",
       "    }\n",
       "\n",
       "    .dataframe thead th {\n",
       "        text-align: right;\n",
       "    }\n",
       "</style>\n",
       "<table border=\"1\" class=\"dataframe\">\n",
       "  <thead>\n",
       "    <tr style=\"text-align: right;\">\n",
       "      <th></th>\n",
       "      <th>train_size</th>\n",
       "      <th>val_size</th>\n",
       "      <th>test_size</th>\n",
       "    </tr>\n",
       "  </thead>\n",
       "  <tbody>\n",
       "    <tr>\n",
       "      <th>count</th>\n",
       "      <td>23318.000000</td>\n",
       "      <td>23318.000000</td>\n",
       "      <td>23318.000000</td>\n",
       "    </tr>\n",
       "    <tr>\n",
       "      <th>mean</th>\n",
       "      <td>4.881894</td>\n",
       "      <td>1.474397</td>\n",
       "      <td>1.317780</td>\n",
       "    </tr>\n",
       "    <tr>\n",
       "      <th>std</th>\n",
       "      <td>3.529635</td>\n",
       "      <td>1.185903</td>\n",
       "      <td>1.091225</td>\n",
       "    </tr>\n",
       "    <tr>\n",
       "      <th>min</th>\n",
       "      <td>3.000000</td>\n",
       "      <td>1.000000</td>\n",
       "      <td>1.000000</td>\n",
       "    </tr>\n",
       "    <tr>\n",
       "      <th>25%</th>\n",
       "      <td>3.000000</td>\n",
       "      <td>1.000000</td>\n",
       "      <td>1.000000</td>\n",
       "    </tr>\n",
       "    <tr>\n",
       "      <th>50%</th>\n",
       "      <td>4.000000</td>\n",
       "      <td>1.000000</td>\n",
       "      <td>1.000000</td>\n",
       "    </tr>\n",
       "    <tr>\n",
       "      <th>75%</th>\n",
       "      <td>5.000000</td>\n",
       "      <td>2.000000</td>\n",
       "      <td>1.000000</td>\n",
       "    </tr>\n",
       "    <tr>\n",
       "      <th>max</th>\n",
       "      <td>61.000000</td>\n",
       "      <td>20.000000</td>\n",
       "      <td>20.000000</td>\n",
       "    </tr>\n",
       "  </tbody>\n",
       "</table>\n",
       "</div>"
      ],
      "text/plain": [
       "         train_size      val_size     test_size\n",
       "count  23318.000000  23318.000000  23318.000000\n",
       "mean       4.881894      1.474397      1.317780\n",
       "std        3.529635      1.185903      1.091225\n",
       "min        3.000000      1.000000      1.000000\n",
       "25%        3.000000      1.000000      1.000000\n",
       "50%        4.000000      1.000000      1.000000\n",
       "75%        5.000000      2.000000      1.000000\n",
       "max       61.000000     20.000000     20.000000"
      ]
     },
     "execution_count": 12,
     "metadata": {},
     "output_type": "execute_result"
    }
   ],
   "source": [
    "pd.concat([\n",
    "    train_reviews.groupby('reviewerID').size().to_frame('train_size'),\n",
    "    validation_reviews.groupby('reviewerID').size().to_frame('val_size'),\n",
    "    test_reviews.groupby('reviewerID').size().to_frame('test_size')\n",
    "], axis=1).describe()"
   ]
  },
  {
   "attachments": {},
   "cell_type": "markdown",
   "metadata": {},
   "source": [
    "Generate users"
   ]
  },
  {
   "cell_type": "code",
   "execution_count": 13,
   "metadata": {},
   "outputs": [],
   "source": [
    "user_ids.to_csv(SEM_MACRID_DEST_FOLDER / 'users.txt')\n",
    "item_ids.to_csv(SEM_MACRID_DEST_FOLDER / 'items.txt', header=['item_id'])"
   ]
  },
  {
   "cell_type": "code",
   "execution_count": 14,
   "metadata": {},
   "outputs": [
    {
     "data": {
      "text/html": [
       "<div>\n",
       "<style scoped>\n",
       "    .dataframe tbody tr th:only-of-type {\n",
       "        vertical-align: middle;\n",
       "    }\n",
       "\n",
       "    .dataframe tbody tr th {\n",
       "        vertical-align: top;\n",
       "    }\n",
       "\n",
       "    .dataframe thead th {\n",
       "        text-align: right;\n",
       "    }\n",
       "</style>\n",
       "<table border=\"1\" class=\"dataframe\">\n",
       "  <thead>\n",
       "    <tr style=\"text-align: right;\">\n",
       "      <th></th>\n",
       "      <th>user</th>\n",
       "      <th>item</th>\n",
       "    </tr>\n",
       "  </thead>\n",
       "  <tbody>\n",
       "    <tr>\n",
       "      <th>0</th>\n",
       "      <td>14891</td>\n",
       "      <td>30409</td>\n",
       "    </tr>\n",
       "    <tr>\n",
       "      <th>4</th>\n",
       "      <td>19073</td>\n",
       "      <td>29339</td>\n",
       "    </tr>\n",
       "    <tr>\n",
       "      <th>6</th>\n",
       "      <td>21394</td>\n",
       "      <td>38246</td>\n",
       "    </tr>\n",
       "    <tr>\n",
       "      <th>10</th>\n",
       "      <td>22275</td>\n",
       "      <td>38246</td>\n",
       "    </tr>\n",
       "    <tr>\n",
       "      <th>14</th>\n",
       "      <td>6565</td>\n",
       "      <td>38246</td>\n",
       "    </tr>\n",
       "    <tr>\n",
       "      <th>...</th>\n",
       "      <td>...</td>\n",
       "      <td>...</td>\n",
       "    </tr>\n",
       "    <tr>\n",
       "      <th>178934</th>\n",
       "      <td>5195</td>\n",
       "      <td>6878</td>\n",
       "    </tr>\n",
       "    <tr>\n",
       "      <th>178935</th>\n",
       "      <td>418</td>\n",
       "      <td>7919</td>\n",
       "    </tr>\n",
       "    <tr>\n",
       "      <th>178937</th>\n",
       "      <td>11611</td>\n",
       "      <td>5762</td>\n",
       "    </tr>\n",
       "    <tr>\n",
       "      <th>178938</th>\n",
       "      <td>16539</td>\n",
       "      <td>5762</td>\n",
       "    </tr>\n",
       "    <tr>\n",
       "      <th>178939</th>\n",
       "      <td>13738</td>\n",
       "      <td>3855</td>\n",
       "    </tr>\n",
       "  </tbody>\n",
       "</table>\n",
       "<p>113836 rows × 2 columns</p>\n",
       "</div>"
      ],
      "text/plain": [
       "         user   item\n",
       "0       14891  30409\n",
       "4       19073  29339\n",
       "6       21394  38246\n",
       "10      22275  38246\n",
       "14       6565  38246\n",
       "...       ...    ...\n",
       "178934   5195   6878\n",
       "178935    418   7919\n",
       "178937  11611   5762\n",
       "178938  16539   5762\n",
       "178939  13738   3855\n",
       "\n",
       "[113836 rows x 2 columns]"
      ]
     },
     "execution_count": 14,
     "metadata": {},
     "output_type": "execute_result"
    }
   ],
   "source": [
    "SEMMACRID_NUMERIZED_COMMON_PARAMS = {\n",
    "    'uids': user_ids, \n",
    "    'product_ids': item_ids,\n",
    "    'user_id_column': 'user',\n",
    "    'product_ids_column': 'item',\n",
    "    'columns': ['user', 'item']\n",
    "}\n",
    "\n",
    "save_numerized(\n",
    "    train_reviews, \n",
    "    dest=SEM_MACRID_DEST_FOLDER / 'train.txt',\n",
    "    **SEMMACRID_NUMERIZED_COMMON_PARAMS\n",
    ")"
   ]
  },
  {
   "cell_type": "code",
   "execution_count": 15,
   "metadata": {},
   "outputs": [
    {
     "data": {
      "text/plain": [
       "'Saved validation data'"
      ]
     },
     "execution_count": 15,
     "metadata": {},
     "output_type": "execute_result"
    }
   ],
   "source": [
    "save_numerized(\n",
    "    validation_reviews, \n",
    "    dest=SEM_MACRID_DEST_FOLDER / 'validation.txt',\n",
    "    **SEMMACRID_NUMERIZED_COMMON_PARAMS\n",
    ")\n",
    "'Saved validation data'"
   ]
  },
  {
   "cell_type": "code",
   "execution_count": 16,
   "metadata": {},
   "outputs": [
    {
     "data": {
      "text/plain": [
       "'Saved test data'"
      ]
     },
     "execution_count": 16,
     "metadata": {},
     "output_type": "execute_result"
    }
   ],
   "source": [
    "save_numerized(\n",
    "    test_reviews, \n",
    "    dest=SEM_MACRID_DEST_FOLDER / 'test.txt',\n",
    "    **SEMMACRID_NUMERIZED_COMMON_PARAMS\n",
    ")\n",
    "\n",
    "'Saved test data'"
   ]
  },
  {
   "cell_type": "code",
   "execution_count": 30,
   "metadata": {},
   "outputs": [
    {
     "name": "stdout",
     "output_type": "stream",
     "text": [
      "Opening file\n",
      "Initializing array (38493, 1024)\n"
     ]
    },
    {
     "name": "stderr",
     "output_type": "stream",
     "text": [
      "Copying features: 100%|██████████| 38.5k/38.5k [01:30<00:00, 424items/s]\n"
     ]
    },
    {
     "data": {
      "text/plain": [
       "(38493, 1024)"
      ]
     },
     "execution_count": 30,
     "metadata": {},
     "output_type": "execute_result"
    }
   ],
   "source": [
    "def copy_semmacrid_features(\n",
    "        item_ids: pd.Series, \n",
    "        features_file: Path\n",
    "):\n",
    "    print('Opening file')\n",
    "    with np.load(features_file) as features:\n",
    "        some_embedding = next(iter(features.values()))\n",
    "        embedding_shape, = some_embedding.shape\n",
    "        array_shape = (len(item_ids),  embedding_shape)\n",
    "        print(f'Initializing array {array_shape}')\n",
    "        res = np.full(array_shape,  fill_value=np.nan)\n",
    "\n",
    "        for asin, idx in tqdm(item_ids.items(), \n",
    "                total=len(item_ids), unit_scale=True, unit='items', \n",
    "                desc='Copying features'):\n",
    "            value = features[asin]\n",
    "            \n",
    "            assert np.isnan(value).sum() == 0, \"Feature has NaN Values\"\n",
    "            \n",
    "            res[idx, :] = value\n",
    "\n",
    "        return res\n",
    "\n",
    "\n",
    "image_features_array = copy_semmacrid_features(\n",
    "    item_ids=item_ids, \n",
    "    features_file=VIT_IMAGE_FEATURES\n",
    ")\n",
    "image_features_array.shape"
   ]
  },
  {
   "cell_type": "code",
   "execution_count": 31,
   "metadata": {},
   "outputs": [
    {
     "name": "stdout",
     "output_type": "stream",
     "text": [
      "data/SEM-MacridVAE-Clothing_Shoes_and_Jewelry/embed_image.npy: 300MiB\n"
     ]
    }
   ],
   "source": [
    "SEMMACRID_IMAGE_EMBED_DEST = SEM_MACRID_DEST_FOLDER / 'embed_image.npy'\n",
    "np.save(SEMMACRID_IMAGE_EMBED_DEST, image_features_array)\n",
    "\n",
    "print(f'{str(SEMMACRID_IMAGE_EMBED_DEST)}: {SEMMACRID_IMAGE_EMBED_DEST.stat().st_size // 2**20}MiB')"
   ]
  },
  {
   "cell_type": "code",
   "execution_count": 32,
   "metadata": {},
   "outputs": [
    {
     "name": "stdout",
     "output_type": "stream",
     "text": [
      "Opening file\n",
      "Initializing array (38493, 1024)\n"
     ]
    },
    {
     "name": "stderr",
     "output_type": "stream",
     "text": [
      "Copying features: 100%|██████████| 38.5k/38.5k [01:29<00:00, 432items/s]\n"
     ]
    },
    {
     "data": {
      "text/plain": [
       "(38493, 1024)"
      ]
     },
     "execution_count": 32,
     "metadata": {},
     "output_type": "execute_result"
    }
   ],
   "source": [
    "semmacrid_text_features = copy_semmacrid_features(\n",
    "    item_ids=item_ids, \n",
    "    features_file=TEXT_FEATURES\n",
    ")\n",
    "semmacrid_text_features.shape"
   ]
  },
  {
   "cell_type": "code",
   "execution_count": 33,
   "metadata": {},
   "outputs": [
    {
     "name": "stdout",
     "output_type": "stream",
     "text": [
      "data/SEM-MacridVAE-Clothing_Shoes_and_Jewelry/embed_text.npy: 300MiB\n"
     ]
    }
   ],
   "source": [
    "SEMMACRID_TEXT_EMBED_DEST = SEM_MACRID_DEST_FOLDER / 'embed_text.npy'\n",
    "np.save(SEMMACRID_TEXT_EMBED_DEST, semmacrid_text_features)\n",
    "\n",
    "print(f'{str(SEMMACRID_TEXT_EMBED_DEST)}: {SEMMACRID_TEXT_EMBED_DEST.stat().st_size // 2**20}MiB')"
   ]
  },
  {
   "attachments": {},
   "cell_type": "markdown",
   "metadata": {},
   "source": [
    "# Generate Data for DMRL"
   ]
  },
  {
   "cell_type": "code",
   "execution_count": 17,
   "metadata": {},
   "outputs": [
    {
     "name": "stdout",
     "output_type": "stream",
     "text": [
      "38493 items 23318 users. Sparsity 0.020%\n"
     ]
    }
   ],
   "source": [
    "print(df_stats(reviews_df))"
   ]
  },
  {
   "cell_type": "code",
   "execution_count": 18,
   "metadata": {},
   "outputs": [
    {
     "data": {
      "text/html": [
       "<div>\n",
       "<style scoped>\n",
       "    .dataframe tbody tr th:only-of-type {\n",
       "        vertical-align: middle;\n",
       "    }\n",
       "\n",
       "    .dataframe tbody tr th {\n",
       "        vertical-align: top;\n",
       "    }\n",
       "\n",
       "    .dataframe thead th {\n",
       "        text-align: right;\n",
       "    }\n",
       "</style>\n",
       "<table border=\"1\" class=\"dataframe\">\n",
       "  <thead>\n",
       "    <tr style=\"text-align: right;\">\n",
       "      <th></th>\n",
       "      <th>itemID</th>\n",
       "      <th>userID</th>\n",
       "      <th>reviewerID</th>\n",
       "      <th>asin</th>\n",
       "    </tr>\n",
       "  </thead>\n",
       "  <tbody>\n",
       "    <tr>\n",
       "      <th>0</th>\n",
       "      <td>30409</td>\n",
       "      <td>14891</td>\n",
       "      <td>A35EUS1E3WK1HC</td>\n",
       "      <td>5120053084</td>\n",
       "    </tr>\n",
       "    <tr>\n",
       "      <th>4</th>\n",
       "      <td>29339</td>\n",
       "      <td>19073</td>\n",
       "      <td>A13QI8GT2FFGN6</td>\n",
       "      <td>7709260373</td>\n",
       "    </tr>\n",
       "    <tr>\n",
       "      <th>6</th>\n",
       "      <td>38246</td>\n",
       "      <td>21394</td>\n",
       "      <td>AWR7V9DKUUFLT</td>\n",
       "      <td>B00006XXGO</td>\n",
       "    </tr>\n",
       "    <tr>\n",
       "      <th>10</th>\n",
       "      <td>38246</td>\n",
       "      <td>22275</td>\n",
       "      <td>AMJ40C6RPXII9</td>\n",
       "      <td>B00006XXGO</td>\n",
       "    </tr>\n",
       "    <tr>\n",
       "      <th>14</th>\n",
       "      <td>38246</td>\n",
       "      <td>6565</td>\n",
       "      <td>A39ASGCNTOMC1E</td>\n",
       "      <td>B00006XXGO</td>\n",
       "    </tr>\n",
       "    <tr>\n",
       "      <th>...</th>\n",
       "      <td>...</td>\n",
       "      <td>...</td>\n",
       "      <td>...</td>\n",
       "      <td>...</td>\n",
       "    </tr>\n",
       "    <tr>\n",
       "      <th>178934</th>\n",
       "      <td>6878</td>\n",
       "      <td>5195</td>\n",
       "      <td>A1VX77NHMT1XJN</td>\n",
       "      <td>B01HJC0WSQ</td>\n",
       "    </tr>\n",
       "    <tr>\n",
       "      <th>178935</th>\n",
       "      <td>7919</td>\n",
       "      <td>418</td>\n",
       "      <td>A3IPC0UT5N4RYK</td>\n",
       "      <td>B01HJCNFDU</td>\n",
       "    </tr>\n",
       "    <tr>\n",
       "      <th>178937</th>\n",
       "      <td>5762</td>\n",
       "      <td>11611</td>\n",
       "      <td>A2WUDTAL0ADE6S</td>\n",
       "      <td>B01HJDBMUM</td>\n",
       "    </tr>\n",
       "    <tr>\n",
       "      <th>178938</th>\n",
       "      <td>5762</td>\n",
       "      <td>16539</td>\n",
       "      <td>A2N0T25TWYXPMP</td>\n",
       "      <td>B01HJDBMUM</td>\n",
       "    </tr>\n",
       "    <tr>\n",
       "      <th>178939</th>\n",
       "      <td>3855</td>\n",
       "      <td>13738</td>\n",
       "      <td>AAHWQ4FMWLNH3</td>\n",
       "      <td>B01HJCSCLK</td>\n",
       "    </tr>\n",
       "  </tbody>\n",
       "</table>\n",
       "<p>113836 rows × 4 columns</p>\n",
       "</div>"
      ],
      "text/plain": [
       "        itemID  userID      reviewerID        asin\n",
       "0        30409   14891  A35EUS1E3WK1HC  5120053084\n",
       "4        29339   19073  A13QI8GT2FFGN6  7709260373\n",
       "6        38246   21394   AWR7V9DKUUFLT  B00006XXGO\n",
       "10       38246   22275   AMJ40C6RPXII9  B00006XXGO\n",
       "14       38246    6565  A39ASGCNTOMC1E  B00006XXGO\n",
       "...        ...     ...             ...         ...\n",
       "178934    6878    5195  A1VX77NHMT1XJN  B01HJC0WSQ\n",
       "178935    7919     418  A3IPC0UT5N4RYK  B01HJCNFDU\n",
       "178937    5762   11611  A2WUDTAL0ADE6S  B01HJDBMUM\n",
       "178938    5762   16539  A2N0T25TWYXPMP  B01HJDBMUM\n",
       "178939    3855   13738   AAHWQ4FMWLNH3  B01HJCSCLK\n",
       "\n",
       "[113836 rows x 4 columns]"
      ]
     },
     "execution_count": 18,
     "metadata": {},
     "output_type": "execute_result"
    }
   ],
   "source": [
    "DMRL_NUMERIZED_COMMON_PARAMS = {\n",
    "    'uids': user_ids, \n",
    "    'product_ids': item_ids,\n",
    "    'user_id_column': 'userID',\n",
    "    'product_ids_column': 'itemID',\n",
    "    'columns': ['itemID','userID', 'reviewerID', 'asin']\n",
    "}\n",
    "\n",
    "save_numerized(train_reviews,     \n",
    "    dest=DMRL_DEST_FOLDER / 'train.csv',\n",
    "    **DMRL_NUMERIZED_COMMON_PARAMS)"
   ]
  },
  {
   "attachments": {},
   "cell_type": "markdown",
   "metadata": {},
   "source": [
    "*Note* : We use a validation set for the `test.csv` reviews in DMRL. "
   ]
  },
  {
   "cell_type": "code",
   "execution_count": 20,
   "metadata": {},
   "outputs": [
    {
     "data": {
      "text/html": [
       "<div>\n",
       "<style scoped>\n",
       "    .dataframe tbody tr th:only-of-type {\n",
       "        vertical-align: middle;\n",
       "    }\n",
       "\n",
       "    .dataframe tbody tr th {\n",
       "        vertical-align: top;\n",
       "    }\n",
       "\n",
       "    .dataframe thead th {\n",
       "        text-align: right;\n",
       "    }\n",
       "</style>\n",
       "<table border=\"1\" class=\"dataframe\">\n",
       "  <thead>\n",
       "    <tr style=\"text-align: right;\">\n",
       "      <th></th>\n",
       "      <th>itemID</th>\n",
       "      <th>userID</th>\n",
       "      <th>reviewerID</th>\n",
       "      <th>asin</th>\n",
       "    </tr>\n",
       "  </thead>\n",
       "  <tbody>\n",
       "    <tr>\n",
       "      <th>1</th>\n",
       "      <td>30409</td>\n",
       "      <td>13868</td>\n",
       "      <td>AKIZYAIS4SYVF</td>\n",
       "      <td>5120053084</td>\n",
       "    </tr>\n",
       "    <tr>\n",
       "      <th>3</th>\n",
       "      <td>30409</td>\n",
       "      <td>3474</td>\n",
       "      <td>A260RMKZXGDHVH</td>\n",
       "      <td>5120053084</td>\n",
       "    </tr>\n",
       "    <tr>\n",
       "      <th>7</th>\n",
       "      <td>38246</td>\n",
       "      <td>5995</td>\n",
       "      <td>A23Z52PYAKMXE7</td>\n",
       "      <td>B00006XXGO</td>\n",
       "    </tr>\n",
       "    <tr>\n",
       "      <th>9</th>\n",
       "      <td>38246</td>\n",
       "      <td>8671</td>\n",
       "      <td>AW15SAKQYDR8Z</td>\n",
       "      <td>B00006XXGO</td>\n",
       "    </tr>\n",
       "    <tr>\n",
       "      <th>15</th>\n",
       "      <td>38246</td>\n",
       "      <td>16043</td>\n",
       "      <td>A16Q571QVLTIXU</td>\n",
       "      <td>B00006XXGO</td>\n",
       "    </tr>\n",
       "    <tr>\n",
       "      <th>...</th>\n",
       "      <td>...</td>\n",
       "      <td>...</td>\n",
       "      <td>...</td>\n",
       "      <td>...</td>\n",
       "    </tr>\n",
       "    <tr>\n",
       "      <th>178936</th>\n",
       "      <td>19135</td>\n",
       "      <td>3632</td>\n",
       "      <td>A3RVPCAPF92RK1</td>\n",
       "      <td>B01HJCYJ4Y</td>\n",
       "    </tr>\n",
       "    <tr>\n",
       "      <th>178940</th>\n",
       "      <td>31137</td>\n",
       "      <td>15473</td>\n",
       "      <td>A2WUHKA1I75SL3</td>\n",
       "      <td>B01HJDVCJI</td>\n",
       "    </tr>\n",
       "    <tr>\n",
       "      <th>178941</th>\n",
       "      <td>31137</td>\n",
       "      <td>15875</td>\n",
       "      <td>A7B48AJT6IC0A</td>\n",
       "      <td>B01HJDVCJI</td>\n",
       "    </tr>\n",
       "    <tr>\n",
       "      <th>178942</th>\n",
       "      <td>12170</td>\n",
       "      <td>20531</td>\n",
       "      <td>A2CJOG4NUHVDGK</td>\n",
       "      <td>B01HJDZM30</td>\n",
       "    </tr>\n",
       "    <tr>\n",
       "      <th>178943</th>\n",
       "      <td>11266</td>\n",
       "      <td>4243</td>\n",
       "      <td>A3UVMG2B3BG5O2</td>\n",
       "      <td>B01HJD4BBE</td>\n",
       "    </tr>\n",
       "  </tbody>\n",
       "</table>\n",
       "<p>34380 rows × 4 columns</p>\n",
       "</div>"
      ],
      "text/plain": [
       "        itemID  userID      reviewerID        asin\n",
       "1        30409   13868   AKIZYAIS4SYVF  5120053084\n",
       "3        30409    3474  A260RMKZXGDHVH  5120053084\n",
       "7        38246    5995  A23Z52PYAKMXE7  B00006XXGO\n",
       "9        38246    8671   AW15SAKQYDR8Z  B00006XXGO\n",
       "15       38246   16043  A16Q571QVLTIXU  B00006XXGO\n",
       "...        ...     ...             ...         ...\n",
       "178936   19135    3632  A3RVPCAPF92RK1  B01HJCYJ4Y\n",
       "178940   31137   15473  A2WUHKA1I75SL3  B01HJDVCJI\n",
       "178941   31137   15875   A7B48AJT6IC0A  B01HJDVCJI\n",
       "178942   12170   20531  A2CJOG4NUHVDGK  B01HJDZM30\n",
       "178943   11266    4243  A3UVMG2B3BG5O2  B01HJD4BBE\n",
       "\n",
       "[34380 rows x 4 columns]"
      ]
     },
     "execution_count": 20,
     "metadata": {},
     "output_type": "execute_result"
    }
   ],
   "source": [
    "save_numerized(\n",
    "    validation_reviews,\n",
    "    dest=DMRL_DEST_FOLDER / 'test.csv',\n",
    "    **DMRL_NUMERIZED_COMMON_PARAMS\n",
    ")"
   ]
  },
  {
   "cell_type": "code",
   "execution_count": 22,
   "metadata": {},
   "outputs": [
    {
     "name": "stderr",
     "output_type": "stream",
     "text": [
      "Copying image features: 100%|██████████| 38.5k/38.5k [01:32<00:00, 415image/s]\n"
     ]
    }
   ],
   "source": [
    "def copy_dmrl_image_features(\n",
    "    item_ids: pd.Series,\n",
    "    features_file: Path\n",
    "):\n",
    "    with np.load(features_file) as image_features, \\\n",
    "        tqdm(total=len(image_features), unit_scale=True, unit='image', \n",
    "             desc='Copying image features') as progress:\n",
    "        res = {}\n",
    "\n",
    "        for asin, feature in image_features.items():\n",
    "            if asin in item_ids:\n",
    "                # DMRL uses lists for image features\n",
    "                res[asin] = feature.tolist()\n",
    "            progress.update()\n",
    "            \n",
    "        assert set(res.keys()) == set(item_ids.index), 'Items were not copied!'\n",
    "\n",
    "        return res\n",
    "\n",
    "dmrl_image_features = copy_dmrl_image_features(\n",
    "    item_ids, \n",
    "    VIT_IMAGE_FEATURES\n",
    ")"
   ]
  },
  {
   "cell_type": "code",
   "execution_count": 23,
   "metadata": {},
   "outputs": [
    {
     "name": "stdout",
     "output_type": "stream",
     "text": [
      "data/DMRL-Clothing_Shoes_and_Jewelry/item_feature.npy: 339MiB\n"
     ]
    }
   ],
   "source": [
    "DMRL_IMAGE_DEST = DMRL_DEST_FOLDER / 'item_feature.npy'\n",
    "np.save(DMRL_IMAGE_DEST, dmrl_image_features)\n",
    "\n",
    "print(f'{str(DMRL_IMAGE_DEST)}: {DMRL_IMAGE_DEST.stat().st_size // 2**20}MiB')"
   ]
  },
  {
   "cell_type": "code",
   "execution_count": 24,
   "metadata": {},
   "outputs": [
    {
     "name": "stderr",
     "output_type": "stream",
     "text": [
      "Copying textual features: 100%|██████████| 38.5k/38.5k [01:26<00:00, 446product/s]\n"
     ]
    }
   ],
   "source": [
    "def copy_dmrl_text_features(\n",
    "    item_ids: pd.Series,\n",
    "    features_file: Path\n",
    "):\n",
    "    with np.load(features_file) as image_features, \\\n",
    "        tqdm(total=len(image_features), unit_scale=True, unit='product', \n",
    "             desc='Copying textual features') as progress:\n",
    "        res = {}\n",
    "\n",
    "        for asin, feature in image_features.items():\n",
    "            if asin in item_ids:\n",
    "                # DMRL uses column vectors :)\n",
    "                res[asin] = np.reshape(feature, (1, -1))\n",
    "            progress.update()\n",
    "            \n",
    "        assert set(res.keys()) == set(item_ids.index), 'Items were not copied!'\n",
    "\n",
    "        return res\n",
    "\n",
    "dmrl_text_features = copy_dmrl_text_features(\n",
    "    item_ids, \n",
    "    TEXT_FEATURES\n",
    ")"
   ]
  },
  {
   "cell_type": "code",
   "execution_count": 25,
   "metadata": {},
   "outputs": [
    {
     "name": "stdout",
     "output_type": "stream",
     "text": [
      "data/DMRL-Clothing_Shoes_and_Jewelry/item_feature.npy: 339MiB\n"
     ]
    }
   ],
   "source": [
    "DMRL_TEXT_DEST = DMRL_DEST_FOLDER / 'review.npz'\n",
    "np.savez(DMRL_TEXT_DEST, dmrl_text_features)\n",
    "\n",
    "print(f'{str(DMRL_IMAGE_DEST)}: {DMRL_IMAGE_DEST.stat().st_size // 2**20}MiB')"
   ]
  },
  {
   "cell_type": "code",
   "execution_count": null,
   "metadata": {},
   "outputs": [],
   "source": [
    "user_ids.to_csv(DMRL_DEST_FOLDER / 'users.txt')\n",
    "item_ids.to_csv(DMRL_DEST_FOLDER / 'items.txt', header=['item_id'])"
   ]
  },
  {
   "cell_type": "code",
   "execution_count": 4,
   "metadata": {},
   "outputs": [
    {
     "data": {
      "text/html": [
       "<div>\n",
       "<style scoped>\n",
       "    .dataframe tbody tr th:only-of-type {\n",
       "        vertical-align: middle;\n",
       "    }\n",
       "\n",
       "    .dataframe tbody tr th {\n",
       "        vertical-align: top;\n",
       "    }\n",
       "\n",
       "    .dataframe thead th {\n",
       "        text-align: right;\n",
       "    }\n",
       "</style>\n",
       "<table border=\"1\" class=\"dataframe\">\n",
       "  <thead>\n",
       "    <tr style=\"text-align: right;\">\n",
       "      <th></th>\n",
       "      <th>url</th>\n",
       "      <th>slug</th>\n",
       "      <th>product_id</th>\n",
       "    </tr>\n",
       "    <tr>\n",
       "      <th>id</th>\n",
       "      <th></th>\n",
       "      <th></th>\n",
       "      <th></th>\n",
       "    </tr>\n",
       "  </thead>\n",
       "  <tbody>\n",
       "    <tr>\n",
       "      <th>1</th>\n",
       "      <td>https://images-na.ssl-images-amazon.com/images...</td>\n",
       "      <td>51HJbA8UG2L</td>\n",
       "      <td>47</td>\n",
       "    </tr>\n",
       "    <tr>\n",
       "      <th>2</th>\n",
       "      <td>https://images-na.ssl-images-amazon.com/images...</td>\n",
       "      <td>51FufN7RbSL</td>\n",
       "      <td>47</td>\n",
       "    </tr>\n",
       "    <tr>\n",
       "      <th>3</th>\n",
       "      <td>https://images-na.ssl-images-amazon.com/images...</td>\n",
       "      <td>51vKjwQ6eAL</td>\n",
       "      <td>47</td>\n",
       "    </tr>\n",
       "    <tr>\n",
       "      <th>4</th>\n",
       "      <td>https://images-na.ssl-images-amazon.com/images...</td>\n",
       "      <td>410fEp9sdjL</td>\n",
       "      <td>47</td>\n",
       "    </tr>\n",
       "    <tr>\n",
       "      <th>5</th>\n",
       "      <td>https://images-na.ssl-images-amazon.com/images...</td>\n",
       "      <td>51vFScdjWiL</td>\n",
       "      <td>47</td>\n",
       "    </tr>\n",
       "    <tr>\n",
       "      <th>...</th>\n",
       "      <td>...</td>\n",
       "      <td>...</td>\n",
       "      <td>...</td>\n",
       "    </tr>\n",
       "    <tr>\n",
       "      <th>366210</th>\n",
       "      <td>https://m.media-amazon.com/images/I/41BtbDbVag...</td>\n",
       "      <td>41BtbDbVagL</td>\n",
       "      <td>2681802</td>\n",
       "    </tr>\n",
       "    <tr>\n",
       "      <th>366211</th>\n",
       "      <td>https://m.media-amazon.com/images/I/51HIWL51dW...</td>\n",
       "      <td>51HIWL51dWL</td>\n",
       "      <td>2681870</td>\n",
       "    </tr>\n",
       "    <tr>\n",
       "      <th>366212</th>\n",
       "      <td>https://m.media-amazon.com/images/I/41wqQkCn7T...</td>\n",
       "      <td>41wqQkCn7TL</td>\n",
       "      <td>2682043</td>\n",
       "    </tr>\n",
       "    <tr>\n",
       "      <th>366213</th>\n",
       "      <td>https://m.media-amazon.com/images/I/41v526rIgz...</td>\n",
       "      <td>41v526rIgzL</td>\n",
       "      <td>2682259</td>\n",
       "    </tr>\n",
       "    <tr>\n",
       "      <th>366214</th>\n",
       "      <td>https://m.media-amazon.com/images/I/31FlYT7FQ7...</td>\n",
       "      <td>31FlYT7FQ7L</td>\n",
       "      <td>2683276</td>\n",
       "    </tr>\n",
       "  </tbody>\n",
       "</table>\n",
       "<p>366214 rows × 3 columns</p>\n",
       "</div>"
      ],
      "text/plain": [
       "                                                      url         slug  \\\n",
       "id                                                                       \n",
       "1       https://images-na.ssl-images-amazon.com/images...  51HJbA8UG2L   \n",
       "2       https://images-na.ssl-images-amazon.com/images...  51FufN7RbSL   \n",
       "3       https://images-na.ssl-images-amazon.com/images...  51vKjwQ6eAL   \n",
       "4       https://images-na.ssl-images-amazon.com/images...  410fEp9sdjL   \n",
       "5       https://images-na.ssl-images-amazon.com/images...  51vFScdjWiL   \n",
       "...                                                   ...          ...   \n",
       "366210  https://m.media-amazon.com/images/I/41BtbDbVag...  41BtbDbVagL   \n",
       "366211  https://m.media-amazon.com/images/I/51HIWL51dW...  51HIWL51dWL   \n",
       "366212  https://m.media-amazon.com/images/I/41wqQkCn7T...  41wqQkCn7TL   \n",
       "366213  https://m.media-amazon.com/images/I/41v526rIgz...  41v526rIgzL   \n",
       "366214  https://m.media-amazon.com/images/I/31FlYT7FQ7...  31FlYT7FQ7L   \n",
       "\n",
       "        product_id  \n",
       "id                  \n",
       "1               47  \n",
       "2               47  \n",
       "3               47  \n",
       "4               47  \n",
       "5               47  \n",
       "...            ...  \n",
       "366210     2681802  \n",
       "366211     2681870  \n",
       "366212     2682043  \n",
       "366213     2682259  \n",
       "366214     2683276  \n",
       "\n",
       "[366214 rows x 3 columns]"
      ]
     },
     "execution_count": 4,
     "metadata": {},
     "output_type": "execute_result"
    }
   ],
   "source": [
    "amazon_dataset.product_images_df(DATASET)"
   ]
  }
 ],
 "metadata": {
  "kernelspec": {
   "display_name": ".venv",
   "language": "python",
   "name": "python3"
  },
  "language_info": {
   "codemirror_mode": {
    "name": "ipython",
    "version": 3
   },
   "file_extension": ".py",
   "mimetype": "text/x-python",
   "name": "python",
   "nbconvert_exporter": "python",
   "pygments_lexer": "ipython3",
   "version": "3.8.16"
  },
  "orig_nbformat": 4,
  "vscode": {
   "interpreter": {
    "hash": "4c22d1444aa3f68a820bd00264b529de9aca8b813336c5d71bda95dadce90fbf"
   }
  }
 },
 "nbformat": 4,
 "nbformat_minor": 2
}
