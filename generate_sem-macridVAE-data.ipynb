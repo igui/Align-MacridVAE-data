{
 "cells": [
  {
   "cell_type": "code",
   "execution_count": 1,
   "metadata": {},
   "outputs": [],
   "source": [
    "from pathlib import Path\n",
    "from typing import List, Tuple\n",
    "from tqdm import tqdm\n",
    "\n",
    "import numpy as np\n",
    "import pandas as pd\n",
    "\n",
    "import amazon_dataset"
   ]
  },
  {
   "attachments": {},
   "cell_type": "markdown",
   "metadata": {},
   "source": [
    "# Intialize Datasets"
   ]
  },
  {
   "cell_type": "code",
   "execution_count": 2,
   "metadata": {},
   "outputs": [],
   "source": [
    "DATASET = 'Clothing_Shoes_and_Jewelry'\n",
    "VALIDATION_SIZE=0.15\n",
    "RANDOM_SEED = 20230219\n",
    "ALEXNET_IMAGE_FEATURES = Path(f'data/amazon/{DATASET}_alexnet_features.npz')\n",
    "VIT_IMAGE_FEATURES = Path(f'data/amazon/{DATASET}_vit_features.npz')\n",
    "TEXT_FEATURES = Path(f'data/amazon/{DATASET}_text_features.npz')\n",
    "SEM_MACRID_DEST_FOLDER = Path(f'data/SEM-MacridVAE-{DATASET}')\n",
    "DMRL_DEST_FOLDER = Path(f'data/DMRL-{DATASET}')\n",
    "\n",
    "assert ALEXNET_IMAGE_FEATURES.exists()\n",
    "assert VIT_IMAGE_FEATURES.exists()\n",
    "assert TEXT_FEATURES.exists()\n",
    "SEM_MACRID_DEST_FOLDER.mkdir(exist_ok=True)\n",
    "DMRL_DEST_FOLDER.mkdir(exist_ok=True)"
   ]
  },
  {
   "cell_type": "code",
   "execution_count": 3,
   "metadata": {},
   "outputs": [],
   "source": [
    "def generate_unique_ids(series: pd.Series) -> pd.Series:\n",
    "    rng = np.random.default_rng(RANDOM_SEED)\n",
    "    unique_ids = series.unique()\n",
    "    return pd.Series(\n",
    "        index=rng.permutation(unique_ids), \n",
    "        data=range(len(unique_ids))\n",
    "    )\n",
    "\n",
    "def df_stats(df: pd.DataFrame) -> str:\n",
    "    n_items = len(df['asin'].unique())\n",
    "    n_users = len(df['reviewerID'].unique())\n",
    "    sparsity = 1. * len(df) / (n_users * n_items)\n",
    "    return f'{n_items} items {n_users} users. Sparsity {sparsity * 100:.3f}%'\n",
    "\n",
    "def save_numerized(\n",
    "    reviews: pd.DataFrame, \n",
    "    uids: pd.Series, \n",
    "    product_ids: pd.Series,\n",
    "    user_id_column: str,\n",
    "    product_ids_column: str,\n",
    "    columns: List[str],\n",
    "    dest: Path\n",
    "):\n",
    "    \"\"\"Save a Dataframe following userids and product_ids\"\"\"\n",
    "    joined = reviews.join(uids.to_frame(user_id_column), on='reviewerID')\n",
    "    assert joined[user_id_column].isna().sum() == 0\n",
    "    \n",
    "    joined = joined.join(product_ids.to_frame(product_ids_column), on='asin')\n",
    "    assert joined[product_ids_column].isna().sum() == 0\n",
    "    \n",
    "    res = joined[columns]\n",
    "    \n",
    "    res.to_csv(dest, index=False)\n",
    "\n",
    "    return res\n",
    "\n",
    "def split_train_test_proportion(df: pd.DataFrame, test_prop=0.2):\n",
    "    \"\"\"\n",
    "    Split the dataframe by reviewer and take exactly `test_prop` records\n",
    "    for test and leave the rest for training\n",
    "    \"\"\"\n",
    "    rng = np.random.default_rng(RANDOM_SEED)\n",
    "\n",
    "    res = df.copy()\n",
    "    res['rnd'] = rng.random(size=len(df))\n",
    "    res['rnd_rank'] = res.groupby('reviewerID')['rnd'].rank(pct=True)\n",
    "    condition = res['rnd_rank'] <= test_prop\n",
    "    \n",
    "    (_, train), (_, test) = res.groupby(condition)\n",
    "    \n",
    "    assert(len(set(train.index) & set(test.index)) == 0)\n",
    "\n",
    "    return df.loc[train.index], df.loc[test.index]"
   ]
  },
  {
   "cell_type": "code",
   "execution_count": 4,
   "metadata": {},
   "outputs": [
    {
     "data": {
      "text/html": [
       "<div>\n",
       "<style scoped>\n",
       "    .dataframe tbody tr th:only-of-type {\n",
       "        vertical-align: middle;\n",
       "    }\n",
       "\n",
       "    .dataframe tbody tr th {\n",
       "        vertical-align: top;\n",
       "    }\n",
       "\n",
       "    .dataframe thead th {\n",
       "        text-align: right;\n",
       "    }\n",
       "</style>\n",
       "<table border=\"1\" class=\"dataframe\">\n",
       "  <thead>\n",
       "    <tr style=\"text-align: right;\">\n",
       "      <th></th>\n",
       "      <th>id</th>\n",
       "      <th>asin</th>\n",
       "      <th>reviewerID</th>\n",
       "      <th>reviewerName</th>\n",
       "      <th>overall</th>\n",
       "      <th>text</th>\n",
       "      <th>reviewTime</th>\n",
       "      <th>summary</th>\n",
       "      <th>verified</th>\n",
       "      <th>vote</th>\n",
       "    </tr>\n",
       "  </thead>\n",
       "  <tbody>\n",
       "    <tr>\n",
       "      <th>0</th>\n",
       "      <td>676</td>\n",
       "      <td>5120053084</td>\n",
       "      <td>A35EUS1E3WK1HC</td>\n",
       "      <td>Kiley and Mars</td>\n",
       "      <td>5.0</td>\n",
       "      <td>It's a cute top, works good for nursing and la...</td>\n",
       "      <td>2018-04-10</td>\n",
       "      <td>Decent lounge around top</td>\n",
       "      <td>True</td>\n",
       "      <td>NaN</td>\n",
       "    </tr>\n",
       "    <tr>\n",
       "      <th>1</th>\n",
       "      <td>677</td>\n",
       "      <td>5120053084</td>\n",
       "      <td>AKIZYAIS4SYVF</td>\n",
       "      <td>Bethany</td>\n",
       "      <td>5.0</td>\n",
       "      <td>Looks really cute and super easy to nurse my d...</td>\n",
       "      <td>2018-03-22</td>\n",
       "      <td>Cute</td>\n",
       "      <td>True</td>\n",
       "      <td>NaN</td>\n",
       "    </tr>\n",
       "    <tr>\n",
       "      <th>2</th>\n",
       "      <td>679</td>\n",
       "      <td>5120053084</td>\n",
       "      <td>A2L74OWEP7H1VC</td>\n",
       "      <td>Shelby0516</td>\n",
       "      <td>3.0</td>\n",
       "      <td>The tie is longer than the pictures showed. Ha...</td>\n",
       "      <td>2018-03-14</td>\n",
       "      <td>Awkward tie</td>\n",
       "      <td>True</td>\n",
       "      <td>NaN</td>\n",
       "    </tr>\n",
       "    <tr>\n",
       "      <th>3</th>\n",
       "      <td>681</td>\n",
       "      <td>5120053084</td>\n",
       "      <td>A260RMKZXGDHVH</td>\n",
       "      <td>Kelly Kennedy</td>\n",
       "      <td>5.0</td>\n",
       "      <td>Of all the nursing shirts I bought my daughter...</td>\n",
       "      <td>2018-03-07</td>\n",
       "      <td>this one is her favorite. She wears it with pa...</td>\n",
       "      <td>True</td>\n",
       "      <td>NaN</td>\n",
       "    </tr>\n",
       "    <tr>\n",
       "      <th>4</th>\n",
       "      <td>1300</td>\n",
       "      <td>7709260373</td>\n",
       "      <td>A13QI8GT2FFGN6</td>\n",
       "      <td>Amy</td>\n",
       "      <td>5.0</td>\n",
       "      <td>For the price... this is awesome!</td>\n",
       "      <td>2018-03-13</td>\n",
       "      <td>this is awesome!</td>\n",
       "      <td>True</td>\n",
       "      <td>NaN</td>\n",
       "    </tr>\n",
       "    <tr>\n",
       "      <th>...</th>\n",
       "      <td>...</td>\n",
       "      <td>...</td>\n",
       "      <td>...</td>\n",
       "      <td>...</td>\n",
       "      <td>...</td>\n",
       "      <td>...</td>\n",
       "      <td>...</td>\n",
       "      <td>...</td>\n",
       "      <td>...</td>\n",
       "      <td>...</td>\n",
       "    </tr>\n",
       "    <tr>\n",
       "      <th>178939</th>\n",
       "      <td>32291840</td>\n",
       "      <td>B01HJCSCLK</td>\n",
       "      <td>AAHWQ4FMWLNH3</td>\n",
       "      <td>amazonlover</td>\n",
       "      <td>5.0</td>\n",
       "      <td>Beautiful. Strong, durable, and chic but subtl...</td>\n",
       "      <td>2018-07-25</td>\n",
       "      <td>Beautiful</td>\n",
       "      <td>True</td>\n",
       "      <td>NaN</td>\n",
       "    </tr>\n",
       "    <tr>\n",
       "      <th>178940</th>\n",
       "      <td>32291855</td>\n",
       "      <td>B01HJDVCJI</td>\n",
       "      <td>A2WUHKA1I75SL3</td>\n",
       "      <td>FRCP</td>\n",
       "      <td>3.0</td>\n",
       "      <td>Fit is great on these and they are very comfor...</td>\n",
       "      <td>2018-09-03</td>\n",
       "      <td>Comfortable</td>\n",
       "      <td>False</td>\n",
       "      <td>NaN</td>\n",
       "    </tr>\n",
       "    <tr>\n",
       "      <th>178941</th>\n",
       "      <td>32291863</td>\n",
       "      <td>B01HJDVCJI</td>\n",
       "      <td>A7B48AJT6IC0A</td>\n",
       "      <td>Lives2read</td>\n",
       "      <td>4.0</td>\n",
       "      <td>Excellent arch support. Unique tongue design c...</td>\n",
       "      <td>2018-08-13</td>\n",
       "      <td>Unique look and comfort</td>\n",
       "      <td>False</td>\n",
       "      <td>NaN</td>\n",
       "    </tr>\n",
       "    <tr>\n",
       "      <th>178942</th>\n",
       "      <td>32291875</td>\n",
       "      <td>B01HJDZM30</td>\n",
       "      <td>A2CJOG4NUHVDGK</td>\n",
       "      <td>Brittney Mitchell</td>\n",
       "      <td>5.0</td>\n",
       "      <td>Bought this for my husband and he absolutely l...</td>\n",
       "      <td>2018-08-29</td>\n",
       "      <td>Five Stars</td>\n",
       "      <td>False</td>\n",
       "      <td>NaN</td>\n",
       "    </tr>\n",
       "    <tr>\n",
       "      <th>178943</th>\n",
       "      <td>32291883</td>\n",
       "      <td>B01HJD4BBE</td>\n",
       "      <td>A3UVMG2B3BG5O2</td>\n",
       "      <td>Sharla Murrill</td>\n",
       "      <td>5.0</td>\n",
       "      <td>I love this wallet. It is smells great and hol...</td>\n",
       "      <td>2018-04-27</td>\n",
       "      <td>Five Stars</td>\n",
       "      <td>True</td>\n",
       "      <td>NaN</td>\n",
       "    </tr>\n",
       "  </tbody>\n",
       "</table>\n",
       "<p>178944 rows × 10 columns</p>\n",
       "</div>"
      ],
      "text/plain": [
       "              id        asin      reviewerID       reviewerName  overall  \\\n",
       "0            676  5120053084  A35EUS1E3WK1HC     Kiley and Mars      5.0   \n",
       "1            677  5120053084   AKIZYAIS4SYVF            Bethany      5.0   \n",
       "2            679  5120053084  A2L74OWEP7H1VC         Shelby0516      3.0   \n",
       "3            681  5120053084  A260RMKZXGDHVH      Kelly Kennedy      5.0   \n",
       "4           1300  7709260373  A13QI8GT2FFGN6                Amy      5.0   \n",
       "...          ...         ...             ...                ...      ...   \n",
       "178939  32291840  B01HJCSCLK   AAHWQ4FMWLNH3        amazonlover      5.0   \n",
       "178940  32291855  B01HJDVCJI  A2WUHKA1I75SL3               FRCP      3.0   \n",
       "178941  32291863  B01HJDVCJI   A7B48AJT6IC0A         Lives2read      4.0   \n",
       "178942  32291875  B01HJDZM30  A2CJOG4NUHVDGK  Brittney Mitchell      5.0   \n",
       "178943  32291883  B01HJD4BBE  A3UVMG2B3BG5O2     Sharla Murrill      5.0   \n",
       "\n",
       "                                                     text  reviewTime  \\\n",
       "0       It's a cute top, works good for nursing and la...  2018-04-10   \n",
       "1       Looks really cute and super easy to nurse my d...  2018-03-22   \n",
       "2       The tie is longer than the pictures showed. Ha...  2018-03-14   \n",
       "3       Of all the nursing shirts I bought my daughter...  2018-03-07   \n",
       "4                       For the price... this is awesome!  2018-03-13   \n",
       "...                                                   ...         ...   \n",
       "178939  Beautiful. Strong, durable, and chic but subtl...  2018-07-25   \n",
       "178940  Fit is great on these and they are very comfor...  2018-09-03   \n",
       "178941  Excellent arch support. Unique tongue design c...  2018-08-13   \n",
       "178942  Bought this for my husband and he absolutely l...  2018-08-29   \n",
       "178943  I love this wallet. It is smells great and hol...  2018-04-27   \n",
       "\n",
       "                                                  summary  verified  vote  \n",
       "0                                Decent lounge around top      True   NaN  \n",
       "1                                                    Cute      True   NaN  \n",
       "2                                             Awkward tie      True   NaN  \n",
       "3       this one is her favorite. She wears it with pa...      True   NaN  \n",
       "4                                        this is awesome!      True   NaN  \n",
       "...                                                   ...       ...   ...  \n",
       "178939                                          Beautiful      True   NaN  \n",
       "178940                                        Comfortable     False   NaN  \n",
       "178941                            Unique look and comfort     False   NaN  \n",
       "178942                                         Five Stars     False   NaN  \n",
       "178943                                         Five Stars      True   NaN  \n",
       "\n",
       "[178944 rows x 10 columns]"
      ]
     },
     "execution_count": 4,
     "metadata": {},
     "output_type": "execute_result"
    },
    {
     "ename": "",
     "evalue": "",
     "output_type": "error",
     "traceback": [
      "\u001b[1;31mThe Kernel crashed while executing code in the the current cell or a previous cell. Please review the code in the cell(s) to identify a possible cause of the failure. Click <a href='https://aka.ms/vscodeJupyterKernelCrash'>here</a> for more info. View Jupyter <a href='command:jupyter.viewOutput'>log</a> for further details."
     ]
    }
   ],
   "source": [
    "reviews_df = amazon_dataset.reviews_df(DATASET)\n",
    "reviews_df"
   ]
  },
  {
   "attachments": {},
   "cell_type": "markdown",
   "metadata": {},
   "source": [
    "# Generate Data for SEM-MacridVAE"
   ]
  },
  {
   "cell_type": "code",
   "execution_count": 4,
   "metadata": {},
   "outputs": [
    {
     "data": {
      "text/html": [
       "<div>\n",
       "<style scoped>\n",
       "    .dataframe tbody tr th:only-of-type {\n",
       "        vertical-align: middle;\n",
       "    }\n",
       "\n",
       "    .dataframe tbody tr th {\n",
       "        vertical-align: top;\n",
       "    }\n",
       "\n",
       "    .dataframe thead th {\n",
       "        text-align: right;\n",
       "    }\n",
       "</style>\n",
       "<table border=\"1\" class=\"dataframe\">\n",
       "  <thead>\n",
       "    <tr style=\"text-align: right;\">\n",
       "      <th></th>\n",
       "      <th>asin</th>\n",
       "      <th>reviewerID</th>\n",
       "    </tr>\n",
       "  </thead>\n",
       "  <tbody>\n",
       "    <tr>\n",
       "      <th>0</th>\n",
       "      <td>5120053084</td>\n",
       "      <td>A35EUS1E3WK1HC</td>\n",
       "    </tr>\n",
       "    <tr>\n",
       "      <th>1</th>\n",
       "      <td>5120053084</td>\n",
       "      <td>AKIZYAIS4SYVF</td>\n",
       "    </tr>\n",
       "    <tr>\n",
       "      <th>3</th>\n",
       "      <td>5120053084</td>\n",
       "      <td>A260RMKZXGDHVH</td>\n",
       "    </tr>\n",
       "    <tr>\n",
       "      <th>4</th>\n",
       "      <td>7709260373</td>\n",
       "      <td>A13QI8GT2FFGN6</td>\n",
       "    </tr>\n",
       "    <tr>\n",
       "      <th>5</th>\n",
       "      <td>7709260373</td>\n",
       "      <td>A1246QM67H27LN</td>\n",
       "    </tr>\n",
       "    <tr>\n",
       "      <th>...</th>\n",
       "      <td>...</td>\n",
       "      <td>...</td>\n",
       "    </tr>\n",
       "    <tr>\n",
       "      <th>178938</th>\n",
       "      <td>B01HJDBMUM</td>\n",
       "      <td>A2N0T25TWYXPMP</td>\n",
       "    </tr>\n",
       "    <tr>\n",
       "      <th>178939</th>\n",
       "      <td>B01HJCSCLK</td>\n",
       "      <td>AAHWQ4FMWLNH3</td>\n",
       "    </tr>\n",
       "    <tr>\n",
       "      <th>178941</th>\n",
       "      <td>B01HJDVCJI</td>\n",
       "      <td>A7B48AJT6IC0A</td>\n",
       "    </tr>\n",
       "    <tr>\n",
       "      <th>178942</th>\n",
       "      <td>B01HJDZM30</td>\n",
       "      <td>A2CJOG4NUHVDGK</td>\n",
       "    </tr>\n",
       "    <tr>\n",
       "      <th>178943</th>\n",
       "      <td>B01HJD4BBE</td>\n",
       "      <td>A3UVMG2B3BG5O2</td>\n",
       "    </tr>\n",
       "  </tbody>\n",
       "</table>\n",
       "<p>142291 rows × 2 columns</p>\n",
       "</div>"
      ],
      "text/plain": [
       "              asin      reviewerID\n",
       "0       5120053084  A35EUS1E3WK1HC\n",
       "1       5120053084   AKIZYAIS4SYVF\n",
       "3       5120053084  A260RMKZXGDHVH\n",
       "4       7709260373  A13QI8GT2FFGN6\n",
       "5       7709260373  A1246QM67H27LN\n",
       "...            ...             ...\n",
       "178938  B01HJDBMUM  A2N0T25TWYXPMP\n",
       "178939  B01HJCSCLK   AAHWQ4FMWLNH3\n",
       "178941  B01HJDVCJI   A7B48AJT6IC0A\n",
       "178942  B01HJDZM30  A2CJOG4NUHVDGK\n",
       "178943  B01HJD4BBE  A3UVMG2B3BG5O2\n",
       "\n",
       "[142291 rows x 2 columns]"
      ]
     },
     "execution_count": 4,
     "metadata": {},
     "output_type": "execute_result"
    }
   ],
   "source": [
    "# binarize the data (only keep ratings >= 4)\n",
    "sem_macrid_relevant_reviews = reviews_df.loc[reviews_df['overall'] >= 4][['asin', 'reviewerID']]\n",
    "sem_macrid_relevant_reviews"
   ]
  },
  {
   "attachments": {},
   "cell_type": "markdown",
   "metadata": {},
   "source": [
    "Some data stats"
   ]
  },
  {
   "cell_type": "code",
   "execution_count": 5,
   "metadata": {},
   "outputs": [
    {
     "name": "stdout",
     "output_type": "stream",
     "text": [
      "34778 items 22181 users. Sparsity 0.018%\n"
     ]
    }
   ],
   "source": [
    "print(df_stats(sem_macrid_relevant_reviews))"
   ]
  },
  {
   "attachments": {},
   "cell_type": "markdown",
   "metadata": {},
   "source": [
    "Sort some users randomly"
   ]
  },
  {
   "cell_type": "code",
   "execution_count": 6,
   "metadata": {},
   "outputs": [
    {
     "data": {
      "text/plain": [
       "A244Z4EM8ZX0X6        0\n",
       "A2O23L14H5P0ZY        1\n",
       "A6A4UR3UKVEGV         2\n",
       "AG1C839UYKQJ2         3\n",
       "A4RUSOW0ZKXUG         4\n",
       "                  ...  \n",
       "A2RUZ3SRDQIPXD    22176\n",
       "A3DXDF5LTJ3L1D    22177\n",
       "A14HN3YVM4XZNJ    22178\n",
       "A1C42QMCGX6IQR    22179\n",
       "A3SWTMD8AQLYAW    22180\n",
       "Length: 22181, dtype: int64"
      ]
     },
     "execution_count": 6,
     "metadata": {},
     "output_type": "execute_result"
    }
   ],
   "source": [
    "sem_macrid_user_ids = generate_unique_ids(sem_macrid_relevant_reviews['reviewerID'])\n",
    "sem_macrid_user_ids"
   ]
  },
  {
   "attachments": {},
   "cell_type": "markdown",
   "metadata": {},
   "source": [
    "Same with products"
   ]
  },
  {
   "cell_type": "code",
   "execution_count": 9,
   "metadata": {},
   "outputs": [
    {
     "data": {
      "text/plain": [
       "B000IG6FCI        0\n",
       "B00EDFKVJS        1\n",
       "B013N774YG        2\n",
       "B00BG4WFR0        3\n",
       "B0009G3QH4        4\n",
       "              ...  \n",
       "B00HLST7QC    34773\n",
       "B01DUSBHZ0    34774\n",
       "B00G2J7H2C    34775\n",
       "B007CRR7YQ    34776\n",
       "B01FSDN8UM    34777\n",
       "Length: 34778, dtype: int64"
      ]
     },
     "execution_count": 9,
     "metadata": {},
     "output_type": "execute_result"
    }
   ],
   "source": [
    "sem_macrid_item_ids = generate_unique_ids(sem_macrid_relevant_reviews['asin'])\n",
    "sem_macrid_item_ids"
   ]
  },
  {
   "attachments": {},
   "cell_type": "markdown",
   "metadata": {},
   "source": [
    "Split train test and validation by user"
   ]
  },
  {
   "cell_type": "code",
   "execution_count": 10,
   "metadata": {},
   "outputs": [
    {
     "name": "stdout",
     "output_type": "stream",
     "text": [
      "len(train_users)=15526, len(validation_users)=3327, len(test_users)=3328\n"
     ]
    }
   ],
   "source": [
    "def split_uids(series: pd.Series, proportion: float) -> Tuple:\n",
    "    assert proportion < 0.5\n",
    "    return np.split(series, [\n",
    "        int(len(series) * (1 - proportion * 2)), \n",
    "        int(len(series) * (1-proportion))\n",
    "    ])\n",
    "\n",
    "train_users, validation_users, test_users = split_uids(sem_macrid_user_ids, VALIDATION_SIZE)\n",
    "print(f'{len(train_users)=}, {len(validation_users)=}, {len(test_users)=}')"
   ]
  },
  {
   "cell_type": "code",
   "execution_count": 11,
   "metadata": {},
   "outputs": [
    {
     "data": {
      "text/html": [
       "<div>\n",
       "<style scoped>\n",
       "    .dataframe tbody tr th:only-of-type {\n",
       "        vertical-align: middle;\n",
       "    }\n",
       "\n",
       "    .dataframe tbody tr th {\n",
       "        vertical-align: top;\n",
       "    }\n",
       "\n",
       "    .dataframe thead th {\n",
       "        text-align: right;\n",
       "    }\n",
       "</style>\n",
       "<table border=\"1\" class=\"dataframe\">\n",
       "  <thead>\n",
       "    <tr style=\"text-align: right;\">\n",
       "      <th></th>\n",
       "      <th>asin</th>\n",
       "      <th>reviewerID</th>\n",
       "    </tr>\n",
       "  </thead>\n",
       "  <tbody>\n",
       "    <tr>\n",
       "      <th>0</th>\n",
       "      <td>5120053084</td>\n",
       "      <td>A35EUS1E3WK1HC</td>\n",
       "    </tr>\n",
       "    <tr>\n",
       "      <th>1</th>\n",
       "      <td>5120053084</td>\n",
       "      <td>AKIZYAIS4SYVF</td>\n",
       "    </tr>\n",
       "    <tr>\n",
       "      <th>4</th>\n",
       "      <td>7709260373</td>\n",
       "      <td>A13QI8GT2FFGN6</td>\n",
       "    </tr>\n",
       "    <tr>\n",
       "      <th>6</th>\n",
       "      <td>B00006XXGO</td>\n",
       "      <td>AWR7V9DKUUFLT</td>\n",
       "    </tr>\n",
       "    <tr>\n",
       "      <th>10</th>\n",
       "      <td>B00006XXGO</td>\n",
       "      <td>AMJ40C6RPXII9</td>\n",
       "    </tr>\n",
       "    <tr>\n",
       "      <th>...</th>\n",
       "      <td>...</td>\n",
       "      <td>...</td>\n",
       "    </tr>\n",
       "    <tr>\n",
       "      <th>178933</th>\n",
       "      <td>B01HJBEZ3A</td>\n",
       "      <td>A2U2XESSJX57EQ</td>\n",
       "    </tr>\n",
       "    <tr>\n",
       "      <th>178937</th>\n",
       "      <td>B01HJDBMUM</td>\n",
       "      <td>A2WUDTAL0ADE6S</td>\n",
       "    </tr>\n",
       "    <tr>\n",
       "      <th>178939</th>\n",
       "      <td>B01HJCSCLK</td>\n",
       "      <td>AAHWQ4FMWLNH3</td>\n",
       "    </tr>\n",
       "    <tr>\n",
       "      <th>178942</th>\n",
       "      <td>B01HJDZM30</td>\n",
       "      <td>A2CJOG4NUHVDGK</td>\n",
       "    </tr>\n",
       "    <tr>\n",
       "      <th>178943</th>\n",
       "      <td>B01HJD4BBE</td>\n",
       "      <td>A3UVMG2B3BG5O2</td>\n",
       "    </tr>\n",
       "  </tbody>\n",
       "</table>\n",
       "<p>99898 rows × 2 columns</p>\n",
       "</div>"
      ],
      "text/plain": [
       "              asin      reviewerID\n",
       "0       5120053084  A35EUS1E3WK1HC\n",
       "1       5120053084   AKIZYAIS4SYVF\n",
       "4       7709260373  A13QI8GT2FFGN6\n",
       "6       B00006XXGO   AWR7V9DKUUFLT\n",
       "10      B00006XXGO   AMJ40C6RPXII9\n",
       "...            ...             ...\n",
       "178933  B01HJBEZ3A  A2U2XESSJX57EQ\n",
       "178937  B01HJDBMUM  A2WUDTAL0ADE6S\n",
       "178939  B01HJCSCLK   AAHWQ4FMWLNH3\n",
       "178942  B01HJDZM30  A2CJOG4NUHVDGK\n",
       "178943  B01HJD4BBE  A3UVMG2B3BG5O2\n",
       "\n",
       "[99898 rows x 2 columns]"
      ]
     },
     "execution_count": 11,
     "metadata": {},
     "output_type": "execute_result"
    }
   ],
   "source": [
    "train_reviews = sem_macrid_relevant_reviews.loc[\n",
    "    sem_macrid_relevant_reviews['reviewerID'].isin(train_users.index)\n",
    "]\n",
    "train_reviews"
   ]
  },
  {
   "attachments": {},
   "cell_type": "markdown",
   "metadata": {},
   "source": [
    "Generate users"
   ]
  },
  {
   "cell_type": "code",
   "execution_count": 12,
   "metadata": {},
   "outputs": [],
   "source": [
    "sem_macrid_user_ids.to_csv(SEM_MACRID_DEST_FOLDER / 'users.txt')\n",
    "sem_macrid_item_ids.to_csv(SEM_MACRID_DEST_FOLDER / 'items.txt', header=['item_id'])"
   ]
  },
  {
   "cell_type": "code",
   "execution_count": 14,
   "metadata": {},
   "outputs": [
    {
     "data": {
      "text/html": [
       "<div>\n",
       "<style scoped>\n",
       "    .dataframe tbody tr th:only-of-type {\n",
       "        vertical-align: middle;\n",
       "    }\n",
       "\n",
       "    .dataframe tbody tr th {\n",
       "        vertical-align: top;\n",
       "    }\n",
       "\n",
       "    .dataframe thead th {\n",
       "        text-align: right;\n",
       "    }\n",
       "</style>\n",
       "<table border=\"1\" class=\"dataframe\">\n",
       "  <thead>\n",
       "    <tr style=\"text-align: right;\">\n",
       "      <th></th>\n",
       "      <th>user</th>\n",
       "      <th>item</th>\n",
       "    </tr>\n",
       "  </thead>\n",
       "  <tbody>\n",
       "    <tr>\n",
       "      <th>0</th>\n",
       "      <td>13505</td>\n",
       "      <td>24700</td>\n",
       "    </tr>\n",
       "    <tr>\n",
       "      <th>1</th>\n",
       "      <td>12567</td>\n",
       "      <td>24700</td>\n",
       "    </tr>\n",
       "    <tr>\n",
       "      <th>4</th>\n",
       "      <td>2391</td>\n",
       "      <td>23840</td>\n",
       "    </tr>\n",
       "    <tr>\n",
       "      <th>6</th>\n",
       "      <td>14750</td>\n",
       "      <td>34549</td>\n",
       "    </tr>\n",
       "    <tr>\n",
       "      <th>10</th>\n",
       "      <td>4934</td>\n",
       "      <td>34549</td>\n",
       "    </tr>\n",
       "    <tr>\n",
       "      <th>...</th>\n",
       "      <td>...</td>\n",
       "      <td>...</td>\n",
       "    </tr>\n",
       "    <tr>\n",
       "      <th>178933</th>\n",
       "      <td>4925</td>\n",
       "      <td>913</td>\n",
       "    </tr>\n",
       "    <tr>\n",
       "      <th>178937</th>\n",
       "      <td>2533</td>\n",
       "      <td>1325</td>\n",
       "    </tr>\n",
       "    <tr>\n",
       "      <th>178939</th>\n",
       "      <td>1028</td>\n",
       "      <td>5373</td>\n",
       "    </tr>\n",
       "    <tr>\n",
       "      <th>178942</th>\n",
       "      <td>10398</td>\n",
       "      <td>8037</td>\n",
       "    </tr>\n",
       "    <tr>\n",
       "      <th>178943</th>\n",
       "      <td>8565</td>\n",
       "      <td>8356</td>\n",
       "    </tr>\n",
       "  </tbody>\n",
       "</table>\n",
       "<p>99898 rows × 2 columns</p>\n",
       "</div>"
      ],
      "text/plain": [
       "         user   item\n",
       "0       13505  24700\n",
       "1       12567  24700\n",
       "4        2391  23840\n",
       "6       14750  34549\n",
       "10       4934  34549\n",
       "...       ...    ...\n",
       "178933   4925    913\n",
       "178937   2533   1325\n",
       "178939   1028   5373\n",
       "178942  10398   8037\n",
       "178943   8565   8356\n",
       "\n",
       "[99898 rows x 2 columns]"
      ]
     },
     "execution_count": 14,
     "metadata": {},
     "output_type": "execute_result"
    }
   ],
   "source": [
    "SEMMACRID_NUMERIZED_COMMON_PARAMS = {\n",
    "    'uids': sem_macrid_user_ids, \n",
    "    'product_ids': sem_macrid_item_ids,\n",
    "    'user_id_column': 'user',\n",
    "    'product_ids_column': 'item',\n",
    "    'columns': ['user', 'item']\n",
    "}\n",
    "\n",
    "save_numerized(\n",
    "    train_reviews, \n",
    "    dest=SEM_MACRID_DEST_FOLDER / 'train.txt',\n",
    "    **SEMMACRID_NUMERIZED_COMMON_PARAMS\n",
    ")"
   ]
  },
  {
   "attachments": {},
   "cell_type": "markdown",
   "metadata": {},
   "source": [
    "Use the code at `/disentangle-recsys/data/prep.py` to split users"
   ]
  },
  {
   "cell_type": "code",
   "execution_count": 15,
   "metadata": {},
   "outputs": [
    {
     "data": {
      "text/plain": [
       "'Saved validation data'"
      ]
     },
     "execution_count": 15,
     "metadata": {},
     "output_type": "execute_result"
    }
   ],
   "source": [
    "validation_reviews = sem_macrid_relevant_reviews.loc[\n",
    "    sem_macrid_relevant_reviews['reviewerID'].isin(validation_users.index)\n",
    "]\n",
    "\n",
    "validation_train, validation_test = split_train_test_proportion(validation_reviews)\n",
    "\n",
    "save_numerized(\n",
    "    validation_train, \n",
    "    dest=SEM_MACRID_DEST_FOLDER / 'valid_tr.txt',\n",
    "    **SEMMACRID_NUMERIZED_COMMON_PARAMS\n",
    ")\n",
    "\n",
    "save_numerized(\n",
    "    validation_test, \n",
    "    dest=SEM_MACRID_DEST_FOLDER / 'valid_te.txt',\n",
    "    **SEMMACRID_NUMERIZED_COMMON_PARAMS\n",
    ")\n",
    "\n",
    "'Saved validation data'"
   ]
  },
  {
   "cell_type": "code",
   "execution_count": 16,
   "metadata": {},
   "outputs": [
    {
     "data": {
      "text/plain": [
       "'Saved test data'"
      ]
     },
     "execution_count": 16,
     "metadata": {},
     "output_type": "execute_result"
    }
   ],
   "source": [
    "test_reviews = sem_macrid_relevant_reviews.loc[\n",
    "    sem_macrid_relevant_reviews['reviewerID'].isin(test_users.index)\n",
    "]\n",
    "test_train, test_test = split_train_test_proportion(test_reviews)\n",
    "\n",
    "save_numerized(\n",
    "    test_train, \n",
    "    dest=SEM_MACRID_DEST_FOLDER / 'test_tr.txt',\n",
    "    **SEMMACRID_NUMERIZED_COMMON_PARAMS\n",
    ")\n",
    "\n",
    "save_numerized(\n",
    "    test_test, \n",
    "    dest=SEM_MACRID_DEST_FOLDER / 'test_te.txt',\n",
    "    **SEMMACRID_NUMERIZED_COMMON_PARAMS\n",
    ")\n",
    "\n",
    "'Saved test data'"
   ]
  },
  {
   "cell_type": "code",
   "execution_count": 17,
   "metadata": {},
   "outputs": [
    {
     "name": "stdout",
     "output_type": "stream",
     "text": [
      "Opening file\n",
      "Initializing array\n"
     ]
    },
    {
     "name": "stderr",
     "output_type": "stream",
     "text": [
      "Copying features: 100%|██████████| 34.8k/34.8k [00:52<00:00, 660image/s]\n"
     ]
    },
    {
     "data": {
      "text/plain": [
       "(34778, 9216)"
      ]
     },
     "execution_count": 17,
     "metadata": {},
     "output_type": "execute_result"
    }
   ],
   "source": [
    "def copy_semmacrid_image_features(item_ids: pd.Series, features_file: Path):\n",
    "    print('Opening file')\n",
    "    with np.load(features_file) as image_features:\n",
    "        some_image = next(iter(image_features.values()))\n",
    "        image_feature_size, = some_image.shape\n",
    "        \n",
    "        print('Initializing array')\n",
    "        res = np.full(\n",
    "            (len(item_ids), \n",
    "            image_feature_size), \n",
    "            fill_value=np.nan\n",
    "        )\n",
    "\n",
    "        for asin, idx in tqdm(item_ids.items(), \n",
    "                total=len(item_ids), unit_scale=True, unit='image', \n",
    "                desc='Copying features'):\n",
    "            value = image_features[asin]\n",
    "            \n",
    "            assert np.isnan(value).sum() == 0, \"Image should be all defined!\"\n",
    "            \n",
    "            res[idx, :] = value\n",
    "\n",
    "        return res\n",
    "\n",
    "image_features_array = copy_semmacrid_image_features(\n",
    "    item_ids=sem_macrid_item_ids, \n",
    "    features_file=ALEXNET_IMAGE_FEATURES\n",
    ")\n",
    "image_features_array.shape"
   ]
  },
  {
   "cell_type": "code",
   "execution_count": 20,
   "metadata": {},
   "outputs": [
    {
     "name": "stdout",
     "output_type": "stream",
     "text": [
      "data/SEM-MacridVAE-Clothing_Shoes_and_Jewelry/embed.npy: 2445MiB\n"
     ]
    }
   ],
   "source": [
    "SEMMACRID_EMBED_DEST = SEM_MACRID_DEST_FOLDER / 'embed.npy'\n",
    "np.save(SEMMACRID_EMBED_DEST, image_features_array)\n",
    "\n",
    "print(f'{str(SEMMACRID_EMBED_DEST)}: {SEMMACRID_EMBED_DEST.stat().st_size // 2**20}MiB')"
   ]
  },
  {
   "attachments": {},
   "cell_type": "markdown",
   "metadata": {},
   "source": [
    "# Generate Data for DMRL"
   ]
  },
  {
   "cell_type": "code",
   "execution_count": 5,
   "metadata": {},
   "outputs": [
    {
     "name": "stdout",
     "output_type": "stream",
     "text": [
      "38493 items 23318 users. Sparsity 0.020%\n"
     ]
    }
   ],
   "source": [
    "print(df_stats(reviews_df))"
   ]
  },
  {
   "cell_type": "code",
   "execution_count": 8,
   "metadata": {},
   "outputs": [],
   "source": [
    "train_dmrl, test_dmrl = split_train_test_proportion(reviews_df)"
   ]
  },
  {
   "cell_type": "code",
   "execution_count": 9,
   "metadata": {},
   "outputs": [
    {
     "data": {
      "text/plain": [
       "A30NKRF3KBGA06        0\n",
       "AL0XGCBE6Z22M         1\n",
       "AMT5LF0TKY67C         2\n",
       "A2BY8EVXA3NRHD        3\n",
       "AWE6KR1ELIYQ3         4\n",
       "                  ...  \n",
       "A1MFBF49ZFMH2N    23313\n",
       "A36AF5I7D0VO8F    23314\n",
       "A35ZS7JT3G9B8     23315\n",
       "A3GC94SEKQI3QU    23316\n",
       "A185C12Y9XLYGY    23317\n",
       "Length: 23318, dtype: int64"
      ]
     },
     "execution_count": 9,
     "metadata": {},
     "output_type": "execute_result"
    }
   ],
   "source": [
    "dmrl_user_ids = generate_unique_ids(reviews_df['reviewerID'])\n",
    "dmrl_user_ids"
   ]
  },
  {
   "cell_type": "code",
   "execution_count": 10,
   "metadata": {},
   "outputs": [
    {
     "data": {
      "text/plain": [
       "B000B6AV7K        0\n",
       "B0143D7EE4        1\n",
       "B0105V2DEY        2\n",
       "B014EY21H2        3\n",
       "B005LUROIK        4\n",
       "              ...  \n",
       "B00A9R2P7A    38488\n",
       "B017HK485S    38489\n",
       "B008H7UKYY    38490\n",
       "B006K6PJTK    38491\n",
       "B01DUSBHZ0    38492\n",
       "Length: 38493, dtype: int64"
      ]
     },
     "execution_count": 10,
     "metadata": {},
     "output_type": "execute_result"
    }
   ],
   "source": [
    "dmrl_item_ids = generate_unique_ids(reviews_df['asin'])\n",
    "dmrl_item_ids"
   ]
  },
  {
   "cell_type": "code",
   "execution_count": 12,
   "metadata": {},
   "outputs": [
    {
     "data": {
      "text/html": [
       "<div>\n",
       "<style scoped>\n",
       "    .dataframe tbody tr th:only-of-type {\n",
       "        vertical-align: middle;\n",
       "    }\n",
       "\n",
       "    .dataframe tbody tr th {\n",
       "        vertical-align: top;\n",
       "    }\n",
       "\n",
       "    .dataframe thead th {\n",
       "        text-align: right;\n",
       "    }\n",
       "</style>\n",
       "<table border=\"1\" class=\"dataframe\">\n",
       "  <thead>\n",
       "    <tr style=\"text-align: right;\">\n",
       "      <th></th>\n",
       "      <th>itemID</th>\n",
       "      <th>userID</th>\n",
       "      <th>reviewerID</th>\n",
       "      <th>asin</th>\n",
       "    </tr>\n",
       "  </thead>\n",
       "  <tbody>\n",
       "    <tr>\n",
       "      <th>0</th>\n",
       "      <td>30409</td>\n",
       "      <td>14891</td>\n",
       "      <td>A35EUS1E3WK1HC</td>\n",
       "      <td>5120053084</td>\n",
       "    </tr>\n",
       "    <tr>\n",
       "      <th>3</th>\n",
       "      <td>30409</td>\n",
       "      <td>3474</td>\n",
       "      <td>A260RMKZXGDHVH</td>\n",
       "      <td>5120053084</td>\n",
       "    </tr>\n",
       "    <tr>\n",
       "      <th>4</th>\n",
       "      <td>29339</td>\n",
       "      <td>19073</td>\n",
       "      <td>A13QI8GT2FFGN6</td>\n",
       "      <td>7709260373</td>\n",
       "    </tr>\n",
       "    <tr>\n",
       "      <th>5</th>\n",
       "      <td>29339</td>\n",
       "      <td>16285</td>\n",
       "      <td>A1246QM67H27LN</td>\n",
       "      <td>7709260373</td>\n",
       "    </tr>\n",
       "    <tr>\n",
       "      <th>6</th>\n",
       "      <td>38246</td>\n",
       "      <td>21394</td>\n",
       "      <td>AWR7V9DKUUFLT</td>\n",
       "      <td>B00006XXGO</td>\n",
       "    </tr>\n",
       "    <tr>\n",
       "      <th>...</th>\n",
       "      <td>...</td>\n",
       "      <td>...</td>\n",
       "      <td>...</td>\n",
       "      <td>...</td>\n",
       "    </tr>\n",
       "    <tr>\n",
       "      <th>178936</th>\n",
       "      <td>19135</td>\n",
       "      <td>3632</td>\n",
       "      <td>A3RVPCAPF92RK1</td>\n",
       "      <td>B01HJCYJ4Y</td>\n",
       "    </tr>\n",
       "    <tr>\n",
       "      <th>178937</th>\n",
       "      <td>5762</td>\n",
       "      <td>11611</td>\n",
       "      <td>A2WUDTAL0ADE6S</td>\n",
       "      <td>B01HJDBMUM</td>\n",
       "    </tr>\n",
       "    <tr>\n",
       "      <th>178938</th>\n",
       "      <td>5762</td>\n",
       "      <td>16539</td>\n",
       "      <td>A2N0T25TWYXPMP</td>\n",
       "      <td>B01HJDBMUM</td>\n",
       "    </tr>\n",
       "    <tr>\n",
       "      <th>178939</th>\n",
       "      <td>3855</td>\n",
       "      <td>13738</td>\n",
       "      <td>AAHWQ4FMWLNH3</td>\n",
       "      <td>B01HJCSCLK</td>\n",
       "    </tr>\n",
       "    <tr>\n",
       "      <th>178942</th>\n",
       "      <td>12170</td>\n",
       "      <td>20531</td>\n",
       "      <td>A2CJOG4NUHVDGK</td>\n",
       "      <td>B01HJDZM30</td>\n",
       "    </tr>\n",
       "  </tbody>\n",
       "</table>\n",
       "<p>148216 rows × 4 columns</p>\n",
       "</div>"
      ],
      "text/plain": [
       "        itemID  userID      reviewerID        asin\n",
       "0        30409   14891  A35EUS1E3WK1HC  5120053084\n",
       "3        30409    3474  A260RMKZXGDHVH  5120053084\n",
       "4        29339   19073  A13QI8GT2FFGN6  7709260373\n",
       "5        29339   16285  A1246QM67H27LN  7709260373\n",
       "6        38246   21394   AWR7V9DKUUFLT  B00006XXGO\n",
       "...        ...     ...             ...         ...\n",
       "178936   19135    3632  A3RVPCAPF92RK1  B01HJCYJ4Y\n",
       "178937    5762   11611  A2WUDTAL0ADE6S  B01HJDBMUM\n",
       "178938    5762   16539  A2N0T25TWYXPMP  B01HJDBMUM\n",
       "178939    3855   13738   AAHWQ4FMWLNH3  B01HJCSCLK\n",
       "178942   12170   20531  A2CJOG4NUHVDGK  B01HJDZM30\n",
       "\n",
       "[148216 rows x 4 columns]"
      ]
     },
     "execution_count": 12,
     "metadata": {},
     "output_type": "execute_result"
    }
   ],
   "source": [
    "DMRL_NUMERIZED_COMMON_PARAMS = {\n",
    "    'uids': dmrl_user_ids, \n",
    "    'product_ids': dmrl_item_ids,\n",
    "    'user_id_column': 'userID',\n",
    "    'product_ids_column': 'itemID',\n",
    "    'columns': ['itemID','userID', 'reviewerID', 'asin']\n",
    "}\n",
    "\n",
    "save_numerized(train_dmrl,     \n",
    "    dest=DMRL_DEST_FOLDER / 'train.csv',\n",
    "    **DMRL_NUMERIZED_COMMON_PARAMS)"
   ]
  },
  {
   "cell_type": "code",
   "execution_count": 16,
   "metadata": {},
   "outputs": [
    {
     "data": {
      "text/html": [
       "<div>\n",
       "<style scoped>\n",
       "    .dataframe tbody tr th:only-of-type {\n",
       "        vertical-align: middle;\n",
       "    }\n",
       "\n",
       "    .dataframe tbody tr th {\n",
       "        vertical-align: top;\n",
       "    }\n",
       "\n",
       "    .dataframe thead th {\n",
       "        text-align: right;\n",
       "    }\n",
       "</style>\n",
       "<table border=\"1\" class=\"dataframe\">\n",
       "  <thead>\n",
       "    <tr style=\"text-align: right;\">\n",
       "      <th></th>\n",
       "      <th>itemID</th>\n",
       "      <th>userID</th>\n",
       "      <th>reviewerID</th>\n",
       "      <th>asin</th>\n",
       "    </tr>\n",
       "  </thead>\n",
       "  <tbody>\n",
       "    <tr>\n",
       "      <th>1</th>\n",
       "      <td>30409</td>\n",
       "      <td>13868</td>\n",
       "      <td>AKIZYAIS4SYVF</td>\n",
       "      <td>5120053084</td>\n",
       "    </tr>\n",
       "    <tr>\n",
       "      <th>2</th>\n",
       "      <td>30409</td>\n",
       "      <td>23021</td>\n",
       "      <td>A2L74OWEP7H1VC</td>\n",
       "      <td>5120053084</td>\n",
       "    </tr>\n",
       "    <tr>\n",
       "      <th>7</th>\n",
       "      <td>38246</td>\n",
       "      <td>5995</td>\n",
       "      <td>A23Z52PYAKMXE7</td>\n",
       "      <td>B00006XXGO</td>\n",
       "    </tr>\n",
       "    <tr>\n",
       "      <th>8</th>\n",
       "      <td>38246</td>\n",
       "      <td>7533</td>\n",
       "      <td>A3MLZHW2I4536P</td>\n",
       "      <td>B00006XXGO</td>\n",
       "    </tr>\n",
       "    <tr>\n",
       "      <th>11</th>\n",
       "      <td>38246</td>\n",
       "      <td>22554</td>\n",
       "      <td>A3EZJBNH70UNW3</td>\n",
       "      <td>B00006XXGO</td>\n",
       "    </tr>\n",
       "    <tr>\n",
       "      <th>...</th>\n",
       "      <td>...</td>\n",
       "      <td>...</td>\n",
       "      <td>...</td>\n",
       "      <td>...</td>\n",
       "    </tr>\n",
       "    <tr>\n",
       "      <th>178928</th>\n",
       "      <td>31391</td>\n",
       "      <td>1090</td>\n",
       "      <td>A3JKEN4MXCP5Y4</td>\n",
       "      <td>B01HJ2HUQI</td>\n",
       "    </tr>\n",
       "    <tr>\n",
       "      <th>178932</th>\n",
       "      <td>11093</td>\n",
       "      <td>12787</td>\n",
       "      <td>A3OXB8POGTLMFY</td>\n",
       "      <td>B01HJBL2S6</td>\n",
       "    </tr>\n",
       "    <tr>\n",
       "      <th>178940</th>\n",
       "      <td>31137</td>\n",
       "      <td>15473</td>\n",
       "      <td>A2WUHKA1I75SL3</td>\n",
       "      <td>B01HJDVCJI</td>\n",
       "    </tr>\n",
       "    <tr>\n",
       "      <th>178941</th>\n",
       "      <td>31137</td>\n",
       "      <td>15875</td>\n",
       "      <td>A7B48AJT6IC0A</td>\n",
       "      <td>B01HJDVCJI</td>\n",
       "    </tr>\n",
       "    <tr>\n",
       "      <th>178943</th>\n",
       "      <td>11266</td>\n",
       "      <td>4243</td>\n",
       "      <td>A3UVMG2B3BG5O2</td>\n",
       "      <td>B01HJD4BBE</td>\n",
       "    </tr>\n",
       "  </tbody>\n",
       "</table>\n",
       "<p>30728 rows × 4 columns</p>\n",
       "</div>"
      ],
      "text/plain": [
       "        itemID  userID      reviewerID        asin\n",
       "1        30409   13868   AKIZYAIS4SYVF  5120053084\n",
       "2        30409   23021  A2L74OWEP7H1VC  5120053084\n",
       "7        38246    5995  A23Z52PYAKMXE7  B00006XXGO\n",
       "8        38246    7533  A3MLZHW2I4536P  B00006XXGO\n",
       "11       38246   22554  A3EZJBNH70UNW3  B00006XXGO\n",
       "...        ...     ...             ...         ...\n",
       "178928   31391    1090  A3JKEN4MXCP5Y4  B01HJ2HUQI\n",
       "178932   11093   12787  A3OXB8POGTLMFY  B01HJBL2S6\n",
       "178940   31137   15473  A2WUHKA1I75SL3  B01HJDVCJI\n",
       "178941   31137   15875   A7B48AJT6IC0A  B01HJDVCJI\n",
       "178943   11266    4243  A3UVMG2B3BG5O2  B01HJD4BBE\n",
       "\n",
       "[30728 rows x 4 columns]"
      ]
     },
     "execution_count": 16,
     "metadata": {},
     "output_type": "execute_result"
    }
   ],
   "source": [
    "save_numerized(\n",
    "    test_dmrl,\n",
    "    dest=DMRL_DEST_FOLDER / 'test.csv',\n",
    "    **DMRL_NUMERIZED_COMMON_PARAMS\n",
    ")"
   ]
  },
  {
   "cell_type": "code",
   "execution_count": 54,
   "metadata": {},
   "outputs": [
    {
     "name": "stderr",
     "output_type": "stream",
     "text": [
      "Copying features: 100%|██████████| 38.5k/38.5k [01:36<00:00, 398image/s]\n"
     ]
    }
   ],
   "source": [
    "def copy_dmrl_image_features(\n",
    "    item_ids: pd.Series,\n",
    "    features_file: Path\n",
    "):\n",
    "    with np.load(features_file) as image_features, \\\n",
    "        tqdm(total=len(image_features), unit_scale=True, unit='image', \n",
    "             desc='Copying image features') as progress:\n",
    "        res = {}\n",
    "\n",
    "        for asin, feature in image_features.items():\n",
    "            if asin in item_ids:\n",
    "                # DMRL uses lists for image features\n",
    "                res[asin] = feature.tolist()\n",
    "            progress.update()\n",
    "            \n",
    "        assert set(res.keys()) == set(item_ids.index), 'Items were not copied!'\n",
    "\n",
    "        return res\n",
    "\n",
    "dmrl_image_features = copy_dmrl_image_features(\n",
    "    dmrl_item_ids, \n",
    "    VIT_IMAGE_FEATURES\n",
    ")"
   ]
  },
  {
   "cell_type": "code",
   "execution_count": 55,
   "metadata": {},
   "outputs": [
    {
     "name": "stdout",
     "output_type": "stream",
     "text": [
      "data/DMRL-Clothing_Shoes_and_Jewelry/item_feature.npy: 339MiB\n"
     ]
    }
   ],
   "source": [
    "DMRL_IMAGE_DEST = DMRL_DEST_FOLDER / 'item_feature.npy'\n",
    "np.save(DMRL_IMAGE_DEST, dmrl_image_features)\n",
    "\n",
    "print(f'{str(DMRL_IMAGE_DEST)}: {DMRL_IMAGE_DEST.stat().st_size // 2**20}MiB')"
   ]
  },
  {
   "cell_type": "code",
   "execution_count": 58,
   "metadata": {},
   "outputs": [
    {
     "name": "stderr",
     "output_type": "stream",
     "text": [
      "Copying textual features: 100%|██████████| 38.5k/38.5k [00:41<00:00, 920product/s]  \n"
     ]
    }
   ],
   "source": [
    "def copy_dmrl_text_features(\n",
    "    item_ids: pd.Series,\n",
    "    features_file: Path\n",
    "):\n",
    "    with np.load(features_file) as image_features, \\\n",
    "        tqdm(total=len(image_features), unit_scale=True, unit='product', \n",
    "             desc='Copying textual features') as progress:\n",
    "        res = {}\n",
    "\n",
    "        for asin, feature in image_features.items():\n",
    "            if asin in item_ids:\n",
    "                # DMRL uses column vectors :)\n",
    "                res[asin] = np.reshape(feature, (1, -1))\n",
    "            progress.update()\n",
    "            \n",
    "        assert set(res.keys()) == set(item_ids.index), 'Items were not copied!'\n",
    "\n",
    "        return res\n",
    "\n",
    "dmrl_text_features = copy_dmrl_text_features(\n",
    "    dmrl_item_ids, \n",
    "    TEXT_FEATURES\n",
    ")"
   ]
  },
  {
   "cell_type": "code",
   "execution_count": null,
   "metadata": {},
   "outputs": [],
   "source": [
    "DMRL_TEXT_DEST = DMRL_DEST_FOLDER / 'review.npz'\n",
    "np.savez(DMRL_TEXT_DEST, dmrl_text_features)\n",
    "\n",
    "print(f'{str(DMRL_IMAGE_DEST)}: {DMRL_IMAGE_DEST.stat().st_size // 2**20}MiB')"
   ]
  },
  {
   "cell_type": "code",
   "execution_count": 53,
   "metadata": {},
   "outputs": [
    {
     "data": {
      "text/plain": [
       "dict"
      ]
     },
     "execution_count": 53,
     "metadata": {},
     "output_type": "execute_result"
    }
   ],
   "source": [
    "x = np.load(DMRL_IMAGE_DEST, allow_pickle=True)\n",
    "type(x.item())"
   ]
  }
 ],
 "metadata": {
  "kernelspec": {
   "display_name": ".venv",
   "language": "python",
   "name": "python3"
  },
  "language_info": {
   "codemirror_mode": {
    "name": "ipython",
    "version": 3
   },
   "file_extension": ".py",
   "mimetype": "text/x-python",
   "name": "python",
   "nbconvert_exporter": "python",
   "pygments_lexer": "ipython3",
   "version": "3.8.16"
  },
  "orig_nbformat": 4,
  "vscode": {
   "interpreter": {
    "hash": "4c22d1444aa3f68a820bd00264b529de9aca8b813336c5d71bda95dadce90fbf"
   }
  }
 },
 "nbformat": 4,
 "nbformat_minor": 2
}
