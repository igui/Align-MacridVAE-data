{
 "cells": [
  {
   "cell_type": "code",
   "execution_count": 1,
   "metadata": {},
   "outputs": [],
   "source": [
    "import amazon_dataset\n",
    "import feature_extraction_text\n",
    "\n",
    "import numpy as np"
   ]
  },
  {
   "cell_type": "code",
   "execution_count": 2,
   "metadata": {},
   "outputs": [
    {
     "data": {
      "text/html": [
       "<div>\n",
       "<style scoped>\n",
       "    .dataframe tbody tr th:only-of-type {\n",
       "        vertical-align: middle;\n",
       "    }\n",
       "\n",
       "    .dataframe tbody tr th {\n",
       "        vertical-align: top;\n",
       "    }\n",
       "\n",
       "    .dataframe thead th {\n",
       "        text-align: right;\n",
       "    }\n",
       "</style>\n",
       "<table border=\"1\" class=\"dataframe\">\n",
       "  <thead>\n",
       "    <tr style=\"text-align: right;\">\n",
       "      <th></th>\n",
       "      <th>asin</th>\n",
       "      <th>description</th>\n",
       "      <th>title</th>\n",
       "      <th>brand</th>\n",
       "      <th>main_cat</th>\n",
       "      <th>rank</th>\n",
       "      <th>price</th>\n",
       "      <th>image_slug</th>\n",
       "      <th>image_url</th>\n",
       "      <th>feature</th>\n",
       "      <th>category</th>\n",
       "      <th>tech_detail</th>\n",
       "    </tr>\n",
       "    <tr>\n",
       "      <th>id</th>\n",
       "      <th></th>\n",
       "      <th></th>\n",
       "      <th></th>\n",
       "      <th></th>\n",
       "      <th></th>\n",
       "      <th></th>\n",
       "      <th></th>\n",
       "      <th></th>\n",
       "      <th></th>\n",
       "      <th></th>\n",
       "      <th></th>\n",
       "      <th></th>\n",
       "    </tr>\n",
       "  </thead>\n",
       "  <tbody>\n",
       "    <tr>\n",
       "      <th>904177</th>\n",
       "      <td>B00DCMPGV6</td>\n",
       "      <td>None</td>\n",
       "      <td>KOH KOH Womens Long Bridesmaid One Shoulder Co...</td>\n",
       "      <td>None</td>\n",
       "      <td>None</td>\n",
       "      <td>35,441inClothing,ShoesJewelry(</td>\n",
       "      <td>None</td>\n",
       "      <td>[31t0SRAGRkL]</td>\n",
       "      <td>[https://m.media-amazon.com/images/I/31t0SRAGR...</td>\n",
       "      <td>[FABRIC TYPE - Matte Jersey (5% Spandex), GARM...</td>\n",
       "      <td>[Clothing, Shoes &amp; Jewelry, Women, Clothing, D...</td>\n",
       "      <td>None</td>\n",
       "    </tr>\n",
       "    <tr>\n",
       "      <th>2323813</th>\n",
       "      <td>B01943U8H8</td>\n",
       "      <td>Brand:Polo Ralph Lauren .Composition:100% cott...</td>\n",
       "      <td>Polo Ralph Lauren Men's Classic Fit V-Neck T-S...</td>\n",
       "      <td>Polo Ralph Lauren</td>\n",
       "      <td>None</td>\n",
       "      <td>8,442inClothing,ShoesJewelry(</td>\n",
       "      <td>$14.47 - $99.99</td>\n",
       "      <td>[419M9Xn7LTL]</td>\n",
       "      <td>[https://m.media-amazon.com/images/I/419M9Xn7L...</td>\n",
       "      <td>[100% Cotton, Imported, Polo Ralph Lauren Men'...</td>\n",
       "      <td>[Clothing, Shoes &amp; Jewelry, Men, Clothing, Shi...</td>\n",
       "      <td>None</td>\n",
       "    </tr>\n",
       "    <tr>\n",
       "      <th>2351721</th>\n",
       "      <td>B019S0533G</td>\n",
       "      <td>Bring Your Favorite Character, Mickey Mouse wi...</td>\n",
       "      <td>Disney Mickey Mouse Boys Baseball Cap with Rem...</td>\n",
       "      <td>None</td>\n",
       "      <td>None</td>\n",
       "      <td>208,867inClothing,ShoesJewelry(</td>\n",
       "      <td>$13.99</td>\n",
       "      <td>[51UkE97w6YL]</td>\n",
       "      <td>[https://images-na.ssl-images-amazon.com/image...</td>\n",
       "      <td>[100% Cotton, Hook and Loop closure, Features ...</td>\n",
       "      <td>[Clothing, Shoes &amp; Jewelry, Men, Accessories, ...</td>\n",
       "      <td>None</td>\n",
       "    </tr>\n",
       "  </tbody>\n",
       "</table>\n",
       "</div>"
      ],
      "text/plain": [
       "               asin                                        description  \\\n",
       "id                                                                       \n",
       "904177   B00DCMPGV6                                               None   \n",
       "2323813  B01943U8H8  Brand:Polo Ralph Lauren .Composition:100% cott...   \n",
       "2351721  B019S0533G  Bring Your Favorite Character, Mickey Mouse wi...   \n",
       "\n",
       "                                                     title              brand  \\\n",
       "id                                                                              \n",
       "904177   KOH KOH Womens Long Bridesmaid One Shoulder Co...               None   \n",
       "2323813  Polo Ralph Lauren Men's Classic Fit V-Neck T-S...  Polo Ralph Lauren   \n",
       "2351721  Disney Mickey Mouse Boys Baseball Cap with Rem...               None   \n",
       "\n",
       "        main_cat                             rank            price  \\\n",
       "id                                                                   \n",
       "904177      None   35,441inClothing,ShoesJewelry(             None   \n",
       "2323813     None    8,442inClothing,ShoesJewelry(  $14.47 - $99.99   \n",
       "2351721     None  208,867inClothing,ShoesJewelry(           $13.99   \n",
       "\n",
       "            image_slug                                          image_url  \\\n",
       "id                                                                          \n",
       "904177   [31t0SRAGRkL]  [https://m.media-amazon.com/images/I/31t0SRAGR...   \n",
       "2323813  [419M9Xn7LTL]  [https://m.media-amazon.com/images/I/419M9Xn7L...   \n",
       "2351721  [51UkE97w6YL]  [https://images-na.ssl-images-amazon.com/image...   \n",
       "\n",
       "                                                   feature  \\\n",
       "id                                                           \n",
       "904177   [FABRIC TYPE - Matte Jersey (5% Spandex), GARM...   \n",
       "2323813  [100% Cotton, Imported, Polo Ralph Lauren Men'...   \n",
       "2351721  [100% Cotton, Hook and Loop closure, Features ...   \n",
       "\n",
       "                                                  category tech_detail  \n",
       "id                                                                      \n",
       "904177   [Clothing, Shoes & Jewelry, Women, Clothing, D...        None  \n",
       "2323813  [Clothing, Shoes & Jewelry, Men, Clothing, Shi...        None  \n",
       "2351721  [Clothing, Shoes & Jewelry, Men, Accessories, ...        None  "
      ]
     },
     "execution_count": 2,
     "metadata": {},
     "output_type": "execute_result"
    }
   ],
   "source": [
    "dataset = 'Clothing_Shoes_and_Jewelry'\n",
    "\n",
    "some_products = amazon_dataset.products_df(dataset)\n",
    "some_products.sample(n=3)\n"
   ]
  },
  {
   "cell_type": "code",
   "execution_count": 3,
   "metadata": {},
   "outputs": [
    {
     "name": "stdout",
     "output_type": "stream",
     "text": [
      "DDDOWNLOADINGGG https://huggingface.co/bert-large-cased/resolve/main/vocab.txt\n",
      "DDDOWNLOADINGGG https://huggingface.co/bert-large-cased/resolve/main/config.json\n"
     ]
    },
    {
     "name": "stderr",
     "output_type": "stream",
     "text": [
      "Some weights of the model checkpoint at bert-large-cased were not used when initializing BertModel: ['cls.predictions.bias', 'cls.predictions.decoder.weight', 'cls.seq_relationship.bias', 'cls.predictions.transform.LayerNorm.weight', 'cls.seq_relationship.weight', 'cls.predictions.transform.LayerNorm.bias', 'cls.predictions.transform.dense.bias', 'cls.predictions.transform.dense.weight']\n",
      "- This IS expected if you are initializing BertModel from the checkpoint of a model trained on another task or with another architecture (e.g. initializing a BertForSequenceClassification model from a BertForPreTraining model).\n",
      "- This IS NOT expected if you are initializing BertModel from the checkpoint of a model that you expect to be exactly identical (initializing a BertForSequenceClassification model from a BertForSequenceClassification model).\n",
      "100%|██████████| 38.5k/38.5k [25:42<00:00, 25.0product/s] \n"
     ]
    }
   ],
   "source": [
    "from importlib import reload\n",
    "reload(feature_extraction_text)\n",
    "\n",
    "extracted_bert_features = feature_extraction_text.extract_bert_text_features(some_products)"
   ]
  },
  {
   "cell_type": "code",
   "execution_count": 4,
   "metadata": {},
   "outputs": [],
   "source": [
    "np.savez_compressed(\n",
    "    amazon_dataset.BASE_DATA_FOLDER / f'{dataset}_bert_features.npz',\n",
    "    **extracted_bert_features\n",
    ")"
   ]
  },
  {
   "cell_type": "code",
   "execution_count": 5,
   "metadata": {},
   "outputs": [
    {
     "name": "stderr",
     "output_type": "stream",
     "text": [
      "100%|██████████| 38.5k/38.5k [02:45<00:00, 232product/s]\n"
     ]
    }
   ],
   "source": [
    "extacted_clip_features = feature_extraction_text.extract_clip_text_features(\n",
    "    some_products\n",
    ")"
   ]
  },
  {
   "cell_type": "code",
   "execution_count": 6,
   "metadata": {},
   "outputs": [],
   "source": [
    "np.savez_compressed(\n",
    "    amazon_dataset.BASE_DATA_FOLDER / f'{dataset}_cliptext_features.npz',\n",
    "    **extacted_clip_features\n",
    ")"
   ]
  }
 ],
 "metadata": {
  "kernelspec": {
   "display_name": ".venv",
   "language": "python",
   "name": "python3"
  },
  "language_info": {
   "codemirror_mode": {
    "name": "ipython",
    "version": 3
   },
   "file_extension": ".py",
   "mimetype": "text/x-python",
   "name": "python",
   "nbconvert_exporter": "python",
   "pygments_lexer": "ipython3",
   "version": "3.8.16"
  },
  "orig_nbformat": 4,
  "vscode": {
   "interpreter": {
    "hash": "4c22d1444aa3f68a820bd00264b529de9aca8b813336c5d71bda95dadce90fbf"
   }
  }
 },
 "nbformat": 4,
 "nbformat_minor": 2
}
