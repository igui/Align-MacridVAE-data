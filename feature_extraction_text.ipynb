{
 "cells": [
  {
   "cell_type": "code",
   "execution_count": 3,
   "metadata": {},
   "outputs": [],
   "source": [
    "import amazon_dataset\n",
    "import feature_extraction_text\n",
    "from bs4 import BeautifulSoup\n",
    "\n",
    "import numpy as np"
   ]
  },
  {
   "cell_type": "code",
   "execution_count": 4,
   "metadata": {},
   "outputs": [
    {
     "data": {
      "text/html": [
       "<div>\n",
       "<style scoped>\n",
       "    .dataframe tbody tr th:only-of-type {\n",
       "        vertical-align: middle;\n",
       "    }\n",
       "\n",
       "    .dataframe tbody tr th {\n",
       "        vertical-align: top;\n",
       "    }\n",
       "\n",
       "    .dataframe thead th {\n",
       "        text-align: right;\n",
       "    }\n",
       "</style>\n",
       "<table border=\"1\" class=\"dataframe\">\n",
       "  <thead>\n",
       "    <tr style=\"text-align: right;\">\n",
       "      <th></th>\n",
       "      <th>asin</th>\n",
       "      <th>description</th>\n",
       "      <th>title</th>\n",
       "      <th>brand</th>\n",
       "      <th>main_cat</th>\n",
       "      <th>rank</th>\n",
       "      <th>price</th>\n",
       "      <th>image_slug</th>\n",
       "      <th>image_url</th>\n",
       "      <th>feature</th>\n",
       "      <th>category</th>\n",
       "      <th>tech_detail</th>\n",
       "    </tr>\n",
       "    <tr>\n",
       "      <th>id</th>\n",
       "      <th></th>\n",
       "      <th></th>\n",
       "      <th></th>\n",
       "      <th></th>\n",
       "      <th></th>\n",
       "      <th></th>\n",
       "      <th></th>\n",
       "      <th></th>\n",
       "      <th></th>\n",
       "      <th></th>\n",
       "      <th></th>\n",
       "      <th></th>\n",
       "    </tr>\n",
       "  </thead>\n",
       "  <tbody>\n",
       "    <tr>\n",
       "      <th>1179208</th>\n",
       "      <td>B01ALDM1K2</td>\n",
       "      <td>&lt;b&gt;Are you tired of hanger bumps? Buy our bump...</td>\n",
       "      <td>Voilamart Velvet Bump Free Hangers 50 Pack - E...</td>\n",
       "      <td>Voilamart</td>\n",
       "      <td>Amazon Home</td>\n",
       "      <td>&gt;#39,859 in Home &amp; Kitchen (See Top 100 in Hom...</td>\n",
       "      <td>$45.99</td>\n",
       "      <td>[51sV9Z55wdL]</td>\n",
       "      <td>[https://m.media-amazon.com/images/I/51sV9Z55w...</td>\n",
       "      <td>[Premium Quality - Hanger 80g each is higher t...</td>\n",
       "      <td>[Home &amp; Kitchen, Storage &amp; Organization, Cloth...</td>\n",
       "      <td>None</td>\n",
       "    </tr>\n",
       "    <tr>\n",
       "      <th>1096407</th>\n",
       "      <td>B015WG78IS</td>\n",
       "      <td>The tea infusion mug offers a larger 17 oz. Ca...</td>\n",
       "      <td>Lang Loved Tea Infuser Mug, Multicolor</td>\n",
       "      <td>Lang</td>\n",
       "      <td>Amazon Home</td>\n",
       "      <td>&gt;#152,150 in Kitchen &amp; Dining (See Top 100 in ...</td>\n",
       "      <td>$18.99</td>\n",
       "      <td>[41TtqbQHDeL]</td>\n",
       "      <td>[https://m.media-amazon.com/images/I/41TtqbQHD...</td>\n",
       "      <td>[Full, 4-color outside wrap with coordinating ...</td>\n",
       "      <td>[Home &amp; Kitchen, Kitchen &amp; Dining, Dining &amp; En...</td>\n",
       "      <td>None</td>\n",
       "    </tr>\n",
       "    <tr>\n",
       "      <th>502333</th>\n",
       "      <td>B00BF2S63U</td>\n",
       "      <td>Suite Symphony - it's easy to design and insta...</td>\n",
       "      <td>ClosetMaid 4867 SuiteSymphony 12-Inch Starter ...</td>\n",
       "      <td>ClosetMaid</td>\n",
       "      <td>Amazon Home</td>\n",
       "      <td>&gt;#8,164 in Home &amp; Kitchen (See Top 100 in Home...</td>\n",
       "      <td>$72.89</td>\n",
       "      <td>[21YfwiSzINL]</td>\n",
       "      <td>[https://m.media-amazon.com/images/I/21YfwiSzI...</td>\n",
       "      <td>[Kit includes the tower, 3 expandable rods and...</td>\n",
       "      <td>[Home &amp; Kitchen, Storage &amp; Organization, Cloth...</td>\n",
       "      <td>None</td>\n",
       "    </tr>\n",
       "  </tbody>\n",
       "</table>\n",
       "</div>"
      ],
      "text/plain": [
       "               asin                                        description  \\\n",
       "id                                                                       \n",
       "1179208  B01ALDM1K2  <b>Are you tired of hanger bumps? Buy our bump...   \n",
       "1096407  B015WG78IS  The tea infusion mug offers a larger 17 oz. Ca...   \n",
       "502333   B00BF2S63U  Suite Symphony - it's easy to design and insta...   \n",
       "\n",
       "                                                     title       brand  \\\n",
       "id                                                                       \n",
       "1179208  Voilamart Velvet Bump Free Hangers 50 Pack - E...   Voilamart   \n",
       "1096407             Lang Loved Tea Infuser Mug, Multicolor        Lang   \n",
       "502333   ClosetMaid 4867 SuiteSymphony 12-Inch Starter ...  ClosetMaid   \n",
       "\n",
       "            main_cat                                               rank  \\\n",
       "id                                                                        \n",
       "1179208  Amazon Home  >#39,859 in Home & Kitchen (See Top 100 in Hom...   \n",
       "1096407  Amazon Home  >#152,150 in Kitchen & Dining (See Top 100 in ...   \n",
       "502333   Amazon Home  >#8,164 in Home & Kitchen (See Top 100 in Home...   \n",
       "\n",
       "          price     image_slug  \\\n",
       "id                               \n",
       "1179208  $45.99  [51sV9Z55wdL]   \n",
       "1096407  $18.99  [41TtqbQHDeL]   \n",
       "502333   $72.89  [21YfwiSzINL]   \n",
       "\n",
       "                                                 image_url  \\\n",
       "id                                                           \n",
       "1179208  [https://m.media-amazon.com/images/I/51sV9Z55w...   \n",
       "1096407  [https://m.media-amazon.com/images/I/41TtqbQHD...   \n",
       "502333   [https://m.media-amazon.com/images/I/21YfwiSzI...   \n",
       "\n",
       "                                                   feature  \\\n",
       "id                                                           \n",
       "1179208  [Premium Quality - Hanger 80g each is higher t...   \n",
       "1096407  [Full, 4-color outside wrap with coordinating ...   \n",
       "502333   [Kit includes the tower, 3 expandable rods and...   \n",
       "\n",
       "                                                  category tech_detail  \n",
       "id                                                                      \n",
       "1179208  [Home & Kitchen, Storage & Organization, Cloth...        None  \n",
       "1096407  [Home & Kitchen, Kitchen & Dining, Dining & En...        None  \n",
       "502333   [Home & Kitchen, Storage & Organization, Cloth...        None  "
      ]
     },
     "execution_count": 4,
     "metadata": {},
     "output_type": "execute_result"
    }
   ],
   "source": [
    "dataset = 'Home_and_Kitchen'\n",
    "\n",
    "some_products = amazon_dataset.products_df(dataset)\n",
    "some_products.sample(n=3)\n"
   ]
  },
  {
   "cell_type": "code",
   "execution_count": 43,
   "metadata": {},
   "outputs": [
    {
     "name": "stderr",
     "output_type": "stream",
     "text": [
      "/home/igui/src/VBPR/.venv/lib/python3.8/site-packages/bs4/__init__.py:435: MarkupResemblesLocatorWarning: The input looks more like a filename than markup. You may want to open this file and pass the filehandle into Beautiful Soup.\n",
      "  warnings.warn(\n"
     ]
    },
    {
     "data": {
      "text/plain": [
       "id\n",
       "248995     Built to support most flat panel TVs up to 48\"...\n",
       "675691     Buy No Basting Brush - Until You've Seen This ...\n",
       "1093002    Fugu Brand beanbags are oversized, foam filled...\n",
       "61191      The Organize It All closet Doubler can expand ...\n",
       "1251521    OXO's Garlic Slicer makes quick work of the tr...\n",
       "810372     Gresorth specializes in artificial fruit, vege...\n",
       "1234392    \\ncasa pura Modern Green & Cream Bath Mat - A ...\n",
       "1140479    Honeywell QuietSet 16\" Stand Fan w/LED Control...\n",
       "388966     These pot holders are the perfect accessory fo...\n",
       "789773     Be fashionable and with this room-darkening, e...\n",
       "Name: description, dtype: object"
      ]
     },
     "execution_count": 43,
     "metadata": {},
     "output_type": "execute_result"
    }
   ],
   "source": [
    "full_texts = some_products['description'].fillna('').apply(lambda x: BeautifulSoup(x).get_text())\n",
    "full_texts.sample(n=10)"
   ]
  },
  {
   "cell_type": "code",
   "execution_count": 3,
   "metadata": {},
   "outputs": [
    {
     "name": "stdout",
     "output_type": "stream",
     "text": [
      "DDDOWNLOADINGGG https://huggingface.co/bert-large-cased/resolve/main/vocab.txt\n",
      "DDDOWNLOADINGGG https://huggingface.co/bert-large-cased/resolve/main/config.json\n"
     ]
    },
    {
     "name": "stderr",
     "output_type": "stream",
     "text": [
      "Some weights of the model checkpoint at bert-large-cased were not used when initializing BertModel: ['cls.predictions.bias', 'cls.predictions.decoder.weight', 'cls.seq_relationship.bias', 'cls.predictions.transform.LayerNorm.weight', 'cls.seq_relationship.weight', 'cls.predictions.transform.LayerNorm.bias', 'cls.predictions.transform.dense.bias', 'cls.predictions.transform.dense.weight']\n",
      "- This IS expected if you are initializing BertModel from the checkpoint of a model trained on another task or with another architecture (e.g. initializing a BertForSequenceClassification model from a BertForPreTraining model).\n",
      "- This IS NOT expected if you are initializing BertModel from the checkpoint of a model that you expect to be exactly identical (initializing a BertForSequenceClassification model from a BertForSequenceClassification model).\n",
      "100%|██████████| 38.5k/38.5k [25:42<00:00, 25.0product/s] \n"
     ]
    }
   ],
   "source": [
    "from importlib import reload\n",
    "reload(feature_extraction_text)\n",
    "\n",
    "extracted_bert_features = feature_extraction_text.extract_bert_text_features(some_products)"
   ]
  },
  {
   "cell_type": "code",
   "execution_count": 4,
   "metadata": {},
   "outputs": [],
   "source": [
    "np.savez_compressed(\n",
    "    amazon_dataset.BASE_DATA_FOLDER / f'{dataset}_bert_features.npz',\n",
    "    **extracted_bert_features\n",
    ")"
   ]
  },
  {
   "cell_type": "code",
   "execution_count": 5,
   "metadata": {},
   "outputs": [
    {
     "name": "stderr",
     "output_type": "stream",
     "text": [
      "100%|██████████| 38.5k/38.5k [02:45<00:00, 232product/s]\n"
     ]
    }
   ],
   "source": [
    "extacted_clip_features = feature_extraction_text.extract_clip_text_features(\n",
    "    some_products\n",
    ")"
   ]
  },
  {
   "cell_type": "code",
   "execution_count": 6,
   "metadata": {},
   "outputs": [],
   "source": [
    "np.savez_compressed(\n",
    "    amazon_dataset.BASE_DATA_FOLDER / f'{dataset}_cliptext_features.npz',\n",
    "    **extacted_clip_features\n",
    ")"
   ]
  }
 ],
 "metadata": {
  "kernelspec": {
   "display_name": ".venv",
   "language": "python",
   "name": "python3"
  },
  "language_info": {
   "codemirror_mode": {
    "name": "ipython",
    "version": 3
   },
   "file_extension": ".py",
   "mimetype": "text/x-python",
   "name": "python",
   "nbconvert_exporter": "python",
   "pygments_lexer": "ipython3",
   "version": "3.8.16"
  },
  "orig_nbformat": 4,
  "vscode": {
   "interpreter": {
    "hash": "4c22d1444aa3f68a820bd00264b529de9aca8b813336c5d71bda95dadce90fbf"
   }
  }
 },
 "nbformat": 4,
 "nbformat_minor": 2
}
