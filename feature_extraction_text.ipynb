{
 "cells": [
  {
   "cell_type": "code",
   "execution_count": 1,
   "metadata": {},
   "outputs": [],
   "source": [
    "import amazon_dataset\n",
    "import movielens_dataset\n",
    "import feature_extraction_text\n",
    "\n",
    "import numpy as np"
   ]
  },
  {
   "attachments": {},
   "cell_type": "markdown",
   "metadata": {},
   "source": [
    "For Amazon Dataset"
   ]
  },
  {
   "cell_type": "code",
   "execution_count": 9,
   "metadata": {},
   "outputs": [
    {
     "data": {
      "text/html": [
       "<div>\n",
       "<style scoped>\n",
       "    .dataframe tbody tr th:only-of-type {\n",
       "        vertical-align: middle;\n",
       "    }\n",
       "\n",
       "    .dataframe tbody tr th {\n",
       "        vertical-align: top;\n",
       "    }\n",
       "\n",
       "    .dataframe thead th {\n",
       "        text-align: right;\n",
       "    }\n",
       "</style>\n",
       "<table border=\"1\" class=\"dataframe\">\n",
       "  <thead>\n",
       "    <tr style=\"text-align: right;\">\n",
       "      <th></th>\n",
       "      <th>asin</th>\n",
       "      <th>description</th>\n",
       "      <th>title</th>\n",
       "      <th>brand</th>\n",
       "      <th>main_cat</th>\n",
       "      <th>rank</th>\n",
       "      <th>price</th>\n",
       "      <th>image_slug</th>\n",
       "      <th>image_url</th>\n",
       "      <th>feature</th>\n",
       "      <th>category</th>\n",
       "      <th>tech_detail</th>\n",
       "      <th>item_id</th>\n",
       "    </tr>\n",
       "    <tr>\n",
       "      <th>id</th>\n",
       "      <th></th>\n",
       "      <th></th>\n",
       "      <th></th>\n",
       "      <th></th>\n",
       "      <th></th>\n",
       "      <th></th>\n",
       "      <th></th>\n",
       "      <th></th>\n",
       "      <th></th>\n",
       "      <th></th>\n",
       "      <th></th>\n",
       "      <th></th>\n",
       "      <th></th>\n",
       "    </tr>\n",
       "  </thead>\n",
       "  <tbody>\n",
       "    <tr>\n",
       "      <th>115884</th>\n",
       "      <td>B01CX858RG</td>\n",
       "      <td></td>\n",
       "      <td>Tibetan Singing Bowl Set ~ Buddha Figure Desig...</td>\n",
       "      <td>Maha Bodhi</td>\n",
       "      <td>Musical Instruments</td>\n",
       "      <td>&gt;#25,159 in Musical Instruments (See Top 100 i...</td>\n",
       "      <td>$7.99</td>\n",
       "      <td>[41MtLYQwgrL]</td>\n",
       "      <td>[https://m.media-amazon.com/images/I/41MtLYQwg...</td>\n",
       "      <td>[HANDCRAFTED: Handcrafted and Hand Hammered ma...</td>\n",
       "      <td>[Musical Instruments, Drums &amp; Percussion, Hand...</td>\n",
       "      <td>None</td>\n",
       "      <td>B01CX858RG</td>\n",
       "    </tr>\n",
       "    <tr>\n",
       "      <th>88225</th>\n",
       "      <td>B00K87GKOA</td>\n",
       "      <td>The Snapz Acoustic Guitar Bridge Pin Puller us...</td>\n",
       "      <td>BIGROCK INNOVATIONS SNAPZ Acoustic Guitar Brid...</td>\n",
       "      <td>BigRock Innovations</td>\n",
       "      <td>Musical Instruments</td>\n",
       "      <td>&gt;#26,512 in Musical Instruments (See Top 100 i...</td>\n",
       "      <td>$8.95</td>\n",
       "      <td>[41Phve6OcEL]</td>\n",
       "      <td>[https://images-na.ssl-images-amazon.com/image...</td>\n",
       "      <td>[PATENT PENDING TECHNOLOGY: The Snapz Acoustic...</td>\n",
       "      <td>[Musical Instruments, Instrument Accessories, ...</td>\n",
       "      <td>None</td>\n",
       "      <td>B00K87GKOA</td>\n",
       "    </tr>\n",
       "    <tr>\n",
       "      <th>674</th>\n",
       "      <td>B0000WS6QI</td>\n",
       "      <td>CLARITY AND COMFORT FOR THE MODERN DJ One plac...</td>\n",
       "      <td>Numark HF125 | On-Ear DJ Headphones</td>\n",
       "      <td>Numark</td>\n",
       "      <td>Musical Instruments</td>\n",
       "      <td>&gt;#7,591 in Musical Instruments (See Top 100 in...</td>\n",
       "      <td>$1.96</td>\n",
       "      <td>[41n2TafLIUL]</td>\n",
       "      <td>[https://m.media-amazon.com/images/I/41n2TafLI...</td>\n",
       "      <td>[Flexible 7-position independently adjustable ...</td>\n",
       "      <td>[Musical Instruments, Electronic Music, DJ &amp; K...</td>\n",
       "      <td>None</td>\n",
       "      <td>B0000WS6QI</td>\n",
       "    </tr>\n",
       "  </tbody>\n",
       "</table>\n",
       "</div>"
      ],
      "text/plain": [
       "              asin                                        description  \\\n",
       "id                                                                      \n",
       "115884  B01CX858RG                                                      \n",
       "88225   B00K87GKOA  The Snapz Acoustic Guitar Bridge Pin Puller us...   \n",
       "674     B0000WS6QI  CLARITY AND COMFORT FOR THE MODERN DJ One plac...   \n",
       "\n",
       "                                                    title  \\\n",
       "id                                                          \n",
       "115884  Tibetan Singing Bowl Set ~ Buddha Figure Desig...   \n",
       "88225   BIGROCK INNOVATIONS SNAPZ Acoustic Guitar Brid...   \n",
       "674                   Numark HF125 | On-Ear DJ Headphones   \n",
       "\n",
       "                      brand             main_cat  \\\n",
       "id                                                 \n",
       "115884           Maha Bodhi  Musical Instruments   \n",
       "88225   BigRock Innovations  Musical Instruments   \n",
       "674                  Numark  Musical Instruments   \n",
       "\n",
       "                                                     rank  price  \\\n",
       "id                                                                 \n",
       "115884  >#25,159 in Musical Instruments (See Top 100 i...  $7.99   \n",
       "88225   >#26,512 in Musical Instruments (See Top 100 i...  $8.95   \n",
       "674     >#7,591 in Musical Instruments (See Top 100 in...  $1.96   \n",
       "\n",
       "           image_slug                                          image_url  \\\n",
       "id                                                                         \n",
       "115884  [41MtLYQwgrL]  [https://m.media-amazon.com/images/I/41MtLYQwg...   \n",
       "88225   [41Phve6OcEL]  [https://images-na.ssl-images-amazon.com/image...   \n",
       "674     [41n2TafLIUL]  [https://m.media-amazon.com/images/I/41n2TafLI...   \n",
       "\n",
       "                                                  feature  \\\n",
       "id                                                          \n",
       "115884  [HANDCRAFTED: Handcrafted and Hand Hammered ma...   \n",
       "88225   [PATENT PENDING TECHNOLOGY: The Snapz Acoustic...   \n",
       "674     [Flexible 7-position independently adjustable ...   \n",
       "\n",
       "                                                 category tech_detail  \\\n",
       "id                                                                      \n",
       "115884  [Musical Instruments, Drums & Percussion, Hand...        None   \n",
       "88225   [Musical Instruments, Instrument Accessories, ...        None   \n",
       "674     [Musical Instruments, Electronic Music, DJ & K...        None   \n",
       "\n",
       "           item_id  \n",
       "id                  \n",
       "115884  B01CX858RG  \n",
       "88225   B00K87GKOA  \n",
       "674     B0000WS6QI  "
      ]
     },
     "execution_count": 9,
     "metadata": {},
     "output_type": "execute_result"
    }
   ],
   "source": [
    "dataset = 'Musical_Instruments'\n",
    "items = amazon_dataset.items_df(dataset)\n",
    "items.sample(n=3)\n"
   ]
  },
  {
   "cell_type": "code",
   "execution_count": null,
   "metadata": {},
   "outputs": [],
   "source": [
    "extracted_bert_features = feature_extraction_text.extract_bert_text_features(items)"
   ]
  },
  {
   "cell_type": "code",
   "execution_count": 10,
   "metadata": {},
   "outputs": [],
   "source": [
    "np.savez_compressed(\n",
    "    amazon_dataset.BASE_DATA_FOLDER / f'{dataset}_bert_features.npz',\n",
    "    **extracted_bert_features\n",
    ")"
   ]
  },
  {
   "cell_type": "code",
   "execution_count": null,
   "metadata": {},
   "outputs": [],
   "source": [
    "extacted_clip_features = feature_extraction_text.extract_clip_text_features(\n",
    "    items\n",
    ")"
   ]
  },
  {
   "cell_type": "code",
   "execution_count": 12,
   "metadata": {},
   "outputs": [],
   "source": [
    "np.savez_compressed(\n",
    "    amazon_dataset.BASE_DATA_FOLDER / f'{dataset}_cliptext_features.npz',\n",
    "    **extacted_clip_features\n",
    ")"
   ]
  },
  {
   "attachments": {},
   "cell_type": "markdown",
   "metadata": {},
   "source": [
    "For the Movielens dataset"
   ]
  },
  {
   "cell_type": "code",
   "execution_count": 2,
   "metadata": {},
   "outputs": [
    {
     "data": {
      "text/html": [
       "<div>\n",
       "<style scoped>\n",
       "    .dataframe tbody tr th:only-of-type {\n",
       "        vertical-align: middle;\n",
       "    }\n",
       "\n",
       "    .dataframe tbody tr th {\n",
       "        vertical-align: top;\n",
       "    }\n",
       "\n",
       "    .dataframe thead th {\n",
       "        text-align: right;\n",
       "    }\n",
       "</style>\n",
       "<table border=\"1\" class=\"dataframe\">\n",
       "  <thead>\n",
       "    <tr style=\"text-align: right;\">\n",
       "      <th></th>\n",
       "      <th>movie_id</th>\n",
       "      <th>title</th>\n",
       "      <th>genres</th>\n",
       "      <th>year</th>\n",
       "      <th>original_title</th>\n",
       "      <th>imdb_id</th>\n",
       "      <th>synopsis</th>\n",
       "      <th>description</th>\n",
       "      <th>image_url</th>\n",
       "      <th>item_id</th>\n",
       "    </tr>\n",
       "  </thead>\n",
       "  <tbody>\n",
       "    <tr>\n",
       "      <th>1297</th>\n",
       "      <td>1317</td>\n",
       "      <td>I'm Not Rappaport</td>\n",
       "      <td>[Comedy]</td>\n",
       "      <td>1996</td>\n",
       "      <td>NaN</td>\n",
       "      <td>116601</td>\n",
       "      <td>None</td>\n",
       "      <td>Two old men - a white former radical, and a bl...</td>\n",
       "      <td>https://m.media-amazon.com/images/M/MV5BZmQ2Nj...</td>\n",
       "      <td>1317</td>\n",
       "    </tr>\n",
       "    <tr>\n",
       "      <th>345</th>\n",
       "      <td>349</td>\n",
       "      <td>Clear and Present Danger</td>\n",
       "      <td>[Action, Adventure, Thriller]</td>\n",
       "      <td>1994</td>\n",
       "      <td>NaN</td>\n",
       "      <td>109444</td>\n",
       "      <td>An aggrieved first term President implicitly (...</td>\n",
       "      <td>CIA Analyst Jack Ryan is drawn into an illegal...</td>\n",
       "      <td>https://m.media-amazon.com/images/M/MV5BM2NlMT...</td>\n",
       "      <td>349</td>\n",
       "    </tr>\n",
       "    <tr>\n",
       "      <th>536</th>\n",
       "      <td>540</td>\n",
       "      <td>Sliver</td>\n",
       "      <td>[Thriller]</td>\n",
       "      <td>1993</td>\n",
       "      <td>NaN</td>\n",
       "      <td>108162</td>\n",
       "      <td>None</td>\n",
       "      <td>A woman moves into an exclusive New York City ...</td>\n",
       "      <td>https://m.media-amazon.com/images/M/MV5BYWM4NT...</td>\n",
       "      <td>540</td>\n",
       "    </tr>\n",
       "  </tbody>\n",
       "</table>\n",
       "</div>"
      ],
      "text/plain": [
       "      movie_id                      title                         genres  \\\n",
       "1297      1317         I'm Not Rappaport                        [Comedy]   \n",
       "345        349  Clear and Present Danger   [Action, Adventure, Thriller]   \n",
       "536        540                    Sliver                      [Thriller]   \n",
       "\n",
       "      year original_title  imdb_id  \\\n",
       "1297  1996            NaN   116601   \n",
       "345   1994            NaN   109444   \n",
       "536   1993            NaN   108162   \n",
       "\n",
       "                                               synopsis  \\\n",
       "1297                                               None   \n",
       "345   An aggrieved first term President implicitly (...   \n",
       "536                                                None   \n",
       "\n",
       "                                            description  \\\n",
       "1297  Two old men - a white former radical, and a bl...   \n",
       "345   CIA Analyst Jack Ryan is drawn into an illegal...   \n",
       "536   A woman moves into an exclusive New York City ...   \n",
       "\n",
       "                                              image_url item_id  \n",
       "1297  https://m.media-amazon.com/images/M/MV5BZmQ2Nj...    1317  \n",
       "345   https://m.media-amazon.com/images/M/MV5BM2NlMT...     349  \n",
       "536   https://m.media-amazon.com/images/M/MV5BYWM4NT...     540  "
      ]
     },
     "execution_count": 2,
     "metadata": {},
     "output_type": "execute_result"
    }
   ],
   "source": [
    "items = movielens_dataset.items_df()\n",
    "items.sample(n=3)"
   ]
  },
  {
   "cell_type": "code",
   "execution_count": 14,
   "metadata": {},
   "outputs": [
    {
     "name": "stderr",
     "output_type": "stream",
     "text": [
      "Some weights of the model checkpoint at bert-large-cased were not used when initializing BertModel: ['cls.predictions.transform.dense.weight', 'cls.predictions.transform.LayerNorm.weight', 'cls.seq_relationship.bias', 'cls.predictions.transform.LayerNorm.bias', 'cls.predictions.decoder.weight', 'cls.predictions.transform.dense.bias', 'cls.seq_relationship.weight', 'cls.predictions.bias']\n",
      "- This IS expected if you are initializing BertModel from the checkpoint of a model trained on another task or with another architecture (e.g. initializing a BertForSequenceClassification model from a BertForPreTraining model).\n",
      "- This IS NOT expected if you are initializing BertModel from the checkpoint of a model that you expect to be exactly identical (initializing a BertForSequenceClassification model from a BertForSequenceClassification model).\n",
      "  0%|          | 0.00/3.88k [00:00<?, ?item/s]/home/igui/src/VBPR/feature_extraction_text.py:69: GuessedAtParserWarning: No parser was explicitly specified, so I'm using the best available HTML parser for this system (\"html.parser\"). This usually isn't a problem, but if you run this code on another system, or in a different virtual environment, it may use a different parser and behave differently.\n",
      "\n",
      "The code that caused this warning is on line 69 of the file /home/igui/src/VBPR/feature_extraction_text.py. To get rid of this warning, pass the additional argument 'features=\"html.parser\"' to the BeautifulSoup constructor.\n",
      "\n",
      "  full_texts = df['title'].fillna('') + ' ' +  df['description'].fillna('').apply(lambda x: BeautifulSoup(x).get_text())\n",
      "  1%|▏         | 52.0/3.88k [00:00<01:05, 58.1item/s]/home/igui/src/VBPR/.venv/lib/python3.8/site-packages/bs4/__init__.py:435: MarkupResemblesLocatorWarning: The input looks more like a filename than markup. You may want to open this file and pass the filehandle into Beautiful Soup.\n",
      "  warnings.warn(\n",
      "100%|██████████| 3.88k/3.88k [01:07<00:00, 57.6item/s]\n"
     ]
    }
   ],
   "source": [
    "extracted_bert_features = feature_extraction_text.extract_bert_text_features(items)"
   ]
  },
  {
   "cell_type": "code",
   "execution_count": null,
   "metadata": {},
   "outputs": [],
   "source": [
    "np.savez_compressed(\n",
    "    movielens_dataset.BASE_DATA_FOLDER / f'ml-1m_bert_features.npz',\n",
    "    **extracted_bert_features\n",
    ")"
   ]
  },
  {
   "cell_type": "code",
   "execution_count": 3,
   "metadata": {},
   "outputs": [
    {
     "name": "stderr",
     "output_type": "stream",
     "text": [
      "  1%|          | 40.0/3.88k [00:00<00:37, 101product/s] /home/igui/src/VBPR/.venv/lib/python3.8/site-packages/bs4/__init__.py:435: MarkupResemblesLocatorWarning: The input looks more like a filename than markup. You may want to open this file and pass the filehandle into Beautiful Soup.\n",
      "  warnings.warn(\n",
      "100%|██████████| 3.88k/3.88k [00:18<00:00, 206product/s]\n"
     ]
    }
   ],
   "source": [
    "from importlib import reload\n",
    "reload(feature_extraction_text)\n",
    "extacted_clip_features = feature_extraction_text.extract_clip_text_features(\n",
    "    items\n",
    ")"
   ]
  },
  {
   "cell_type": "code",
   "execution_count": 4,
   "metadata": {},
   "outputs": [],
   "source": [
    "np.savez_compressed(\n",
    "    movielens_dataset.BASE_DATA_FOLDER / f'ml-1m_cliptext_features.npz',\n",
    "    **extacted_clip_features\n",
    ")"
   ]
  }
 ],
 "metadata": {
  "kernelspec": {
   "display_name": ".venv",
   "language": "python",
   "name": "python3"
  },
  "language_info": {
   "codemirror_mode": {
    "name": "ipython",
    "version": 3
   },
   "file_extension": ".py",
   "mimetype": "text/x-python",
   "name": "python",
   "nbconvert_exporter": "python",
   "pygments_lexer": "ipython3",
   "version": "3.8.16"
  },
  "orig_nbformat": 4,
  "vscode": {
   "interpreter": {
    "hash": "4c22d1444aa3f68a820bd00264b529de9aca8b813336c5d71bda95dadce90fbf"
   }
  }
 },
 "nbformat": 4,
 "nbformat_minor": 2
}
