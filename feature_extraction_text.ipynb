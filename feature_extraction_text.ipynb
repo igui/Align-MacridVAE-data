{
 "cells": [
  {
   "cell_type": "code",
   "execution_count": 14,
   "metadata": {},
   "outputs": [],
   "source": [
    "import amazon_dataset\n",
    "import movielens_dataset\n",
    "import feature_extraction_text\n",
    "\n",
    "import numpy as np"
   ]
  },
  {
   "attachments": {},
   "cell_type": "markdown",
   "metadata": {},
   "source": [
    "# For Amazon Dataset"
   ]
  },
  {
   "cell_type": "code",
   "execution_count": 16,
   "metadata": {},
   "outputs": [
    {
     "data": {
      "text/html": [
       "<div>\n",
       "<style scoped>\n",
       "    .dataframe tbody tr th:only-of-type {\n",
       "        vertical-align: middle;\n",
       "    }\n",
       "\n",
       "    .dataframe tbody tr th {\n",
       "        vertical-align: top;\n",
       "    }\n",
       "\n",
       "    .dataframe thead th {\n",
       "        text-align: right;\n",
       "    }\n",
       "</style>\n",
       "<table border=\"1\" class=\"dataframe\">\n",
       "  <thead>\n",
       "    <tr style=\"text-align: right;\">\n",
       "      <th></th>\n",
       "      <th>asin</th>\n",
       "      <th>description</th>\n",
       "      <th>title</th>\n",
       "      <th>brand</th>\n",
       "      <th>main_cat</th>\n",
       "      <th>rank</th>\n",
       "      <th>price</th>\n",
       "      <th>image_slug</th>\n",
       "      <th>image_url</th>\n",
       "      <th>feature</th>\n",
       "      <th>category</th>\n",
       "      <th>tech_detail</th>\n",
       "      <th>item_id</th>\n",
       "    </tr>\n",
       "    <tr>\n",
       "      <th>id</th>\n",
       "      <th></th>\n",
       "      <th></th>\n",
       "      <th></th>\n",
       "      <th></th>\n",
       "      <th></th>\n",
       "      <th></th>\n",
       "      <th></th>\n",
       "      <th></th>\n",
       "      <th></th>\n",
       "      <th></th>\n",
       "      <th></th>\n",
       "      <th></th>\n",
       "      <th></th>\n",
       "    </tr>\n",
       "  </thead>\n",
       "  <tbody>\n",
       "    <tr>\n",
       "      <th>39291</th>\n",
       "      <td>B0001L11MO</td>\n",
       "      <td>With a stellar ensemble cast this is one famil...</td>\n",
       "      <td>You Can Thank Me Later</td>\n",
       "      <td>Amanda Plummer</td>\n",
       "      <td>Movies &amp; TV</td>\n",
       "      <td>442,908 in Movies &amp; TV (</td>\n",
       "      <td></td>\n",
       "      <td>[213MQAF85IL]</td>\n",
       "      <td>[https://m.media-amazon.com/images/I/213MQAF85...</td>\n",
       "      <td>[]</td>\n",
       "      <td>[Movies &amp; TV, Movies]</td>\n",
       "      <td>None</td>\n",
       "      <td>B0001L11MO</td>\n",
       "    </tr>\n",
       "    <tr>\n",
       "      <th>13254</th>\n",
       "      <td>6304154143</td>\n",
       "      <td>This is Tom Bakers 24th adventure of Doctor Wh...</td>\n",
       "      <td>Doctor Who - The Ribos Operation VHS</td>\n",
       "      <td>William Hartnell</td>\n",
       "      <td>Movies &amp; TV</td>\n",
       "      <td>364,202 in Movies &amp; TV (</td>\n",
       "      <td>$9.94</td>\n",
       "      <td>[511RPDJNKRL]</td>\n",
       "      <td>[https://m.media-amazon.com/images/I/511RPDJNK...</td>\n",
       "      <td>[]</td>\n",
       "      <td>[Movies &amp; TV, Studio Specials, 20th Century Fo...</td>\n",
       "      <td>None</td>\n",
       "      <td>6304154143</td>\n",
       "    </tr>\n",
       "    <tr>\n",
       "      <th>188639</th>\n",
       "      <td>B00NU30YF0</td>\n",
       "      <td>United Kingdom released, PAL/Region 2.4 DVD: i...</td>\n",
       "      <td>The Passing Bells NON-USA FORMAT, PAL, Reg.2.4...</td>\n",
       "      <td>Patrick Gibson</td>\n",
       "      <td>Movies &amp; TV</td>\n",
       "      <td>94,920 in Movies &amp; TV (</td>\n",
       "      <td>$27.95</td>\n",
       "      <td>[51onSkBx0yL]</td>\n",
       "      <td>[https://m.media-amazon.com/images/I/51onSkBx0...</td>\n",
       "      <td>[]</td>\n",
       "      <td>[Movies &amp; TV, BBC, All BBC Titles]</td>\n",
       "      <td>None</td>\n",
       "      <td>B00NU30YF0</td>\n",
       "    </tr>\n",
       "  </tbody>\n",
       "</table>\n",
       "</div>"
      ],
      "text/plain": [
       "              asin                                        description  \\\n",
       "id                                                                      \n",
       "39291   B0001L11MO  With a stellar ensemble cast this is one famil...   \n",
       "13254   6304154143  This is Tom Bakers 24th adventure of Doctor Wh...   \n",
       "188639  B00NU30YF0  United Kingdom released, PAL/Region 2.4 DVD: i...   \n",
       "\n",
       "                                                    title             brand  \\\n",
       "id                                                                            \n",
       "39291                              You Can Thank Me Later    Amanda Plummer   \n",
       "13254                Doctor Who - The Ribos Operation VHS  William Hartnell   \n",
       "188639  The Passing Bells NON-USA FORMAT, PAL, Reg.2.4...    Patrick Gibson   \n",
       "\n",
       "           main_cat                      rank   price     image_slug  \\\n",
       "id                                                                     \n",
       "39291   Movies & TV  442,908 in Movies & TV (          [213MQAF85IL]   \n",
       "13254   Movies & TV  364,202 in Movies & TV (   $9.94  [511RPDJNKRL]   \n",
       "188639  Movies & TV   94,920 in Movies & TV (  $27.95  [51onSkBx0yL]   \n",
       "\n",
       "                                                image_url feature  \\\n",
       "id                                                                  \n",
       "39291   [https://m.media-amazon.com/images/I/213MQAF85...      []   \n",
       "13254   [https://m.media-amazon.com/images/I/511RPDJNK...      []   \n",
       "188639  [https://m.media-amazon.com/images/I/51onSkBx0...      []   \n",
       "\n",
       "                                                 category tech_detail  \\\n",
       "id                                                                      \n",
       "39291                               [Movies & TV, Movies]        None   \n",
       "13254   [Movies & TV, Studio Specials, 20th Century Fo...        None   \n",
       "188639                 [Movies & TV, BBC, All BBC Titles]        None   \n",
       "\n",
       "           item_id  \n",
       "id                  \n",
       "39291   B0001L11MO  \n",
       "13254   6304154143  \n",
       "188639  B00NU30YF0  "
      ]
     },
     "execution_count": 16,
     "metadata": {},
     "output_type": "execute_result"
    }
   ],
   "source": [
    "dataset = 'Movies_and_TV'\n",
    "items = amazon_dataset.items_df(dataset)\n",
    "items.sample(n=3)\n"
   ]
  },
  {
   "cell_type": "code",
   "execution_count": 17,
   "metadata": {},
   "outputs": [
    {
     "name": "stderr",
     "output_type": "stream",
     "text": [
      "Some weights of the model checkpoint at bert-large-cased were not used when initializing BertModel: ['cls.seq_relationship.weight', 'cls.seq_relationship.bias', 'cls.predictions.transform.LayerNorm.weight', 'cls.predictions.bias', 'cls.predictions.transform.LayerNorm.bias', 'cls.predictions.transform.dense.bias', 'cls.predictions.transform.dense.weight', 'cls.predictions.decoder.weight']\n",
      "- This IS expected if you are initializing BertModel from the checkpoint of a model trained on another task or with another architecture (e.g. initializing a BertForSequenceClassification model from a BertForPreTraining model).\n",
      "- This IS NOT expected if you are initializing BertModel from the checkpoint of a model that you expect to be exactly identical (initializing a BertForSequenceClassification model from a BertForSequenceClassification model).\n",
      "100%|██████████| 23.9k/23.9k [04:40<00:00, 85.2item/s]\n"
     ]
    }
   ],
   "source": [
    "extracted_bert_features = feature_extraction_text.extract_bert_text_features(items)"
   ]
  },
  {
   "cell_type": "code",
   "execution_count": 18,
   "metadata": {},
   "outputs": [],
   "source": [
    "np.savez_compressed(\n",
    "    amazon_dataset.BASE_DATA_FOLDER / f'{dataset}_bert_features.npz',\n",
    "    **extracted_bert_features\n",
    ")"
   ]
  },
  {
   "cell_type": "code",
   "execution_count": 19,
   "metadata": {},
   "outputs": [
    {
     "name": "stderr",
     "output_type": "stream",
     "text": [
      "100%|██████████| 23.9k/23.9k [01:54<00:00, 208product/s]\n"
     ]
    }
   ],
   "source": [
    "extacted_clip_features = feature_extraction_text.extract_clip_text_features(\n",
    "    items\n",
    ")"
   ]
  },
  {
   "cell_type": "code",
   "execution_count": 21,
   "metadata": {},
   "outputs": [],
   "source": [
    "np.savez_compressed(\n",
    "    amazon_dataset.BASE_DATA_FOLDER / f'{dataset}_cliptext_features.npz',\n",
    "    **extacted_clip_features\n",
    ")"
   ]
  },
  {
   "attachments": {},
   "cell_type": "markdown",
   "metadata": {},
   "source": [
    "# For the Movielens dataset"
   ]
  },
  {
   "cell_type": "code",
   "execution_count": 9,
   "metadata": {},
   "outputs": [
    {
     "data": {
      "text/html": [
       "<div>\n",
       "<style scoped>\n",
       "    .dataframe tbody tr th:only-of-type {\n",
       "        vertical-align: middle;\n",
       "    }\n",
       "\n",
       "    .dataframe tbody tr th {\n",
       "        vertical-align: top;\n",
       "    }\n",
       "\n",
       "    .dataframe thead th {\n",
       "        text-align: right;\n",
       "    }\n",
       "</style>\n",
       "<table border=\"1\" class=\"dataframe\">\n",
       "  <thead>\n",
       "    <tr style=\"text-align: right;\">\n",
       "      <th></th>\n",
       "      <th>title</th>\n",
       "      <th>genres</th>\n",
       "      <th>year</th>\n",
       "      <th>original_title</th>\n",
       "      <th>imdb_id</th>\n",
       "      <th>synopsis</th>\n",
       "      <th>summary</th>\n",
       "      <th>image_url</th>\n",
       "      <th>description</th>\n",
       "      <th>item_id</th>\n",
       "      <th>image_slug</th>\n",
       "    </tr>\n",
       "    <tr>\n",
       "      <th>movie_id</th>\n",
       "      <th></th>\n",
       "      <th></th>\n",
       "      <th></th>\n",
       "      <th></th>\n",
       "      <th></th>\n",
       "      <th></th>\n",
       "      <th></th>\n",
       "      <th></th>\n",
       "      <th></th>\n",
       "      <th></th>\n",
       "      <th></th>\n",
       "    </tr>\n",
       "  </thead>\n",
       "  <tbody>\n",
       "    <tr>\n",
       "      <th>2959</th>\n",
       "      <td>Fight Club</td>\n",
       "      <td>[Drama]</td>\n",
       "      <td>1999</td>\n",
       "      <td>NaN</td>\n",
       "      <td>tt0137523</td>\n",
       "      <td>We back out of the webbing of neurons and brai...</td>\n",
       "      <td>An insomniac office worker and a devil-may-car...</td>\n",
       "      <td>https://m.media-amazon.com/images/M/MV5BNDIzND...</td>\n",
       "      <td>An insomniac office worker and a devil-may-car...</td>\n",
       "      <td>2959</td>\n",
       "      <td>[2959]</td>\n",
       "    </tr>\n",
       "    <tr>\n",
       "      <th>2159</th>\n",
       "      <td>Henry: Portrait of a Serial Killer</td>\n",
       "      <td>[Crime, Horror]</td>\n",
       "      <td>1990</td>\n",
       "      <td>NaN</td>\n",
       "      <td>tt0099763</td>\n",
       "      <td>In the opening shot, a naked and bloody dead w...</td>\n",
       "      <td>Arriving in Chicago, Henry moves in with ex-co...</td>\n",
       "      <td>https://m.media-amazon.com/images/M/MV5BM2VjMD...</td>\n",
       "      <td>Arriving in Chicago, Henry moves in with ex-co...</td>\n",
       "      <td>2159</td>\n",
       "      <td>[2159]</td>\n",
       "    </tr>\n",
       "    <tr>\n",
       "      <th>80</th>\n",
       "      <td>White Balloon, The (Badkonake Sefid )</td>\n",
       "      <td>[Drama]</td>\n",
       "      <td>1995</td>\n",
       "      <td>NaN</td>\n",
       "      <td>tt0112445</td>\n",
       "      <td>It is the eve of the Iranian New Year. The fil...</td>\n",
       "      <td>Several people try to help a little girl to fi...</td>\n",
       "      <td>https://m.media-amazon.com/images/M/MV5BN2QzOT...</td>\n",
       "      <td>Several people try to help a little girl to fi...</td>\n",
       "      <td>80</td>\n",
       "      <td>[80]</td>\n",
       "    </tr>\n",
       "  </tbody>\n",
       "</table>\n",
       "</div>"
      ],
      "text/plain": [
       "                                           title           genres  year  \\\n",
       "movie_id                                                                  \n",
       "2959                                 Fight Club           [Drama]  1999   \n",
       "2159         Henry: Portrait of a Serial Killer   [Crime, Horror]  1990   \n",
       "80        White Balloon, The (Badkonake Sefid )           [Drama]  1995   \n",
       "\n",
       "         original_title    imdb_id  \\\n",
       "movie_id                             \n",
       "2959                NaN  tt0137523   \n",
       "2159                NaN  tt0099763   \n",
       "80                  NaN  tt0112445   \n",
       "\n",
       "                                                   synopsis  \\\n",
       "movie_id                                                      \n",
       "2959      We back out of the webbing of neurons and brai...   \n",
       "2159      In the opening shot, a naked and bloody dead w...   \n",
       "80        It is the eve of the Iranian New Year. The fil...   \n",
       "\n",
       "                                                    summary  \\\n",
       "movie_id                                                      \n",
       "2959      An insomniac office worker and a devil-may-car...   \n",
       "2159      Arriving in Chicago, Henry moves in with ex-co...   \n",
       "80        Several people try to help a little girl to fi...   \n",
       "\n",
       "                                                  image_url  \\\n",
       "movie_id                                                      \n",
       "2959      https://m.media-amazon.com/images/M/MV5BNDIzND...   \n",
       "2159      https://m.media-amazon.com/images/M/MV5BM2VjMD...   \n",
       "80        https://m.media-amazon.com/images/M/MV5BN2QzOT...   \n",
       "\n",
       "                                                description item_id image_slug  \n",
       "movie_id                                                                        \n",
       "2959      An insomniac office worker and a devil-may-car...    2959     [2959]  \n",
       "2159      Arriving in Chicago, Henry moves in with ex-co...    2159     [2159]  \n",
       "80        Several people try to help a little girl to fi...      80       [80]  "
      ]
     },
     "execution_count": 9,
     "metadata": {},
     "output_type": "execute_result"
    }
   ],
   "source": [
    "dataset = 'ml-1m'\n",
    "items = movielens_dataset.items_df(dataset)\n",
    "items.sample(n=3)"
   ]
  },
  {
   "cell_type": "code",
   "execution_count": 10,
   "metadata": {},
   "outputs": [
    {
     "name": "stderr",
     "output_type": "stream",
     "text": [
      "Some weights of the model checkpoint at bert-large-cased were not used when initializing BertModel: ['cls.seq_relationship.weight', 'cls.seq_relationship.bias', 'cls.predictions.transform.LayerNorm.weight', 'cls.predictions.bias', 'cls.predictions.transform.LayerNorm.bias', 'cls.predictions.transform.dense.bias', 'cls.predictions.transform.dense.weight', 'cls.predictions.decoder.weight']\n",
      "- This IS expected if you are initializing BertModel from the checkpoint of a model trained on another task or with another architecture (e.g. initializing a BertForSequenceClassification model from a BertForPreTraining model).\n",
      "- This IS NOT expected if you are initializing BertModel from the checkpoint of a model that you expect to be exactly identical (initializing a BertForSequenceClassification model from a BertForSequenceClassification model).\n",
      "100%|██████████| 3.88k/3.88k [00:42<00:00, 90.8item/s]\n"
     ]
    }
   ],
   "source": [
    "extracted_bert_features = feature_extraction_text.extract_bert_text_features(items)"
   ]
  },
  {
   "cell_type": "code",
   "execution_count": 11,
   "metadata": {},
   "outputs": [],
   "source": [
    "np.savez_compressed(\n",
    "    movielens_dataset.BASE_DATA_FOLDER / f'{dataset}_bert_features.npz',\n",
    "    **extracted_bert_features\n",
    ")"
   ]
  },
  {
   "cell_type": "code",
   "execution_count": 12,
   "metadata": {},
   "outputs": [
    {
     "name": "stderr",
     "output_type": "stream",
     "text": [
      "100%|██████████| 3.88k/3.88k [00:18<00:00, 210product/s]\n"
     ]
    }
   ],
   "source": [
    "extacted_clip_features = feature_extraction_text.extract_clip_text_features(\n",
    "    items\n",
    ")"
   ]
  },
  {
   "cell_type": "code",
   "execution_count": 13,
   "metadata": {},
   "outputs": [],
   "source": [
    "np.savez_compressed(\n",
    "    movielens_dataset.BASE_DATA_FOLDER / f'{dataset}_cliptext_features.npz',\n",
    "    **extacted_clip_features\n",
    ")"
   ]
  }
 ],
 "metadata": {
  "kernelspec": {
   "display_name": ".venv",
   "language": "python",
   "name": "python3"
  },
  "language_info": {
   "codemirror_mode": {
    "name": "ipython",
    "version": 3
   },
   "file_extension": ".py",
   "mimetype": "text/x-python",
   "name": "python",
   "nbconvert_exporter": "python",
   "pygments_lexer": "ipython3",
   "version": "3.8.16"
  },
  "orig_nbformat": 4,
  "vscode": {
   "interpreter": {
    "hash": "4c22d1444aa3f68a820bd00264b529de9aca8b813336c5d71bda95dadce90fbf"
   }
  }
 },
 "nbformat": 4,
 "nbformat_minor": 2
}
