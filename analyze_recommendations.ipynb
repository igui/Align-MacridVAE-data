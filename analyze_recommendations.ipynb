{
 "cells": [
  {
   "cell_type": "code",
   "execution_count": 3,
   "metadata": {},
   "outputs": [],
   "source": [
    "import os\n",
    "from pathlib import Path\n",
    "from typing import Tuple\n",
    "\n",
    "import numpy as np\n",
    "import numpy.typing as npt\n",
    "import openai\n",
    "import pandas as pd\n",
    "from numpy.typing import NDArray\n",
    "from scipy import sparse\n",
    "\n",
    "import amazon_dataset\n",
    "\n",
    "# Check if the paths are corresponding to the same dataset!!!\n",
    "#DATASET = 'Clothing_Shoes_and_Jewelry'\n",
    "DATASET = 'Movies_and_TV'\n",
    "SEMMACRID_RES_PATH = Path(f'data/semmacrid-run/amazon-movies-DisenEVAE-50E-100B-0.001L-0.0001W-0.5D-0.2b-7k-200d-0.1t-98765s/eval.npz')\n",
    "#DMRL_RES_PATH = Path(f'data/{DATASET}/best_scores_dmrl.npz')\n",
    "\n",
    "\n",
    "TRAIN_PATH = Path(f'data/{DATASET}/train.txt')\n",
    "TEST_PATH = Path(f'data/{DATASET}/test.txt')\n",
    "ITEMS_PATH = Path(f'data/{DATASET}/items.txt')\n",
    "USERS_PATH = Path(f'data/{DATASET}/users.txt')\n",
    "\n",
    "#assert DMRL_RES_PATH.exists(), f'{DMRL_RES_PATH} does not exist'\n",
    "assert SEMMACRID_RES_PATH.exists(), f'{SEMMACRID_RES_PATH} does not exist'\n",
    "assert TRAIN_PATH.exists(), f'{TRAIN_PATH} does not exist'\n",
    "assert TEST_PATH.exists(), f'{TEST_PATH} does not exist'\n",
    "assert ITEMS_PATH.exists(), f'{ITEMS_PATH} does not exist'\n",
    "assert USERS_PATH.exists(), f'{USERS_PATH} does not exist'\n",
    "assert 'OPENAI_APIKEY' in os.environ"
   ]
  },
  {
   "attachments": {},
   "cell_type": "markdown",
   "metadata": {},
   "source": [
    "#  Load all data"
   ]
  },
  {
   "cell_type": "code",
   "execution_count": 3,
   "metadata": {},
   "outputs": [
    {
     "data": {
      "text/plain": [
       "(23318, 38493)"
      ]
     },
     "execution_count": 3,
     "metadata": {},
     "output_type": "execute_result"
    }
   ],
   "source": [
    "dmrl_results: NDArray[np.floating] = np.vstack(next(iter(np.load(DMRL_RES_PATH, allow_pickle=True).values())))\n",
    "dmrl_results.shape"
   ]
  },
  {
   "cell_type": "code",
   "execution_count": 4,
   "metadata": {},
   "outputs": [
    {
     "data": {
      "text/plain": [
       "(21974, 23958)"
      ]
     },
     "execution_count": 4,
     "metadata": {},
     "output_type": "execute_result"
    }
   ],
   "source": [
    "sem_macrid_results: NDArray[np.floating] = next(iter(np.load(SEMMACRID_RES_PATH, allow_pickle=True).values()))\n",
    "sem_macrid_results.shape"
   ]
  },
  {
   "cell_type": "code",
   "execution_count": 5,
   "metadata": {},
   "outputs": [],
   "source": [
    "assert sem_macrid_results.shape == dmrl_results.shape"
   ]
  },
  {
   "attachments": {},
   "cell_type": "markdown",
   "metadata": {},
   "source": [
    "Get users"
   ]
  },
  {
   "cell_type": "code",
   "execution_count": 5,
   "metadata": {},
   "outputs": [
    {
     "data": {
      "text/html": [
       "<div>\n",
       "<style scoped>\n",
       "    .dataframe tbody tr th:only-of-type {\n",
       "        vertical-align: middle;\n",
       "    }\n",
       "\n",
       "    .dataframe tbody tr th {\n",
       "        vertical-align: top;\n",
       "    }\n",
       "\n",
       "    .dataframe thead th {\n",
       "        text-align: right;\n",
       "    }\n",
       "</style>\n",
       "<table border=\"1\" class=\"dataframe\">\n",
       "  <thead>\n",
       "    <tr style=\"text-align: right;\">\n",
       "      <th></th>\n",
       "      <th>Unnamed: 0</th>\n",
       "      <th>0</th>\n",
       "    </tr>\n",
       "  </thead>\n",
       "  <tbody>\n",
       "    <tr>\n",
       "      <th>0</th>\n",
       "      <td>A1MB7I0VC5L7P3</td>\n",
       "      <td>0</td>\n",
       "    </tr>\n",
       "    <tr>\n",
       "      <th>1</th>\n",
       "      <td>A2TPW076Q0EXLE</td>\n",
       "      <td>1</td>\n",
       "    </tr>\n",
       "    <tr>\n",
       "      <th>2</th>\n",
       "      <td>AT1PIN6WA88V9</td>\n",
       "      <td>2</td>\n",
       "    </tr>\n",
       "    <tr>\n",
       "      <th>3</th>\n",
       "      <td>A3NGCB9QQMM9SM</td>\n",
       "      <td>3</td>\n",
       "    </tr>\n",
       "    <tr>\n",
       "      <th>4</th>\n",
       "      <td>A19ELFMMKB83HC</td>\n",
       "      <td>4</td>\n",
       "    </tr>\n",
       "    <tr>\n",
       "      <th>...</th>\n",
       "      <td>...</td>\n",
       "      <td>...</td>\n",
       "    </tr>\n",
       "    <tr>\n",
       "      <th>21969</th>\n",
       "      <td>A2O9FHBZ34B5U5</td>\n",
       "      <td>21969</td>\n",
       "    </tr>\n",
       "    <tr>\n",
       "      <th>21970</th>\n",
       "      <td>ARX5VIQRPMX4B</td>\n",
       "      <td>21970</td>\n",
       "    </tr>\n",
       "    <tr>\n",
       "      <th>21971</th>\n",
       "      <td>A2EQ95QDK0PQCG</td>\n",
       "      <td>21971</td>\n",
       "    </tr>\n",
       "    <tr>\n",
       "      <th>21972</th>\n",
       "      <td>A1PV5TW2LP04YU</td>\n",
       "      <td>21972</td>\n",
       "    </tr>\n",
       "    <tr>\n",
       "      <th>21973</th>\n",
       "      <td>ASPZIB8XL7WAJ</td>\n",
       "      <td>21973</td>\n",
       "    </tr>\n",
       "  </tbody>\n",
       "</table>\n",
       "<p>21974 rows × 2 columns</p>\n",
       "</div>"
      ],
      "text/plain": [
       "           Unnamed: 0      0\n",
       "0      A1MB7I0VC5L7P3      0\n",
       "1      A2TPW076Q0EXLE      1\n",
       "2       AT1PIN6WA88V9      2\n",
       "3      A3NGCB9QQMM9SM      3\n",
       "4      A19ELFMMKB83HC      4\n",
       "...               ...    ...\n",
       "21969  A2O9FHBZ34B5U5  21969\n",
       "21970   ARX5VIQRPMX4B  21970\n",
       "21971  A2EQ95QDK0PQCG  21971\n",
       "21972  A1PV5TW2LP04YU  21972\n",
       "21973   ASPZIB8XL7WAJ  21973\n",
       "\n",
       "[21974 rows x 2 columns]"
      ]
     },
     "execution_count": 5,
     "metadata": {},
     "output_type": "execute_result"
    }
   ],
   "source": [
    "users = pd.read_csv(USERS_PATH)\n",
    "assert len(users) == sem_macrid_results.shape[0]\n",
    "users"
   ]
  },
  {
   "attachments": {},
   "cell_type": "markdown",
   "metadata": {},
   "source": [
    "Get items"
   ]
  },
  {
   "cell_type": "code",
   "execution_count": 6,
   "metadata": {},
   "outputs": [
    {
     "data": {
      "text/html": [
       "<div>\n",
       "<style scoped>\n",
       "    .dataframe tbody tr th:only-of-type {\n",
       "        vertical-align: middle;\n",
       "    }\n",
       "\n",
       "    .dataframe tbody tr th {\n",
       "        vertical-align: top;\n",
       "    }\n",
       "\n",
       "    .dataframe thead th {\n",
       "        text-align: right;\n",
       "    }\n",
       "</style>\n",
       "<table border=\"1\" class=\"dataframe\">\n",
       "  <thead>\n",
       "    <tr style=\"text-align: right;\">\n",
       "      <th></th>\n",
       "      <th>item_id</th>\n",
       "    </tr>\n",
       "  </thead>\n",
       "  <tbody>\n",
       "    <tr>\n",
       "      <th>B000E6ES94</th>\n",
       "      <td>0</td>\n",
       "    </tr>\n",
       "    <tr>\n",
       "      <th>B000PC6YTY</th>\n",
       "      <td>1</td>\n",
       "    </tr>\n",
       "    <tr>\n",
       "      <th>6303934870</th>\n",
       "      <td>2</td>\n",
       "    </tr>\n",
       "    <tr>\n",
       "      <th>B0024FADA6</th>\n",
       "      <td>3</td>\n",
       "    </tr>\n",
       "    <tr>\n",
       "      <th>6305926794</th>\n",
       "      <td>4</td>\n",
       "    </tr>\n",
       "    <tr>\n",
       "      <th>...</th>\n",
       "      <td>...</td>\n",
       "    </tr>\n",
       "    <tr>\n",
       "      <th>B00YPNIK5U</th>\n",
       "      <td>23953</td>\n",
       "    </tr>\n",
       "    <tr>\n",
       "      <th>B001AOC9G8</th>\n",
       "      <td>23954</td>\n",
       "    </tr>\n",
       "    <tr>\n",
       "      <th>B00SWFMCHO</th>\n",
       "      <td>23955</td>\n",
       "    </tr>\n",
       "    <tr>\n",
       "      <th>B00005JPI6</th>\n",
       "      <td>23956</td>\n",
       "    </tr>\n",
       "    <tr>\n",
       "      <th>B000UJ48QS</th>\n",
       "      <td>23957</td>\n",
       "    </tr>\n",
       "  </tbody>\n",
       "</table>\n",
       "<p>23958 rows × 1 columns</p>\n",
       "</div>"
      ],
      "text/plain": [
       "            item_id\n",
       "B000E6ES94        0\n",
       "B000PC6YTY        1\n",
       "6303934870        2\n",
       "B0024FADA6        3\n",
       "6305926794        4\n",
       "...             ...\n",
       "B00YPNIK5U    23953\n",
       "B001AOC9G8    23954\n",
       "B00SWFMCHO    23955\n",
       "B00005JPI6    23956\n",
       "B000UJ48QS    23957\n",
       "\n",
       "[23958 rows x 1 columns]"
      ]
     },
     "execution_count": 6,
     "metadata": {},
     "output_type": "execute_result"
    }
   ],
   "source": [
    "items = pd.read_csv(ITEMS_PATH, index_col=0)\n",
    "assert len(items) == sem_macrid_results.shape[1]\n",
    "items"
   ]
  },
  {
   "cell_type": "code",
   "execution_count": 7,
   "metadata": {},
   "outputs": [],
   "source": [
    "def load_interaction_matrix(file: Path, shape: Tuple[int, int]) -> sparse.csr_matrix:\n",
    "    df = pd.read_csv(file)\n",
    "    return sparse.csr_matrix(\n",
    "        (np.ones_like(df['user']), (df['user'], df['item'])),\n",
    "        shape=shape,\n",
    "        dtype=float\n",
    "    )\n",
    "\n",
    "\n",
    "train = load_interaction_matrix(TRAIN_PATH, (len(users), len(items)))\n",
    "test = load_interaction_matrix(TEST_PATH, (len(users), len(items)))"
   ]
  },
  {
   "attachments": {},
   "cell_type": "markdown",
   "metadata": {},
   "source": [
    "# Analyze results"
   ]
  },
  {
   "attachments": {},
   "cell_type": "markdown",
   "metadata": {},
   "source": [
    "Let's make the trained data to be zero "
   ]
  },
  {
   "cell_type": "code",
   "execution_count": 8,
   "metadata": {},
   "outputs": [],
   "source": [
    "#dmrl_results[train.nonzero()] = -np.inf\n",
    "sem_macrid_results[train.nonzero()] = -np.inf"
   ]
  },
  {
   "attachments": {},
   "cell_type": "markdown",
   "metadata": {},
   "source": [
    "Analyze how they agree in the top 5 results"
   ]
  },
  {
   "cell_type": "code",
   "execution_count": 9,
   "metadata": {},
   "outputs": [],
   "source": [
    "k = 5\n",
    "\n",
    "#best_dmrl = dmrl_results.argpartition(kth=-k, axis=1)[:, -k:]\n",
    "best_sem_macridvae = sem_macrid_results.argpartition(kth=-k, axis=1)[:, -k:]"
   ]
  },
  {
   "attachments": {},
   "cell_type": "markdown",
   "metadata": {},
   "source": [
    "# Get metrics"
   ]
  },
  {
   "cell_type": "code",
   "execution_count": 12,
   "metadata": {},
   "outputs": [
    {
     "name": "stdout",
     "output_type": "stream",
     "text": [
      "NDCG@5:      0.203675\n",
      "Recall@5:    0.240542\n",
      "MAP:         0.190090\n"
     ]
    }
   ],
   "source": [
    "def get_top_k_items(x: npt.NDArray, k: int) -> npt.NDArray:\n",
    "    # Best indexes without sorting\n",
    "    best_indices = np.argpartition(x, axis=1, kth=-k)[:, -k:]\n",
    "\n",
    "    # Best scores sorted in ascending order\n",
    "    best_values = np.take_along_axis(x, best_indices, axis=1)\n",
    "\n",
    "    # Best indices in descending order (from best_best_values)\n",
    "    best_values_idxs = np.argsort(best_values, axis=1)[:,-1:-k-1:-1]\n",
    "\n",
    "    # Now, we have the best indices in descending order\n",
    "    return np.take_along_axis(best_indices, best_values_idxs, axis=1)\n",
    "\n",
    "def ndcg_at_k(scores: npt.NDArray, test: sparse.csr_matrix, k: int) -> float:\n",
    "    assert scores.shape == test.shape\n",
    "    best_scores = get_top_k_items(scores, k)\n",
    "    \n",
    "    test = test > 0\n",
    "    num_positives = np.minimum(k, test.sum(axis=1)).astype(np.int32)\n",
    "    \n",
    "    rows = np.indices(best_scores.shape)[0]\n",
    "    denominator = np.log2(np.arange(2, k + 2))\n",
    "    \n",
    "    idcg = np.cumsum(1 / denominator)[np.maximum(num_positives - 1, 0)]\n",
    "    \n",
    "    dcg = np.sum(test[rows, best_scores] / denominator, axis=1)\n",
    "\n",
    "    ndcg = dcg / idcg\n",
    "    return ndcg\n",
    "\n",
    "def recall_at_k(scores: npt.NDArray, test: sparse.csr_matrix, k: int) -> float:\n",
    "    assert scores.shape == test.shape\n",
    "    best_scores = get_top_k_items(scores, k)\n",
    "    \n",
    "    test = test > 0\n",
    "    num_positives = np.minimum(k, test.sum(axis=1)).astype(np.int32)\n",
    "    \n",
    "    rows = np.indices(best_scores.shape)[0]\n",
    "    recall = np.sum(test[rows, best_scores], axis=1) / num_positives\n",
    "    return recall\n",
    "\n",
    "def precision_at_k(scores: npt.NDArray, test: sparse.csr_matrix, k: int) -> float:\n",
    "    assert scores.shape == test.shape\n",
    "    best_scores = get_top_k_items(scores, k)\n",
    "    \n",
    "    test = test > 0\n",
    "    \n",
    "    rows = np.indices(best_scores.shape)[0]\n",
    "    precision = np.sum(test[rows, best_scores], axis=1) / k\n",
    "    return precision\n",
    "\n",
    "def average_precision(scores: npt.NDArray, test: sparse.csr_matrix) -> float:\n",
    "    assert scores.shape == test.shape\n",
    "    \n",
    "    test = test > 0\n",
    "    num_positives = np.asarray(test.sum(axis=1).astype(np.int32)).reshape(-1)\n",
    "    \n",
    "    k = num_positives.max()\n",
    "    best_scores = get_top_k_items(scores, k)\n",
    "    \n",
    "    rows = np.indices(best_scores.shape)[0]\n",
    "    labels = test[rows, best_scores].toarray()\n",
    "    \n",
    "    true_positives_at_k = np.cumsum(labels, axis=1)\n",
    "    precisions_at_k  = true_positives_at_k / np.arange(1, k+1)\n",
    "    return (precisions_at_k * labels).sum(axis=1) / num_positives\n",
    "\n",
    "\n",
    "print(f'NDCG@5:      {ndcg_at_k(dmrl_results, test, 5).mean():.6f}')\n",
    "print(f'Recall@5:    {recall_at_k(dmrl_results, test, 5).mean():.6f}')\n",
    "print(f'MAP:         {average_precision(dmrl_results, test).mean():.6f}')\n"
   ]
  },
  {
   "cell_type": "code",
   "execution_count": 13,
   "metadata": {},
   "outputs": [],
   "source": [
    "def build_metrics(results_path: Path):\n",
    "    print(f'Loading results from {results_path}')\n",
    "    results = np.vstack(next(iter(np.load(results_path, allow_pickle=True).values())))\n",
    "    print(f'Computing metrics for {results_path}')\n",
    "    return {\n",
    "            'path': results_path.stem,\n",
    "            'ndcg@5': ndcg_at_k(results, test, 5).mean(),\n",
    "            'recall@5': recall_at_k(results, test, 5).mean(),\n",
    "            'map': average_precision(results, test).mean(),\n",
    "        }\n",
    "\n",
    "def build_results_matrix():\n",
    "    metrics = [\n",
    "        build_metrics(p) \n",
    "        for p in Path(f'data/{DATASET}').glob('best_scores_*.npz')\n",
    "    ]\n",
    "    return pd.DataFrame.from_records(metrics, index='path')\n",
    "\n",
    "# Uncomment because it takes long to compute\n",
    "# all_metrics = build_results_matrix()\n",
    "# all_metrics"
   ]
  },
  {
   "attachments": {},
   "cell_type": "markdown",
   "metadata": {},
   "source": [
    "Arrays are very memory intensive so we delete the original results"
   ]
  },
  {
   "cell_type": "code",
   "execution_count": 14,
   "metadata": {},
   "outputs": [
    {
     "data": {
      "text/plain": [
       "0"
      ]
     },
     "execution_count": 14,
     "metadata": {},
     "output_type": "execute_result"
    }
   ],
   "source": [
    "import gc\n",
    "del sem_macrid_results, dmrl_results\n",
    "gc.collect()"
   ]
  },
  {
   "cell_type": "code",
   "execution_count": 11,
   "metadata": {},
   "outputs": [
    {
     "ename": "NameError",
     "evalue": "name 'best_dmrl' is not defined",
     "output_type": "error",
     "traceback": [
      "\u001b[0;31m---------------------------------------------------------------------------\u001b[0m",
      "\u001b[0;31mNameError\u001b[0m                                 Traceback (most recent call last)",
      "Cell \u001b[0;32mIn[11], line 1\u001b[0m\n\u001b[0;32m----> 1\u001b[0m best_dmrl\n",
      "\u001b[0;31mNameError\u001b[0m: name 'best_dmrl' is not defined"
     ]
    }
   ],
   "source": [
    "best_dmrl"
   ]
  },
  {
   "cell_type": "code",
   "execution_count": 10,
   "metadata": {},
   "outputs": [
    {
     "data": {
      "text/plain": [
       "array([[19728, 12427, 21117,  9377,  4883],\n",
       "       [ 5066,  4883, 21117, 22245, 12427],\n",
       "       [ 5066, 22245,  4883, 14528,  1286],\n",
       "       ...,\n",
       "       [12427, 21117, 19360, 16556,  4297],\n",
       "       [ 8510,  9377,  9849, 20545,  8926],\n",
       "       [21117,  2067,  9377,  3087, 16861]])"
      ]
     },
     "execution_count": 10,
     "metadata": {},
     "output_type": "execute_result"
    }
   ],
   "source": [
    "best_sem_macridvae"
   ]
  },
  {
   "cell_type": "code",
   "execution_count": 12,
   "metadata": {},
   "outputs": [
    {
     "data": {
      "text/html": [
       "<div>\n",
       "<style scoped>\n",
       "    .dataframe tbody tr th:only-of-type {\n",
       "        vertical-align: middle;\n",
       "    }\n",
       "\n",
       "    .dataframe tbody tr th {\n",
       "        vertical-align: top;\n",
       "    }\n",
       "\n",
       "    .dataframe thead th {\n",
       "        text-align: right;\n",
       "    }\n",
       "</style>\n",
       "<table border=\"1\" class=\"dataframe\">\n",
       "  <thead>\n",
       "    <tr style=\"text-align: right;\">\n",
       "      <th></th>\n",
       "      <th>percentage</th>\n",
       "    </tr>\n",
       "  </thead>\n",
       "  <tbody>\n",
       "    <tr>\n",
       "      <th>21117</th>\n",
       "      <td>0.111759</td>\n",
       "    </tr>\n",
       "    <tr>\n",
       "      <th>4883</th>\n",
       "      <td>0.106790</td>\n",
       "    </tr>\n",
       "    <tr>\n",
       "      <th>12427</th>\n",
       "      <td>0.099854</td>\n",
       "    </tr>\n",
       "    <tr>\n",
       "      <th>22245</th>\n",
       "      <td>0.093911</td>\n",
       "    </tr>\n",
       "    <tr>\n",
       "      <th>9377</th>\n",
       "      <td>0.071494</td>\n",
       "    </tr>\n",
       "    <tr>\n",
       "      <th>16861</th>\n",
       "      <td>0.054564</td>\n",
       "    </tr>\n",
       "    <tr>\n",
       "      <th>3087</th>\n",
       "      <td>0.027687</td>\n",
       "    </tr>\n",
       "    <tr>\n",
       "      <th>1286</th>\n",
       "      <td>0.015946</td>\n",
       "    </tr>\n",
       "    <tr>\n",
       "      <th>3279</th>\n",
       "      <td>0.013989</td>\n",
       "    </tr>\n",
       "    <tr>\n",
       "      <th>5066</th>\n",
       "      <td>0.012442</td>\n",
       "    </tr>\n",
       "    <tr>\n",
       "      <th>23507</th>\n",
       "      <td>0.012069</td>\n",
       "    </tr>\n",
       "    <tr>\n",
       "      <th>6380</th>\n",
       "      <td>0.011186</td>\n",
       "    </tr>\n",
       "    <tr>\n",
       "      <th>20700</th>\n",
       "      <td>0.006881</td>\n",
       "    </tr>\n",
       "    <tr>\n",
       "      <th>13335</th>\n",
       "      <td>0.006025</td>\n",
       "    </tr>\n",
       "    <tr>\n",
       "      <th>4673</th>\n",
       "      <td>0.005770</td>\n",
       "    </tr>\n",
       "    <tr>\n",
       "      <th>8926</th>\n",
       "      <td>0.004487</td>\n",
       "    </tr>\n",
       "    <tr>\n",
       "      <th>12630</th>\n",
       "      <td>0.003868</td>\n",
       "    </tr>\n",
       "    <tr>\n",
       "      <th>1668</th>\n",
       "      <td>0.003713</td>\n",
       "    </tr>\n",
       "    <tr>\n",
       "      <th>17062</th>\n",
       "      <td>0.003632</td>\n",
       "    </tr>\n",
       "    <tr>\n",
       "      <th>234</th>\n",
       "      <td>0.003186</td>\n",
       "    </tr>\n",
       "  </tbody>\n",
       "</table>\n",
       "</div>"
      ],
      "text/plain": [
       "       percentage\n",
       "21117    0.111759\n",
       "4883     0.106790\n",
       "12427    0.099854\n",
       "22245    0.093911\n",
       "9377     0.071494\n",
       "16861    0.054564\n",
       "3087     0.027687\n",
       "1286     0.015946\n",
       "3279     0.013989\n",
       "5066     0.012442\n",
       "23507    0.012069\n",
       "6380     0.011186\n",
       "20700    0.006881\n",
       "13335    0.006025\n",
       "4673     0.005770\n",
       "8926     0.004487\n",
       "12630    0.003868\n",
       "1668     0.003713\n",
       "17062    0.003632\n",
       "234      0.003186"
      ]
     },
     "execution_count": 12,
     "metadata": {},
     "output_type": "execute_result"
    }
   ],
   "source": [
    "best_counts_semmacridvae = pd.Series(best_sem_macridvae.flatten()).value_counts(normalize=True).to_frame('percentage').head(20)\n",
    "best_counts_semmacridvae"
   ]
  },
  {
   "cell_type": "code",
   "execution_count": 13,
   "metadata": {},
   "outputs": [],
   "source": [
    "# best_counts_dmrl = pd.Series(best_dmrl.flatten()).value_counts(normalize=True).to_frame('percentage').head(20)\n",
    "# best_counts_dmrl"
   ]
  },
  {
   "attachments": {},
   "cell_type": "markdown",
   "metadata": {},
   "source": [
    "Top 20 items that counts as similar"
   ]
  },
  {
   "cell_type": "code",
   "execution_count": 22,
   "metadata": {},
   "outputs": [
    {
     "data": {
      "text/plain": [
       "{1235, 12593, 34043}"
      ]
     },
     "execution_count": 22,
     "metadata": {},
     "output_type": "execute_result"
    }
   ],
   "source": [
    "set(best_counts_dmrl.index) & set(best_counts_semmacridvae.index)"
   ]
  },
  {
   "cell_type": "code",
   "execution_count": 14,
   "metadata": {},
   "outputs": [
    {
     "data": {
      "text/html": [
       "<div>\n",
       "<style scoped>\n",
       "    .dataframe tbody tr th:only-of-type {\n",
       "        vertical-align: middle;\n",
       "    }\n",
       "\n",
       "    .dataframe tbody tr th {\n",
       "        vertical-align: top;\n",
       "    }\n",
       "\n",
       "    .dataframe thead th {\n",
       "        text-align: right;\n",
       "    }\n",
       "</style>\n",
       "<table border=\"1\" class=\"dataframe\">\n",
       "  <thead>\n",
       "    <tr style=\"text-align: right;\">\n",
       "      <th></th>\n",
       "      <th>asin</th>\n",
       "      <th>description</th>\n",
       "      <th>title</th>\n",
       "      <th>brand</th>\n",
       "      <th>main_cat</th>\n",
       "      <th>rank</th>\n",
       "      <th>price</th>\n",
       "      <th>image_slug</th>\n",
       "      <th>image_url</th>\n",
       "      <th>feature</th>\n",
       "      <th>category</th>\n",
       "      <th>tech_detail</th>\n",
       "    </tr>\n",
       "    <tr>\n",
       "      <th>id</th>\n",
       "      <th></th>\n",
       "      <th></th>\n",
       "      <th></th>\n",
       "      <th></th>\n",
       "      <th></th>\n",
       "      <th></th>\n",
       "      <th></th>\n",
       "      <th></th>\n",
       "      <th></th>\n",
       "      <th></th>\n",
       "      <th></th>\n",
       "      <th></th>\n",
       "    </tr>\n",
       "  </thead>\n",
       "  <tbody>\n",
       "    <tr>\n",
       "      <th>192789</th>\n",
       "      <td>B00U2F8H6W</td>\n",
       "      <td>UK Released DVD/Blu-Ray item. It MAY NOT play ...</td>\n",
       "      <td>Banished</td>\n",
       "      <td>Myanna Buring</td>\n",
       "      <td>Movies &amp; TV</td>\n",
       "      <td>123,498 in Movies &amp; TV (</td>\n",
       "      <td></td>\n",
       "      <td>[517f+M9WAKL]</td>\n",
       "      <td>[https://m.media-amazon.com/images/I/517f+M9WA...</td>\n",
       "      <td>[]</td>\n",
       "      <td>[Movies &amp; TV, Genre for Featured Categories, R...</td>\n",
       "      <td>None</td>\n",
       "    </tr>\n",
       "    <tr>\n",
       "      <th>192554</th>\n",
       "      <td>B00TPN7ET8</td>\n",
       "      <td>Who wants to hire a three-time loser? No One, ...</td>\n",
       "      <td>Big Shot, The</td>\n",
       "      <td>Humphrey Bogart</td>\n",
       "      <td>Movies &amp; TV</td>\n",
       "      <td>63,486 in Movies &amp; TV (</td>\n",
       "      <td>$15.31</td>\n",
       "      <td>[51mOQZgQxWL]</td>\n",
       "      <td>[https://m.media-amazon.com/images/I/51mOQZgQx...</td>\n",
       "      <td>[]</td>\n",
       "      <td>[Movies &amp; TV, Studio Specials, Warner Home Vid...</td>\n",
       "      <td>None</td>\n",
       "    </tr>\n",
       "    <tr>\n",
       "      <th>28892</th>\n",
       "      <td>B00005RYLA</td>\n",
       "      <td>In medieval Europe, crusading knights massacre...</td>\n",
       "      <td>The Church</td>\n",
       "      <td>Hugh Quarshie</td>\n",
       "      <td>Movies &amp; TV</td>\n",
       "      <td>141,054 in Movies &amp; TV (</td>\n",
       "      <td>$9.98</td>\n",
       "      <td>[51VVB94XZVL]</td>\n",
       "      <td>[https://m.media-amazon.com/images/I/51VVB94XZ...</td>\n",
       "      <td>[]</td>\n",
       "      <td>[Movies &amp; TV, Genre for Featured Categories, F...</td>\n",
       "      <td>None</td>\n",
       "    </tr>\n",
       "  </tbody>\n",
       "</table>\n",
       "</div>"
      ],
      "text/plain": [
       "              asin                                        description  \\\n",
       "id                                                                      \n",
       "192789  B00U2F8H6W  UK Released DVD/Blu-Ray item. It MAY NOT play ...   \n",
       "192554  B00TPN7ET8  Who wants to hire a three-time loser? No One, ...   \n",
       "28892   B00005RYLA  In medieval Europe, crusading knights massacre...   \n",
       "\n",
       "                title            brand     main_cat                      rank  \\\n",
       "id                                                                              \n",
       "192789       Banished    Myanna Buring  Movies & TV  123,498 in Movies & TV (   \n",
       "192554  Big Shot, The  Humphrey Bogart  Movies & TV   63,486 in Movies & TV (   \n",
       "28892      The Church    Hugh Quarshie  Movies & TV  141,054 in Movies & TV (   \n",
       "\n",
       "         price     image_slug  \\\n",
       "id                              \n",
       "192789          [517f+M9WAKL]   \n",
       "192554  $15.31  [51mOQZgQxWL]   \n",
       "28892    $9.98  [51VVB94XZVL]   \n",
       "\n",
       "                                                image_url feature  \\\n",
       "id                                                                  \n",
       "192789  [https://m.media-amazon.com/images/I/517f+M9WA...      []   \n",
       "192554  [https://m.media-amazon.com/images/I/51mOQZgQx...      []   \n",
       "28892   [https://m.media-amazon.com/images/I/51VVB94XZ...      []   \n",
       "\n",
       "                                                 category tech_detail  \n",
       "id                                                                     \n",
       "192789  [Movies & TV, Genre for Featured Categories, R...        None  \n",
       "192554  [Movies & TV, Studio Specials, Warner Home Vid...        None  \n",
       "28892   [Movies & TV, Genre for Featured Categories, F...        None  "
      ]
     },
     "execution_count": 14,
     "metadata": {},
     "output_type": "execute_result"
    }
   ],
   "source": [
    "products = amazon_dataset.products_df(DATASET)\n",
    "products.sample(n=3)"
   ]
  },
  {
   "cell_type": "code",
   "execution_count": 34,
   "metadata": {},
   "outputs": [
    {
     "name": "stdout",
     "output_type": "stream",
     "text": [
      "User ID 17249\n",
      "Items train\n",
      "---------\n",
      "                                                                     title                                                                                            category\n",
      "item_id                                                                                                                                                                       \n",
      "3266                                                                  Lucy  [Movies & TV, Studio Specials, Universal Studios Home Entertainment, All Universal Studios Titles]\n",
      "23948    Alien: Quadrilogy (Alien / Aliens / Alien 3 / Alien Resurrection)                [Movies & TV, Studio Specials, 20th Century Fox Home Entertainment, Action, General]\n",
      "2067                                                          The Revenant                                                                      [Movies & TV, Blu-ray, Movies]\n",
      "10395                                                Star Trek 4k Ultra HD                                     [Movies & TV, Paramount Home Entertainment, Action & Adventure]\n",
      "14908                                                                 Lucy  [Movies & TV, Studio Specials, Universal Studios Home Entertainment, All Universal Studios Titles]\n",
      "Items test\n",
      "---------\n",
      "                        title                                                                              category\n",
      "item_id                                                                                                            \n",
      "2551     Independence Day VHS  [Movies & TV, Studio Specials, 20th Century Fox Home Entertainment, Action, General]\n",
      "Items predicted\n",
      "---------\n",
      "                                                title                                                                            category\n",
      "item_id                                                                                                                                  \n",
      "9377                                        John Wick  [Movies & TV, Studio Specials, Lionsgate Home Entertainment, All Lionsgate Titles]\n",
      "4392                          Star Trek Into Darkness                                                      [Movies & TV, Blu-ray, Movies]\n",
      "12427    Harry Potter Collezione Completa (8 Blu-Ray)                           [Movies & TV, Characters & Series, Harry Potter, Blu-ray]\n",
      "23507                    Star Wars: The Force Awakens                [Movies & TV, Science Fiction & Fantasy, Science Fiction, Star Wars]\n",
      "21117       Harry Potter - Complete 8-Film Collection                       [Movies & TV, Studio Specials, Warner Home Video, All Titles]\n"
     ]
    }
   ],
   "source": [
    "def analyze_train_vs_predicted(best_results: npt.NDArray[np.floating]):\n",
    "    best_results_set = np.apply_along_axis(lambda x: set(x), axis=1, arr=best_results)\n",
    "\n",
    "    train_set = [set() for _ in range(train.shape[0])]\n",
    "    for user_id, product_id in zip(*train.nonzero()):\n",
    "        train_set[user_id].add(product_id)\n",
    "\n",
    "    test_set = [set() for _ in range(test.shape[0])]\n",
    "    for user_id, product_id in zip(*test.nonzero()):\n",
    "        test_set[user_id].add(product_id)\n",
    "    \n",
    "    sample = np.random.choice(len(train_set))\n",
    "    \n",
    "    products_by_item_id = items.join(products.set_index('asin')).set_index('item_id')\n",
    "\n",
    "    products_train = products_by_item_id.loc[list(train_set[sample] )]\n",
    "    products_test = products_by_item_id.loc[list(test_set[sample] )]\n",
    "    products_predicted = products_by_item_id.loc[list(best_results_set[sample] )]\n",
    "\n",
    "    with pd.option_context('expand_frame_repr', False), pd.option_context('display.max_colwidth', 800):\n",
    "        print('User ID', sample)\n",
    "        print('Items train')\n",
    "        print('---------')\n",
    "        print(products_train[['title', 'category']])\n",
    "        print('Items test')\n",
    "        print('---------')\n",
    "        print(products_test[['title', 'category']])\n",
    "        print('Items predicted')\n",
    "        print('---------')\n",
    "        print(products_predicted[['title', 'category']])\n",
    "\n",
    "        \n",
    "\n",
    "analyze_train_vs_predicted(best_sem_macridvae)"
   ]
  },
  {
   "attachments": {},
   "cell_type": "markdown",
   "metadata": {},
   "source": [
    "Analyze products duplication"
   ]
  },
  {
   "cell_type": "code",
   "execution_count": 170,
   "metadata": {},
   "outputs": [
    {
     "name": "stdout",
     "output_type": "stream",
     "text": [
      "Clothing_Shoes_and_Jewelry: 4.77%\n",
      "Movies_and_TV: 1.94%\n",
      "Home_and_Kitchen: 0.50%\n",
      "Musical_Instruments: 0.28%\n"
     ]
    }
   ],
   "source": [
    "import re\n",
    "import hashlib\n",
    "\n",
    "products = amazon_dataset.products_df('Clothing_Shoes_and_Jewelry')\n",
    "\n",
    "def gen_hash(s) -> str:\n",
    "    if s is None:\n",
    "        return '???'\n",
    "    \n",
    "    cleaned = re.sub(r'\\W+', '', s.lower().strip()).encode('ascii', errors='ignore')\n",
    "    md5hash = hashlib.md5()\n",
    "    md5hash.update(cleaned)\n",
    "    return md5hash.hexdigest()\n",
    "\n",
    "def analyze_dupicates():\n",
    "    for dataset in ['Clothing_Shoes_and_Jewelry', 'Movies_and_TV', 'Home_and_Kitchen', 'Musical_Instruments']:\n",
    "        products = amazon_dataset.products_df(dataset)\n",
    "        value_counts = products['title'].apply(lambda x: gen_hash(x)).value_counts()\n",
    "        duplicates = (value_counts > 1).sum() / len(value_counts)\n",
    "        print(f'{dataset}: {100*duplicates:.2f}%')\n",
    "\n",
    "analyze_dupicates()"
   ]
  },
  {
   "cell_type": "code",
   "execution_count": 91,
   "metadata": {},
   "outputs": [
    {
     "data": {
      "text/plain": [
       "18031    168\n",
       "38308    165\n",
       "26373    164\n",
       "3520     163\n",
       "8703     160\n",
       "34043    153\n",
       "28568    153\n",
       "10284    152\n",
       "6388     152\n",
       "5372     146\n",
       "1752     140\n",
       "12593    140\n",
       "13038    138\n",
       "23510    131\n",
       "33683    130\n",
       "307      123\n",
       "19838    118\n",
       "35166     91\n",
       "31411     82\n",
       "6536      78\n",
       "dtype: int64"
      ]
     },
     "execution_count": 91,
     "metadata": {},
     "output_type": "execute_result"
    }
   ],
   "source": [
    "pd.Series(np.asarray(test.sum(axis=0))[0].astype(int)).sort_values(ascending=False).head(20)"
   ]
  },
  {
   "cell_type": "code",
   "execution_count": 21,
   "metadata": {},
   "outputs": [
    {
     "data": {
      "text/plain": [
       "12593    617.0\n",
       "33683    598.0\n",
       "19838    590.0\n",
       "307      569.0\n",
       "10284    567.0\n",
       "         ...  \n",
       "31833      0.0\n",
       "8552       0.0\n",
       "8557       0.0\n",
       "8558       0.0\n",
       "21618      0.0\n",
       "Length: 38493, dtype: float64"
      ]
     },
     "execution_count": 21,
     "metadata": {},
     "output_type": "execute_result"
    }
   ],
   "source": [
    "pd.Series(train.sum(axis=0).tolist()[0]).sort_values(ascending=False)"
   ]
  },
  {
   "cell_type": "code",
   "execution_count": 72,
   "metadata": {},
   "outputs": [
    {
     "data": {
      "text/plain": [
       "Unnamed: 0    B0105V2DEY\n",
       "item_id                2\n",
       "Name: 2, dtype: object"
      ]
     },
     "execution_count": 72,
     "metadata": {},
     "output_type": "execute_result"
    }
   ],
   "source": [
    "items.iloc[2]"
   ]
  },
  {
   "attachments": {},
   "cell_type": "markdown",
   "metadata": {},
   "source": [
    "# Generate recommendation explanations"
   ]
  },
  {
   "cell_type": "code",
   "execution_count": 35,
   "metadata": {},
   "outputs": [
    {
     "data": {
      "text/plain": [
       "Index(['B00OV3VGP0'], dtype='object')"
      ]
     },
     "execution_count": 35,
     "metadata": {},
     "output_type": "execute_result"
    }
   ],
   "source": [
    "some_recommendations_itemids =  [9377]\n",
    "some_asins = items.loc[items['item_id'].isin(some_recommendations_itemids)].index\n",
    "some_asins"
   ]
  },
  {
   "cell_type": "code",
   "execution_count": 37,
   "metadata": {},
   "outputs": [
    {
     "data": {
      "text/html": [
       "<div>\n",
       "<style scoped>\n",
       "    .dataframe tbody tr th:only-of-type {\n",
       "        vertical-align: middle;\n",
       "    }\n",
       "\n",
       "    .dataframe tbody tr th {\n",
       "        vertical-align: top;\n",
       "    }\n",
       "\n",
       "    .dataframe thead th {\n",
       "        text-align: right;\n",
       "    }\n",
       "</style>\n",
       "<table border=\"1\" class=\"dataframe\">\n",
       "  <thead>\n",
       "    <tr style=\"text-align: right;\">\n",
       "      <th></th>\n",
       "      <th>id</th>\n",
       "      <th>asin</th>\n",
       "      <th>reviewerID</th>\n",
       "      <th>reviewerName</th>\n",
       "      <th>overall</th>\n",
       "      <th>text</th>\n",
       "      <th>reviewTime</th>\n",
       "      <th>summary</th>\n",
       "      <th>verified</th>\n",
       "      <th>vote</th>\n",
       "    </tr>\n",
       "  </thead>\n",
       "  <tbody>\n",
       "    <tr>\n",
       "      <th>5088</th>\n",
       "      <td>214084</td>\n",
       "      <td>6300165086</td>\n",
       "      <td>A2A1NGUGKPH5B0</td>\n",
       "      <td>Janice L Browning</td>\n",
       "      <td>5.0</td>\n",
       "      <td>Great movie.</td>\n",
       "      <td>2017-11-14</td>\n",
       "      <td>Five Stars</td>\n",
       "      <td>True</td>\n",
       "      <td>NaN</td>\n",
       "    </tr>\n",
       "    <tr>\n",
       "      <th>122284</th>\n",
       "      <td>7171234</td>\n",
       "      <td>B00XLX0Z62</td>\n",
       "      <td>AHXY8V6Q1J6X2</td>\n",
       "      <td>Robert Atkinson</td>\n",
       "      <td>5.0</td>\n",
       "      <td>Thanks</td>\n",
       "      <td>2017-06-12</td>\n",
       "      <td>Five Stars</td>\n",
       "      <td>True</td>\n",
       "      <td>NaN</td>\n",
       "    </tr>\n",
       "    <tr>\n",
       "      <th>90932</th>\n",
       "      <td>5529234</td>\n",
       "      <td>B00AZI9JP4</td>\n",
       "      <td>A31VRYWMDZW4HH</td>\n",
       "      <td>trlwnc</td>\n",
       "      <td>4.0</td>\n",
       "      <td>This is a neat movie about two young people falling in love. But think they can't. Along the way, they save a historic building and learn about their confusing past. Quite a fun punchline!</td>\n",
       "      <td>2017-03-23</td>\n",
       "      <td>... a neat movie about two young people falling in love. But think they can't</td>\n",
       "      <td>True</td>\n",
       "      <td>2.0</td>\n",
       "    </tr>\n",
       "  </tbody>\n",
       "</table>\n",
       "</div>"
      ],
      "text/plain": [
       "             id        asin      reviewerID       reviewerName  overall  \\\n",
       "5088     214084  6300165086  A2A1NGUGKPH5B0  Janice L Browning      5.0   \n",
       "122284  7171234  B00XLX0Z62   AHXY8V6Q1J6X2    Robert Atkinson      5.0   \n",
       "90932   5529234  B00AZI9JP4  A31VRYWMDZW4HH             trlwnc      4.0   \n",
       "\n",
       "                                                                                                                                                                                                text  \\\n",
       "5088                                                                                                                                                                                    Great movie.   \n",
       "122284                                                                                                                                                                                        Thanks   \n",
       "90932   This is a neat movie about two young people falling in love. But think they can't. Along the way, they save a historic building and learn about their confusing past. Quite a fun punchline!   \n",
       "\n",
       "        reviewTime  \\\n",
       "5088    2017-11-14   \n",
       "122284  2017-06-12   \n",
       "90932   2017-03-23   \n",
       "\n",
       "                                                                              summary  \\\n",
       "5088                                                                       Five Stars   \n",
       "122284                                                                     Five Stars   \n",
       "90932   ... a neat movie about two young people falling in love. But think they can't   \n",
       "\n",
       "        verified  vote  \n",
       "5088        True   NaN  \n",
       "122284      True   NaN  \n",
       "90932       True   2.0  "
      ]
     },
     "execution_count": 37,
     "metadata": {},
     "output_type": "execute_result"
    }
   ],
   "source": [
    "reviews = amazon_dataset.reviews_df(DATASET)\n",
    "reviews.sample(n=3)"
   ]
  },
  {
   "cell_type": "code",
   "execution_count": 38,
   "metadata": {},
   "outputs": [
    {
     "data": {
      "text/plain": [
       "id\n",
       "189488    John Wick\n",
       "Name: title, dtype: object"
      ]
     },
     "execution_count": 38,
     "metadata": {},
     "output_type": "execute_result"
    }
   ],
   "source": [
    "products.loc[products['asin'].isin(some_asins)]['title']"
   ]
  },
  {
   "cell_type": "code",
   "execution_count": 43,
   "metadata": {},
   "outputs": [
    {
     "name": "stdout",
     "output_type": "stream",
     "text": [
      "The item has the following comments about it:\n",
      "\n",
      "- Received on time and in tact. Disk worked fine and movie was great. I love it.\n",
      "- Well mounted production with lots of action, but to me the most interesting aspect was being immersed in the details of the bizarre criminal world that John had hoped to retire from.\n",
      "- Movie i like so i bought it\n",
      "- Fun thrilling movie.  Love the Hotel for Assassins.\n",
      "- John Wick 1 or 2, both great movies!!\n",
      "\n",
      "The suggestion for this item is:\n",
      "\n",
      "\n",
      "This is a must-watch for any action movie fan! John Wick 1 and 2 are both great movies, full of thrilling action and an immersive criminal world. The production is well mounted and the details are fascinating. Plus, you'll love the Hotel for Assassins!\n"
     ]
    }
   ],
   "source": [
    "def some_reviews_joined(reviews_df: pd.DataFrame, asins: pd.Series):\n",
    "    def is_long_enough(text: str):\n",
    "        if text is None:\n",
    "            return False\n",
    "        return len(text.split()) > 5\n",
    "\n",
    "    condition = (\n",
    "        reviews_df['asin'].isin(asins) & \n",
    "        (reviews_df['overall'] >= 4) & \n",
    "        (~reviews_df['text'].isna()) &\n",
    "        reviews_df['text'].apply(is_long_enough)\n",
    "    )\n",
    "    some_reviews = reviews.loc[condition]\n",
    "    some_review_texts = some_reviews['text'].sample(n=5).apply(lambda x: f'- {x}')\n",
    "    return \"\\n\".join(some_review_texts.to_list())\n",
    "\n",
    "def prompt_for_completion(reviews_df: pd.DataFrame, asins: pd.Series):\n",
    "    reviews_joined = some_reviews_joined(reviews_df, asins)\n",
    "    prefix = \"The item has the following comments about it\"\n",
    "    instruction = 'The suggestion for this item is:'\n",
    "    prompt = f\"{prefix}:\\n\\n{reviews_joined}\\n\\n{instruction}\\n\\n\"\n",
    "    print(prompt)\n",
    "    openai.api_key = os.getenv(\"OPENAI_APIKEY\")\n",
    "    response = openai.Completion.create(\n",
    "        model=\"text-davinci-003\",\n",
    "        prompt=prompt,\n",
    "        temperature=0,\n",
    "        max_tokens=60,\n",
    "        top_p=1,\n",
    "        frequency_penalty=0.5,\n",
    "        presence_penalty=0\n",
    "    )\n",
    "    choices = response[\"choices\"]\n",
    "    assert len(choices) == 1\n",
    "    return choices[0][\"text\"]\n",
    "\n",
    "print(prompt_for_completion(reviews, some_asins))"
   ]
  },
  {
   "cell_type": "code",
   "execution_count": null,
   "metadata": {},
   "outputs": [],
   "source": []
  }
 ],
 "metadata": {
  "kernelspec": {
   "display_name": ".venv",
   "language": "python",
   "name": "python3"
  },
  "language_info": {
   "codemirror_mode": {
    "name": "ipython",
    "version": 3
   },
   "file_extension": ".py",
   "mimetype": "text/x-python",
   "name": "python",
   "nbconvert_exporter": "python",
   "pygments_lexer": "ipython3",
   "version": "3.8.16"
  },
  "orig_nbformat": 4
 },
 "nbformat": 4,
 "nbformat_minor": 2
}
