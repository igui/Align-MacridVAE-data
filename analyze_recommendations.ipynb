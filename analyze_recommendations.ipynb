{
 "cells": [
  {
   "cell_type": "code",
   "execution_count": 1,
   "metadata": {},
   "outputs": [],
   "source": [
    "from pathlib import Path\n",
    "from typing import Tuple\n",
    "from numpy.typing import NDArray\n",
    "\n",
    "import amazon_dataset \n",
    "import numpy as np\n",
    "import pandas as pd\n",
    "from scipy import sparse\n",
    "\n",
    "DMRL_RES_PATH = Path('data/DMRL-Clothing_Shoes_and_Jewelry/best_scores.npz')\n",
    "SEMMACRID_RES_PATH = Path('data/SEM-MacridVAE-Clothing_Shoes_and_Jewelry-run/eval.npz')\n",
    "TRAIN_PATH = Path('data/DMRL-Clothing_Shoes_and_Jewelry/train.txt')\n",
    "TEST_PATH = Path('data/DMRL-Clothing_Shoes_and_Jewelry/test.txt')\n",
    "ITEMS_PATH = Path('data/DMRL-Clothing_Shoes_and_Jewelry/items.txt')\n",
    "USERS_PATH = Path('data/DMRL-Clothing_Shoes_and_Jewelry/users.txt')"
   ]
  },
  {
   "cell_type": "code",
   "execution_count": 2,
   "metadata": {},
   "outputs": [],
   "source": [
    "assert DMRL_RES_PATH.exists()\n",
    "assert SEMMACRID_RES_PATH.exists()\n",
    "assert TRAIN_PATH.exists()\n",
    "assert TEST_PATH.exists()\n",
    "assert ITEMS_PATH.exists()\n",
    "assert USERS_PATH.exists()"
   ]
  },
  {
   "attachments": {},
   "cell_type": "markdown",
   "metadata": {},
   "source": [
    "#  Load all data"
   ]
  },
  {
   "cell_type": "code",
   "execution_count": 3,
   "metadata": {},
   "outputs": [
    {
     "data": {
      "text/plain": [
       "(23318, 38493)"
      ]
     },
     "execution_count": 3,
     "metadata": {},
     "output_type": "execute_result"
    }
   ],
   "source": [
    "dmrl_results: NDArray[np.floating] = np.vstack(next(iter(np.load(DMRL_RES_PATH, allow_pickle=True).values())))\n",
    "dmrl_results.shape"
   ]
  },
  {
   "cell_type": "code",
   "execution_count": 4,
   "metadata": {},
   "outputs": [
    {
     "data": {
      "text/plain": [
       "(23318, 38493)"
      ]
     },
     "execution_count": 4,
     "metadata": {},
     "output_type": "execute_result"
    }
   ],
   "source": [
    "sem_macrid_results: NDArray[np.floating] = next(iter(np.load(SEMMACRID_RES_PATH, allow_pickle=True).values()))\n",
    "sem_macrid_results.shape"
   ]
  },
  {
   "cell_type": "code",
   "execution_count": 5,
   "metadata": {},
   "outputs": [],
   "source": [
    "assert sem_macrid_results.shape == dmrl_results.shape"
   ]
  },
  {
   "attachments": {},
   "cell_type": "markdown",
   "metadata": {},
   "source": [
    "Get users"
   ]
  },
  {
   "cell_type": "code",
   "execution_count": 6,
   "metadata": {},
   "outputs": [
    {
     "data": {
      "text/html": [
       "<div>\n",
       "<style scoped>\n",
       "    .dataframe tbody tr th:only-of-type {\n",
       "        vertical-align: middle;\n",
       "    }\n",
       "\n",
       "    .dataframe tbody tr th {\n",
       "        vertical-align: top;\n",
       "    }\n",
       "\n",
       "    .dataframe thead th {\n",
       "        text-align: right;\n",
       "    }\n",
       "</style>\n",
       "<table border=\"1\" class=\"dataframe\">\n",
       "  <thead>\n",
       "    <tr style=\"text-align: right;\">\n",
       "      <th></th>\n",
       "      <th>Unnamed: 0</th>\n",
       "      <th>0</th>\n",
       "    </tr>\n",
       "  </thead>\n",
       "  <tbody>\n",
       "    <tr>\n",
       "      <th>0</th>\n",
       "      <td>A30NKRF3KBGA06</td>\n",
       "      <td>0</td>\n",
       "    </tr>\n",
       "    <tr>\n",
       "      <th>1</th>\n",
       "      <td>AL0XGCBE6Z22M</td>\n",
       "      <td>1</td>\n",
       "    </tr>\n",
       "    <tr>\n",
       "      <th>2</th>\n",
       "      <td>AMT5LF0TKY67C</td>\n",
       "      <td>2</td>\n",
       "    </tr>\n",
       "    <tr>\n",
       "      <th>3</th>\n",
       "      <td>A2BY8EVXA3NRHD</td>\n",
       "      <td>3</td>\n",
       "    </tr>\n",
       "    <tr>\n",
       "      <th>4</th>\n",
       "      <td>AWE6KR1ELIYQ3</td>\n",
       "      <td>4</td>\n",
       "    </tr>\n",
       "    <tr>\n",
       "      <th>...</th>\n",
       "      <td>...</td>\n",
       "      <td>...</td>\n",
       "    </tr>\n",
       "    <tr>\n",
       "      <th>23313</th>\n",
       "      <td>A1MFBF49ZFMH2N</td>\n",
       "      <td>23313</td>\n",
       "    </tr>\n",
       "    <tr>\n",
       "      <th>23314</th>\n",
       "      <td>A36AF5I7D0VO8F</td>\n",
       "      <td>23314</td>\n",
       "    </tr>\n",
       "    <tr>\n",
       "      <th>23315</th>\n",
       "      <td>A35ZS7JT3G9B8</td>\n",
       "      <td>23315</td>\n",
       "    </tr>\n",
       "    <tr>\n",
       "      <th>23316</th>\n",
       "      <td>A3GC94SEKQI3QU</td>\n",
       "      <td>23316</td>\n",
       "    </tr>\n",
       "    <tr>\n",
       "      <th>23317</th>\n",
       "      <td>A185C12Y9XLYGY</td>\n",
       "      <td>23317</td>\n",
       "    </tr>\n",
       "  </tbody>\n",
       "</table>\n",
       "<p>23318 rows × 2 columns</p>\n",
       "</div>"
      ],
      "text/plain": [
       "           Unnamed: 0      0\n",
       "0      A30NKRF3KBGA06      0\n",
       "1       AL0XGCBE6Z22M      1\n",
       "2       AMT5LF0TKY67C      2\n",
       "3      A2BY8EVXA3NRHD      3\n",
       "4       AWE6KR1ELIYQ3      4\n",
       "...               ...    ...\n",
       "23313  A1MFBF49ZFMH2N  23313\n",
       "23314  A36AF5I7D0VO8F  23314\n",
       "23315   A35ZS7JT3G9B8  23315\n",
       "23316  A3GC94SEKQI3QU  23316\n",
       "23317  A185C12Y9XLYGY  23317\n",
       "\n",
       "[23318 rows x 2 columns]"
      ]
     },
     "execution_count": 6,
     "metadata": {},
     "output_type": "execute_result"
    }
   ],
   "source": [
    "users = pd.read_csv(USERS_PATH)\n",
    "assert len(users) == sem_macrid_results.shape[0]\n",
    "users"
   ]
  },
  {
   "attachments": {},
   "cell_type": "markdown",
   "metadata": {},
   "source": [
    "Get items"
   ]
  },
  {
   "cell_type": "code",
   "execution_count": 7,
   "metadata": {},
   "outputs": [
    {
     "data": {
      "text/html": [
       "<div>\n",
       "<style scoped>\n",
       "    .dataframe tbody tr th:only-of-type {\n",
       "        vertical-align: middle;\n",
       "    }\n",
       "\n",
       "    .dataframe tbody tr th {\n",
       "        vertical-align: top;\n",
       "    }\n",
       "\n",
       "    .dataframe thead th {\n",
       "        text-align: right;\n",
       "    }\n",
       "</style>\n",
       "<table border=\"1\" class=\"dataframe\">\n",
       "  <thead>\n",
       "    <tr style=\"text-align: right;\">\n",
       "      <th></th>\n",
       "      <th>Unnamed: 0</th>\n",
       "      <th>item_id</th>\n",
       "    </tr>\n",
       "  </thead>\n",
       "  <tbody>\n",
       "    <tr>\n",
       "      <th>0</th>\n",
       "      <td>B000B6AV7K</td>\n",
       "      <td>0</td>\n",
       "    </tr>\n",
       "    <tr>\n",
       "      <th>1</th>\n",
       "      <td>B0143D7EE4</td>\n",
       "      <td>1</td>\n",
       "    </tr>\n",
       "    <tr>\n",
       "      <th>2</th>\n",
       "      <td>B0105V2DEY</td>\n",
       "      <td>2</td>\n",
       "    </tr>\n",
       "    <tr>\n",
       "      <th>3</th>\n",
       "      <td>B014EY21H2</td>\n",
       "      <td>3</td>\n",
       "    </tr>\n",
       "    <tr>\n",
       "      <th>4</th>\n",
       "      <td>B005LUROIK</td>\n",
       "      <td>4</td>\n",
       "    </tr>\n",
       "    <tr>\n",
       "      <th>...</th>\n",
       "      <td>...</td>\n",
       "      <td>...</td>\n",
       "    </tr>\n",
       "    <tr>\n",
       "      <th>38488</th>\n",
       "      <td>B00A9R2P7A</td>\n",
       "      <td>38488</td>\n",
       "    </tr>\n",
       "    <tr>\n",
       "      <th>38489</th>\n",
       "      <td>B017HK485S</td>\n",
       "      <td>38489</td>\n",
       "    </tr>\n",
       "    <tr>\n",
       "      <th>38490</th>\n",
       "      <td>B008H7UKYY</td>\n",
       "      <td>38490</td>\n",
       "    </tr>\n",
       "    <tr>\n",
       "      <th>38491</th>\n",
       "      <td>B006K6PJTK</td>\n",
       "      <td>38491</td>\n",
       "    </tr>\n",
       "    <tr>\n",
       "      <th>38492</th>\n",
       "      <td>B01DUSBHZ0</td>\n",
       "      <td>38492</td>\n",
       "    </tr>\n",
       "  </tbody>\n",
       "</table>\n",
       "<p>38493 rows × 2 columns</p>\n",
       "</div>"
      ],
      "text/plain": [
       "       Unnamed: 0  item_id\n",
       "0      B000B6AV7K        0\n",
       "1      B0143D7EE4        1\n",
       "2      B0105V2DEY        2\n",
       "3      B014EY21H2        3\n",
       "4      B005LUROIK        4\n",
       "...           ...      ...\n",
       "38488  B00A9R2P7A    38488\n",
       "38489  B017HK485S    38489\n",
       "38490  B008H7UKYY    38490\n",
       "38491  B006K6PJTK    38491\n",
       "38492  B01DUSBHZ0    38492\n",
       "\n",
       "[38493 rows x 2 columns]"
      ]
     },
     "execution_count": 7,
     "metadata": {},
     "output_type": "execute_result"
    }
   ],
   "source": [
    "items = pd.read_csv(ITEMS_PATH)\n",
    "assert len(items) == sem_macrid_results.shape[1]\n",
    "items"
   ]
  },
  {
   "cell_type": "code",
   "execution_count": 8,
   "metadata": {},
   "outputs": [],
   "source": [
    "def load_interaction_matrix(file: Path, shape: Tuple[int, int]) -> sparse.csr_matrix:\n",
    "    df = pd.read_csv(file)\n",
    "    return sparse.csr_matrix(\n",
    "        (np.ones_like(df['user']), (df['user'], df['item'])),\n",
    "        shape=shape,\n",
    "        dtype=float\n",
    "    )\n",
    "\n",
    "\n",
    "train = load_interaction_matrix(TRAIN_PATH, (len(users), len(items)))\n",
    "test = load_interaction_matrix(TEST_PATH, (len(users), len(items)))"
   ]
  },
  {
   "attachments": {},
   "cell_type": "markdown",
   "metadata": {},
   "source": [
    "# Analyze results"
   ]
  },
  {
   "attachments": {},
   "cell_type": "markdown",
   "metadata": {},
   "source": [
    "Let's make the trained data to be zero "
   ]
  },
  {
   "cell_type": "code",
   "execution_count": 9,
   "metadata": {},
   "outputs": [],
   "source": [
    "dmrl_results[train.nonzero()] = -np.inf\n",
    "sem_macrid_results[train.nonzero()] = -np.inf"
   ]
  },
  {
   "attachments": {},
   "cell_type": "markdown",
   "metadata": {},
   "source": [
    "Analyze how they agree in the top 5 results"
   ]
  },
  {
   "cell_type": "code",
   "execution_count": 10,
   "metadata": {},
   "outputs": [],
   "source": [
    "k = 5\n",
    "\n",
    "best_dmrl = dmrl_results.argpartition(kth=-k, axis=1)[:, -k:]\n",
    "best_sem_macridvae = sem_macrid_results.argpartition(kth=-k, axis=1)[:, -k:]"
   ]
  },
  {
   "cell_type": "code",
   "execution_count": 12,
   "metadata": {},
   "outputs": [
    {
     "data": {
      "text/plain": [
       "array([19594,  8913, 32930, ..., 24574, 13147, 34301])"
      ]
     },
     "execution_count": 12,
     "metadata": {},
     "output_type": "execute_result"
    }
   ],
   "source": [
    "dmrl_results.argmax(axis=1)"
   ]
  },
  {
   "attachments": {},
   "cell_type": "markdown",
   "metadata": {},
   "source": [
    "Arrays are very memory intensive so we delete the original results"
   ]
  },
  {
   "cell_type": "code",
   "execution_count": 14,
   "metadata": {},
   "outputs": [
    {
     "data": {
      "text/plain": [
       "0"
      ]
     },
     "execution_count": 14,
     "metadata": {},
     "output_type": "execute_result"
    }
   ],
   "source": [
    "import gc\n",
    "del sem_macrid_results, dmrl_results\n",
    "gc.collect()"
   ]
  },
  {
   "cell_type": "code",
   "execution_count": 16,
   "metadata": {},
   "outputs": [
    {
     "data": {
      "text/plain": [
       "array([[11253, 19594, 15314, 29368, 12176],\n",
       "       [32501, 34301,  2121, 23339,  8913],\n",
       "       [13181, 30484,  3235, 32930, 36164],\n",
       "       ...,\n",
       "       [ 3482,  6105,  4866, 14556, 24574],\n",
       "       [32060,  5807, 24346, 13147, 32438],\n",
       "       [ 6217, 33684, 27597, 13116, 34301]])"
      ]
     },
     "execution_count": 16,
     "metadata": {},
     "output_type": "execute_result"
    }
   ],
   "source": [
    "best_dmrl"
   ]
  },
  {
   "cell_type": "code",
   "execution_count": 17,
   "metadata": {},
   "outputs": [
    {
     "data": {
      "text/plain": [
       "array([[ 8703, 10284, 26373, 38308,  1752],\n",
       "       [  854, 30552, 26624, 32501, 34301],\n",
       "       [ 8703, 10284,  1752, 38308, 26373],\n",
       "       ...,\n",
       "       [ 8703, 26373, 10284, 38308,  1752],\n",
       "       [ 8703, 10284, 26373,  1752, 38308],\n",
       "       [16534, 13116, 34301, 33684, 27597]])"
      ]
     },
     "execution_count": 17,
     "metadata": {},
     "output_type": "execute_result"
    }
   ],
   "source": [
    "best_sem_macridvae"
   ]
  },
  {
   "cell_type": "code",
   "execution_count": 46,
   "metadata": {},
   "outputs": [
    {
     "data": {
      "text/html": [
       "<div>\n",
       "<style scoped>\n",
       "    .dataframe tbody tr th:only-of-type {\n",
       "        vertical-align: middle;\n",
       "    }\n",
       "\n",
       "    .dataframe tbody tr th {\n",
       "        vertical-align: top;\n",
       "    }\n",
       "\n",
       "    .dataframe thead th {\n",
       "        text-align: right;\n",
       "    }\n",
       "</style>\n",
       "<table border=\"1\" class=\"dataframe\">\n",
       "  <thead>\n",
       "    <tr style=\"text-align: right;\">\n",
       "      <th></th>\n",
       "      <th>percentage</th>\n",
       "    </tr>\n",
       "  </thead>\n",
       "  <tbody>\n",
       "    <tr>\n",
       "      <th>1752</th>\n",
       "      <td>0.086302</td>\n",
       "    </tr>\n",
       "    <tr>\n",
       "      <th>38308</th>\n",
       "      <td>0.083978</td>\n",
       "    </tr>\n",
       "    <tr>\n",
       "      <th>26373</th>\n",
       "      <td>0.070135</td>\n",
       "    </tr>\n",
       "    <tr>\n",
       "      <th>10284</th>\n",
       "      <td>0.066121</td>\n",
       "    </tr>\n",
       "    <tr>\n",
       "      <th>8703</th>\n",
       "      <td>0.064560</td>\n",
       "    </tr>\n",
       "    <tr>\n",
       "      <th>34301</th>\n",
       "      <td>0.029874</td>\n",
       "    </tr>\n",
       "    <tr>\n",
       "      <th>32501</th>\n",
       "      <td>0.027481</td>\n",
       "    </tr>\n",
       "    <tr>\n",
       "      <th>30552</th>\n",
       "      <td>0.025868</td>\n",
       "    </tr>\n",
       "    <tr>\n",
       "      <th>854</th>\n",
       "      <td>0.021666</td>\n",
       "    </tr>\n",
       "    <tr>\n",
       "      <th>26624</th>\n",
       "      <td>0.021271</td>\n",
       "    </tr>\n",
       "    <tr>\n",
       "      <th>6027</th>\n",
       "      <td>0.013672</td>\n",
       "    </tr>\n",
       "    <tr>\n",
       "      <th>17254</th>\n",
       "      <td>0.013063</td>\n",
       "    </tr>\n",
       "    <tr>\n",
       "      <th>6112</th>\n",
       "      <td>0.011819</td>\n",
       "    </tr>\n",
       "    <tr>\n",
       "      <th>4702</th>\n",
       "      <td>0.010636</td>\n",
       "    </tr>\n",
       "    <tr>\n",
       "      <th>2332</th>\n",
       "      <td>0.009100</td>\n",
       "    </tr>\n",
       "    <tr>\n",
       "      <th>12576</th>\n",
       "      <td>0.009057</td>\n",
       "    </tr>\n",
       "    <tr>\n",
       "      <th>22880</th>\n",
       "      <td>0.008448</td>\n",
       "    </tr>\n",
       "    <tr>\n",
       "      <th>32062</th>\n",
       "      <td>0.008354</td>\n",
       "    </tr>\n",
       "    <tr>\n",
       "      <th>7243</th>\n",
       "      <td>0.007797</td>\n",
       "    </tr>\n",
       "    <tr>\n",
       "      <th>23727</th>\n",
       "      <td>0.007514</td>\n",
       "    </tr>\n",
       "  </tbody>\n",
       "</table>\n",
       "</div>"
      ],
      "text/plain": [
       "       percentage\n",
       "1752     0.086302\n",
       "38308    0.083978\n",
       "26373    0.070135\n",
       "10284    0.066121\n",
       "8703     0.064560\n",
       "34301    0.029874\n",
       "32501    0.027481\n",
       "30552    0.025868\n",
       "854      0.021666\n",
       "26624    0.021271\n",
       "6027     0.013672\n",
       "17254    0.013063\n",
       "6112     0.011819\n",
       "4702     0.010636\n",
       "2332     0.009100\n",
       "12576    0.009057\n",
       "22880    0.008448\n",
       "32062    0.008354\n",
       "7243     0.007797\n",
       "23727    0.007514"
      ]
     },
     "execution_count": 46,
     "metadata": {},
     "output_type": "execute_result"
    }
   ],
   "source": [
    "best_counts_semmacridvae = pd.Series(best_sem_macridvae.flatten()).value_counts(normalize=True).to_frame('percentage').head(20)\n",
    "best_counts_semmacridvae"
   ]
  },
  {
   "cell_type": "code",
   "execution_count": 47,
   "metadata": {},
   "outputs": [
    {
     "data": {
      "text/html": [
       "<div>\n",
       "<style scoped>\n",
       "    .dataframe tbody tr th:only-of-type {\n",
       "        vertical-align: middle;\n",
       "    }\n",
       "\n",
       "    .dataframe tbody tr th {\n",
       "        vertical-align: top;\n",
       "    }\n",
       "\n",
       "    .dataframe thead th {\n",
       "        text-align: right;\n",
       "    }\n",
       "</style>\n",
       "<table border=\"1\" class=\"dataframe\">\n",
       "  <thead>\n",
       "    <tr style=\"text-align: right;\">\n",
       "      <th></th>\n",
       "      <th>percentage</th>\n",
       "    </tr>\n",
       "  </thead>\n",
       "  <tbody>\n",
       "    <tr>\n",
       "      <th>6027</th>\n",
       "      <td>0.006896</td>\n",
       "    </tr>\n",
       "    <tr>\n",
       "      <th>21557</th>\n",
       "      <td>0.005412</td>\n",
       "    </tr>\n",
       "    <tr>\n",
       "      <th>17254</th>\n",
       "      <td>0.005344</td>\n",
       "    </tr>\n",
       "    <tr>\n",
       "      <th>921</th>\n",
       "      <td>0.005078</td>\n",
       "    </tr>\n",
       "    <tr>\n",
       "      <th>6112</th>\n",
       "      <td>0.005035</td>\n",
       "    </tr>\n",
       "    <tr>\n",
       "      <th>24346</th>\n",
       "      <td>0.004992</td>\n",
       "    </tr>\n",
       "    <tr>\n",
       "      <th>24956</th>\n",
       "      <td>0.004975</td>\n",
       "    </tr>\n",
       "    <tr>\n",
       "      <th>31411</th>\n",
       "      <td>0.004975</td>\n",
       "    </tr>\n",
       "    <tr>\n",
       "      <th>8963</th>\n",
       "      <td>0.004666</td>\n",
       "    </tr>\n",
       "    <tr>\n",
       "      <th>18492</th>\n",
       "      <td>0.004520</td>\n",
       "    </tr>\n",
       "    <tr>\n",
       "      <th>38308</th>\n",
       "      <td>0.004494</td>\n",
       "    </tr>\n",
       "    <tr>\n",
       "      <th>35166</th>\n",
       "      <td>0.004460</td>\n",
       "    </tr>\n",
       "    <tr>\n",
       "      <th>26261</th>\n",
       "      <td>0.004451</td>\n",
       "    </tr>\n",
       "    <tr>\n",
       "      <th>1235</th>\n",
       "      <td>0.004306</td>\n",
       "    </tr>\n",
       "    <tr>\n",
       "      <th>9258</th>\n",
       "      <td>0.004297</td>\n",
       "    </tr>\n",
       "    <tr>\n",
       "      <th>6388</th>\n",
       "      <td>0.004246</td>\n",
       "    </tr>\n",
       "    <tr>\n",
       "      <th>18555</th>\n",
       "      <td>0.004203</td>\n",
       "    </tr>\n",
       "    <tr>\n",
       "      <th>18611</th>\n",
       "      <td>0.004203</td>\n",
       "    </tr>\n",
       "    <tr>\n",
       "      <th>32060</th>\n",
       "      <td>0.004194</td>\n",
       "    </tr>\n",
       "    <tr>\n",
       "      <th>27811</th>\n",
       "      <td>0.004160</td>\n",
       "    </tr>\n",
       "  </tbody>\n",
       "</table>\n",
       "</div>"
      ],
      "text/plain": [
       "       percentage\n",
       "6027     0.006896\n",
       "21557    0.005412\n",
       "17254    0.005344\n",
       "921      0.005078\n",
       "6112     0.005035\n",
       "24346    0.004992\n",
       "24956    0.004975\n",
       "31411    0.004975\n",
       "8963     0.004666\n",
       "18492    0.004520\n",
       "38308    0.004494\n",
       "35166    0.004460\n",
       "26261    0.004451\n",
       "1235     0.004306\n",
       "9258     0.004297\n",
       "6388     0.004246\n",
       "18555    0.004203\n",
       "18611    0.004203\n",
       "32060    0.004194\n",
       "27811    0.004160"
      ]
     },
     "execution_count": 47,
     "metadata": {},
     "output_type": "execute_result"
    }
   ],
   "source": [
    "best_counts_dmrl = pd.Series(best_dmrl.flatten()).value_counts(normalize=True).to_frame('percentage').head(20)\n",
    "best_counts_dmrl"
   ]
  },
  {
   "cell_type": "code",
   "execution_count": 48,
   "metadata": {},
   "outputs": [
    {
     "data": {
      "text/plain": [
       "{6027, 6112, 17254, 38308}"
      ]
     },
     "execution_count": 48,
     "metadata": {},
     "output_type": "execute_result"
    }
   ],
   "source": [
    "set(best_counts_dmrl.index) & set(best_counts_semmacridvae.index)"
   ]
  },
  {
   "cell_type": "code",
   "execution_count": 32,
   "metadata": {},
   "outputs": [
    {
     "data": {
      "text/plain": [
       "array([21799,     0,     2, ..., 38484,     3, 38482])"
      ]
     },
     "execution_count": 32,
     "metadata": {},
     "output_type": "execute_result"
    }
   ],
   "source": [
    "pd.Series(best_dmrl.flatten()).value_counts() > 10"
   ]
  },
  {
   "cell_type": "code",
   "execution_count": 91,
   "metadata": {},
   "outputs": [
    {
     "data": {
      "text/plain": [
       "18031    168\n",
       "38308    165\n",
       "26373    164\n",
       "3520     163\n",
       "8703     160\n",
       "34043    153\n",
       "28568    153\n",
       "10284    152\n",
       "6388     152\n",
       "5372     146\n",
       "1752     140\n",
       "12593    140\n",
       "13038    138\n",
       "23510    131\n",
       "33683    130\n",
       "307      123\n",
       "19838    118\n",
       "35166     91\n",
       "31411     82\n",
       "6536      78\n",
       "dtype: int64"
      ]
     },
     "execution_count": 91,
     "metadata": {},
     "output_type": "execute_result"
    }
   ],
   "source": [
    "pd.Series(np.asarray(test.sum(axis=0))[0].astype(int)).sort_values(ascending=False).head(20)"
   ]
  },
  {
   "cell_type": "code",
   "execution_count": 21,
   "metadata": {},
   "outputs": [
    {
     "data": {
      "text/plain": [
       "12593    617.0\n",
       "33683    598.0\n",
       "19838    590.0\n",
       "307      569.0\n",
       "10284    567.0\n",
       "         ...  \n",
       "31833      0.0\n",
       "8552       0.0\n",
       "8557       0.0\n",
       "8558       0.0\n",
       "21618      0.0\n",
       "Length: 38493, dtype: float64"
      ]
     },
     "execution_count": 21,
     "metadata": {},
     "output_type": "execute_result"
    }
   ],
   "source": [
    "pd.Series(train.sum(axis=0).tolist()[0]).sort_values(ascending=False)"
   ]
  },
  {
   "cell_type": "code",
   "execution_count": 72,
   "metadata": {},
   "outputs": [
    {
     "data": {
      "text/plain": [
       "Unnamed: 0    B0105V2DEY\n",
       "item_id                2\n",
       "Name: 2, dtype: object"
      ]
     },
     "execution_count": 72,
     "metadata": {},
     "output_type": "execute_result"
    }
   ],
   "source": [
    "items.iloc[2]"
   ]
  },
  {
   "cell_type": "code",
   "execution_count": 74,
   "metadata": {},
   "outputs": [
    {
     "data": {
      "text/html": [
       "<div>\n",
       "<style scoped>\n",
       "    .dataframe tbody tr th:only-of-type {\n",
       "        vertical-align: middle;\n",
       "    }\n",
       "\n",
       "    .dataframe tbody tr th {\n",
       "        vertical-align: top;\n",
       "    }\n",
       "\n",
       "    .dataframe thead th {\n",
       "        text-align: right;\n",
       "    }\n",
       "</style>\n",
       "<table border=\"1\" class=\"dataframe\">\n",
       "  <thead>\n",
       "    <tr style=\"text-align: right;\">\n",
       "      <th></th>\n",
       "      <th>asin</th>\n",
       "      <th>description</th>\n",
       "      <th>title</th>\n",
       "      <th>brand</th>\n",
       "      <th>main_cat</th>\n",
       "      <th>rank</th>\n",
       "      <th>price</th>\n",
       "      <th>image_slug</th>\n",
       "      <th>image_url</th>\n",
       "      <th>feature</th>\n",
       "      <th>category</th>\n",
       "      <th>tech_detail</th>\n",
       "    </tr>\n",
       "    <tr>\n",
       "      <th>id</th>\n",
       "      <th></th>\n",
       "      <th></th>\n",
       "      <th></th>\n",
       "      <th></th>\n",
       "      <th></th>\n",
       "      <th></th>\n",
       "      <th></th>\n",
       "      <th></th>\n",
       "      <th></th>\n",
       "      <th></th>\n",
       "      <th></th>\n",
       "      <th></th>\n",
       "    </tr>\n",
       "  </thead>\n",
       "  <tbody>\n",
       "    <tr>\n",
       "      <th>47</th>\n",
       "      <td>5120053084</td>\n",
       "      <td>Top Length (Neck to Bottom Hem) Small - 29 inc...</td>\n",
       "      <td>sofsy Soft-Touch Rayon Blend Tie Front Nursing...</td>\n",
       "      <td>None</td>\n",
       "      <td>None</td>\n",
       "      <td>87,615inClothing,ShoesJewelry(</td>\n",
       "      <td>None</td>\n",
       "      <td>[51HJbA8UG2L, 51FufN7RbSL, 51vKjwQ6eAL, 410fEp...</td>\n",
       "      <td>[https://images-na.ssl-images-amazon.com/image...</td>\n",
       "      <td>[SAVE 10% WHEN YOU ADD 2 OR MORE sofsy PRODUCT...</td>\n",
       "      <td>[Clothing, Shoes &amp; Jewelry, Women, Maternity, ...</td>\n",
       "      <td>None</td>\n",
       "    </tr>\n",
       "    <tr>\n",
       "      <th>144</th>\n",
       "      <td>7709260373</td>\n",
       "      <td>None</td>\n",
       "      <td>LJYH Children's Collar Motorcycle Faux Leather...</td>\n",
       "      <td>LJYH</td>\n",
       "      <td>None</td>\n",
       "      <td>15,484inClothing,ShoesJewelry(</td>\n",
       "      <td>$23.99 - $29.99</td>\n",
       "      <td>[41MAnSZ8QTL, 51qL9W098pL, 51QWVSqlAML, 51eOan...</td>\n",
       "      <td>[https://images-na.ssl-images-amazon.com/image...</td>\n",
       "      <td>[100% New Faux Leather Coat, Fashion New Slim ...</td>\n",
       "      <td>[Clothing, Shoes &amp; Jewelry, Boys, Clothing, Ja...</td>\n",
       "      <td>None</td>\n",
       "    </tr>\n",
       "    <tr>\n",
       "      <th>284</th>\n",
       "      <td>B00001TOXD</td>\n",
       "      <td>Includes One Broom. This broom goes great with...</td>\n",
       "      <td>Adult Witch Broom</td>\n",
       "      <td>None</td>\n",
       "      <td>Toys &amp; Games</td>\n",
       "      <td>None</td>\n",
       "      <td>$4.99</td>\n",
       "      <td>[21VAYWoNedL]</td>\n",
       "      <td>[https://m.media-amazon.com/images/I/21VAYWoNe...</td>\n",
       "      <td>[Brand new authentic licensed Pegan Witch broo...</td>\n",
       "      <td>[Clothing, Shoes &amp; Jewelry, Costumes &amp; Accesso...</td>\n",
       "      <td>None</td>\n",
       "    </tr>\n",
       "    <tr>\n",
       "      <th>316</th>\n",
       "      <td>B00004U1J2</td>\n",
       "      <td>Tired of having your kid running around the ho...</td>\n",
       "      <td>Buzz Lightyear Jet Pack</td>\n",
       "      <td>None</td>\n",
       "      <td>Toys &amp; Games</td>\n",
       "      <td>None</td>\n",
       "      <td>$7.41</td>\n",
       "      <td>[31y%2BZwVQJJL]</td>\n",
       "      <td>[https://images-na.ssl-images-amazon.com/image...</td>\n",
       "      <td>[Polyester, Imported, 16\" high, 12\" wide, Qual...</td>\n",
       "      <td>[Clothing, Shoes &amp; Jewelry, Costumes &amp; Accesso...</td>\n",
       "      <td>None</td>\n",
       "    </tr>\n",
       "    <tr>\n",
       "      <th>333</th>\n",
       "      <td>B00004VWJ3</td>\n",
       "      <td>Birkenstock's Black Super Birki Clog is made o...</td>\n",
       "      <td>Birki's Super Pu, Black, 44 M EU (13 Women /11...</td>\n",
       "      <td>Birki's</td>\n",
       "      <td>None</td>\n",
       "      <td>&gt;#3,164 in Patio, Lawn &amp; Garden (See Top 100 i...</td>\n",
       "      <td>None</td>\n",
       "      <td>[51g%2BtUP7YSL, 41Jn0zjKRuL, 41ElBt2gWdL, 31Aw...</td>\n",
       "      <td>[https://images-na.ssl-images-amazon.com/image...</td>\n",
       "      <td>[Birkenstock SUPER BIRKI BLACK PU 44]</td>\n",
       "      <td>[Clothing, Shoes &amp; Jewelry, Women, Shoes, Mule...</td>\n",
       "      <td>None</td>\n",
       "    </tr>\n",
       "    <tr>\n",
       "      <th>...</th>\n",
       "      <td>...</td>\n",
       "      <td>...</td>\n",
       "      <td>...</td>\n",
       "      <td>...</td>\n",
       "      <td>...</td>\n",
       "      <td>...</td>\n",
       "      <td>...</td>\n",
       "      <td>...</td>\n",
       "      <td>...</td>\n",
       "      <td>...</td>\n",
       "      <td>...</td>\n",
       "      <td>...</td>\n",
       "    </tr>\n",
       "    <tr>\n",
       "      <th>2684954</th>\n",
       "      <td>B01HJDBMUM</td>\n",
       "      <td>When you need a fashionable shoe for your son-...</td>\n",
       "      <td>Deer Stags Kid's Brilliant Dress Comfort Oxfor...</td>\n",
       "      <td>None</td>\n",
       "      <td>None</td>\n",
       "      <td>343,935inClothing,ShoesJewelry(</td>\n",
       "      <td>$16.80 - $40.00</td>\n",
       "      <td>[51Q9Np4I4OL, 41JgD3Klb6L, 31hD-OLssoL, 41ABLP...</td>\n",
       "      <td>[https://images-na.ssl-images-amazon.com/image...</td>\n",
       "      <td>[100% Manmade, Synthetic sole, QUALITY YOU CAN...</td>\n",
       "      <td>[Clothing, Shoes &amp; Jewelry, Girls, Shoes, Oxfo...</td>\n",
       "      <td>None</td>\n",
       "    </tr>\n",
       "    <tr>\n",
       "      <th>2684955</th>\n",
       "      <td>B01HJCZ02O</td>\n",
       "      <td>Dynamic in design, the honor sneaker is comfor...</td>\n",
       "      <td>Dansko Women's Honor Sneaker</td>\n",
       "      <td>None</td>\n",
       "      <td>None</td>\n",
       "      <td>44,554inClothing,ShoesJewelry(</td>\n",
       "      <td>$74.93 - $221.43</td>\n",
       "      <td>[51wGv%2BSmTHL, 41AE5SULqtL, 311xxeLqZ2L, 41Js...</td>\n",
       "      <td>[https://images-na.ssl-images-amazon.com/image...</td>\n",
       "      <td>[100% Leather, Imported, Rubber sole, Shaft me...</td>\n",
       "      <td>[Clothing, Shoes &amp; Jewelry, Women, Shoes, Fash...</td>\n",
       "      <td>None</td>\n",
       "    </tr>\n",
       "    <tr>\n",
       "      <th>2684979</th>\n",
       "      <td>B01HJDZM30</td>\n",
       "      <td>Part of our Performance Fishing Gear line of p...</td>\n",
       "      <td>Columbia PFG Mesh Snap Back Ball Cap</td>\n",
       "      <td>Columbia</td>\n",
       "      <td>Sports &amp; Outdoors</td>\n",
       "      <td>5,346inSportsOutdoors(</td>\n",
       "      <td>$20.90</td>\n",
       "      <td>[51cajtyCrBL, 416yFSOGLdL, 41t%2Bt3iFPYL, 513t...</td>\n",
       "      <td>[https://images-na.ssl-images-amazon.com/image...</td>\n",
       "      <td>[blend, ADVANCED TECHNOLOGY: Columbia's PFG Me...</td>\n",
       "      <td>[Clothing, Shoes &amp; Jewelry, Men, Accessories, ...</td>\n",
       "      <td>None</td>\n",
       "    </tr>\n",
       "    <tr>\n",
       "      <th>2684987</th>\n",
       "      <td>B01HJDVCJI</td>\n",
       "      <td>An edgy take on Adidas running-inspired herita...</td>\n",
       "      <td>adidas Originals Men's Tubular Shadow Fashion ...</td>\n",
       "      <td>None</td>\n",
       "      <td>None</td>\n",
       "      <td>74,828inClothing,ShoesJewelry(</td>\n",
       "      <td>$48.45 - $199.00</td>\n",
       "      <td>[51wvO%2BYYxLL, 51VDqEjkM1L, 31Pab7SYh7L, 41gg...</td>\n",
       "      <td>[https://images-na.ssl-images-amazon.com/image...</td>\n",
       "      <td>[100% Leather and Textile, Imported, Synthetic...</td>\n",
       "      <td>[Clothing, Shoes &amp; Jewelry, Men, Shoes, Fashio...</td>\n",
       "      <td>None</td>\n",
       "    </tr>\n",
       "    <tr>\n",
       "      <th>2685059</th>\n",
       "      <td>B01HJHFS58</td>\n",
       "      <td>CUPSHE Intro To inspire confidence and beauty ...</td>\n",
       "      <td>CUPSHE Women's Point Me at The Sky Floral Biki...</td>\n",
       "      <td>CUPSHE</td>\n",
       "      <td>None</td>\n",
       "      <td>1,142,909inClothing,ShoesJewelry(</td>\n",
       "      <td>None</td>\n",
       "      <td>[6159EIP7QRL, 61XIz3dDNTL, 51YfL4EOAtL, 61DuK0...</td>\n",
       "      <td>[https://images-na.ssl-images-amazon.com/image...</td>\n",
       "      <td>[Fabric: chinlon, Reversible design, Cross at ...</td>\n",
       "      <td>[Clothing, Shoes &amp; Jewelry, Women, Clothing, S...</td>\n",
       "      <td>None</td>\n",
       "    </tr>\n",
       "  </tbody>\n",
       "</table>\n",
       "<p>38493 rows × 12 columns</p>\n",
       "</div>"
      ],
      "text/plain": [
       "               asin                                        description  \\\n",
       "id                                                                       \n",
       "47       5120053084  Top Length (Neck to Bottom Hem) Small - 29 inc...   \n",
       "144      7709260373                                               None   \n",
       "284      B00001TOXD  Includes One Broom. This broom goes great with...   \n",
       "316      B00004U1J2  Tired of having your kid running around the ho...   \n",
       "333      B00004VWJ3  Birkenstock's Black Super Birki Clog is made o...   \n",
       "...             ...                                                ...   \n",
       "2684954  B01HJDBMUM  When you need a fashionable shoe for your son-...   \n",
       "2684955  B01HJCZ02O  Dynamic in design, the honor sneaker is comfor...   \n",
       "2684979  B01HJDZM30  Part of our Performance Fishing Gear line of p...   \n",
       "2684987  B01HJDVCJI  An edgy take on Adidas running-inspired herita...   \n",
       "2685059  B01HJHFS58  CUPSHE Intro To inspire confidence and beauty ...   \n",
       "\n",
       "                                                     title     brand  \\\n",
       "id                                                                     \n",
       "47       sofsy Soft-Touch Rayon Blend Tie Front Nursing...      None   \n",
       "144      LJYH Children's Collar Motorcycle Faux Leather...      LJYH   \n",
       "284                                      Adult Witch Broom      None   \n",
       "316                                Buzz Lightyear Jet Pack      None   \n",
       "333      Birki's Super Pu, Black, 44 M EU (13 Women /11...   Birki's   \n",
       "...                                                    ...       ...   \n",
       "2684954  Deer Stags Kid's Brilliant Dress Comfort Oxfor...      None   \n",
       "2684955                       Dansko Women's Honor Sneaker      None   \n",
       "2684979               Columbia PFG Mesh Snap Back Ball Cap  Columbia   \n",
       "2684987  adidas Originals Men's Tubular Shadow Fashion ...      None   \n",
       "2685059  CUPSHE Women's Point Me at The Sky Floral Biki...    CUPSHE   \n",
       "\n",
       "                  main_cat                                               rank  \\\n",
       "id                                                                              \n",
       "47                    None                     87,615inClothing,ShoesJewelry(   \n",
       "144                   None                     15,484inClothing,ShoesJewelry(   \n",
       "284           Toys & Games                                               None   \n",
       "316           Toys & Games                                               None   \n",
       "333                   None  >#3,164 in Patio, Lawn & Garden (See Top 100 i...   \n",
       "...                    ...                                                ...   \n",
       "2684954               None                    343,935inClothing,ShoesJewelry(   \n",
       "2684955               None                     44,554inClothing,ShoesJewelry(   \n",
       "2684979  Sports & Outdoors                             5,346inSportsOutdoors(   \n",
       "2684987               None                     74,828inClothing,ShoesJewelry(   \n",
       "2685059               None                  1,142,909inClothing,ShoesJewelry(   \n",
       "\n",
       "                    price                                         image_slug  \\\n",
       "id                                                                             \n",
       "47                   None  [51HJbA8UG2L, 51FufN7RbSL, 51vKjwQ6eAL, 410fEp...   \n",
       "144       $23.99 - $29.99  [41MAnSZ8QTL, 51qL9W098pL, 51QWVSqlAML, 51eOan...   \n",
       "284                 $4.99                                      [21VAYWoNedL]   \n",
       "316                 $7.41                                    [31y%2BZwVQJJL]   \n",
       "333                  None  [51g%2BtUP7YSL, 41Jn0zjKRuL, 41ElBt2gWdL, 31Aw...   \n",
       "...                   ...                                                ...   \n",
       "2684954   $16.80 - $40.00  [51Q9Np4I4OL, 41JgD3Klb6L, 31hD-OLssoL, 41ABLP...   \n",
       "2684955  $74.93 - $221.43  [51wGv%2BSmTHL, 41AE5SULqtL, 311xxeLqZ2L, 41Js...   \n",
       "2684979            $20.90  [51cajtyCrBL, 416yFSOGLdL, 41t%2Bt3iFPYL, 513t...   \n",
       "2684987  $48.45 - $199.00  [51wvO%2BYYxLL, 51VDqEjkM1L, 31Pab7SYh7L, 41gg...   \n",
       "2685059              None  [6159EIP7QRL, 61XIz3dDNTL, 51YfL4EOAtL, 61DuK0...   \n",
       "\n",
       "                                                 image_url  \\\n",
       "id                                                           \n",
       "47       [https://images-na.ssl-images-amazon.com/image...   \n",
       "144      [https://images-na.ssl-images-amazon.com/image...   \n",
       "284      [https://m.media-amazon.com/images/I/21VAYWoNe...   \n",
       "316      [https://images-na.ssl-images-amazon.com/image...   \n",
       "333      [https://images-na.ssl-images-amazon.com/image...   \n",
       "...                                                    ...   \n",
       "2684954  [https://images-na.ssl-images-amazon.com/image...   \n",
       "2684955  [https://images-na.ssl-images-amazon.com/image...   \n",
       "2684979  [https://images-na.ssl-images-amazon.com/image...   \n",
       "2684987  [https://images-na.ssl-images-amazon.com/image...   \n",
       "2685059  [https://images-na.ssl-images-amazon.com/image...   \n",
       "\n",
       "                                                   feature  \\\n",
       "id                                                           \n",
       "47       [SAVE 10% WHEN YOU ADD 2 OR MORE sofsy PRODUCT...   \n",
       "144      [100% New Faux Leather Coat, Fashion New Slim ...   \n",
       "284      [Brand new authentic licensed Pegan Witch broo...   \n",
       "316      [Polyester, Imported, 16\" high, 12\" wide, Qual...   \n",
       "333                  [Birkenstock SUPER BIRKI BLACK PU 44]   \n",
       "...                                                    ...   \n",
       "2684954  [100% Manmade, Synthetic sole, QUALITY YOU CAN...   \n",
       "2684955  [100% Leather, Imported, Rubber sole, Shaft me...   \n",
       "2684979  [blend, ADVANCED TECHNOLOGY: Columbia's PFG Me...   \n",
       "2684987  [100% Leather and Textile, Imported, Synthetic...   \n",
       "2685059  [Fabric: chinlon, Reversible design, Cross at ...   \n",
       "\n",
       "                                                  category tech_detail  \n",
       "id                                                                      \n",
       "47       [Clothing, Shoes & Jewelry, Women, Maternity, ...        None  \n",
       "144      [Clothing, Shoes & Jewelry, Boys, Clothing, Ja...        None  \n",
       "284      [Clothing, Shoes & Jewelry, Costumes & Accesso...        None  \n",
       "316      [Clothing, Shoes & Jewelry, Costumes & Accesso...        None  \n",
       "333      [Clothing, Shoes & Jewelry, Women, Shoes, Mule...        None  \n",
       "...                                                    ...         ...  \n",
       "2684954  [Clothing, Shoes & Jewelry, Girls, Shoes, Oxfo...        None  \n",
       "2684955  [Clothing, Shoes & Jewelry, Women, Shoes, Fash...        None  \n",
       "2684979  [Clothing, Shoes & Jewelry, Men, Accessories, ...        None  \n",
       "2684987  [Clothing, Shoes & Jewelry, Men, Shoes, Fashio...        None  \n",
       "2685059  [Clothing, Shoes & Jewelry, Women, Clothing, S...        None  \n",
       "\n",
       "[38493 rows x 12 columns]"
      ]
     },
     "execution_count": 74,
     "metadata": {},
     "output_type": "execute_result"
    }
   ],
   "source": [
    "some_products = amazon_dataset.products_df('Clothing_Shoes_and_Jewelry')\n",
    "some_products"
   ]
  },
  {
   "cell_type": "code",
   "execution_count": 78,
   "metadata": {},
   "outputs": [
    {
     "data": {
      "text/plain": [
       "'Slim Compact Leather Key Holder Wallet Pouch Gifts Him Her Men Women'"
      ]
     },
     "execution_count": 78,
     "metadata": {},
     "output_type": "execute_result"
    }
   ],
   "source": [
    "some_products.loc[some_products['asin'] == 'B0105V2DEY'].iloc[0].title"
   ]
  },
  {
   "cell_type": "code",
   "execution_count": 80,
   "metadata": {},
   "outputs": [
    {
     "data": {
      "text/plain": [
       "asin                                                  B0105V2DEY\n",
       "description                                                 None\n",
       "title          Slim Compact Leather Key Holder Wallet Pouch G...\n",
       "brand                                                Rustic Town\n",
       "main_cat                                         Office Products\n",
       "rank                             788,760inClothing,ShoesJewelry(\n",
       "price                                                       None\n",
       "image_slug     [41%2B7pqP-ZHL, 514%2BxE-dulL, 41xjNc9npzL, 51...\n",
       "image_url      [https://images-na.ssl-images-amazon.com/image...\n",
       "feature        [Leather, Imported, Soft and Supple Feel of a ...\n",
       "category       [Clothing, Shoes & Jewelry, Men, Accessories, ...\n",
       "tech_detail                                                 None\n",
       "Name: 1997316, dtype: object"
      ]
     },
     "execution_count": 80,
     "metadata": {},
     "output_type": "execute_result"
    }
   ],
   "source": [
    "some_products.loc[some_products['asin'] == 'B0105V2DEY'].iloc[0]"
   ]
  }
 ],
 "metadata": {
  "kernelspec": {
   "display_name": ".venv",
   "language": "python",
   "name": "python3"
  },
  "language_info": {
   "codemirror_mode": {
    "name": "ipython",
    "version": 3
   },
   "file_extension": ".py",
   "mimetype": "text/x-python",
   "name": "python",
   "nbconvert_exporter": "python",
   "pygments_lexer": "ipython3",
   "version": "3.8.16"
  },
  "orig_nbformat": 4
 },
 "nbformat": 4,
 "nbformat_minor": 2
}
