{
 "cells": [
  {
   "cell_type": "code",
   "execution_count": 1,
   "metadata": {},
   "outputs": [],
   "source": [
    "import os\n",
    "from pathlib import Path\n",
    "from typing import Tuple\n",
    "\n",
    "import numpy as np\n",
    "import numpy.typing as npt\n",
    "import openai\n",
    "import pandas as pd\n",
    "from numpy.typing import NDArray\n",
    "from scipy import sparse\n",
    "\n",
    "import amazon_dataset\n",
    "\n",
    "DATASET = 'Clothing_Shoes_and_Jewelry'\n",
    "DMRL_RES_PATH = Path(f'data/{DATASET}/best_scores_vitbert_dmrl.npz')\n",
    "SEMMACRID_RES_PATH = Path(f'data/SEM-MacridVAE-{DATASET}-run/eval.npz')\n",
    "TRAIN_PATH = Path(f'data/{DATASET}/train.txt')\n",
    "TEST_PATH = Path(f'data/{DATASET}/test.txt')\n",
    "ITEMS_PATH = Path(f'data/{DATASET}/items.txt')\n",
    "USERS_PATH = Path(f'data/{DATASET}/users.txt')"
   ]
  },
  {
   "cell_type": "code",
   "execution_count": 2,
   "metadata": {},
   "outputs": [],
   "source": [
    "assert DMRL_RES_PATH.exists()\n",
    "assert SEMMACRID_RES_PATH.exists()\n",
    "assert TRAIN_PATH.exists()\n",
    "assert TEST_PATH.exists()\n",
    "assert ITEMS_PATH.exists()\n",
    "assert USERS_PATH.exists()\n",
    "assert 'OPENAI_APIKEY' in os.environ"
   ]
  },
  {
   "attachments": {},
   "cell_type": "markdown",
   "metadata": {},
   "source": [
    "#  Load all data"
   ]
  },
  {
   "cell_type": "code",
   "execution_count": 3,
   "metadata": {},
   "outputs": [
    {
     "data": {
      "text/plain": [
       "(23318, 38493)"
      ]
     },
     "execution_count": 3,
     "metadata": {},
     "output_type": "execute_result"
    }
   ],
   "source": [
    "dmrl_results: NDArray[np.floating] = np.vstack(next(iter(np.load(DMRL_RES_PATH, allow_pickle=True).values())))\n",
    "dmrl_results.shape"
   ]
  },
  {
   "cell_type": "code",
   "execution_count": 4,
   "metadata": {},
   "outputs": [
    {
     "data": {
      "text/plain": [
       "(23318, 38493)"
      ]
     },
     "execution_count": 4,
     "metadata": {},
     "output_type": "execute_result"
    }
   ],
   "source": [
    "sem_macrid_results: NDArray[np.floating] = next(iter(np.load(SEMMACRID_RES_PATH, allow_pickle=True).values()))\n",
    "sem_macrid_results.shape"
   ]
  },
  {
   "cell_type": "code",
   "execution_count": 5,
   "metadata": {},
   "outputs": [],
   "source": [
    "assert sem_macrid_results.shape == dmrl_results.shape"
   ]
  },
  {
   "attachments": {},
   "cell_type": "markdown",
   "metadata": {},
   "source": [
    "Get users"
   ]
  },
  {
   "cell_type": "code",
   "execution_count": 7,
   "metadata": {},
   "outputs": [
    {
     "data": {
      "text/html": [
       "<div>\n",
       "<style scoped>\n",
       "    .dataframe tbody tr th:only-of-type {\n",
       "        vertical-align: middle;\n",
       "    }\n",
       "\n",
       "    .dataframe tbody tr th {\n",
       "        vertical-align: top;\n",
       "    }\n",
       "\n",
       "    .dataframe thead th {\n",
       "        text-align: right;\n",
       "    }\n",
       "</style>\n",
       "<table border=\"1\" class=\"dataframe\">\n",
       "  <thead>\n",
       "    <tr style=\"text-align: right;\">\n",
       "      <th></th>\n",
       "      <th>Unnamed: 0</th>\n",
       "      <th>0</th>\n",
       "    </tr>\n",
       "  </thead>\n",
       "  <tbody>\n",
       "    <tr>\n",
       "      <th>0</th>\n",
       "      <td>A30NKRF3KBGA06</td>\n",
       "      <td>0</td>\n",
       "    </tr>\n",
       "    <tr>\n",
       "      <th>1</th>\n",
       "      <td>AL0XGCBE6Z22M</td>\n",
       "      <td>1</td>\n",
       "    </tr>\n",
       "    <tr>\n",
       "      <th>2</th>\n",
       "      <td>AMT5LF0TKY67C</td>\n",
       "      <td>2</td>\n",
       "    </tr>\n",
       "    <tr>\n",
       "      <th>3</th>\n",
       "      <td>A2BY8EVXA3NRHD</td>\n",
       "      <td>3</td>\n",
       "    </tr>\n",
       "    <tr>\n",
       "      <th>4</th>\n",
       "      <td>AWE6KR1ELIYQ3</td>\n",
       "      <td>4</td>\n",
       "    </tr>\n",
       "    <tr>\n",
       "      <th>...</th>\n",
       "      <td>...</td>\n",
       "      <td>...</td>\n",
       "    </tr>\n",
       "    <tr>\n",
       "      <th>23313</th>\n",
       "      <td>A1MFBF49ZFMH2N</td>\n",
       "      <td>23313</td>\n",
       "    </tr>\n",
       "    <tr>\n",
       "      <th>23314</th>\n",
       "      <td>A36AF5I7D0VO8F</td>\n",
       "      <td>23314</td>\n",
       "    </tr>\n",
       "    <tr>\n",
       "      <th>23315</th>\n",
       "      <td>A35ZS7JT3G9B8</td>\n",
       "      <td>23315</td>\n",
       "    </tr>\n",
       "    <tr>\n",
       "      <th>23316</th>\n",
       "      <td>A3GC94SEKQI3QU</td>\n",
       "      <td>23316</td>\n",
       "    </tr>\n",
       "    <tr>\n",
       "      <th>23317</th>\n",
       "      <td>A185C12Y9XLYGY</td>\n",
       "      <td>23317</td>\n",
       "    </tr>\n",
       "  </tbody>\n",
       "</table>\n",
       "<p>23318 rows × 2 columns</p>\n",
       "</div>"
      ],
      "text/plain": [
       "           Unnamed: 0      0\n",
       "0      A30NKRF3KBGA06      0\n",
       "1       AL0XGCBE6Z22M      1\n",
       "2       AMT5LF0TKY67C      2\n",
       "3      A2BY8EVXA3NRHD      3\n",
       "4       AWE6KR1ELIYQ3      4\n",
       "...               ...    ...\n",
       "23313  A1MFBF49ZFMH2N  23313\n",
       "23314  A36AF5I7D0VO8F  23314\n",
       "23315   A35ZS7JT3G9B8  23315\n",
       "23316  A3GC94SEKQI3QU  23316\n",
       "23317  A185C12Y9XLYGY  23317\n",
       "\n",
       "[23318 rows x 2 columns]"
      ]
     },
     "execution_count": 7,
     "metadata": {},
     "output_type": "execute_result"
    }
   ],
   "source": [
    "users = pd.read_csv(USERS_PATH)\n",
    "assert len(users) == sem_macrid_results.shape[0]\n",
    "users"
   ]
  },
  {
   "attachments": {},
   "cell_type": "markdown",
   "metadata": {},
   "source": [
    "Get items"
   ]
  },
  {
   "cell_type": "code",
   "execution_count": 8,
   "metadata": {},
   "outputs": [
    {
     "data": {
      "text/html": [
       "<div>\n",
       "<style scoped>\n",
       "    .dataframe tbody tr th:only-of-type {\n",
       "        vertical-align: middle;\n",
       "    }\n",
       "\n",
       "    .dataframe tbody tr th {\n",
       "        vertical-align: top;\n",
       "    }\n",
       "\n",
       "    .dataframe thead th {\n",
       "        text-align: right;\n",
       "    }\n",
       "</style>\n",
       "<table border=\"1\" class=\"dataframe\">\n",
       "  <thead>\n",
       "    <tr style=\"text-align: right;\">\n",
       "      <th></th>\n",
       "      <th>item_id</th>\n",
       "    </tr>\n",
       "  </thead>\n",
       "  <tbody>\n",
       "    <tr>\n",
       "      <th>B000B6AV7K</th>\n",
       "      <td>0</td>\n",
       "    </tr>\n",
       "    <tr>\n",
       "      <th>B0143D7EE4</th>\n",
       "      <td>1</td>\n",
       "    </tr>\n",
       "    <tr>\n",
       "      <th>B0105V2DEY</th>\n",
       "      <td>2</td>\n",
       "    </tr>\n",
       "    <tr>\n",
       "      <th>B014EY21H2</th>\n",
       "      <td>3</td>\n",
       "    </tr>\n",
       "    <tr>\n",
       "      <th>B005LUROIK</th>\n",
       "      <td>4</td>\n",
       "    </tr>\n",
       "    <tr>\n",
       "      <th>...</th>\n",
       "      <td>...</td>\n",
       "    </tr>\n",
       "    <tr>\n",
       "      <th>B00A9R2P7A</th>\n",
       "      <td>38488</td>\n",
       "    </tr>\n",
       "    <tr>\n",
       "      <th>B017HK485S</th>\n",
       "      <td>38489</td>\n",
       "    </tr>\n",
       "    <tr>\n",
       "      <th>B008H7UKYY</th>\n",
       "      <td>38490</td>\n",
       "    </tr>\n",
       "    <tr>\n",
       "      <th>B006K6PJTK</th>\n",
       "      <td>38491</td>\n",
       "    </tr>\n",
       "    <tr>\n",
       "      <th>B01DUSBHZ0</th>\n",
       "      <td>38492</td>\n",
       "    </tr>\n",
       "  </tbody>\n",
       "</table>\n",
       "<p>38493 rows × 1 columns</p>\n",
       "</div>"
      ],
      "text/plain": [
       "            item_id\n",
       "B000B6AV7K        0\n",
       "B0143D7EE4        1\n",
       "B0105V2DEY        2\n",
       "B014EY21H2        3\n",
       "B005LUROIK        4\n",
       "...             ...\n",
       "B00A9R2P7A    38488\n",
       "B017HK485S    38489\n",
       "B008H7UKYY    38490\n",
       "B006K6PJTK    38491\n",
       "B01DUSBHZ0    38492\n",
       "\n",
       "[38493 rows x 1 columns]"
      ]
     },
     "execution_count": 8,
     "metadata": {},
     "output_type": "execute_result"
    }
   ],
   "source": [
    "items = pd.read_csv(ITEMS_PATH, index_col=0)\n",
    "assert len(items) == sem_macrid_results.shape[1]\n",
    "items"
   ]
  },
  {
   "cell_type": "code",
   "execution_count": 9,
   "metadata": {},
   "outputs": [],
   "source": [
    "def load_interaction_matrix(file: Path, shape: Tuple[int, int]) -> sparse.csr_matrix:\n",
    "    df = pd.read_csv(file)\n",
    "    return sparse.csr_matrix(\n",
    "        (np.ones_like(df['user']), (df['user'], df['item'])),\n",
    "        shape=shape,\n",
    "        dtype=float\n",
    "    )\n",
    "\n",
    "\n",
    "train = load_interaction_matrix(TRAIN_PATH, (len(users), len(items)))\n",
    "test = load_interaction_matrix(TEST_PATH, (len(users), len(items)))"
   ]
  },
  {
   "attachments": {},
   "cell_type": "markdown",
   "metadata": {},
   "source": [
    "# Analyze results"
   ]
  },
  {
   "attachments": {},
   "cell_type": "markdown",
   "metadata": {},
   "source": [
    "Let's make the trained data to be zero "
   ]
  },
  {
   "cell_type": "code",
   "execution_count": 10,
   "metadata": {},
   "outputs": [],
   "source": [
    "dmrl_results[train.nonzero()] = -np.inf\n",
    "sem_macrid_results[train.nonzero()] = -np.inf"
   ]
  },
  {
   "attachments": {},
   "cell_type": "markdown",
   "metadata": {},
   "source": [
    "Analyze how they agree in the top 5 results"
   ]
  },
  {
   "cell_type": "code",
   "execution_count": 11,
   "metadata": {},
   "outputs": [],
   "source": [
    "k = 5\n",
    "\n",
    "best_dmrl = dmrl_results.argpartition(kth=-k, axis=1)[:, -k:]\n",
    "best_sem_macridvae = sem_macrid_results.argpartition(kth=-k, axis=1)[:, -k:]"
   ]
  },
  {
   "attachments": {},
   "cell_type": "markdown",
   "metadata": {},
   "source": [
    "# Get metrics"
   ]
  },
  {
   "cell_type": "code",
   "execution_count": 12,
   "metadata": {},
   "outputs": [
    {
     "name": "stdout",
     "output_type": "stream",
     "text": [
      "NDCG@5:      0.203675\n",
      "Recall@5:    0.240542\n",
      "MAP:         0.190090\n"
     ]
    }
   ],
   "source": [
    "def get_top_k_items(x: npt.NDArray, k: int) -> npt.NDArray:\n",
    "    # Best indexes without sorting\n",
    "    best_indices = np.argpartition(x, axis=1, kth=-k)[:, -k:]\n",
    "\n",
    "    # Best scores sorted in ascending order\n",
    "    best_values = np.take_along_axis(x, best_indices, axis=1)\n",
    "\n",
    "    # Best indices in descending order (from best_best_values)\n",
    "    best_values_idxs = np.argsort(best_values, axis=1)[:,-1:-k-1:-1]\n",
    "\n",
    "    # Now, we have the best indices in descending order\n",
    "    return np.take_along_axis(best_indices, best_values_idxs, axis=1)\n",
    "\n",
    "def ndcg_at_k(scores: npt.NDArray, test: sparse.csr_matrix, k: int) -> float:\n",
    "    assert scores.shape == test.shape\n",
    "    best_scores = get_top_k_items(scores, k)\n",
    "    \n",
    "    test = test > 0\n",
    "    num_positives = np.minimum(k, test.sum(axis=1)).astype(np.int32)\n",
    "    \n",
    "    rows = np.indices(best_scores.shape)[0]\n",
    "    denominator = np.log2(np.arange(2, k + 2))\n",
    "    \n",
    "    idcg = np.cumsum(1 / denominator)[np.maximum(num_positives - 1, 0)]\n",
    "    \n",
    "    dcg = np.sum(test[rows, best_scores] / denominator, axis=1)\n",
    "\n",
    "    ndcg = dcg / idcg\n",
    "    return ndcg\n",
    "\n",
    "def recall_at_k(scores: npt.NDArray, test: sparse.csr_matrix, k: int) -> float:\n",
    "    assert scores.shape == test.shape\n",
    "    best_scores = get_top_k_items(scores, k)\n",
    "    \n",
    "    test = test > 0\n",
    "    num_positives = np.minimum(k, test.sum(axis=1)).astype(np.int32)\n",
    "    \n",
    "    rows = np.indices(best_scores.shape)[0]\n",
    "    recall = np.sum(test[rows, best_scores], axis=1) / num_positives\n",
    "    return recall\n",
    "\n",
    "def precision_at_k(scores: npt.NDArray, test: sparse.csr_matrix, k: int) -> float:\n",
    "    assert scores.shape == test.shape\n",
    "    best_scores = get_top_k_items(scores, k)\n",
    "    \n",
    "    test = test > 0\n",
    "    \n",
    "    rows = np.indices(best_scores.shape)[0]\n",
    "    precision = np.sum(test[rows, best_scores], axis=1) / k\n",
    "    return precision\n",
    "\n",
    "def average_precision(scores: npt.NDArray, test: sparse.csr_matrix) -> float:\n",
    "    assert scores.shape == test.shape\n",
    "    \n",
    "    test = test > 0\n",
    "    num_positives = np.asarray(test.sum(axis=1).astype(np.int32)).reshape(-1)\n",
    "    \n",
    "    k = num_positives.max()\n",
    "    best_scores = get_top_k_items(scores, k)\n",
    "    \n",
    "    rows = np.indices(best_scores.shape)[0]\n",
    "    labels = test[rows, best_scores].toarray()\n",
    "    \n",
    "    true_positives_at_k = np.cumsum(labels, axis=1)\n",
    "    precisions_at_k  = true_positives_at_k / np.arange(1, k+1)\n",
    "    return (precisions_at_k * labels).sum(axis=1) / num_positives\n",
    "\n",
    "\n",
    "print(f'NDCG@5:      {ndcg_at_k(dmrl_results, test, 5).mean():.6f}')\n",
    "print(f'Recall@5:    {recall_at_k(dmrl_results, test, 5).mean():.6f}')\n",
    "print(f'MAP:         {average_precision(dmrl_results, test).mean():.6f}')\n"
   ]
  },
  {
   "cell_type": "code",
   "execution_count": 13,
   "metadata": {},
   "outputs": [],
   "source": [
    "def build_metrics(results_path: Path):\n",
    "    print(f'Loading results from {results_path}')\n",
    "    results = np.vstack(next(iter(np.load(results_path, allow_pickle=True).values())))\n",
    "    print(f'Computing metrics for {results_path}')\n",
    "    return {\n",
    "            'path': results_path.stem,\n",
    "            'ndcg@5': ndcg_at_k(results, test, 5).mean(),\n",
    "            'recall@5': recall_at_k(results, test, 5).mean(),\n",
    "            'map': average_precision(results, test).mean(),\n",
    "        }\n",
    "\n",
    "def build_results_matrix():\n",
    "    metrics = [\n",
    "        build_metrics(p) \n",
    "        for p in Path(f'data/{DATASET}').glob('best_scores_*.npz')\n",
    "    ]\n",
    "    return pd.DataFrame.from_records(metrics, index='path')\n",
    "\n",
    "# Uncomment because it takes long to compute\n",
    "# all_metrics = build_results_matrix()\n",
    "# all_metrics"
   ]
  },
  {
   "attachments": {},
   "cell_type": "markdown",
   "metadata": {},
   "source": [
    "Arrays are very memory intensive so we delete the original results"
   ]
  },
  {
   "cell_type": "code",
   "execution_count": 14,
   "metadata": {},
   "outputs": [
    {
     "data": {
      "text/plain": [
       "0"
      ]
     },
     "execution_count": 14,
     "metadata": {},
     "output_type": "execute_result"
    }
   ],
   "source": [
    "import gc\n",
    "del sem_macrid_results, dmrl_results\n",
    "gc.collect()"
   ]
  },
  {
   "cell_type": "code",
   "execution_count": 15,
   "metadata": {},
   "outputs": [
    {
     "data": {
      "text/plain": [
       "array([[ 4753, 30949,  7959, 19594, 23563],\n",
       "       [16992, 17106,  2121, 23339,  8913],\n",
       "       [ 7970, 13521, 32930, 24926, 29933],\n",
       "       ...,\n",
       "       [14556,  3482, 18381,  4866, 24574],\n",
       "       [32438,  2918, 24346, 32060, 13147],\n",
       "       [ 6217, 33684, 13116, 27597, 34301]])"
      ]
     },
     "execution_count": 15,
     "metadata": {},
     "output_type": "execute_result"
    }
   ],
   "source": [
    "best_dmrl"
   ]
  },
  {
   "cell_type": "code",
   "execution_count": 16,
   "metadata": {},
   "outputs": [
    {
     "data": {
      "text/plain": [
       "array([[35166, 26336, 12593, 18611, 24346],\n",
       "       [18611,  5797,  2121, 23339,  8913],\n",
       "       [31447, 10080, 12593, 16656, 32930],\n",
       "       ...,\n",
       "       [35166, 21514,  3482, 12593, 18611],\n",
       "       [24346, 13147, 32438, 18611, 12593],\n",
       "       [12593, 13116, 33684, 27597, 34301]])"
      ]
     },
     "execution_count": 16,
     "metadata": {},
     "output_type": "execute_result"
    }
   ],
   "source": [
    "best_sem_macridvae"
   ]
  },
  {
   "cell_type": "code",
   "execution_count": 17,
   "metadata": {},
   "outputs": [
    {
     "data": {
      "text/html": [
       "<div>\n",
       "<style scoped>\n",
       "    .dataframe tbody tr th:only-of-type {\n",
       "        vertical-align: middle;\n",
       "    }\n",
       "\n",
       "    .dataframe tbody tr th {\n",
       "        vertical-align: top;\n",
       "    }\n",
       "\n",
       "    .dataframe thead th {\n",
       "        text-align: right;\n",
       "    }\n",
       "</style>\n",
       "<table border=\"1\" class=\"dataframe\">\n",
       "  <thead>\n",
       "    <tr style=\"text-align: right;\">\n",
       "      <th></th>\n",
       "      <th>percentage</th>\n",
       "    </tr>\n",
       "  </thead>\n",
       "  <tbody>\n",
       "    <tr>\n",
       "      <th>12593</th>\n",
       "      <td>0.117617</td>\n",
       "    </tr>\n",
       "    <tr>\n",
       "      <th>18611</th>\n",
       "      <td>0.102976</td>\n",
       "    </tr>\n",
       "    <tr>\n",
       "      <th>21514</th>\n",
       "      <td>0.071610</td>\n",
       "    </tr>\n",
       "    <tr>\n",
       "      <th>24346</th>\n",
       "      <td>0.061120</td>\n",
       "    </tr>\n",
       "    <tr>\n",
       "      <th>35166</th>\n",
       "      <td>0.054782</td>\n",
       "    </tr>\n",
       "    <tr>\n",
       "      <th>26336</th>\n",
       "      <td>0.046728</td>\n",
       "    </tr>\n",
       "    <tr>\n",
       "      <th>24956</th>\n",
       "      <td>0.040158</td>\n",
       "    </tr>\n",
       "    <tr>\n",
       "      <th>32060</th>\n",
       "      <td>0.031281</td>\n",
       "    </tr>\n",
       "    <tr>\n",
       "      <th>18492</th>\n",
       "      <td>0.011914</td>\n",
       "    </tr>\n",
       "    <tr>\n",
       "      <th>1235</th>\n",
       "      <td>0.007016</td>\n",
       "    </tr>\n",
       "    <tr>\n",
       "      <th>27811</th>\n",
       "      <td>0.006313</td>\n",
       "    </tr>\n",
       "    <tr>\n",
       "      <th>5517</th>\n",
       "      <td>0.003071</td>\n",
       "    </tr>\n",
       "    <tr>\n",
       "      <th>26373</th>\n",
       "      <td>0.002933</td>\n",
       "    </tr>\n",
       "    <tr>\n",
       "      <th>31411</th>\n",
       "      <td>0.002839</td>\n",
       "    </tr>\n",
       "    <tr>\n",
       "      <th>10284</th>\n",
       "      <td>0.002830</td>\n",
       "    </tr>\n",
       "    <tr>\n",
       "      <th>307</th>\n",
       "      <td>0.002805</td>\n",
       "    </tr>\n",
       "    <tr>\n",
       "      <th>34043</th>\n",
       "      <td>0.002788</td>\n",
       "    </tr>\n",
       "    <tr>\n",
       "      <th>1752</th>\n",
       "      <td>0.002736</td>\n",
       "    </tr>\n",
       "    <tr>\n",
       "      <th>23510</th>\n",
       "      <td>0.002590</td>\n",
       "    </tr>\n",
       "    <tr>\n",
       "      <th>18031</th>\n",
       "      <td>0.002565</td>\n",
       "    </tr>\n",
       "  </tbody>\n",
       "</table>\n",
       "</div>"
      ],
      "text/plain": [
       "       percentage\n",
       "12593    0.117617\n",
       "18611    0.102976\n",
       "21514    0.071610\n",
       "24346    0.061120\n",
       "35166    0.054782\n",
       "26336    0.046728\n",
       "24956    0.040158\n",
       "32060    0.031281\n",
       "18492    0.011914\n",
       "1235     0.007016\n",
       "27811    0.006313\n",
       "5517     0.003071\n",
       "26373    0.002933\n",
       "31411    0.002839\n",
       "10284    0.002830\n",
       "307      0.002805\n",
       "34043    0.002788\n",
       "1752     0.002736\n",
       "23510    0.002590\n",
       "18031    0.002565"
      ]
     },
     "execution_count": 17,
     "metadata": {},
     "output_type": "execute_result"
    }
   ],
   "source": [
    "best_counts_semmacridvae = pd.Series(best_sem_macridvae.flatten()).value_counts(normalize=True).to_frame('percentage').head(20)\n",
    "best_counts_semmacridvae"
   ]
  },
  {
   "cell_type": "code",
   "execution_count": 18,
   "metadata": {},
   "outputs": [
    {
     "data": {
      "text/html": [
       "<div>\n",
       "<style scoped>\n",
       "    .dataframe tbody tr th:only-of-type {\n",
       "        vertical-align: middle;\n",
       "    }\n",
       "\n",
       "    .dataframe tbody tr th {\n",
       "        vertical-align: top;\n",
       "    }\n",
       "\n",
       "    .dataframe thead th {\n",
       "        text-align: right;\n",
       "    }\n",
       "</style>\n",
       "<table border=\"1\" class=\"dataframe\">\n",
       "  <thead>\n",
       "    <tr style=\"text-align: right;\">\n",
       "      <th></th>\n",
       "      <th>percentage</th>\n",
       "    </tr>\n",
       "  </thead>\n",
       "  <tbody>\n",
       "    <tr>\n",
       "      <th>9258</th>\n",
       "      <td>0.007608</td>\n",
       "    </tr>\n",
       "    <tr>\n",
       "      <th>17254</th>\n",
       "      <td>0.006484</td>\n",
       "    </tr>\n",
       "    <tr>\n",
       "      <th>6112</th>\n",
       "      <td>0.006416</td>\n",
       "    </tr>\n",
       "    <tr>\n",
       "      <th>1235</th>\n",
       "      <td>0.006073</td>\n",
       "    </tr>\n",
       "    <tr>\n",
       "      <th>381</th>\n",
       "      <td>0.005635</td>\n",
       "    </tr>\n",
       "    <tr>\n",
       "      <th>19635</th>\n",
       "      <td>0.005567</td>\n",
       "    </tr>\n",
       "    <tr>\n",
       "      <th>6802</th>\n",
       "      <td>0.005438</td>\n",
       "    </tr>\n",
       "    <tr>\n",
       "      <th>6027</th>\n",
       "      <td>0.005412</td>\n",
       "    </tr>\n",
       "    <tr>\n",
       "      <th>12593</th>\n",
       "      <td>0.005232</td>\n",
       "    </tr>\n",
       "    <tr>\n",
       "      <th>921</th>\n",
       "      <td>0.005060</td>\n",
       "    </tr>\n",
       "    <tr>\n",
       "      <th>5372</th>\n",
       "      <td>0.004898</td>\n",
       "    </tr>\n",
       "    <tr>\n",
       "      <th>28685</th>\n",
       "      <td>0.004863</td>\n",
       "    </tr>\n",
       "    <tr>\n",
       "      <th>34043</th>\n",
       "      <td>0.004597</td>\n",
       "    </tr>\n",
       "    <tr>\n",
       "      <th>29683</th>\n",
       "      <td>0.004580</td>\n",
       "    </tr>\n",
       "    <tr>\n",
       "      <th>38308</th>\n",
       "      <td>0.004520</td>\n",
       "    </tr>\n",
       "    <tr>\n",
       "      <th>13038</th>\n",
       "      <td>0.004357</td>\n",
       "    </tr>\n",
       "    <tr>\n",
       "      <th>8963</th>\n",
       "      <td>0.004323</td>\n",
       "    </tr>\n",
       "    <tr>\n",
       "      <th>7243</th>\n",
       "      <td>0.004220</td>\n",
       "    </tr>\n",
       "    <tr>\n",
       "      <th>16095</th>\n",
       "      <td>0.004211</td>\n",
       "    </tr>\n",
       "    <tr>\n",
       "      <th>13947</th>\n",
       "      <td>0.004091</td>\n",
       "    </tr>\n",
       "  </tbody>\n",
       "</table>\n",
       "</div>"
      ],
      "text/plain": [
       "       percentage\n",
       "9258     0.007608\n",
       "17254    0.006484\n",
       "6112     0.006416\n",
       "1235     0.006073\n",
       "381      0.005635\n",
       "19635    0.005567\n",
       "6802     0.005438\n",
       "6027     0.005412\n",
       "12593    0.005232\n",
       "921      0.005060\n",
       "5372     0.004898\n",
       "28685    0.004863\n",
       "34043    0.004597\n",
       "29683    0.004580\n",
       "38308    0.004520\n",
       "13038    0.004357\n",
       "8963     0.004323\n",
       "7243     0.004220\n",
       "16095    0.004211\n",
       "13947    0.004091"
      ]
     },
     "execution_count": 18,
     "metadata": {},
     "output_type": "execute_result"
    }
   ],
   "source": [
    "best_counts_dmrl = pd.Series(best_dmrl.flatten()).value_counts(normalize=True).to_frame('percentage').head(20)\n",
    "best_counts_dmrl"
   ]
  },
  {
   "attachments": {},
   "cell_type": "markdown",
   "metadata": {},
   "source": [
    "Top 20 items that counts as similar"
   ]
  },
  {
   "cell_type": "code",
   "execution_count": 22,
   "metadata": {},
   "outputs": [
    {
     "data": {
      "text/plain": [
       "{1235, 12593, 34043}"
      ]
     },
     "execution_count": 22,
     "metadata": {},
     "output_type": "execute_result"
    }
   ],
   "source": [
    "set(best_counts_dmrl.index) & set(best_counts_semmacridvae.index)"
   ]
  },
  {
   "cell_type": "code",
   "execution_count": 75,
   "metadata": {},
   "outputs": [
    {
     "data": {
      "text/html": [
       "<div>\n",
       "<style scoped>\n",
       "    .dataframe tbody tr th:only-of-type {\n",
       "        vertical-align: middle;\n",
       "    }\n",
       "\n",
       "    .dataframe tbody tr th {\n",
       "        vertical-align: top;\n",
       "    }\n",
       "\n",
       "    .dataframe thead th {\n",
       "        text-align: right;\n",
       "    }\n",
       "</style>\n",
       "<table border=\"1\" class=\"dataframe\">\n",
       "  <thead>\n",
       "    <tr style=\"text-align: right;\">\n",
       "      <th></th>\n",
       "      <th>asin</th>\n",
       "      <th>description</th>\n",
       "      <th>title</th>\n",
       "      <th>brand</th>\n",
       "      <th>main_cat</th>\n",
       "      <th>rank</th>\n",
       "      <th>price</th>\n",
       "      <th>image_slug</th>\n",
       "      <th>image_url</th>\n",
       "      <th>feature</th>\n",
       "      <th>category</th>\n",
       "      <th>tech_detail</th>\n",
       "    </tr>\n",
       "    <tr>\n",
       "      <th>id</th>\n",
       "      <th></th>\n",
       "      <th></th>\n",
       "      <th></th>\n",
       "      <th></th>\n",
       "      <th></th>\n",
       "      <th></th>\n",
       "      <th></th>\n",
       "      <th></th>\n",
       "      <th></th>\n",
       "      <th></th>\n",
       "      <th></th>\n",
       "      <th></th>\n",
       "    </tr>\n",
       "  </thead>\n",
       "  <tbody>\n",
       "    <tr>\n",
       "      <th>2416933</th>\n",
       "      <td>B01BFXNXWM</td>\n",
       "      <td>This butt lift skinny Jeans made of ultra soft...</td>\n",
       "      <td>HyBrid &amp; Company Women's Butt Lift V2 Super Co...</td>\n",
       "      <td>HyBrid &amp; Company</td>\n",
       "      <td>None</td>\n",
       "      <td>31,452inClothing,ShoesJewelry(</td>\n",
       "      <td>$11.79 - $24.99</td>\n",
       "      <td>[31worXZSHQL]</td>\n",
       "      <td>[https://m.media-amazon.com/images/I/31worXZSH...</td>\n",
       "      <td>[78% COTTON 20% POLYESTER 2% SPANDEX, Enhance ...</td>\n",
       "      <td>[Clothing, Shoes &amp; Jewelry, Women, Clothing, J...</td>\n",
       "      <td>None</td>\n",
       "    </tr>\n",
       "    <tr>\n",
       "      <th>79943</th>\n",
       "      <td>B00131FDTS</td>\n",
       "      <td>Rain Rain, go away\"...you won't be singing thi...</td>\n",
       "      <td>Nomad Women's Puddles Rain Boot</td>\n",
       "      <td>Nomad</td>\n",
       "      <td>None</td>\n",
       "      <td>24,578inClothing,ShoesJewelry(</td>\n",
       "      <td>$22.75 - $65.50</td>\n",
       "      <td>[51ja3jXc04L]</td>\n",
       "      <td>[https://m.media-amazon.com/images/I/51ja3jXc0...</td>\n",
       "      <td>[100% Rubber, Imported, NOTE: This style is av...</td>\n",
       "      <td>[Clothing, Shoes &amp; Jewelry, Women, Shoes, Outd...</td>\n",
       "      <td>None</td>\n",
       "    </tr>\n",
       "    <tr>\n",
       "      <th>2080052</th>\n",
       "      <td>B013F4GPD8</td>\n",
       "      <td>Plus4u is a company which carries variety styl...</td>\n",
       "      <td>Plus4u Women's Basic Solid Sleeveless Plus Siz...</td>\n",
       "      <td>Plus4u</td>\n",
       "      <td>None</td>\n",
       "      <td>553,119inClothing,ShoesJewelry(</td>\n",
       "      <td>$7.67 - $14.99</td>\n",
       "      <td>[313Orw0FrmL]</td>\n",
       "      <td>[https://images-na.ssl-images-amazon.com/image...</td>\n",
       "      <td>[AWTTSL076, AWTTK0477 (100% RAYON) / AWTTSL077...</td>\n",
       "      <td>[Clothing, Shoes &amp; Jewelry, Women, Clothing, T...</td>\n",
       "      <td>None</td>\n",
       "    </tr>\n",
       "  </tbody>\n",
       "</table>\n",
       "</div>"
      ],
      "text/plain": [
       "               asin                                        description  \\\n",
       "id                                                                       \n",
       "2416933  B01BFXNXWM  This butt lift skinny Jeans made of ultra soft...   \n",
       "79943    B00131FDTS  Rain Rain, go away\"...you won't be singing thi...   \n",
       "2080052  B013F4GPD8  Plus4u is a company which carries variety styl...   \n",
       "\n",
       "                                                     title             brand  \\\n",
       "id                                                                             \n",
       "2416933  HyBrid & Company Women's Butt Lift V2 Super Co...  HyBrid & Company   \n",
       "79943                      Nomad Women's Puddles Rain Boot             Nomad   \n",
       "2080052  Plus4u Women's Basic Solid Sleeveless Plus Siz...            Plus4u   \n",
       "\n",
       "        main_cat                             rank            price  \\\n",
       "id                                                                   \n",
       "2416933     None   31,452inClothing,ShoesJewelry(  $11.79 - $24.99   \n",
       "79943       None   24,578inClothing,ShoesJewelry(  $22.75 - $65.50   \n",
       "2080052     None  553,119inClothing,ShoesJewelry(   $7.67 - $14.99   \n",
       "\n",
       "            image_slug                                          image_url  \\\n",
       "id                                                                          \n",
       "2416933  [31worXZSHQL]  [https://m.media-amazon.com/images/I/31worXZSH...   \n",
       "79943    [51ja3jXc04L]  [https://m.media-amazon.com/images/I/51ja3jXc0...   \n",
       "2080052  [313Orw0FrmL]  [https://images-na.ssl-images-amazon.com/image...   \n",
       "\n",
       "                                                   feature  \\\n",
       "id                                                           \n",
       "2416933  [78% COTTON 20% POLYESTER 2% SPANDEX, Enhance ...   \n",
       "79943    [100% Rubber, Imported, NOTE: This style is av...   \n",
       "2080052  [AWTTSL076, AWTTK0477 (100% RAYON) / AWTTSL077...   \n",
       "\n",
       "                                                  category tech_detail  \n",
       "id                                                                      \n",
       "2416933  [Clothing, Shoes & Jewelry, Women, Clothing, J...        None  \n",
       "79943    [Clothing, Shoes & Jewelry, Women, Shoes, Outd...        None  \n",
       "2080052  [Clothing, Shoes & Jewelry, Women, Clothing, T...        None  "
      ]
     },
     "execution_count": 75,
     "metadata": {},
     "output_type": "execute_result"
    }
   ],
   "source": [
    "products = amazon_dataset.products_df(DATASET)\n",
    "products.sample(n=3)"
   ]
  },
  {
   "cell_type": "code",
   "execution_count": 174,
   "metadata": {},
   "outputs": [
    {
     "name": "stdout",
     "output_type": "stream",
     "text": [
      "User ID 1702\n",
      "Items train\n",
      "---------\n",
      "item_id\n",
      "17385          LEE Women's Relaxed Fit All Day Straight Leg Pant\n",
      "851            LEE Women's Relaxed Fit All Day Straight Leg Pant\n",
      "11751    Hanes Men's Short-Sleeve Jersey Pocket Polo (Pack of 2)\n",
      "Name: title, dtype: object\n",
      "Items predicted\n",
      "---------\n",
      "item_id\n",
      "15365    Rekucci Women's Ease In To Comfort Fit Barely Bootcut Stretch Pants\n",
      "20009                       Hanes Men's 5-Pack Exposed Waistband Knit Boxers\n",
      "21514                 Hanes Men's Pullover EcoSmart Fleece Hooded Sweatshirt\n",
      "25362                              LEE Women's Relaxed Fit Straight Leg Jean\n",
      "24346                                         Teva Women's Olowahu Flip-Flop\n",
      "Name: title, dtype: object\n"
     ]
    },
    {
     "ename": "",
     "evalue": "",
     "output_type": "error",
     "traceback": [
      "\u001b[1;31mThe Kernel crashed while executing code in the the current cell or a previous cell. Please review the code in the cell(s) to identify a possible cause of the failure. Click <a href='https://aka.ms/vscodeJupyterKernelCrash'>here</a> for more info. View Jupyter <a href='command:jupyter.viewOutput'>log</a> for further details."
     ]
    }
   ],
   "source": [
    "\n",
    "\n",
    "def analyze_train_vs_predicted(best_results: npt.NDArray[np.floating]):\n",
    "    best_results_set = np.apply_along_axis(lambda x: set(x), axis=1, arr=best_results)\n",
    "\n",
    "    train_set = [set() for _ in range(train.shape[0])]\n",
    "    for user_id, product_id in zip(*train.nonzero()):\n",
    "        train_set[user_id].add(product_id)\n",
    "    \n",
    "    sample = np.random.choice(len(train_set))\n",
    "    \n",
    "    products_by_item_id = items.join(products.set_index('asin')).set_index('item_id')\n",
    "\n",
    "    products_train = products_by_item_id.loc[list(train_set[sample] )]\n",
    "    products_predicted = products_by_item_id.loc[list(best_results_set[sample] )]\n",
    "\n",
    "    print('User ID', sample)\n",
    "    print('Items train')\n",
    "    print('---------')\n",
    "    pd.set_option('display.max_colwidth', 80)\n",
    "    print(products_train.title)\n",
    "    print('Items predicted')\n",
    "    print('---------')\n",
    "    print(products_predicted.title)\n",
    "        \n",
    "\n",
    "analyze_train_vs_predicted(best_sem_macridvae)"
   ]
  },
  {
   "attachments": {},
   "cell_type": "markdown",
   "metadata": {},
   "source": [
    "Analyze products duplication"
   ]
  },
  {
   "cell_type": "code",
   "execution_count": 170,
   "metadata": {},
   "outputs": [
    {
     "name": "stdout",
     "output_type": "stream",
     "text": [
      "Clothing_Shoes_and_Jewelry: 4.77%\n",
      "Movies_and_TV: 1.94%\n",
      "Home_and_Kitchen: 0.50%\n",
      "Musical_Instruments: 0.28%\n"
     ]
    }
   ],
   "source": [
    "import re\n",
    "import hashlib\n",
    "\n",
    "products = amazon_dataset.products_df('Clothing_Shoes_and_Jewelry')\n",
    "\n",
    "def gen_hash(s) -> str:\n",
    "    if s is None:\n",
    "        return '???'\n",
    "    \n",
    "    cleaned = re.sub(r'\\W+', '', s.lower().strip()).encode('ascii', errors='ignore')\n",
    "    md5hash = hashlib.md5()\n",
    "    md5hash.update(cleaned)\n",
    "    return md5hash.hexdigest()\n",
    "\n",
    "def analyze_dupicates():\n",
    "    for dataset in ['Clothing_Shoes_and_Jewelry', 'Movies_and_TV', 'Home_and_Kitchen', 'Musical_Instruments']:\n",
    "        products = amazon_dataset.products_df(dataset)\n",
    "        value_counts = products['title'].apply(lambda x: gen_hash(x)).value_counts()\n",
    "        duplicates = (value_counts > 1).sum() / len(value_counts)\n",
    "        print(f'{dataset}: {100*duplicates:.2f}%')\n",
    "\n",
    "analyze_dupicates()"
   ]
  },
  {
   "cell_type": "code",
   "execution_count": 91,
   "metadata": {},
   "outputs": [
    {
     "data": {
      "text/plain": [
       "18031    168\n",
       "38308    165\n",
       "26373    164\n",
       "3520     163\n",
       "8703     160\n",
       "34043    153\n",
       "28568    153\n",
       "10284    152\n",
       "6388     152\n",
       "5372     146\n",
       "1752     140\n",
       "12593    140\n",
       "13038    138\n",
       "23510    131\n",
       "33683    130\n",
       "307      123\n",
       "19838    118\n",
       "35166     91\n",
       "31411     82\n",
       "6536      78\n",
       "dtype: int64"
      ]
     },
     "execution_count": 91,
     "metadata": {},
     "output_type": "execute_result"
    }
   ],
   "source": [
    "pd.Series(np.asarray(test.sum(axis=0))[0].astype(int)).sort_values(ascending=False).head(20)"
   ]
  },
  {
   "cell_type": "code",
   "execution_count": 21,
   "metadata": {},
   "outputs": [
    {
     "data": {
      "text/plain": [
       "12593    617.0\n",
       "33683    598.0\n",
       "19838    590.0\n",
       "307      569.0\n",
       "10284    567.0\n",
       "         ...  \n",
       "31833      0.0\n",
       "8552       0.0\n",
       "8557       0.0\n",
       "8558       0.0\n",
       "21618      0.0\n",
       "Length: 38493, dtype: float64"
      ]
     },
     "execution_count": 21,
     "metadata": {},
     "output_type": "execute_result"
    }
   ],
   "source": [
    "pd.Series(train.sum(axis=0).tolist()[0]).sort_values(ascending=False)"
   ]
  },
  {
   "cell_type": "code",
   "execution_count": 72,
   "metadata": {},
   "outputs": [
    {
     "data": {
      "text/plain": [
       "Unnamed: 0    B0105V2DEY\n",
       "item_id                2\n",
       "Name: 2, dtype: object"
      ]
     },
     "execution_count": 72,
     "metadata": {},
     "output_type": "execute_result"
    }
   ],
   "source": [
    "items.iloc[2]"
   ]
  },
  {
   "attachments": {},
   "cell_type": "markdown",
   "metadata": {},
   "source": [
    "# Generate recommendation explanations"
   ]
  },
  {
   "cell_type": "code",
   "execution_count": 15,
   "metadata": {},
   "outputs": [
    {
     "data": {
      "text/plain": [
       "Index(['B013G9AYPC', 'B013G9BBA4', 'B013CA13K0', 'B013CZSN5S', 'B0113OB89S'], dtype='object')"
      ]
     },
     "execution_count": 15,
     "metadata": {},
     "output_type": "execute_result"
    }
   ],
   "source": [
    "some_recommendations_itemids =  854, 30552, 26624, 32501, 34301\n",
    "some_asins = items.loc[items['item_id'].isin(some_recommendations_itemids)].index\n",
    "some_asins"
   ]
  },
  {
   "cell_type": "code",
   "execution_count": 18,
   "metadata": {},
   "outputs": [
    {
     "data": {
      "text/html": [
       "<div>\n",
       "<style scoped>\n",
       "    .dataframe tbody tr th:only-of-type {\n",
       "        vertical-align: middle;\n",
       "    }\n",
       "\n",
       "    .dataframe tbody tr th {\n",
       "        vertical-align: top;\n",
       "    }\n",
       "\n",
       "    .dataframe thead th {\n",
       "        text-align: right;\n",
       "    }\n",
       "</style>\n",
       "<table border=\"1\" class=\"dataframe\">\n",
       "  <thead>\n",
       "    <tr style=\"text-align: right;\">\n",
       "      <th></th>\n",
       "      <th>id</th>\n",
       "      <th>asin</th>\n",
       "      <th>reviewerID</th>\n",
       "      <th>reviewerName</th>\n",
       "      <th>overall</th>\n",
       "      <th>text</th>\n",
       "      <th>reviewTime</th>\n",
       "      <th>summary</th>\n",
       "      <th>verified</th>\n",
       "      <th>vote</th>\n",
       "    </tr>\n",
       "  </thead>\n",
       "  <tbody>\n",
       "    <tr>\n",
       "      <th>0</th>\n",
       "      <td>676</td>\n",
       "      <td>5120053084</td>\n",
       "      <td>A35EUS1E3WK1HC</td>\n",
       "      <td>Kiley and Mars</td>\n",
       "      <td>5.0</td>\n",
       "      <td>It's a cute top, works good for nursing and la...</td>\n",
       "      <td>2018-04-10</td>\n",
       "      <td>Decent lounge around top</td>\n",
       "      <td>True</td>\n",
       "      <td>NaN</td>\n",
       "    </tr>\n",
       "    <tr>\n",
       "      <th>1</th>\n",
       "      <td>677</td>\n",
       "      <td>5120053084</td>\n",
       "      <td>AKIZYAIS4SYVF</td>\n",
       "      <td>Bethany</td>\n",
       "      <td>5.0</td>\n",
       "      <td>Looks really cute and super easy to nurse my d...</td>\n",
       "      <td>2018-03-22</td>\n",
       "      <td>Cute</td>\n",
       "      <td>True</td>\n",
       "      <td>NaN</td>\n",
       "    </tr>\n",
       "    <tr>\n",
       "      <th>2</th>\n",
       "      <td>679</td>\n",
       "      <td>5120053084</td>\n",
       "      <td>A2L74OWEP7H1VC</td>\n",
       "      <td>Shelby0516</td>\n",
       "      <td>3.0</td>\n",
       "      <td>The tie is longer than the pictures showed. Ha...</td>\n",
       "      <td>2018-03-14</td>\n",
       "      <td>Awkward tie</td>\n",
       "      <td>True</td>\n",
       "      <td>NaN</td>\n",
       "    </tr>\n",
       "    <tr>\n",
       "      <th>3</th>\n",
       "      <td>681</td>\n",
       "      <td>5120053084</td>\n",
       "      <td>A260RMKZXGDHVH</td>\n",
       "      <td>Kelly Kennedy</td>\n",
       "      <td>5.0</td>\n",
       "      <td>Of all the nursing shirts I bought my daughter...</td>\n",
       "      <td>2018-03-07</td>\n",
       "      <td>this one is her favorite. She wears it with pa...</td>\n",
       "      <td>True</td>\n",
       "      <td>NaN</td>\n",
       "    </tr>\n",
       "    <tr>\n",
       "      <th>4</th>\n",
       "      <td>1300</td>\n",
       "      <td>7709260373</td>\n",
       "      <td>A13QI8GT2FFGN6</td>\n",
       "      <td>Amy</td>\n",
       "      <td>5.0</td>\n",
       "      <td>For the price... this is awesome!</td>\n",
       "      <td>2018-03-13</td>\n",
       "      <td>this is awesome!</td>\n",
       "      <td>True</td>\n",
       "      <td>NaN</td>\n",
       "    </tr>\n",
       "    <tr>\n",
       "      <th>...</th>\n",
       "      <td>...</td>\n",
       "      <td>...</td>\n",
       "      <td>...</td>\n",
       "      <td>...</td>\n",
       "      <td>...</td>\n",
       "      <td>...</td>\n",
       "      <td>...</td>\n",
       "      <td>...</td>\n",
       "      <td>...</td>\n",
       "      <td>...</td>\n",
       "    </tr>\n",
       "    <tr>\n",
       "      <th>178939</th>\n",
       "      <td>32291840</td>\n",
       "      <td>B01HJCSCLK</td>\n",
       "      <td>AAHWQ4FMWLNH3</td>\n",
       "      <td>amazonlover</td>\n",
       "      <td>5.0</td>\n",
       "      <td>Beautiful. Strong, durable, and chic but subtl...</td>\n",
       "      <td>2018-07-25</td>\n",
       "      <td>Beautiful</td>\n",
       "      <td>True</td>\n",
       "      <td>NaN</td>\n",
       "    </tr>\n",
       "    <tr>\n",
       "      <th>178940</th>\n",
       "      <td>32291855</td>\n",
       "      <td>B01HJDVCJI</td>\n",
       "      <td>A2WUHKA1I75SL3</td>\n",
       "      <td>FRCP</td>\n",
       "      <td>3.0</td>\n",
       "      <td>Fit is great on these and they are very comfor...</td>\n",
       "      <td>2018-09-03</td>\n",
       "      <td>Comfortable</td>\n",
       "      <td>False</td>\n",
       "      <td>NaN</td>\n",
       "    </tr>\n",
       "    <tr>\n",
       "      <th>178941</th>\n",
       "      <td>32291863</td>\n",
       "      <td>B01HJDVCJI</td>\n",
       "      <td>A7B48AJT6IC0A</td>\n",
       "      <td>Lives2read</td>\n",
       "      <td>4.0</td>\n",
       "      <td>Excellent arch support. Unique tongue design c...</td>\n",
       "      <td>2018-08-13</td>\n",
       "      <td>Unique look and comfort</td>\n",
       "      <td>False</td>\n",
       "      <td>NaN</td>\n",
       "    </tr>\n",
       "    <tr>\n",
       "      <th>178942</th>\n",
       "      <td>32291875</td>\n",
       "      <td>B01HJDZM30</td>\n",
       "      <td>A2CJOG4NUHVDGK</td>\n",
       "      <td>Brittney Mitchell</td>\n",
       "      <td>5.0</td>\n",
       "      <td>Bought this for my husband and he absolutely l...</td>\n",
       "      <td>2018-08-29</td>\n",
       "      <td>Five Stars</td>\n",
       "      <td>False</td>\n",
       "      <td>NaN</td>\n",
       "    </tr>\n",
       "    <tr>\n",
       "      <th>178943</th>\n",
       "      <td>32291883</td>\n",
       "      <td>B01HJD4BBE</td>\n",
       "      <td>A3UVMG2B3BG5O2</td>\n",
       "      <td>Sharla Murrill</td>\n",
       "      <td>5.0</td>\n",
       "      <td>I love this wallet. It is smells great and hol...</td>\n",
       "      <td>2018-04-27</td>\n",
       "      <td>Five Stars</td>\n",
       "      <td>True</td>\n",
       "      <td>NaN</td>\n",
       "    </tr>\n",
       "  </tbody>\n",
       "</table>\n",
       "<p>178944 rows × 10 columns</p>\n",
       "</div>"
      ],
      "text/plain": [
       "              id        asin      reviewerID       reviewerName  overall  \\\n",
       "0            676  5120053084  A35EUS1E3WK1HC     Kiley and Mars      5.0   \n",
       "1            677  5120053084   AKIZYAIS4SYVF            Bethany      5.0   \n",
       "2            679  5120053084  A2L74OWEP7H1VC         Shelby0516      3.0   \n",
       "3            681  5120053084  A260RMKZXGDHVH      Kelly Kennedy      5.0   \n",
       "4           1300  7709260373  A13QI8GT2FFGN6                Amy      5.0   \n",
       "...          ...         ...             ...                ...      ...   \n",
       "178939  32291840  B01HJCSCLK   AAHWQ4FMWLNH3        amazonlover      5.0   \n",
       "178940  32291855  B01HJDVCJI  A2WUHKA1I75SL3               FRCP      3.0   \n",
       "178941  32291863  B01HJDVCJI   A7B48AJT6IC0A         Lives2read      4.0   \n",
       "178942  32291875  B01HJDZM30  A2CJOG4NUHVDGK  Brittney Mitchell      5.0   \n",
       "178943  32291883  B01HJD4BBE  A3UVMG2B3BG5O2     Sharla Murrill      5.0   \n",
       "\n",
       "                                                     text  reviewTime  \\\n",
       "0       It's a cute top, works good for nursing and la...  2018-04-10   \n",
       "1       Looks really cute and super easy to nurse my d...  2018-03-22   \n",
       "2       The tie is longer than the pictures showed. Ha...  2018-03-14   \n",
       "3       Of all the nursing shirts I bought my daughter...  2018-03-07   \n",
       "4                       For the price... this is awesome!  2018-03-13   \n",
       "...                                                   ...         ...   \n",
       "178939  Beautiful. Strong, durable, and chic but subtl...  2018-07-25   \n",
       "178940  Fit is great on these and they are very comfor...  2018-09-03   \n",
       "178941  Excellent arch support. Unique tongue design c...  2018-08-13   \n",
       "178942  Bought this for my husband and he absolutely l...  2018-08-29   \n",
       "178943  I love this wallet. It is smells great and hol...  2018-04-27   \n",
       "\n",
       "                                                  summary  verified  vote  \n",
       "0                                Decent lounge around top      True   NaN  \n",
       "1                                                    Cute      True   NaN  \n",
       "2                                             Awkward tie      True   NaN  \n",
       "3       this one is her favorite. She wears it with pa...      True   NaN  \n",
       "4                                        this is awesome!      True   NaN  \n",
       "...                                                   ...       ...   ...  \n",
       "178939                                          Beautiful      True   NaN  \n",
       "178940                                        Comfortable     False   NaN  \n",
       "178941                            Unique look and comfort     False   NaN  \n",
       "178942                                         Five Stars     False   NaN  \n",
       "178943                                         Five Stars      True   NaN  \n",
       "\n",
       "[178944 rows x 10 columns]"
      ]
     },
     "execution_count": 18,
     "metadata": {},
     "output_type": "execute_result"
    }
   ],
   "source": [
    "reviews = amazon_dataset.reviews_df(DATASET)\n",
    "reviews"
   ]
  },
  {
   "cell_type": "code",
   "execution_count": 16,
   "metadata": {},
   "outputs": [
    {
     "data": {
      "text/plain": [
       "id\n",
       "2024956               TOMS Men's Classic Canvas Slip-On\n",
       "2077409    TOMS Seasonal Classics Women's Slip on Shoes\n",
       "2078298               TOMS Men's Classic Canvas Slip-On\n",
       "2081419    TOMS Seasonal Classics Women's Slip on Shoes\n",
       "2081430    TOMS Seasonal Classics Women's Slip on Shoes\n",
       "Name: title, dtype: object"
      ]
     },
     "execution_count": 16,
     "metadata": {},
     "output_type": "execute_result"
    }
   ],
   "source": [
    "products.loc[products['asin'].isin(some_asins)]['title']"
   ]
  },
  {
   "cell_type": "code",
   "execution_count": 23,
   "metadata": {},
   "outputs": [
    {
     "name": "stdout",
     "output_type": "stream",
     "text": [
      "The item has the following comments about it:\n",
      "\n",
      "- Comfortable and adaptable to skirts, shorts, dresses.\n",
      "- Comfortable and light. My daughter loves them!\n",
      "- I just received these and I'm in the process of breaking them in.  They are a TAD small with socks on.  I normally wear a size 11, and my toe is basically to the end.  I love the comfort otherwise.  They are very light and are a good hybrid slipper/shoe.\n",
      "- Great shoe for weekends/lazy days...everyday.  Shoe fitted closely a first but with continue wear it now fit perfectly.  The only thing that disappointed me was the colour faded after its first clean.\n",
      "- Must have summer shoe!! Perfect Toms style and comfort!!\n",
      "\n",
      "The suggestion for this item is:\n",
      "\n",
      "\n",
      "This item is perfect for those looking for a comfortable and adaptable shoe that can be worn with skirts, shorts, and dresses. It is lightweight and provides great comfort. The shoe may fit a bit small at first, but with continued wear it will fit perfectly. The colour may fade after its first\n"
     ]
    }
   ],
   "source": [
    "def some_reviews_joined(reviews_df: pd.DataFrame, asins: pd.Series):\n",
    "    def is_long_enough(text: str):\n",
    "        if text is None:\n",
    "            return False\n",
    "        return len(text.split()) > 5\n",
    "\n",
    "    condition = (\n",
    "        reviews_df['asin'].isin(asins) & \n",
    "        (reviews_df['overall'] >= 4) & \n",
    "        (~reviews_df['text'].isna()) &\n",
    "        reviews_df['text'].apply(is_long_enough)\n",
    "    )\n",
    "    some_reviews = reviews.loc[condition]\n",
    "    some_review_texts = some_reviews['text'].sample(n=5).apply(lambda x: f'- {x}')\n",
    "    return \"\\n\".join(some_review_texts.to_list())\n",
    "\n",
    "def prompt_for_completion(reviews_df: pd.DataFrame, asins: pd.Series):\n",
    "    reviews_joined = some_reviews_joined(reviews_df, asins)\n",
    "    prefix = \"The item has the following comments about it\"\n",
    "    instruction = 'The suggestion for this item is:'\n",
    "    prompt = f\"{prefix}:\\n\\n{reviews_joined}\\n\\n{instruction}\\n\\n\"\n",
    "    print(prompt)\n",
    "    openai.api_key = os.getenv(\"OPENAI_APIKEY\")\n",
    "    response = openai.Completion.create(\n",
    "        model=\"text-davinci-003\",\n",
    "        prompt=prompt,\n",
    "        temperature=0,\n",
    "        max_tokens=60,\n",
    "        top_p=1,\n",
    "        frequency_penalty=0.5,\n",
    "        presence_penalty=0\n",
    "    )\n",
    "    choices = response[\"choices\"]\n",
    "    assert len(choices) == 1\n",
    "    return choices[0][\"text\"]\n",
    "\n",
    "print(prompt_for_completion(reviews, some_asins))"
   ]
  },
  {
   "cell_type": "code",
   "execution_count": null,
   "metadata": {},
   "outputs": [],
   "source": []
  }
 ],
 "metadata": {
  "kernelspec": {
   "display_name": ".venv",
   "language": "python",
   "name": "python3"
  },
  "language_info": {
   "codemirror_mode": {
    "name": "ipython",
    "version": 3
   },
   "file_extension": ".py",
   "mimetype": "text/x-python",
   "name": "python",
   "nbconvert_exporter": "python",
   "pygments_lexer": "ipython3",
   "version": "3.8.16"
  },
  "orig_nbformat": 4
 },
 "nbformat": 4,
 "nbformat_minor": 2
}
