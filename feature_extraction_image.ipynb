{
 "cells": [
  {
   "cell_type": "code",
   "execution_count": 1,
   "metadata": {},
   "outputs": [],
   "source": [
    "import numpy as np\n",
    "\n",
    "import amazon_dataset\n",
    "import feature_extraction_image"
   ]
  },
  {
   "cell_type": "code",
   "execution_count": 2,
   "metadata": {},
   "outputs": [],
   "source": [
    "dataset = 'Clothing_Shoes_and_Jewelry'"
   ]
  },
  {
   "cell_type": "code",
   "execution_count": 3,
   "metadata": {},
   "outputs": [
    {
     "data": {
      "text/plain": [
       "PosixPath('data/amazon/Clothing_Shoes_and_Jewelry_product_images')"
      ]
     },
     "execution_count": 3,
     "metadata": {},
     "output_type": "execute_result"
    }
   ],
   "source": [
    "asset_path = amazon_dataset.product_images_dir(dataset)\n",
    "asset_path"
   ]
  },
  {
   "cell_type": "code",
   "execution_count": 3,
   "metadata": {},
   "outputs": [
    {
     "data": {
      "text/html": [
       "<div>\n",
       "<style scoped>\n",
       "    .dataframe tbody tr th:only-of-type {\n",
       "        vertical-align: middle;\n",
       "    }\n",
       "\n",
       "    .dataframe tbody tr th {\n",
       "        vertical-align: top;\n",
       "    }\n",
       "\n",
       "    .dataframe thead th {\n",
       "        text-align: right;\n",
       "    }\n",
       "</style>\n",
       "<table border=\"1\" class=\"dataframe\">\n",
       "  <thead>\n",
       "    <tr style=\"text-align: right;\">\n",
       "      <th></th>\n",
       "      <th>asin</th>\n",
       "      <th>description</th>\n",
       "      <th>title</th>\n",
       "      <th>brand</th>\n",
       "      <th>main_cat</th>\n",
       "      <th>rank</th>\n",
       "      <th>price</th>\n",
       "      <th>image_slug</th>\n",
       "      <th>image_url</th>\n",
       "      <th>feature</th>\n",
       "      <th>category</th>\n",
       "      <th>tech_detail</th>\n",
       "    </tr>\n",
       "    <tr>\n",
       "      <th>id</th>\n",
       "      <th></th>\n",
       "      <th></th>\n",
       "      <th></th>\n",
       "      <th></th>\n",
       "      <th></th>\n",
       "      <th></th>\n",
       "      <th></th>\n",
       "      <th></th>\n",
       "      <th></th>\n",
       "      <th></th>\n",
       "      <th></th>\n",
       "      <th></th>\n",
       "    </tr>\n",
       "  </thead>\n",
       "  <tbody>\n",
       "    <tr>\n",
       "      <th>692259</th>\n",
       "      <td>B00ABKAOTQ</td>\n",
       "      <td>Hanes men's sports-inspired boxer brief with C...</td>\n",
       "      <td>Hanes Men's 5-Pack Sports-Inspired Boxer Brief</td>\n",
       "      <td>Hanes</td>\n",
       "      <td>None</td>\n",
       "      <td>119inClothing,ShoesJewelry(</td>\n",
       "      <td>$13.21 - $42.00</td>\n",
       "      <td>[41sm1BG073L]</td>\n",
       "      <td>[https://m.media-amazon.com/images/I/41sm1BG07...</td>\n",
       "      <td>[Solids: 100% Cotton; Heather: 75% Cotton/25% ...</td>\n",
       "      <td>[Clothing, Shoes &amp; Jewelry, Men, Clothing, Und...</td>\n",
       "      <td>None</td>\n",
       "    </tr>\n",
       "    <tr>\n",
       "      <th>1192593</th>\n",
       "      <td>B00HZ4AJ64</td>\n",
       "      <td>None</td>\n",
       "      <td>Spring Notion Boys' Classic Fit Formal Dress S...</td>\n",
       "      <td>Spring Notion</td>\n",
       "      <td>None</td>\n",
       "      <td>19,620inClothing,ShoesJewelry(</td>\n",
       "      <td>$20.00 - $63.95</td>\n",
       "      <td>[21nDItRmBML]</td>\n",
       "      <td>[https://m.media-amazon.com/images/I/21nDItRmB...</td>\n",
       "      <td>[100% Polyester, Single breasted jacket with t...</td>\n",
       "      <td>[Clothing, Shoes &amp; Jewelry, Boys, Clothing, Su...</td>\n",
       "      <td>None</td>\n",
       "    </tr>\n",
       "    <tr>\n",
       "      <th>2147875</th>\n",
       "      <td>B01566Y8NW</td>\n",
       "      <td>DA VICCINO TOP-01 Women's Slouch Size Zipper F...</td>\n",
       "      <td>Da Viccino TOP-01 Women's Slouch Side Zipper F...</td>\n",
       "      <td>Da Viccino</td>\n",
       "      <td>None</td>\n",
       "      <td>553,822inClothing,ShoesJewelry(</td>\n",
       "      <td>None</td>\n",
       "      <td>[311ylusq82L]</td>\n",
       "      <td>[https://images-na.ssl-images-amazon.com/image...</td>\n",
       "      <td>[Faux Suede, Imported, Synthetic sole, Shaft m...</td>\n",
       "      <td>[Clothing, Shoes &amp; Jewelry, Women, Shoes, Boot...</td>\n",
       "      <td>None</td>\n",
       "    </tr>\n",
       "  </tbody>\n",
       "</table>\n",
       "</div>"
      ],
      "text/plain": [
       "               asin                                        description  \\\n",
       "id                                                                       \n",
       "692259   B00ABKAOTQ  Hanes men's sports-inspired boxer brief with C...   \n",
       "1192593  B00HZ4AJ64                                               None   \n",
       "2147875  B01566Y8NW  DA VICCINO TOP-01 Women's Slouch Size Zipper F...   \n",
       "\n",
       "                                                     title          brand  \\\n",
       "id                                                                          \n",
       "692259      Hanes Men's 5-Pack Sports-Inspired Boxer Brief          Hanes   \n",
       "1192593  Spring Notion Boys' Classic Fit Formal Dress S...  Spring Notion   \n",
       "2147875  Da Viccino TOP-01 Women's Slouch Side Zipper F...     Da Viccino   \n",
       "\n",
       "        main_cat                             rank            price  \\\n",
       "id                                                                   \n",
       "692259      None      119inClothing,ShoesJewelry(  $13.21 - $42.00   \n",
       "1192593     None   19,620inClothing,ShoesJewelry(  $20.00 - $63.95   \n",
       "2147875     None  553,822inClothing,ShoesJewelry(             None   \n",
       "\n",
       "            image_slug                                          image_url  \\\n",
       "id                                                                          \n",
       "692259   [41sm1BG073L]  [https://m.media-amazon.com/images/I/41sm1BG07...   \n",
       "1192593  [21nDItRmBML]  [https://m.media-amazon.com/images/I/21nDItRmB...   \n",
       "2147875  [311ylusq82L]  [https://images-na.ssl-images-amazon.com/image...   \n",
       "\n",
       "                                                   feature  \\\n",
       "id                                                           \n",
       "692259   [Solids: 100% Cotton; Heather: 75% Cotton/25% ...   \n",
       "1192593  [100% Polyester, Single breasted jacket with t...   \n",
       "2147875  [Faux Suede, Imported, Synthetic sole, Shaft m...   \n",
       "\n",
       "                                                  category tech_detail  \n",
       "id                                                                      \n",
       "692259   [Clothing, Shoes & Jewelry, Men, Clothing, Und...        None  \n",
       "1192593  [Clothing, Shoes & Jewelry, Boys, Clothing, Su...        None  \n",
       "2147875  [Clothing, Shoes & Jewelry, Women, Shoes, Boot...        None  "
      ]
     },
     "execution_count": 3,
     "metadata": {},
     "output_type": "execute_result"
    }
   ],
   "source": [
    "products_df = amazon_dataset.products_df(dataset)\n",
    "products_df.sample(n=3)"
   ]
  },
  {
   "cell_type": "code",
   "execution_count": 9,
   "metadata": {},
   "outputs": [
    {
     "name": "stdout",
     "output_type": "stream",
     "text": [
      "Listing images...\n"
     ]
    },
    {
     "name": "stderr",
     "output_type": "stream",
     "text": [
      "Extracting features  : 100%|██████████| 2.77k/2.77k [00:06<00:00, 403image/s]\n",
      "Building feature dict: 100%|██████████| 38.5k/38.5k [00:08<00:00, 4.29kproduct/s] \n"
     ]
    },
    {
     "name": "stdout",
     "output_type": "stream",
     "text": [
      "Products with no values: 234\n"
     ]
    }
   ],
   "source": [
    "alexnet_features = feature_extraction_image.extract_alexnet_features(\n",
    "    products_df, \n",
    "    asset_path=asset_path,\n",
    "    batch_size=16\n",
    ")"
   ]
  },
  {
   "cell_type": "code",
   "execution_count": 10,
   "metadata": {},
   "outputs": [],
   "source": [
    "np.savez_compressed(\n",
    "    amazon_dataset.BASE_DATA_FOLDER / f'{dataset}_alexnet_features.npz',\n",
    "    **alexnet_features\n",
    ")\n",
    "del alexnet_features"
   ]
  },
  {
   "attachments": {},
   "cell_type": "markdown",
   "metadata": {},
   "source": [
    "Remove unnecessary files"
   ]
  },
  {
   "cell_type": "code",
   "execution_count": 7,
   "metadata": {},
   "outputs": [],
   "source": [
    "for feature_file in amazon_dataset.product_images_dir(dataset).glob('*.alexnet'):\n",
    "    feature_file.unlink()"
   ]
  },
  {
   "cell_type": "code",
   "execution_count": null,
   "metadata": {},
   "outputs": [],
   "source": [
    "vit_features = feature_extraction_image.extract_vit_features(\n",
    "    products_df, \n",
    "    asset_path=asset_path,\n",
    "    batch_size=16\n",
    ")"
   ]
  },
  {
   "cell_type": "code",
   "execution_count": null,
   "metadata": {},
   "outputs": [],
   "source": [
    "np.savez_compressed(\n",
    "    amazon_dataset.BASE_DATA_FOLDER / f'{dataset}_vit_features.npz',\n",
    "    **vit_features\n",
    ")\n",
    "del vit_features"
   ]
  },
  {
   "cell_type": "markdown",
   "metadata": {},
   "source": [
    "Remove unnecessary files"
   ]
  },
  {
   "cell_type": "code",
   "execution_count": 8,
   "metadata": {},
   "outputs": [],
   "source": [
    "for feature_file in amazon_dataset.product_images_dir(dataset).glob('*.vit'):\n",
    "    feature_file.unlink()"
   ]
  },
  {
   "cell_type": "code",
   "execution_count": null,
   "metadata": {},
   "outputs": [
    {
     "name": "stdout",
     "output_type": "stream",
     "text": [
      "Listing images...\n"
     ]
    },
    {
     "name": "stderr",
     "output_type": "stream",
     "text": [
      "Building feature dict: 100%|██████████| 38.5k/38.5k [00:13<00:00, 2.85kproduct/s] "
     ]
    },
    {
     "name": "stdout",
     "output_type": "stream",
     "text": [
      "Products with no values: 229\n"
     ]
    },
    {
     "name": "stderr",
     "output_type": "stream",
     "text": [
      "\n"
     ]
    }
   ],
   "source": [
    "clip_features = feature_extraction_image.extract_clip_features(products_df, asset_path=asset_path)"
   ]
  },
  {
   "cell_type": "code",
   "execution_count": null,
   "metadata": {},
   "outputs": [],
   "source": [
    "np.savez_compressed(\n",
    "    amazon_dataset.BASE_DATA_FOLDER / f'{dataset}_clipimage_features.npz',\n",
    "    **clip_features\n",
    ")"
   ]
  },
  {
   "cell_type": "markdown",
   "metadata": {},
   "source": [
    "Remove unnecessary files"
   ]
  },
  {
   "cell_type": "code",
   "execution_count": 9,
   "metadata": {},
   "outputs": [],
   "source": [
    "for feature_file in amazon_dataset.product_images_dir(dataset).glob('*.alexnet'):\n",
    "    feature_file.unlink()"
   ]
  }
 ],
 "metadata": {
  "kernelspec": {
   "display_name": ".venv",
   "language": "python",
   "name": "python3"
  },
  "language_info": {
   "codemirror_mode": {
    "name": "ipython",
    "version": 3
   },
   "file_extension": ".py",
   "mimetype": "text/x-python",
   "name": "python",
   "nbconvert_exporter": "python",
   "pygments_lexer": "ipython3",
   "version": "3.8.16"
  },
  "orig_nbformat": 4,
  "vscode": {
   "interpreter": {
    "hash": "4c22d1444aa3f68a820bd00264b529de9aca8b813336c5d71bda95dadce90fbf"
   }
  }
 },
 "nbformat": 4,
 "nbformat_minor": 2
}
