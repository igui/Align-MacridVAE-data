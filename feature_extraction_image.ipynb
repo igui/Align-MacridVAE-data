{
 "cells": [
  {
   "cell_type": "code",
   "execution_count": 1,
   "metadata": {},
   "outputs": [],
   "source": [
    "import numpy as np\n",
    "\n",
    "import amazon_dataset\n",
    "import feature_extraction_image"
   ]
  },
  {
   "cell_type": "code",
   "execution_count": 2,
   "metadata": {},
   "outputs": [],
   "source": [
    "dataset = 'Clothing_Shoes_and_Jewelry'"
   ]
  },
  {
   "cell_type": "code",
   "execution_count": 3,
   "metadata": {},
   "outputs": [
    {
     "data": {
      "text/plain": [
       "PosixPath('data/amazon/Clothing_Shoes_and_Jewelry_product_images')"
      ]
     },
     "execution_count": 3,
     "metadata": {},
     "output_type": "execute_result"
    }
   ],
   "source": [
    "asset_path = amazon_dataset.product_images_dir(dataset)\n",
    "asset_path"
   ]
  },
  {
   "cell_type": "code",
   "execution_count": 4,
   "metadata": {},
   "outputs": [
    {
     "data": {
      "text/html": [
       "<div>\n",
       "<style scoped>\n",
       "    .dataframe tbody tr th:only-of-type {\n",
       "        vertical-align: middle;\n",
       "    }\n",
       "\n",
       "    .dataframe tbody tr th {\n",
       "        vertical-align: top;\n",
       "    }\n",
       "\n",
       "    .dataframe thead th {\n",
       "        text-align: right;\n",
       "    }\n",
       "</style>\n",
       "<table border=\"1\" class=\"dataframe\">\n",
       "  <thead>\n",
       "    <tr style=\"text-align: right;\">\n",
       "      <th></th>\n",
       "      <th>asin</th>\n",
       "      <th>description</th>\n",
       "      <th>title</th>\n",
       "      <th>brand</th>\n",
       "      <th>main_cat</th>\n",
       "      <th>rank</th>\n",
       "      <th>price</th>\n",
       "      <th>image_slug</th>\n",
       "      <th>image_url</th>\n",
       "      <th>feature</th>\n",
       "      <th>category</th>\n",
       "      <th>tech_detail</th>\n",
       "    </tr>\n",
       "    <tr>\n",
       "      <th>id</th>\n",
       "      <th></th>\n",
       "      <th></th>\n",
       "      <th></th>\n",
       "      <th></th>\n",
       "      <th></th>\n",
       "      <th></th>\n",
       "      <th></th>\n",
       "      <th></th>\n",
       "      <th></th>\n",
       "      <th></th>\n",
       "      <th></th>\n",
       "      <th></th>\n",
       "    </tr>\n",
       "  </thead>\n",
       "  <tbody>\n",
       "    <tr>\n",
       "      <th>1020245</th>\n",
       "      <td>B00F3EDEOC</td>\n",
       "      <td>The original zip fly, first created in 1967, t...</td>\n",
       "      <td>Levi's Men's 505 Regular Fit Jean</td>\n",
       "      <td>None</td>\n",
       "      <td>None</td>\n",
       "      <td>10inClothing,ShoesJewelry(</td>\n",
       "      <td>$25.00 - $69.33</td>\n",
       "      <td>[410jLY4UGLL]</td>\n",
       "      <td>[https://m.media-amazon.com/images/I/410jLY4UG...</td>\n",
       "      <td>[100% Cotton, Imported, Zip fly with button cl...</td>\n",
       "      <td>[Clothing, Shoes &amp; Jewelry, Men, Clothing, Jeans]</td>\n",
       "      <td>None</td>\n",
       "    </tr>\n",
       "    <tr>\n",
       "      <th>1829769</th>\n",
       "      <td>B00USJUOT0</td>\n",
       "      <td>\\nAfter a long day outside, the last thing you...</td>\n",
       "      <td>DealStock Fishing Cap with Ear and Neck Flap C...</td>\n",
       "      <td>DealStock</td>\n",
       "      <td>None</td>\n",
       "      <td>57,231inClothing,ShoesJewelry(</td>\n",
       "      <td>$9.98</td>\n",
       "      <td>[412aWemRbuL]</td>\n",
       "      <td>[https://m.media-amazon.com/images/I/412aWemRb...</td>\n",
       "      <td>[Made in USA or Imported, Protects your ears, ...</td>\n",
       "      <td>[Clothing, Shoes &amp; Jewelry, Boys, Accessories,...</td>\n",
       "      <td>None</td>\n",
       "    </tr>\n",
       "    <tr>\n",
       "      <th>2180561</th>\n",
       "      <td>B015UF4VHW</td>\n",
       "      <td>Package content: 1 x clothing (no shoes).  Sui...</td>\n",
       "      <td>Adult Anime Cosplay Costume Onesies Pajamas Ro...</td>\n",
       "      <td>WinVic</td>\n",
       "      <td>None</td>\n",
       "      <td>34,082inClothing,ShoesJewelry(</td>\n",
       "      <td>$22.00 - $25.00</td>\n",
       "      <td>[41vIkepWxQL]</td>\n",
       "      <td>[https://m.media-amazon.com/images/I/41vIkepWx...</td>\n",
       "      <td>[Package content: 1 x clothing (no shoes), Siz...</td>\n",
       "      <td>[Clothing, Shoes &amp; Jewelry, Novelty &amp; More, Cl...</td>\n",
       "      <td>None</td>\n",
       "    </tr>\n",
       "  </tbody>\n",
       "</table>\n",
       "</div>"
      ],
      "text/plain": [
       "               asin                                        description  \\\n",
       "id                                                                       \n",
       "1020245  B00F3EDEOC  The original zip fly, first created in 1967, t...   \n",
       "1829769  B00USJUOT0  \\nAfter a long day outside, the last thing you...   \n",
       "2180561  B015UF4VHW  Package content: 1 x clothing (no shoes).  Sui...   \n",
       "\n",
       "                                                     title      brand  \\\n",
       "id                                                                      \n",
       "1020245                  Levi's Men's 505 Regular Fit Jean       None   \n",
       "1829769  DealStock Fishing Cap with Ear and Neck Flap C...  DealStock   \n",
       "2180561  Adult Anime Cosplay Costume Onesies Pajamas Ro...     WinVic   \n",
       "\n",
       "        main_cat                            rank            price  \\\n",
       "id                                                                  \n",
       "1020245     None      10inClothing,ShoesJewelry(  $25.00 - $69.33   \n",
       "1829769     None  57,231inClothing,ShoesJewelry(            $9.98   \n",
       "2180561     None  34,082inClothing,ShoesJewelry(  $22.00 - $25.00   \n",
       "\n",
       "            image_slug                                          image_url  \\\n",
       "id                                                                          \n",
       "1020245  [410jLY4UGLL]  [https://m.media-amazon.com/images/I/410jLY4UG...   \n",
       "1829769  [412aWemRbuL]  [https://m.media-amazon.com/images/I/412aWemRb...   \n",
       "2180561  [41vIkepWxQL]  [https://m.media-amazon.com/images/I/41vIkepWx...   \n",
       "\n",
       "                                                   feature  \\\n",
       "id                                                           \n",
       "1020245  [100% Cotton, Imported, Zip fly with button cl...   \n",
       "1829769  [Made in USA or Imported, Protects your ears, ...   \n",
       "2180561  [Package content: 1 x clothing (no shoes), Siz...   \n",
       "\n",
       "                                                  category tech_detail  \n",
       "id                                                                      \n",
       "1020245  [Clothing, Shoes & Jewelry, Men, Clothing, Jeans]        None  \n",
       "1829769  [Clothing, Shoes & Jewelry, Boys, Accessories,...        None  \n",
       "2180561  [Clothing, Shoes & Jewelry, Novelty & More, Cl...        None  "
      ]
     },
     "execution_count": 4,
     "metadata": {},
     "output_type": "execute_result"
    }
   ],
   "source": [
    "products_df = amazon_dataset.products_df(dataset)\n",
    "products_df.sample(n=3)"
   ]
  },
  {
   "cell_type": "code",
   "execution_count": 9,
   "metadata": {},
   "outputs": [
    {
     "name": "stdout",
     "output_type": "stream",
     "text": [
      "Listing images...\n"
     ]
    },
    {
     "name": "stderr",
     "output_type": "stream",
     "text": [
      "Extracting features  : 100%|██████████| 2.77k/2.77k [00:06<00:00, 403image/s]\n",
      "Building feature dict: 100%|██████████| 38.5k/38.5k [00:08<00:00, 4.29kproduct/s] \n"
     ]
    },
    {
     "name": "stdout",
     "output_type": "stream",
     "text": [
      "Products with no values: 234\n"
     ]
    }
   ],
   "source": [
    "alexnet_features = feature_extraction_image.extract_alexnet_features(\n",
    "    products_df, \n",
    "    asset_path=asset_path,\n",
    "    batch_size=16\n",
    ")"
   ]
  },
  {
   "cell_type": "code",
   "execution_count": 10,
   "metadata": {},
   "outputs": [],
   "source": [
    "np.savez_compressed(\n",
    "    amazon_dataset.BASE_DATA_FOLDER / f'{dataset}_alexnet_features.npz',\n",
    "    **alexnet_features\n",
    ")\n",
    "del alexnet_features"
   ]
  },
  {
   "cell_type": "code",
   "execution_count": 11,
   "metadata": {},
   "outputs": [
    {
     "name": "stdout",
     "output_type": "stream",
     "text": [
      "Listing images...\n"
     ]
    },
    {
     "name": "stderr",
     "output_type": "stream",
     "text": [
      "Extracting features  :   0%|          | 11.0/37.6k [00:04<4:15:29, 2.45image/s] "
     ]
    }
   ],
   "source": [
    "vit_features = feature_extraction_image.extract_vit_features(\n",
    "    products_df, \n",
    "    asset_path=asset_path,\n",
    "    batch_size=16\n",
    ")"
   ]
  },
  {
   "cell_type": "code",
   "execution_count": null,
   "metadata": {},
   "outputs": [],
   "source": [
    "np.savez_compressed(\n",
    "    amazon_dataset.BASE_DATA_FOLDER / f'{dataset}_vit_features.npz',\n",
    "    **vit_features\n",
    ")\n",
    "del vit_features"
   ]
  },
  {
   "cell_type": "code",
   "execution_count": null,
   "metadata": {},
   "outputs": [
    {
     "name": "stdout",
     "output_type": "stream",
     "text": [
      "Listing images...\n"
     ]
    },
    {
     "name": "stderr",
     "output_type": "stream",
     "text": [
      "Building feature dict: 100%|██████████| 38.5k/38.5k [00:13<00:00, 2.85kproduct/s] "
     ]
    },
    {
     "name": "stdout",
     "output_type": "stream",
     "text": [
      "Products with no values: 229\n"
     ]
    },
    {
     "name": "stderr",
     "output_type": "stream",
     "text": [
      "\n"
     ]
    }
   ],
   "source": [
    "clip_features = feature_extraction_image.extract_clip_features(products_df, asset_path=asset_path)"
   ]
  },
  {
   "cell_type": "code",
   "execution_count": null,
   "metadata": {},
   "outputs": [],
   "source": [
    "np.savez_compressed(\n",
    "    amazon_dataset.BASE_DATA_FOLDER / f'{dataset}_clipimage_features.npz',\n",
    "    **clip_features\n",
    ")"
   ]
  }
 ],
 "metadata": {
  "kernelspec": {
   "display_name": ".venv",
   "language": "python",
   "name": "python3"
  },
  "language_info": {
   "codemirror_mode": {
    "name": "ipython",
    "version": 3
   },
   "file_extension": ".py",
   "mimetype": "text/x-python",
   "name": "python",
   "nbconvert_exporter": "python",
   "pygments_lexer": "ipython3",
   "version": "3.8.16"
  },
  "orig_nbformat": 4,
  "vscode": {
   "interpreter": {
    "hash": "4c22d1444aa3f68a820bd00264b529de9aca8b813336c5d71bda95dadce90fbf"
   }
  }
 },
 "nbformat": 4,
 "nbformat_minor": 2
}
