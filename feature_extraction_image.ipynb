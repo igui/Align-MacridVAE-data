{
 "cells": [
  {
   "cell_type": "code",
   "execution_count": 1,
   "metadata": {},
   "outputs": [],
   "source": [
    "import numpy as np\n",
    "\n",
    "import amazon_dataset\n",
    "import feature_extraction_image"
   ]
  },
  {
   "cell_type": "code",
   "execution_count": 2,
   "metadata": {},
   "outputs": [],
   "source": [
    "dataset = 'Movies_and_TV'"
   ]
  },
  {
   "cell_type": "code",
   "execution_count": 3,
   "metadata": {},
   "outputs": [
    {
     "data": {
      "text/plain": [
       "PosixPath('data/amazon/Movies_and_TV_product_images')"
      ]
     },
     "execution_count": 3,
     "metadata": {},
     "output_type": "execute_result"
    }
   ],
   "source": [
    "asset_path = amazon_dataset.images_dir(dataset)\n",
    "asset_path"
   ]
  },
  {
   "cell_type": "code",
   "execution_count": 4,
   "metadata": {},
   "outputs": [
    {
     "data": {
      "text/html": [
       "<div>\n",
       "<style scoped>\n",
       "    .dataframe tbody tr th:only-of-type {\n",
       "        vertical-align: middle;\n",
       "    }\n",
       "\n",
       "    .dataframe tbody tr th {\n",
       "        vertical-align: top;\n",
       "    }\n",
       "\n",
       "    .dataframe thead th {\n",
       "        text-align: right;\n",
       "    }\n",
       "</style>\n",
       "<table border=\"1\" class=\"dataframe\">\n",
       "  <thead>\n",
       "    <tr style=\"text-align: right;\">\n",
       "      <th></th>\n",
       "      <th>asin</th>\n",
       "      <th>description</th>\n",
       "      <th>title</th>\n",
       "      <th>brand</th>\n",
       "      <th>main_cat</th>\n",
       "      <th>rank</th>\n",
       "      <th>price</th>\n",
       "      <th>image_slug</th>\n",
       "      <th>image_url</th>\n",
       "      <th>feature</th>\n",
       "      <th>category</th>\n",
       "      <th>tech_detail</th>\n",
       "      <th>item_id</th>\n",
       "    </tr>\n",
       "    <tr>\n",
       "      <th>id</th>\n",
       "      <th></th>\n",
       "      <th></th>\n",
       "      <th></th>\n",
       "      <th></th>\n",
       "      <th></th>\n",
       "      <th></th>\n",
       "      <th></th>\n",
       "      <th></th>\n",
       "      <th></th>\n",
       "      <th></th>\n",
       "      <th></th>\n",
       "      <th></th>\n",
       "      <th></th>\n",
       "    </tr>\n",
       "  </thead>\n",
       "  <tbody>\n",
       "    <tr>\n",
       "      <th>193026</th>\n",
       "      <td>B00UCFVHC8</td>\n",
       "      <td>&lt;i&gt;Thunderbirds are GO!&lt;/i&gt;&lt;P&gt;The SUPERMARIONA...</td>\n",
       "      <td>Thunderbirds: The Complete Series</td>\n",
       "      <td>Peter Dyneley</td>\n",
       "      <td>Movies &amp; TV</td>\n",
       "      <td>14,635 in Movies &amp; TV (</td>\n",
       "      <td>$30.64</td>\n",
       "      <td>[51IywD3ugeL]</td>\n",
       "      <td>[https://m.media-amazon.com/images/I/51IywD3ug...</td>\n",
       "      <td>[]</td>\n",
       "      <td>[Movies &amp; TV, Genre for Featured Categories, K...</td>\n",
       "      <td>None</td>\n",
       "      <td>B00UCFVHC8</td>\n",
       "    </tr>\n",
       "    <tr>\n",
       "      <th>119036</th>\n",
       "      <td>B001EOQV9K</td>\n",
       "      <td>&lt;![CDATA[\\nEssential Holiday Collection (4-Pac...</td>\n",
       "      <td>Essential Holiday Collection: (The Polar Expre...</td>\n",
       "      <td></td>\n",
       "      <td>Movies &amp; TV</td>\n",
       "      <td>9,149 in Movies &amp; TV (</td>\n",
       "      <td>$33.99</td>\n",
       "      <td>[51NzBfJbpEL]</td>\n",
       "      <td>[https://m.media-amazon.com/images/I/51NzBfJbp...</td>\n",
       "      <td>[]</td>\n",
       "      <td>[Movies &amp; TV, Holidays &amp; Seasonal, Christmas]</td>\n",
       "      <td>None</td>\n",
       "      <td>B001EOQV9K</td>\n",
       "    </tr>\n",
       "    <tr>\n",
       "      <th>202414</th>\n",
       "      <td>B01EK68WCW</td>\n",
       "      <td>Super models compete for a coveted centerfold ...</td>\n",
       "      <td>Model for Murder: The Centerfold Killer</td>\n",
       "      <td>Erika Jordan</td>\n",
       "      <td>Movies &amp; TV</td>\n",
       "      <td>53,357 in Movies &amp; TV (</td>\n",
       "      <td>$14.03</td>\n",
       "      <td>[51VG9sohI3L]</td>\n",
       "      <td>[https://m.media-amazon.com/images/I/51VG9sohI...</td>\n",
       "      <td>[]</td>\n",
       "      <td>[Movies &amp; TV, Genre for Featured Categories, M...</td>\n",
       "      <td>None</td>\n",
       "      <td>B01EK68WCW</td>\n",
       "    </tr>\n",
       "  </tbody>\n",
       "</table>\n",
       "</div>"
      ],
      "text/plain": [
       "              asin                                        description  \\\n",
       "id                                                                      \n",
       "193026  B00UCFVHC8  <i>Thunderbirds are GO!</i><P>The SUPERMARIONA...   \n",
       "119036  B001EOQV9K  <![CDATA[\\nEssential Holiday Collection (4-Pac...   \n",
       "202414  B01EK68WCW  Super models compete for a coveted centerfold ...   \n",
       "\n",
       "                                                    title          brand  \\\n",
       "id                                                                         \n",
       "193026                  Thunderbirds: The Complete Series  Peter Dyneley   \n",
       "119036  Essential Holiday Collection: (The Polar Expre...                  \n",
       "202414            Model for Murder: The Centerfold Killer   Erika Jordan   \n",
       "\n",
       "           main_cat                     rank   price     image_slug  \\\n",
       "id                                                                    \n",
       "193026  Movies & TV  14,635 in Movies & TV (  $30.64  [51IywD3ugeL]   \n",
       "119036  Movies & TV   9,149 in Movies & TV (  $33.99  [51NzBfJbpEL]   \n",
       "202414  Movies & TV  53,357 in Movies & TV (  $14.03  [51VG9sohI3L]   \n",
       "\n",
       "                                                image_url feature  \\\n",
       "id                                                                  \n",
       "193026  [https://m.media-amazon.com/images/I/51IywD3ug...      []   \n",
       "119036  [https://m.media-amazon.com/images/I/51NzBfJbp...      []   \n",
       "202414  [https://m.media-amazon.com/images/I/51VG9sohI...      []   \n",
       "\n",
       "                                                 category tech_detail  \\\n",
       "id                                                                      \n",
       "193026  [Movies & TV, Genre for Featured Categories, K...        None   \n",
       "119036      [Movies & TV, Holidays & Seasonal, Christmas]        None   \n",
       "202414  [Movies & TV, Genre for Featured Categories, M...        None   \n",
       "\n",
       "           item_id  \n",
       "id                  \n",
       "193026  B00UCFVHC8  \n",
       "119036  B001EOQV9K  \n",
       "202414  B01EK68WCW  "
      ]
     },
     "execution_count": 4,
     "metadata": {},
     "output_type": "execute_result"
    }
   ],
   "source": [
    "products_df = amazon_dataset.items_df(dataset)\n",
    "products_df.sample(n=3)"
   ]
  },
  {
   "cell_type": "code",
   "execution_count": 5,
   "metadata": {},
   "outputs": [],
   "source": [
    "# We don't use AlexNet in experiments\n",
    "\n",
    "# alexnet_features = feature_extraction_image.extract_alexnet_features(\n",
    "#     products_df, \n",
    "#     asset_path=asset_path,\n",
    "#     batch_size=16\n",
    "# )\n",
    "# np.savez_compressed(\n",
    "#     amazon_dataset.BASE_DATA_FOLDER / f'{dataset}_alexnet_features.npz',\n",
    "#     **alexnet_features\n",
    "# )\n",
    "# del alexnet_features\n",
    "for feature_file in amazon_dataset.images_dir(dataset).glob('*.alexnet'):\n",
    "    feature_file.unlink()"
   ]
  },
  {
   "cell_type": "code",
   "execution_count": 7,
   "metadata": {},
   "outputs": [
    {
     "name": "stdout",
     "output_type": "stream",
     "text": [
      "Listing images...\n"
     ]
    },
    {
     "name": "stderr",
     "output_type": "stream",
     "text": [
      "Building feature dict: 100%|██████████| 23.9k/23.9k [00:04<00:00, 5.50kproduct/s]"
     ]
    },
    {
     "name": "stdout",
     "output_type": "stream",
     "text": [
      "Items with no values: 607\n"
     ]
    },
    {
     "name": "stderr",
     "output_type": "stream",
     "text": [
      "\n"
     ]
    }
   ],
   "source": [
    "vit_features = feature_extraction_image.extract_vit_features(\n",
    "    products_df, \n",
    "    asset_path=asset_path,\n",
    "    batch_size=16\n",
    ")\n",
    "np.savez_compressed(\n",
    "    amazon_dataset.BASE_DATA_FOLDER / f'{dataset}_vit_features.npz',\n",
    "    **vit_features\n",
    ")\n",
    "del vit_features\n",
    "for feature_file in amazon_dataset.images_dir(dataset).glob('*.vit'):\n",
    "    feature_file.unlink()"
   ]
  },
  {
   "cell_type": "code",
   "execution_count": 8,
   "metadata": {},
   "outputs": [
    {
     "name": "stdout",
     "output_type": "stream",
     "text": [
      "Listing images...\n"
     ]
    },
    {
     "name": "stderr",
     "output_type": "stream",
     "text": [
      "Extracting features  : 100%|██████████| 23.3k/23.3k [12:30<00:00, 31.1image/s] \n",
      "Building feature dict: 100%|██████████| 23.9k/23.9k [00:04<00:00, 5.13kproduct/s]\n"
     ]
    },
    {
     "name": "stdout",
     "output_type": "stream",
     "text": [
      "Items with no values: 607\n"
     ]
    }
   ],
   "source": [
    "clip_features = feature_extraction_image.extract_clip_features(products_df, asset_path=asset_path)\n",
    "np.savez_compressed(\n",
    "    amazon_dataset.BASE_DATA_FOLDER / f'{dataset}_clipimage_features.npz',\n",
    "    **clip_features\n",
    ")\n",
    "for feature_file in amazon_dataset.images_dir(dataset).glob('*.clip'):\n",
    "    feature_file.unlink()"
   ]
  }
 ],
 "metadata": {
  "kernelspec": {
   "display_name": ".venv",
   "language": "python",
   "name": "python3"
  },
  "language_info": {
   "codemirror_mode": {
    "name": "ipython",
    "version": 3
   },
   "file_extension": ".py",
   "mimetype": "text/x-python",
   "name": "python",
   "nbconvert_exporter": "python",
   "pygments_lexer": "ipython3",
   "version": "3.8.16"
  },
  "orig_nbformat": 4,
  "vscode": {
   "interpreter": {
    "hash": "4c22d1444aa3f68a820bd00264b529de9aca8b813336c5d71bda95dadce90fbf"
   }
  }
 },
 "nbformat": 4,
 "nbformat_minor": 2
}
