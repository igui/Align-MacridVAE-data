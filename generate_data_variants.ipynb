{
 "cells": [
  {
   "cell_type": "code",
   "execution_count": 1,
   "metadata": {},
   "outputs": [],
   "source": [
    "from functools import lru_cache\n",
    "from pathlib import Path\n",
    "from typing import List, Optional\n",
    "\n",
    "import numpy as np\n",
    "import pandas as pd\n",
    "from tqdm import tqdm\n",
    "\n",
    "import amazon_dataset"
   ]
  },
  {
   "attachments": {},
   "cell_type": "markdown",
   "metadata": {},
   "source": [
    "# Intialize Datasets"
   ]
  },
  {
   "cell_type": "code",
   "execution_count": 2,
   "metadata": {},
   "outputs": [],
   "source": [
    "DATASET = 'Musical_Instruments'\n",
    "#DATASET = 'Clothing_Shoes_and_Jewelry'\n",
    "#DATASET = 'Home_and_Kitchen'\n",
    "#DATASET = 'Movies_and_TV'\n",
    "\n",
    "VALIDATION_SIZE=0.15\n",
    "RANDOM_SEED = 20230219\n",
    "#ALEXNET_IMAGE_FEATURES = Path(f'data/amazon/{DATASET}_alexnet_features.npz')\n",
    "VIT_IMAGE_FEATURES = Path(f'data/amazon/{DATASET}_vit_features.npz')\n",
    "CLIP_IMAGE_FEATURES = Path(f'data/amazon/{DATASET}_clipimage_features.npz')\n",
    "\n",
    "CLIP_TEXT_FEATURES = Path(f'data/amazon/{DATASET}_cliptext_features.npz')\n",
    "BERT_TEXT_FEATURES = Path(f'data/amazon/{DATASET}_bert_features.npz')\n",
    "\n",
    "\n",
    "#assert ALEXNET_IMAGE_FEATURES.exists()\n",
    "assert VIT_IMAGE_FEATURES.exists(), f\"{VIT_IMAGE_FEATURES} does not exist\"\n",
    "assert CLIP_IMAGE_FEATURES.exists(), f\"{CLIP_IMAGE_FEATURES} does not exist\"\n",
    "assert BERT_TEXT_FEATURES.exists(), f\"{BERT_TEXT_FEATURES} does not exist\"\n",
    "assert CLIP_TEXT_FEATURES.exists(), f\"{CLIP_TEXT_FEATURES} does not exist\"\n",
    "\n",
    "#DEST_FOLDER = Path(f'data/{DATASET}')\n",
    "# DEST_FOLDER.mkdir(exist_ok=True)\n",
    "\n",
    "# with open(DEST_FOLDER / 'signature.txt', mode='w') as f:\n",
    "#     f.write(f'Image: {image_features.stem}\\nText: {text_featues.stem}')"
   ]
  },
  {
   "cell_type": "code",
   "execution_count": 3,
   "metadata": {},
   "outputs": [],
   "source": [
    "def generate_unique_ids(series: pd.Series) -> pd.Series:\n",
    "    rng = np.random.default_rng(RANDOM_SEED)\n",
    "    unique_ids = series.unique()\n",
    "    return pd.Series(\n",
    "        index=rng.permutation(unique_ids), \n",
    "        data=range(len(unique_ids))\n",
    "    )\n",
    "\n",
    "def df_stats(df: pd.DataFrame) -> str:\n",
    "    n_items = len(df['asin'].unique())\n",
    "    n_users = len(df['reviewerID'].unique())\n",
    "    sparsity = 1. * len(df) / (n_users * n_items)\n",
    "    return f'{n_users} users {n_items} items ratings: {len(df)}. Sparsity {sparsity * 100:.3f}%'\n",
    "\n",
    "def save_numerized(\n",
    "    reviews: pd.DataFrame, \n",
    "    uids: pd.Series, \n",
    "    product_ids: pd.Series,\n",
    "    user_id_column: str,\n",
    "    product_ids_column: str,\n",
    "    columns: List[str],\n",
    "    dest: Path\n",
    "):\n",
    "    \"\"\"Save a Dataframe following userids and product_ids\"\"\"\n",
    "    joined = reviews.join(uids.to_frame(user_id_column), on='reviewerID')\n",
    "    assert joined[user_id_column].isna().sum() == 0\n",
    "    \n",
    "    joined = joined.join(product_ids.to_frame(product_ids_column), on='asin')\n",
    "    assert joined[product_ids_column].isna().sum() == 0\n",
    "    \n",
    "    res = joined[columns]\n",
    "    \n",
    "    res.to_csv(dest, index=False)\n",
    "\n",
    "    return res\n",
    "\n",
    "def split_train_test_proportion(df: pd.DataFrame, test_prop=0.2):\n",
    "    \"\"\"\n",
    "    Split the dataframe by reviewer and take exactly `test_prop` records\n",
    "    for test and leave the rest for training\n",
    "    \"\"\"\n",
    "    rng = np.random.default_rng(RANDOM_SEED)\n",
    "\n",
    "    res = df.copy()\n",
    "    res['rnd'] = rng.random(size=len(df))\n",
    "    res['rnd_rank'] = res.groupby('reviewerID')['rnd'].rank(pct=True)\n",
    "    condition = res['rnd_rank'] <= test_prop\n",
    "    \n",
    "    (_, train), (_, test) = res.groupby(condition)\n",
    "    \n",
    "    assert(len(set(train.index) & set(test.index)) == 0)\n",
    "\n",
    "    return df.loc[train.index], df.loc[test.index]"
   ]
  },
  {
   "cell_type": "code",
   "execution_count": 4,
   "metadata": {},
   "outputs": [
    {
     "data": {
      "text/html": [
       "<div>\n",
       "<style scoped>\n",
       "    .dataframe tbody tr th:only-of-type {\n",
       "        vertical-align: middle;\n",
       "    }\n",
       "\n",
       "    .dataframe tbody tr th {\n",
       "        vertical-align: top;\n",
       "    }\n",
       "\n",
       "    .dataframe thead th {\n",
       "        text-align: right;\n",
       "    }\n",
       "</style>\n",
       "<table border=\"1\" class=\"dataframe\">\n",
       "  <thead>\n",
       "    <tr style=\"text-align: right;\">\n",
       "      <th></th>\n",
       "      <th>id</th>\n",
       "      <th>asin</th>\n",
       "      <th>reviewerID</th>\n",
       "      <th>reviewerName</th>\n",
       "      <th>overall</th>\n",
       "      <th>text</th>\n",
       "      <th>reviewTime</th>\n",
       "      <th>summary</th>\n",
       "      <th>verified</th>\n",
       "      <th>vote</th>\n",
       "    </tr>\n",
       "  </thead>\n",
       "  <tbody>\n",
       "    <tr>\n",
       "      <th>1835</th>\n",
       "      <td>69651</td>\n",
       "      <td>B0002E1NNC</td>\n",
       "      <td>A2WV9MAEV6I3R4</td>\n",
       "      <td>Benjamin Reign</td>\n",
       "      <td>5.0</td>\n",
       "      <td>I love these strings  keep their tone longer\\n...</td>\n",
       "      <td>2018-01-08</td>\n",
       "      <td>Sound great but pricey</td>\n",
       "      <td>True</td>\n",
       "      <td>NaN</td>\n",
       "    </tr>\n",
       "    <tr>\n",
       "      <th>29559</th>\n",
       "      <td>1137772</td>\n",
       "      <td>B000OR2T0I</td>\n",
       "      <td>ALG0YK6C46XPS</td>\n",
       "      <td>Chet Mortenson</td>\n",
       "      <td>3.0</td>\n",
       "      <td>The loop end unwound as I tuned up the high e ...</td>\n",
       "      <td>2017-12-07</td>\n",
       "      <td>Good for the price but Argentines are better</td>\n",
       "      <td>False</td>\n",
       "      <td>NaN</td>\n",
       "    </tr>\n",
       "    <tr>\n",
       "      <th>39548</th>\n",
       "      <td>1501224</td>\n",
       "      <td>B01EG26WH2</td>\n",
       "      <td>A2K3M2TEV17EJK</td>\n",
       "      <td>tazwayneiac</td>\n",
       "      <td>5.0</td>\n",
       "      <td>works very good</td>\n",
       "      <td>2018-04-30</td>\n",
       "      <td>Five Stars</td>\n",
       "      <td>True</td>\n",
       "      <td>NaN</td>\n",
       "    </tr>\n",
       "  </tbody>\n",
       "</table>\n",
       "</div>"
      ],
      "text/plain": [
       "            id        asin      reviewerID    reviewerName  overall  \\\n",
       "1835     69651  B0002E1NNC  A2WV9MAEV6I3R4  Benjamin Reign      5.0   \n",
       "29559  1137772  B000OR2T0I   ALG0YK6C46XPS  Chet Mortenson      3.0   \n",
       "39548  1501224  B01EG26WH2  A2K3M2TEV17EJK     tazwayneiac      5.0   \n",
       "\n",
       "                                                    text  reviewTime  \\\n",
       "1835   I love these strings  keep their tone longer\\n...  2018-01-08   \n",
       "29559  The loop end unwound as I tuned up the high e ...  2017-12-07   \n",
       "39548                                    works very good  2018-04-30   \n",
       "\n",
       "                                            summary  verified  vote  \n",
       "1835                         Sound great but pricey      True   NaN  \n",
       "29559  Good for the price but Argentines are better     False   NaN  \n",
       "39548                                    Five Stars      True   NaN  "
      ]
     },
     "execution_count": 4,
     "metadata": {},
     "output_type": "execute_result"
    }
   ],
   "source": [
    "reviews_df = amazon_dataset.reviews_df(DATASET)\n",
    "reviews_df.sample(n=3)"
   ]
  },
  {
   "attachments": {},
   "cell_type": "markdown",
   "metadata": {},
   "source": [
    "# Generate Data for SEM-MacridVAE & DMRL"
   ]
  },
  {
   "attachments": {},
   "cell_type": "markdown",
   "metadata": {},
   "source": [
    "Some data stats"
   ]
  },
  {
   "cell_type": "code",
   "execution_count": 5,
   "metadata": {},
   "outputs": [
    {
     "name": "stdout",
     "output_type": "stream",
     "text": [
      "Musical_Instruments\n",
      "5422 users 8460 items ratings: 40118. Sparsity 0.087%\n"
     ]
    }
   ],
   "source": [
    "print(DATASET)\n",
    "print(df_stats(reviews_df))"
   ]
  },
  {
   "attachments": {},
   "cell_type": "markdown",
   "metadata": {},
   "source": [
    "Sort some users randomly"
   ]
  },
  {
   "cell_type": "code",
   "execution_count": 6,
   "metadata": {},
   "outputs": [
    {
     "data": {
      "text/plain": [
       "A18ISN6NS073V2       0\n",
       "A1XFJTXA00NYX1       1\n",
       "A3GITGRRVQ4IP0       2\n",
       "A1W2V8Z9EWTZMM       3\n",
       "AEOQG6GFYR009        4\n",
       "                  ... \n",
       "A2LSUIA9THHK57    5417\n",
       "A31D3XL44W1NBM    5418\n",
       "A3775OP5VTX5ON    5419\n",
       "A1G0HYMR02WM2W    5420\n",
       "A7CN7OR0X715S     5421\n",
       "Length: 5422, dtype: int64"
      ]
     },
     "execution_count": 6,
     "metadata": {},
     "output_type": "execute_result"
    }
   ],
   "source": [
    "user_ids = generate_unique_ids(reviews_df['reviewerID'])\n",
    "user_ids"
   ]
  },
  {
   "attachments": {},
   "cell_type": "markdown",
   "metadata": {},
   "source": [
    "Same with products"
   ]
  },
  {
   "cell_type": "code",
   "execution_count": 7,
   "metadata": {},
   "outputs": [
    {
     "data": {
      "text/plain": [
       "B0002GXZK4       0\n",
       "B00ZUBQY9K       1\n",
       "B00VUU6JL8       2\n",
       "B00PUQK4FU       3\n",
       "B00UTUKFHE       4\n",
       "              ... \n",
       "B000EEJ8VE    8455\n",
       "B00CAL9ZXK    8456\n",
       "B00U1XK5Z6    8457\n",
       "B0002D0CNA    8458\n",
       "B016L4MRMW    8459\n",
       "Length: 8460, dtype: int64"
      ]
     },
     "execution_count": 7,
     "metadata": {},
     "output_type": "execute_result"
    }
   ],
   "source": [
    "item_ids = generate_unique_ids(reviews_df['asin'])\n",
    "item_ids"
   ]
  },
  {
   "attachments": {},
   "cell_type": "markdown",
   "metadata": {},
   "source": [
    "Split train test and validation by user"
   ]
  },
  {
   "cell_type": "code",
   "execution_count": 8,
   "metadata": {},
   "outputs": [],
   "source": [
    "train_reviews, validation_test_reviews = split_train_test_proportion(reviews_df, test_prop=0.4)\n",
    "validation_reviews, test_reviews = split_train_test_proportion(validation_test_reviews, test_prop=0.5)"
   ]
  },
  {
   "cell_type": "code",
   "execution_count": 9,
   "metadata": {},
   "outputs": [
    {
     "data": {
      "text/plain": [
       "25628"
      ]
     },
     "execution_count": 9,
     "metadata": {},
     "output_type": "execute_result"
    }
   ],
   "source": [
    "len(train_reviews)"
   ]
  },
  {
   "attachments": {},
   "cell_type": "markdown",
   "metadata": {},
   "source": [
    "len(validation_reviews)"
   ]
  },
  {
   "cell_type": "code",
   "execution_count": 10,
   "metadata": {},
   "outputs": [
    {
     "data": {
      "text/plain": [
       "6744"
      ]
     },
     "execution_count": 10,
     "metadata": {},
     "output_type": "execute_result"
    }
   ],
   "source": [
    "len(test_reviews)"
   ]
  },
  {
   "attachments": {},
   "cell_type": "markdown",
   "metadata": {},
   "source": [
    "Sanity checks. All users are in the train validation and test sets!"
   ]
  },
  {
   "cell_type": "code",
   "execution_count": 11,
   "metadata": {},
   "outputs": [
    {
     "data": {
      "text/plain": [
       "True"
      ]
     },
     "execution_count": 11,
     "metadata": {},
     "output_type": "execute_result"
    }
   ],
   "source": [
    "set(train_reviews['reviewerID']) == set(test_reviews['reviewerID']) ==  set(validation_reviews['reviewerID'])"
   ]
  },
  {
   "attachments": {},
   "cell_type": "markdown",
   "metadata": {},
   "source": [
    "Check that the train set and the validation set all have at least one item (same check as above)"
   ]
  },
  {
   "cell_type": "code",
   "execution_count": 12,
   "metadata": {},
   "outputs": [
    {
     "data": {
      "text/html": [
       "<div>\n",
       "<style scoped>\n",
       "    .dataframe tbody tr th:only-of-type {\n",
       "        vertical-align: middle;\n",
       "    }\n",
       "\n",
       "    .dataframe tbody tr th {\n",
       "        vertical-align: top;\n",
       "    }\n",
       "\n",
       "    .dataframe thead th {\n",
       "        text-align: right;\n",
       "    }\n",
       "</style>\n",
       "<table border=\"1\" class=\"dataframe\">\n",
       "  <thead>\n",
       "    <tr style=\"text-align: right;\">\n",
       "      <th></th>\n",
       "      <th>train_size</th>\n",
       "      <th>val_size</th>\n",
       "      <th>test_size</th>\n",
       "    </tr>\n",
       "  </thead>\n",
       "  <tbody>\n",
       "    <tr>\n",
       "      <th>count</th>\n",
       "      <td>5422.000000</td>\n",
       "      <td>5422.000000</td>\n",
       "      <td>5422.000000</td>\n",
       "    </tr>\n",
       "    <tr>\n",
       "      <th>mean</th>\n",
       "      <td>4.726669</td>\n",
       "      <td>1.428624</td>\n",
       "      <td>1.243821</td>\n",
       "    </tr>\n",
       "    <tr>\n",
       "      <th>std</th>\n",
       "      <td>2.451181</td>\n",
       "      <td>0.840090</td>\n",
       "      <td>0.720182</td>\n",
       "    </tr>\n",
       "    <tr>\n",
       "      <th>min</th>\n",
       "      <td>3.000000</td>\n",
       "      <td>1.000000</td>\n",
       "      <td>1.000000</td>\n",
       "    </tr>\n",
       "    <tr>\n",
       "      <th>25%</th>\n",
       "      <td>3.000000</td>\n",
       "      <td>1.000000</td>\n",
       "      <td>1.000000</td>\n",
       "    </tr>\n",
       "    <tr>\n",
       "      <th>50%</th>\n",
       "      <td>4.000000</td>\n",
       "      <td>1.000000</td>\n",
       "      <td>1.000000</td>\n",
       "    </tr>\n",
       "    <tr>\n",
       "      <th>75%</th>\n",
       "      <td>5.000000</td>\n",
       "      <td>2.000000</td>\n",
       "      <td>1.000000</td>\n",
       "    </tr>\n",
       "    <tr>\n",
       "      <th>max</th>\n",
       "      <td>36.000000</td>\n",
       "      <td>12.000000</td>\n",
       "      <td>12.000000</td>\n",
       "    </tr>\n",
       "  </tbody>\n",
       "</table>\n",
       "</div>"
      ],
      "text/plain": [
       "        train_size     val_size    test_size\n",
       "count  5422.000000  5422.000000  5422.000000\n",
       "mean      4.726669     1.428624     1.243821\n",
       "std       2.451181     0.840090     0.720182\n",
       "min       3.000000     1.000000     1.000000\n",
       "25%       3.000000     1.000000     1.000000\n",
       "50%       4.000000     1.000000     1.000000\n",
       "75%       5.000000     2.000000     1.000000\n",
       "max      36.000000    12.000000    12.000000"
      ]
     },
     "execution_count": 12,
     "metadata": {},
     "output_type": "execute_result"
    }
   ],
   "source": [
    "pd.concat([\n",
    "    train_reviews.groupby('reviewerID').size().to_frame('train_size'),\n",
    "    validation_reviews.groupby('reviewerID').size().to_frame('val_size'),\n",
    "    test_reviews.groupby('reviewerID').size().to_frame('test_size')\n",
    "], axis=1).describe()"
   ]
  },
  {
   "cell_type": "code",
   "execution_count": 21,
   "metadata": {},
   "outputs": [
    {
     "data": {
      "text/html": [
       "<div>\n",
       "<style scoped>\n",
       "    .dataframe tbody tr th:only-of-type {\n",
       "        vertical-align: middle;\n",
       "    }\n",
       "\n",
       "    .dataframe tbody tr th {\n",
       "        vertical-align: top;\n",
       "    }\n",
       "\n",
       "    .dataframe thead th {\n",
       "        text-align: right;\n",
       "    }\n",
       "</style>\n",
       "<table border=\"1\" class=\"dataframe\">\n",
       "  <thead>\n",
       "    <tr style=\"text-align: right;\">\n",
       "      <th></th>\n",
       "      <th>image</th>\n",
       "      <th>text</th>\n",
       "      <th>image_features</th>\n",
       "      <th>text_features</th>\n",
       "      <th>dest_folder</th>\n",
       "    </tr>\n",
       "  </thead>\n",
       "  <tbody>\n",
       "    <tr>\n",
       "      <th>0</th>\n",
       "      <td>vit</td>\n",
       "      <td>bert</td>\n",
       "      <td>data/amazon/Musical_Instruments_vit_features.npz</td>\n",
       "      <td>data/amazon/Musical_Instruments_bert_features.npz</td>\n",
       "      <td>data/Musical_Instruments-vit_bert</td>\n",
       "    </tr>\n",
       "    <tr>\n",
       "      <th>1</th>\n",
       "      <td>none</td>\n",
       "      <td>bert</td>\n",
       "      <td>None</td>\n",
       "      <td>data/amazon/Musical_Instruments_bert_features.npz</td>\n",
       "      <td>data/Musical_Instruments-none_bert</td>\n",
       "    </tr>\n",
       "    <tr>\n",
       "      <th>2</th>\n",
       "      <td>vit</td>\n",
       "      <td>none</td>\n",
       "      <td>data/amazon/Musical_Instruments_vit_features.npz</td>\n",
       "      <td>None</td>\n",
       "      <td>data/Musical_Instruments-vit_none</td>\n",
       "    </tr>\n",
       "    <tr>\n",
       "      <th>3</th>\n",
       "      <td>clip</td>\n",
       "      <td>clip</td>\n",
       "      <td>data/amazon/Musical_Instruments_clipimage_feat...</td>\n",
       "      <td>data/amazon/Musical_Instruments_cliptext_featu...</td>\n",
       "      <td>data/Musical_Instruments-clip_clip</td>\n",
       "    </tr>\n",
       "    <tr>\n",
       "      <th>4</th>\n",
       "      <td>none</td>\n",
       "      <td>clip</td>\n",
       "      <td>None</td>\n",
       "      <td>data/amazon/Musical_Instruments_cliptext_featu...</td>\n",
       "      <td>data/Musical_Instruments-none_clip</td>\n",
       "    </tr>\n",
       "    <tr>\n",
       "      <th>5</th>\n",
       "      <td>clip</td>\n",
       "      <td>none</td>\n",
       "      <td>data/amazon/Musical_Instruments_clipimage_feat...</td>\n",
       "      <td>None</td>\n",
       "      <td>data/Musical_Instruments-clip_none</td>\n",
       "    </tr>\n",
       "    <tr>\n",
       "      <th>6</th>\n",
       "      <td>none</td>\n",
       "      <td>none</td>\n",
       "      <td>None</td>\n",
       "      <td>None</td>\n",
       "      <td>data/Musical_Instruments-none_none</td>\n",
       "    </tr>\n",
       "  </tbody>\n",
       "</table>\n",
       "</div>"
      ],
      "text/plain": [
       "  image  text                                     image_features  \\\n",
       "0   vit  bert   data/amazon/Musical_Instruments_vit_features.npz   \n",
       "1  none  bert                                               None   \n",
       "2   vit  none   data/amazon/Musical_Instruments_vit_features.npz   \n",
       "3  clip  clip  data/amazon/Musical_Instruments_clipimage_feat...   \n",
       "4  none  clip                                               None   \n",
       "5  clip  none  data/amazon/Musical_Instruments_clipimage_feat...   \n",
       "6  none  none                                               None   \n",
       "\n",
       "                                       text_features  \\\n",
       "0  data/amazon/Musical_Instruments_bert_features.npz   \n",
       "1  data/amazon/Musical_Instruments_bert_features.npz   \n",
       "2                                               None   \n",
       "3  data/amazon/Musical_Instruments_cliptext_featu...   \n",
       "4  data/amazon/Musical_Instruments_cliptext_featu...   \n",
       "5                                               None   \n",
       "6                                               None   \n",
       "\n",
       "                          dest_folder  \n",
       "0   data/Musical_Instruments-vit_bert  \n",
       "1  data/Musical_Instruments-none_bert  \n",
       "2   data/Musical_Instruments-vit_none  \n",
       "3  data/Musical_Instruments-clip_clip  \n",
       "4  data/Musical_Instruments-none_clip  \n",
       "5  data/Musical_Instruments-clip_none  \n",
       "6  data/Musical_Instruments-none_none  "
      ]
     },
     "execution_count": 21,
     "metadata": {},
     "output_type": "execute_result"
    }
   ],
   "source": [
    "combinations = pd.DataFrame.from_records([\n",
    "    ('vit', 'bert', VIT_IMAGE_FEATURES, BERT_TEXT_FEATURES),\n",
    "    ('none', 'bert', None, BERT_TEXT_FEATURES),\n",
    "    ('vit', 'none', VIT_IMAGE_FEATURES, None),\n",
    "    ('clip', 'clip', CLIP_IMAGE_FEATURES, CLIP_TEXT_FEATURES),\n",
    "    ('none', 'clip', None, CLIP_TEXT_FEATURES),\n",
    "    ('clip', 'none', CLIP_IMAGE_FEATURES, None),\n",
    "    ('none', 'none', None, None),\n",
    "], columns=['image', 'text', 'image_features', 'text_features'])\n",
    "combinations['dest_folder'] = combinations.apply(\n",
    "    lambda x: Path(f'data/{DATASET}-{x[\"image\"]}_{x[\"text\"]}'), axis=1\n",
    ")\n",
    "combinations"
   ]
  },
  {
   "cell_type": "code",
   "execution_count": 23,
   "metadata": {},
   "outputs": [
    {
     "name": "stdout",
     "output_type": "stream",
     "text": [
      "Movies_and_TV-vit_bert\n",
      "Movies_and_TV-none_bert\n",
      "Movies_and_TV-vit_none\n",
      "Movies_and_TV-clip_clip\n",
      "Movies_and_TV-none_clip\n",
      "Movies_and_TV-clip_none\n",
      "Movies_and_TV-none_none\n",
      "Home_and_Kitchen-vit_bert\n",
      "Home_and_Kitchen-none_bert\n",
      "Home_and_Kitchen-vit_none\n",
      "Home_and_Kitchen-clip_clip\n",
      "Home_and_Kitchen-none_clip\n",
      "Home_and_Kitchen-clip_none\n",
      "Home_and_Kitchen-none_none\n",
      "Musical_Instruments-vit_bert\n",
      "Musical_Instruments-none_bert\n",
      "Musical_Instruments-vit_none\n",
      "Musical_Instruments-clip_clip\n",
      "Musical_Instruments-none_clip\n",
      "Musical_Instruments-clip_none\n",
      "Musical_Instruments-none_none\n",
      "Clothing_Shoes_and_Jewelry-vit_bert\n",
      "Clothing_Shoes_and_Jewelry-none_bert\n",
      "Clothing_Shoes_and_Jewelry-vit_none\n",
      "Clothing_Shoes_and_Jewelry-clip_clip\n",
      "Clothing_Shoes_and_Jewelry-none_clip\n",
      "Clothing_Shoes_and_Jewelry-clip_none\n",
      "Clothing_Shoes_and_Jewelry-none_none\n"
     ]
    }
   ],
   "source": [
    "for dataset in ['Movies_and_TV', 'Home_and_Kitchen', 'Musical_Instruments', 'Clothing_Shoes_and_Jewelry']:\n",
    "    for c in combinations.itertuples():\n",
    "        print(f'{dataset}-{c.image}_{c.text}')"
   ]
  },
  {
   "attachments": {},
   "cell_type": "markdown",
   "metadata": {},
   "source": [
    "Generate users"
   ]
  },
  {
   "cell_type": "code",
   "execution_count": 14,
   "metadata": {},
   "outputs": [],
   "source": [
    "for c in combinations.itertuples():\n",
    "    c.dest_folder.mkdir(exist_ok=True)\n",
    "\n",
    "    user_ids.to_csv(c.dest_folder / 'users.txt')\n",
    "    item_ids.to_csv(c.dest_folder / 'items.txt', header=['item_id'])"
   ]
  },
  {
   "cell_type": "code",
   "execution_count": 15,
   "metadata": {},
   "outputs": [],
   "source": [
    "NUMERIZED_COMMON_PARAMS = {\n",
    "    'uids': user_ids, \n",
    "    'product_ids': item_ids,\n",
    "    'user_id_column': 'user',\n",
    "    'product_ids_column': 'item',\n",
    "    'columns': ['user', 'item']\n",
    "}\n",
    "\n",
    "for c in combinations.itertuples():\n",
    "    c.dest_folder.mkdir(exist_ok=True)\n",
    "\n",
    "    save_numerized(\n",
    "        train_reviews, \n",
    "        dest=c.dest_folder / 'train.txt',\n",
    "        **NUMERIZED_COMMON_PARAMS\n",
    "    )\n"
   ]
  },
  {
   "cell_type": "code",
   "execution_count": 16,
   "metadata": {},
   "outputs": [
    {
     "data": {
      "text/plain": [
       "'Saved validation data'"
      ]
     },
     "execution_count": 16,
     "metadata": {},
     "output_type": "execute_result"
    }
   ],
   "source": [
    "for c in combinations.itertuples():\n",
    "    c.dest_folder.mkdir(exist_ok=True)\n",
    "\n",
    "    save_numerized(\n",
    "        validation_reviews, \n",
    "        dest=c.dest_folder / 'validation.txt',\n",
    "        **NUMERIZED_COMMON_PARAMS\n",
    "    )\n",
    "\n",
    "\n",
    "'Saved validation data'"
   ]
  },
  {
   "cell_type": "code",
   "execution_count": 17,
   "metadata": {},
   "outputs": [
    {
     "data": {
      "text/plain": [
       "'Saved test data'"
      ]
     },
     "execution_count": 17,
     "metadata": {},
     "output_type": "execute_result"
    }
   ],
   "source": [
    "for c in combinations.itertuples():\n",
    "    save_numerized(\n",
    "        test_reviews, \n",
    "        dest=c.dest_folder / 'test.txt',\n",
    "        **NUMERIZED_COMMON_PARAMS\n",
    "    )\n",
    "'Saved test data'"
   ]
  },
  {
   "cell_type": "code",
   "execution_count": 19,
   "metadata": {},
   "outputs": [
    {
     "name": "stdout",
     "output_type": "stream",
     "text": [
      "Pandas(Index=0, image='vit', text='bert', image_features=PosixPath('data/amazon/Musical_Instruments_vit_features.npz'), text_features=PosixPath('data/amazon/Musical_Instruments_bert_features.npz'), dest_folder=PosixPath('data/amazon/Musical_Instruments-vit_bert'))\n",
      "Opening file data/amazon/Musical_Instruments_vit_features.npz\n",
      "Initializing array (8460, 1024)\n"
     ]
    },
    {
     "name": "stderr",
     "output_type": "stream",
     "text": [
      "Copying features: 100%|██████████| 8.46k/8.46k [00:04<00:00, 1.76kitems/s]\n"
     ]
    },
    {
     "name": "stdout",
     "output_type": "stream",
     "text": [
      "data/amazon/Musical_Instruments-vit_bert/embed_image.npy: 66MiB\n",
      "Pandas(Index=1, image='none', text='bert', image_features=None, text_features=PosixPath('data/amazon/Musical_Instruments_bert_features.npz'), dest_folder=PosixPath('data/amazon/Musical_Instruments-none_bert'))\n",
      "Returning Zeros\n",
      "data/amazon/Musical_Instruments-none_bert/embed_image.npy: 8MiB\n",
      "Pandas(Index=2, image='vit', text='none', image_features=PosixPath('data/amazon/Musical_Instruments_vit_features.npz'), text_features=None, dest_folder=PosixPath('data/amazon/Musical_Instruments-vit_none'))\n",
      "data/amazon/Musical_Instruments-vit_none/embed_image.npy: 66MiB\n",
      "Pandas(Index=3, image='clip', text='clip', image_features=PosixPath('data/amazon/Musical_Instruments_clipimage_features.npz'), text_features=PosixPath('data/amazon/Musical_Instruments_cliptext_features.npz'), dest_folder=PosixPath('data/amazon/Musical_Instruments-clip_clip'))\n",
      "Opening file data/amazon/Musical_Instruments_clipimage_features.npz\n",
      "Initializing array (8460, 768)\n"
     ]
    },
    {
     "name": "stderr",
     "output_type": "stream",
     "text": [
      "Copying features: 100%|██████████| 8.46k/8.46k [00:04<00:00, 1.76kitems/s]"
     ]
    },
    {
     "name": "stdout",
     "output_type": "stream",
     "text": [
      "data/amazon/Musical_Instruments-clip_clip/embed_image.npy: 49MiB\n",
      "Pandas(Index=4, image='none', text='clip', image_features=None, text_features=PosixPath('data/amazon/Musical_Instruments_cliptext_features.npz'), dest_folder=PosixPath('data/amazon/Musical_Instruments-none_clip'))\n",
      "data/amazon/Musical_Instruments-none_clip/embed_image.npy: 8MiB\n",
      "Pandas(Index=5, image='clip', text='none', image_features=PosixPath('data/amazon/Musical_Instruments_clipimage_features.npz'), text_features=None, dest_folder=PosixPath('data/amazon/Musical_Instruments-clip_none'))\n",
      "data/amazon/Musical_Instruments-clip_none/embed_image.npy: 49MiB\n",
      "Pandas(Index=6, image='none', text='none', image_features=None, text_features=None, dest_folder=PosixPath('data/amazon/Musical_Instruments-none_none'))\n",
      "data/amazon/Musical_Instruments-none_none/embed_image.npy: 8MiB\n"
     ]
    },
    {
     "name": "stderr",
     "output_type": "stream",
     "text": [
      "\n"
     ]
    }
   ],
   "source": [
    "@lru_cache()\n",
    "def copy_features(features_file: Optional[Path]):\n",
    "    if features_file is None:\n",
    "        print('Returning Zeros')\n",
    "        return np.zeros((len(item_ids), 256), dtype=np.float32)\n",
    "\n",
    "    print(f'Opening file {features_file}')\n",
    "    with np.load(features_file) as features:\n",
    "        some_embedding = next(iter(features.values()))\n",
    "        embedding_shape, = some_embedding.shape\n",
    "        array_shape = (len(item_ids),  embedding_shape)\n",
    "        print(f'Initializing array {array_shape}')\n",
    "        res = np.full(array_shape,  fill_value=np.nan)\n",
    "\n",
    "        for asin, idx in tqdm(item_ids.items(), \n",
    "                total=len(item_ids), unit_scale=True, unit='items', \n",
    "                desc='Copying features'):\n",
    "            value = features.get(asin)\n",
    "            if value is None:\n",
    "                print(f'Item {asin} not found in features file')\n",
    "                res[idx, :] = 0    \n",
    "            else:\n",
    "                assert np.isnan(value).sum() == 0, \"Feature has NaN Values\"\n",
    "                res[idx, :] = value\n",
    "\n",
    "        return res\n",
    "\n",
    "for c in combinations.itertuples():\n",
    "    print(c)\n",
    "    features_array = copy_features(features_file=c.image_features)\n",
    "    features_array\n",
    "    embed_dest = c.dest_folder / 'embed_image.npy'\n",
    "    np.save(embed_dest, features_array)\n",
    "\n",
    "    print(f'{str(embed_dest)}: {embed_dest.stat().st_size // 2**20}MiB')\n",
    "\n",
    "copy_features.cache_clear()"
   ]
  },
  {
   "cell_type": "code",
   "execution_count": 20,
   "metadata": {},
   "outputs": [
    {
     "name": "stdout",
     "output_type": "stream",
     "text": [
      "Pandas(Index=0, image='vit', text='bert', image_features=PosixPath('data/amazon/Musical_Instruments_vit_features.npz'), text_features=PosixPath('data/amazon/Musical_Instruments_bert_features.npz'), dest_folder=PosixPath('data/amazon/Musical_Instruments-vit_bert'))\n",
      "Opening file data/amazon/Musical_Instruments_bert_features.npz\n",
      "Initializing array (8460, 1024)\n"
     ]
    },
    {
     "name": "stderr",
     "output_type": "stream",
     "text": [
      "Copying features: 100%|██████████| 8.46k/8.46k [00:04<00:00, 1.82kitems/s]\n"
     ]
    },
    {
     "name": "stdout",
     "output_type": "stream",
     "text": [
      "data/amazon/Musical_Instruments-vit_bert/embed_text.npy: 66MiB\n",
      "Pandas(Index=1, image='none', text='bert', image_features=None, text_features=PosixPath('data/amazon/Musical_Instruments_bert_features.npz'), dest_folder=PosixPath('data/amazon/Musical_Instruments-none_bert'))\n",
      "data/amazon/Musical_Instruments-none_bert/embed_text.npy: 66MiB\n",
      "Pandas(Index=2, image='vit', text='none', image_features=PosixPath('data/amazon/Musical_Instruments_vit_features.npz'), text_features=None, dest_folder=PosixPath('data/amazon/Musical_Instruments-vit_none'))\n",
      "Returning Zeros\n",
      "data/amazon/Musical_Instruments-vit_none/embed_text.npy: 8MiB\n",
      "Pandas(Index=3, image='clip', text='clip', image_features=PosixPath('data/amazon/Musical_Instruments_clipimage_features.npz'), text_features=PosixPath('data/amazon/Musical_Instruments_cliptext_features.npz'), dest_folder=PosixPath('data/amazon/Musical_Instruments-clip_clip'))\n",
      "Opening file data/amazon/Musical_Instruments_cliptext_features.npz\n",
      "Initializing array (8460, 768)\n"
     ]
    },
    {
     "name": "stderr",
     "output_type": "stream",
     "text": [
      "Copying features: 100%|██████████| 8.46k/8.46k [00:04<00:00, 1.91kitems/s]\n"
     ]
    },
    {
     "name": "stdout",
     "output_type": "stream",
     "text": [
      "data/amazon/Musical_Instruments-clip_clip/embed_text.npy: 49MiB\n",
      "Pandas(Index=4, image='none', text='clip', image_features=None, text_features=PosixPath('data/amazon/Musical_Instruments_cliptext_features.npz'), dest_folder=PosixPath('data/amazon/Musical_Instruments-none_clip'))\n",
      "data/amazon/Musical_Instruments-none_clip/embed_text.npy: 49MiB\n",
      "Pandas(Index=5, image='clip', text='none', image_features=PosixPath('data/amazon/Musical_Instruments_clipimage_features.npz'), text_features=None, dest_folder=PosixPath('data/amazon/Musical_Instruments-clip_none'))\n",
      "data/amazon/Musical_Instruments-clip_none/embed_text.npy: 8MiB\n",
      "Pandas(Index=6, image='none', text='none', image_features=None, text_features=None, dest_folder=PosixPath('data/amazon/Musical_Instruments-none_none'))\n",
      "data/amazon/Musical_Instruments-none_none/embed_text.npy: 8MiB\n"
     ]
    }
   ],
   "source": [
    "for c in combinations.itertuples():\n",
    "    print(c)\n",
    "    features_array = copy_features(features_file=c.text_features)\n",
    "    embed_dest = c.dest_folder / 'embed_text.npy'\n",
    "    np.save(embed_dest, features_array)\n",
    "\n",
    "    print(f'{str(embed_dest)}: {embed_dest.stat().st_size // 2**20}MiB')"
   ]
  }
 ],
 "metadata": {
  "kernelspec": {
   "display_name": ".venv",
   "language": "python",
   "name": "python3"
  },
  "language_info": {
   "codemirror_mode": {
    "name": "ipython",
    "version": 3
   },
   "file_extension": ".py",
   "mimetype": "text/x-python",
   "name": "python",
   "nbconvert_exporter": "python",
   "pygments_lexer": "ipython3",
   "version": "3.8.16"
  },
  "orig_nbformat": 4,
  "vscode": {
   "interpreter": {
    "hash": "4c22d1444aa3f68a820bd00264b529de9aca8b813336c5d71bda95dadce90fbf"
   }
  }
 },
 "nbformat": 4,
 "nbformat_minor": 2
}
