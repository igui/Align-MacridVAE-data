{
 "cells": [
  {
   "cell_type": "code",
   "execution_count": 1,
   "metadata": {},
   "outputs": [],
   "source": [
    "from functools import lru_cache\n",
    "from pathlib import Path\n",
    "from typing import List, Optional\n",
    "\n",
    "import numpy as np\n",
    "import pandas as pd\n",
    "from tqdm import tqdm\n",
    "\n",
    "import amazon_dataset\n",
    "import movielens_dataset"
   ]
  },
  {
   "attachments": {},
   "cell_type": "markdown",
   "metadata": {},
   "source": [
    "# Intialize Datasets"
   ]
  },
  {
   "cell_type": "code",
   "execution_count": 2,
   "metadata": {},
   "outputs": [],
   "source": [
    "def get_base_path(dataset: str) -> Path:\n",
    "    if dataset.startswith('ml-'):\n",
    "        return movielens_dataset.BASE_DATA_FOLDER\n",
    "    return amazon_dataset.BASE_DATA_FOLDER"
   ]
  },
  {
   "cell_type": "code",
   "execution_count": 3,
   "metadata": {},
   "outputs": [],
   "source": [
    "#DATASET = 'Musical_Instruments'\n",
    "#DATASET = 'Clothing_Shoes_and_Jewelry'\n",
    "#DATASET = 'Home_and_Kitchen'\n",
    "DATASET = 'Movies_and_TV'\n",
    "#DATASET = 'ml-1m'\n",
    "\n",
    "VALIDATION_SIZE=0.15\n",
    "RANDOM_SEED = 20230219\n",
    "MIN_RATING = 0\n",
    "\n",
    "base_path = get_base_path(DATASET)\n",
    "\n",
    "#ALEXNET_IMAGE_FEATURES = BASE_PATH / f'{DATASET}_alexnet_features.npz'\n",
    "VIT_IMAGE_FEATURES = base_path / f'{DATASET}_vit_features.npz'\n",
    "CLIP_IMAGE_FEATURES = base_path / f'{DATASET}_clipimage_features.npz'\n",
    "\n",
    "CLIP_TEXT_FEATURES = base_path / f'{DATASET}_cliptext_features.npz'\n",
    "BERT_TEXT_FEATURES = base_path / f'{DATASET}_bert_features.npz'\n",
    "\n",
    "\n",
    "#assert ALEXNET_IMAGE_FEATURES.exists()\n",
    "assert VIT_IMAGE_FEATURES.exists(), f\"{VIT_IMAGE_FEATURES} does not exist\"\n",
    "assert CLIP_IMAGE_FEATURES.exists(), f\"{CLIP_IMAGE_FEATURES} does not exist\"\n",
    "assert BERT_TEXT_FEATURES.exists(), f\"{BERT_TEXT_FEATURES} does not exist\"\n",
    "assert CLIP_TEXT_FEATURES.exists(), f\"{CLIP_TEXT_FEATURES} does not exist\""
   ]
  },
  {
   "cell_type": "code",
   "execution_count": 4,
   "metadata": {},
   "outputs": [
    {
     "name": "stdout",
     "output_type": "stream",
     "text": [
      "VIT features data/amazon/Movies_and_TV_vit_features.npz\n",
      "CLIP Image features data/amazon/Movies_and_TV_clipimage_features.npz\n",
      "BERT Text features data/amazon/Movies_and_TV_bert_features.npz\n",
      "CLIP Text features data/amazon/Movies_and_TV_cliptext_features.npz\n"
     ]
    }
   ],
   "source": [
    "print(f\"VIT features {VIT_IMAGE_FEATURES}\")\n",
    "print(f\"CLIP Image features {CLIP_IMAGE_FEATURES}\")\n",
    "print(f\"BERT Text features {BERT_TEXT_FEATURES}\")\n",
    "print(f\"CLIP Text features {CLIP_TEXT_FEATURES}\")"
   ]
  },
  {
   "cell_type": "code",
   "execution_count": 5,
   "metadata": {},
   "outputs": [],
   "source": [
    "def generate_unique_ids(series: pd.Series) -> pd.Series:\n",
    "    rng = np.random.default_rng(RANDOM_SEED)\n",
    "    unique_ids = series.unique()\n",
    "    return pd.Series(\n",
    "        index=rng.permutation(unique_ids), \n",
    "        data=range(len(unique_ids))\n",
    "    )\n",
    "\n",
    "def df_stats(df: pd.DataFrame) -> str:\n",
    "    n_items = len(df['item_id'].unique())\n",
    "    n_users = len(df['user_id'].unique())\n",
    "    sparsity = 1. * len(df) / (n_users * n_items)\n",
    "    return f'{n_users} users {n_items} items ratings: {len(df)}. Sparsity {sparsity * 100:.3f}%'\n",
    "\n",
    "def save_numerized(\n",
    "    reviews: pd.DataFrame, \n",
    "    uids: pd.Series, \n",
    "    product_ids: pd.Series,\n",
    "    user_id_column: str,\n",
    "    item_ids_column: str,\n",
    "    columns: List[str],\n",
    "    dest: Path\n",
    "):\n",
    "    \"\"\"Save a Dataframe following userids and product_ids\"\"\"\n",
    "    joined = reviews.join(uids.to_frame(user_id_column), on='user_id')\n",
    "    assert joined[user_id_column].isna().sum() == 0\n",
    "    \n",
    "    joined = joined.join(product_ids.to_frame(item_ids_column), on='item_id')\n",
    "    assert joined[item_ids_column].isna().sum() == 0\n",
    "    \n",
    "    res = joined[columns]\n",
    "    \n",
    "    res.to_csv(dest, index=False)\n",
    "\n",
    "    return res\n",
    "\n",
    "def split_train_test_proportion(df: pd.DataFrame, test_prop=0.2):\n",
    "    \"\"\"\n",
    "    Split the dataframe by reviewer and take exactly `test_prop` records\n",
    "    for test and leave the rest for training\n",
    "    \"\"\"\n",
    "    rng = np.random.default_rng(RANDOM_SEED)\n",
    "\n",
    "    res = df.copy()\n",
    "    res['rnd'] = rng.random(size=len(df))\n",
    "    res['rnd_rank'] = res.groupby('user_id')['rnd'].rank(pct=True)\n",
    "    condition = res['rnd_rank'] <= test_prop\n",
    "    \n",
    "    (_, train), (_, test) = res.groupby(condition)\n",
    "    \n",
    "    assert(len(set(train.index) & set(test.index)) == 0)\n",
    "\n",
    "    return df.loc[train.index], df.loc[test.index]"
   ]
  },
  {
   "cell_type": "code",
   "execution_count": 6,
   "metadata": {},
   "outputs": [
    {
     "data": {
      "text/html": [
       "<div>\n",
       "<style scoped>\n",
       "    .dataframe tbody tr th:only-of-type {\n",
       "        vertical-align: middle;\n",
       "    }\n",
       "\n",
       "    .dataframe tbody tr th {\n",
       "        vertical-align: top;\n",
       "    }\n",
       "\n",
       "    .dataframe thead th {\n",
       "        text-align: right;\n",
       "    }\n",
       "</style>\n",
       "<table border=\"1\" class=\"dataframe\">\n",
       "  <thead>\n",
       "    <tr style=\"text-align: right;\">\n",
       "      <th></th>\n",
       "      <th>id</th>\n",
       "      <th>asin</th>\n",
       "      <th>reviewerID</th>\n",
       "      <th>reviewerName</th>\n",
       "      <th>overall</th>\n",
       "      <th>text</th>\n",
       "      <th>reviewTime</th>\n",
       "      <th>summary</th>\n",
       "      <th>verified</th>\n",
       "      <th>vote</th>\n",
       "      <th>user_id</th>\n",
       "      <th>item_id</th>\n",
       "      <th>rating</th>\n",
       "    </tr>\n",
       "  </thead>\n",
       "  <tbody>\n",
       "    <tr>\n",
       "      <th>98670</th>\n",
       "      <td>5945972</td>\n",
       "      <td>B00EV4F5TC</td>\n",
       "      <td>AMTF78R74KICJ</td>\n",
       "      <td>WILLEM P ROELANDTS</td>\n",
       "      <td>5.0</td>\n",
       "      <td>Great movie....</td>\n",
       "      <td>2017-11-15</td>\n",
       "      <td>Five Stars</td>\n",
       "      <td>True</td>\n",
       "      <td>NaN</td>\n",
       "      <td>AMTF78R74KICJ</td>\n",
       "      <td>B00EV4F5TC</td>\n",
       "      <td>5.0</td>\n",
       "    </tr>\n",
       "    <tr>\n",
       "      <th>105701</th>\n",
       "      <td>6427767</td>\n",
       "      <td>B00KHA5TJ0</td>\n",
       "      <td>AIMD8U35N3ER2</td>\n",
       "      <td>Amazon Customer</td>\n",
       "      <td>5.0</td>\n",
       "      <td>good job</td>\n",
       "      <td>2017-09-11</td>\n",
       "      <td>Five Stars</td>\n",
       "      <td>True</td>\n",
       "      <td>NaN</td>\n",
       "      <td>AIMD8U35N3ER2</td>\n",
       "      <td>B00KHA5TJ0</td>\n",
       "      <td>5.0</td>\n",
       "    </tr>\n",
       "    <tr>\n",
       "      <th>44516</th>\n",
       "      <td>2570422</td>\n",
       "      <td>B000FKP4BU</td>\n",
       "      <td>A1QIZM8J946Z6K</td>\n",
       "      <td>Jesse Michaels</td>\n",
       "      <td>5.0</td>\n",
       "      <td>Don't be fooled by the high school setting and...</td>\n",
       "      <td>2017-08-02</td>\n",
       "      <td>Top notch neo noir staged in a highschool univ...</td>\n",
       "      <td>True</td>\n",
       "      <td>NaN</td>\n",
       "      <td>A1QIZM8J946Z6K</td>\n",
       "      <td>B000FKP4BU</td>\n",
       "      <td>5.0</td>\n",
       "    </tr>\n",
       "  </tbody>\n",
       "</table>\n",
       "</div>"
      ],
      "text/plain": [
       "             id        asin      reviewerID        reviewerName  overall  \\\n",
       "98670   5945972  B00EV4F5TC   AMTF78R74KICJ  WILLEM P ROELANDTS      5.0   \n",
       "105701  6427767  B00KHA5TJ0   AIMD8U35N3ER2     Amazon Customer      5.0   \n",
       "44516   2570422  B000FKP4BU  A1QIZM8J946Z6K      Jesse Michaels      5.0   \n",
       "\n",
       "                                                     text  reviewTime  \\\n",
       "98670                                     Great movie....  2017-11-15   \n",
       "105701                                           good job  2017-09-11   \n",
       "44516   Don't be fooled by the high school setting and...  2017-08-02   \n",
       "\n",
       "                                                  summary  verified  vote  \\\n",
       "98670                                          Five Stars      True   NaN   \n",
       "105701                                         Five Stars      True   NaN   \n",
       "44516   Top notch neo noir staged in a highschool univ...      True   NaN   \n",
       "\n",
       "               user_id     item_id  rating  \n",
       "98670    AMTF78R74KICJ  B00EV4F5TC     5.0  \n",
       "105701   AIMD8U35N3ER2  B00KHA5TJ0     5.0  \n",
       "44516   A1QIZM8J946Z6K  B000FKP4BU     5.0  "
      ]
     },
     "execution_count": 6,
     "metadata": {},
     "output_type": "execute_result"
    }
   ],
   "source": [
    "def get_reviews_df(dataset: str, min_rating: int) -> pd.DataFrame:\n",
    "    if dataset.startswith('ml-'):\n",
    "        reviews = movielens_dataset.reviews_df(dataset)\n",
    "    else:\n",
    "        reviews = amazon_dataset.reviews_df(dataset)\n",
    "\n",
    "    with_min_ratings = reviews[reviews['rating'] >= min_rating]\n",
    "    # valid user ids\n",
    "    user_id_size = with_min_ratings.groupby('user_id').size()\n",
    "    valid_user_ids = user_id_size.loc[user_id_size >= 5].index\n",
    "    return with_min_ratings[with_min_ratings['user_id'].isin(valid_user_ids)]\n",
    "\n",
    "reviews_df = get_reviews_df(DATASET, min_rating=4)\n",
    "reviews_df.sample(n=3)"
   ]
  },
  {
   "attachments": {},
   "cell_type": "markdown",
   "metadata": {},
   "source": [
    "# Generate Data for SEM-MacridVAE & DMRL"
   ]
  },
  {
   "attachments": {},
   "cell_type": "markdown",
   "metadata": {},
   "source": [
    "Some data stats"
   ]
  },
  {
   "cell_type": "code",
   "execution_count": 7,
   "metadata": {},
   "outputs": [
    {
     "name": "stdout",
     "output_type": "stream",
     "text": [
      "Movies_and_TV\n",
      "17773 users 22632 items ratings: 168889. Sparsity 0.042%\n"
     ]
    }
   ],
   "source": [
    "print(DATASET)\n",
    "print(df_stats(reviews_df))"
   ]
  },
  {
   "attachments": {},
   "cell_type": "markdown",
   "metadata": {},
   "source": [
    "Sort some users randomly"
   ]
  },
  {
   "cell_type": "code",
   "execution_count": 8,
   "metadata": {},
   "outputs": [
    {
     "data": {
      "text/plain": [
       "ACW9ZM5S4BKPO         0\n",
       "A1TH4YX8KSQUFB        1\n",
       "A12SBPEUSJMAJK        2\n",
       "A28UFWNFTT4CWB        3\n",
       "ASTLV5GH4DLW8         4\n",
       "                  ...  \n",
       "A4UIN3H6SCYYT     17768\n",
       "A24OG1ZBIRUXY9    17769\n",
       "ACEAQEX2XT98      17770\n",
       "A2WNUETI5MUH9Z    17771\n",
       "ATHEYQAPGSCIH     17772\n",
       "Length: 17773, dtype: int64"
      ]
     },
     "execution_count": 8,
     "metadata": {},
     "output_type": "execute_result"
    }
   ],
   "source": [
    "user_ids = generate_unique_ids(reviews_df['user_id'])\n",
    "user_ids"
   ]
  },
  {
   "attachments": {},
   "cell_type": "markdown",
   "metadata": {},
   "source": [
    "Same with products"
   ]
  },
  {
   "cell_type": "code",
   "execution_count": 9,
   "metadata": {},
   "outputs": [
    {
     "data": {
      "text/plain": [
       "B005DETYW8        0\n",
       "B00JKEM294        1\n",
       "B000021Y6N        2\n",
       "B014DEGUIE        3\n",
       "6302795567        4\n",
       "              ...  \n",
       "6300145786    22627\n",
       "B002M36R4G    22628\n",
       "B01FKXU58S    22629\n",
       "B00005RIY5    22630\n",
       "B001JJMGIU    22631\n",
       "Length: 22632, dtype: int64"
      ]
     },
     "execution_count": 9,
     "metadata": {},
     "output_type": "execute_result"
    }
   ],
   "source": [
    "item_ids = generate_unique_ids(reviews_df['item_id'])\n",
    "item_ids"
   ]
  },
  {
   "attachments": {},
   "cell_type": "markdown",
   "metadata": {},
   "source": [
    "Split train test and validation by user"
   ]
  },
  {
   "cell_type": "code",
   "execution_count": 10,
   "metadata": {},
   "outputs": [],
   "source": [
    "train_reviews, validation_test_reviews = split_train_test_proportion(reviews_df, test_prop=0.4)\n",
    "validation_reviews, test_reviews = split_train_test_proportion(validation_test_reviews, test_prop=0.5)"
   ]
  },
  {
   "cell_type": "code",
   "execution_count": 11,
   "metadata": {},
   "outputs": [
    {
     "data": {
      "text/plain": [
       "106979"
      ]
     },
     "execution_count": 11,
     "metadata": {},
     "output_type": "execute_result"
    }
   ],
   "source": [
    "len(train_reviews)"
   ]
  },
  {
   "attachments": {},
   "cell_type": "markdown",
   "metadata": {},
   "source": [
    "len(validation_reviews)"
   ]
  },
  {
   "cell_type": "code",
   "execution_count": 12,
   "metadata": {},
   "outputs": [
    {
     "data": {
      "text/plain": [
       "28999"
      ]
     },
     "execution_count": 12,
     "metadata": {},
     "output_type": "execute_result"
    }
   ],
   "source": [
    "len(test_reviews)"
   ]
  },
  {
   "attachments": {},
   "cell_type": "markdown",
   "metadata": {},
   "source": [
    "Sanity checks. All users are in the train validation and test sets!"
   ]
  },
  {
   "cell_type": "code",
   "execution_count": 13,
   "metadata": {},
   "outputs": [
    {
     "data": {
      "text/plain": [
       "True"
      ]
     },
     "execution_count": 13,
     "metadata": {},
     "output_type": "execute_result"
    }
   ],
   "source": [
    "set(train_reviews['user_id']) == set(test_reviews['user_id']) ==  set(validation_reviews['user_id'])"
   ]
  },
  {
   "attachments": {},
   "cell_type": "markdown",
   "metadata": {},
   "source": [
    "Check that the train set and the validation set all have at least one item (same check as above)"
   ]
  },
  {
   "cell_type": "code",
   "execution_count": 14,
   "metadata": {},
   "outputs": [
    {
     "data": {
      "text/html": [
       "<div>\n",
       "<style scoped>\n",
       "    .dataframe tbody tr th:only-of-type {\n",
       "        vertical-align: middle;\n",
       "    }\n",
       "\n",
       "    .dataframe tbody tr th {\n",
       "        vertical-align: top;\n",
       "    }\n",
       "\n",
       "    .dataframe thead th {\n",
       "        text-align: right;\n",
       "    }\n",
       "</style>\n",
       "<table border=\"1\" class=\"dataframe\">\n",
       "  <thead>\n",
       "    <tr style=\"text-align: right;\">\n",
       "      <th></th>\n",
       "      <th>train_size</th>\n",
       "      <th>val_size</th>\n",
       "      <th>test_size</th>\n",
       "    </tr>\n",
       "  </thead>\n",
       "  <tbody>\n",
       "    <tr>\n",
       "      <th>count</th>\n",
       "      <td>17773.000000</td>\n",
       "      <td>17773.000000</td>\n",
       "      <td>17773.000000</td>\n",
       "    </tr>\n",
       "    <tr>\n",
       "      <th>mean</th>\n",
       "      <td>6.019186</td>\n",
       "      <td>1.851741</td>\n",
       "      <td>1.631632</td>\n",
       "    </tr>\n",
       "    <tr>\n",
       "      <th>std</th>\n",
       "      <td>8.267516</td>\n",
       "      <td>2.766093</td>\n",
       "      <td>2.712988</td>\n",
       "    </tr>\n",
       "    <tr>\n",
       "      <th>min</th>\n",
       "      <td>3.000000</td>\n",
       "      <td>1.000000</td>\n",
       "      <td>1.000000</td>\n",
       "    </tr>\n",
       "    <tr>\n",
       "      <th>25%</th>\n",
       "      <td>3.000000</td>\n",
       "      <td>1.000000</td>\n",
       "      <td>1.000000</td>\n",
       "    </tr>\n",
       "    <tr>\n",
       "      <th>50%</th>\n",
       "      <td>5.000000</td>\n",
       "      <td>1.000000</td>\n",
       "      <td>1.000000</td>\n",
       "    </tr>\n",
       "    <tr>\n",
       "      <th>75%</th>\n",
       "      <td>6.000000</td>\n",
       "      <td>2.000000</td>\n",
       "      <td>2.000000</td>\n",
       "    </tr>\n",
       "    <tr>\n",
       "      <th>max</th>\n",
       "      <td>850.000000</td>\n",
       "      <td>283.000000</td>\n",
       "      <td>283.000000</td>\n",
       "    </tr>\n",
       "  </tbody>\n",
       "</table>\n",
       "</div>"
      ],
      "text/plain": [
       "         train_size      val_size     test_size\n",
       "count  17773.000000  17773.000000  17773.000000\n",
       "mean       6.019186      1.851741      1.631632\n",
       "std        8.267516      2.766093      2.712988\n",
       "min        3.000000      1.000000      1.000000\n",
       "25%        3.000000      1.000000      1.000000\n",
       "50%        5.000000      1.000000      1.000000\n",
       "75%        6.000000      2.000000      2.000000\n",
       "max      850.000000    283.000000    283.000000"
      ]
     },
     "execution_count": 14,
     "metadata": {},
     "output_type": "execute_result"
    }
   ],
   "source": [
    "pd.concat([\n",
    "    train_reviews.groupby('user_id').size().to_frame('train_size'),\n",
    "    validation_reviews.groupby('user_id').size().to_frame('val_size'),\n",
    "    test_reviews.groupby('user_id').size().to_frame('test_size')\n",
    "], axis=1).describe()"
   ]
  },
  {
   "cell_type": "code",
   "execution_count": 15,
   "metadata": {},
   "outputs": [
    {
     "data": {
      "text/html": [
       "<div>\n",
       "<style scoped>\n",
       "    .dataframe tbody tr th:only-of-type {\n",
       "        vertical-align: middle;\n",
       "    }\n",
       "\n",
       "    .dataframe tbody tr th {\n",
       "        vertical-align: top;\n",
       "    }\n",
       "\n",
       "    .dataframe thead th {\n",
       "        text-align: right;\n",
       "    }\n",
       "</style>\n",
       "<table border=\"1\" class=\"dataframe\">\n",
       "  <thead>\n",
       "    <tr style=\"text-align: right;\">\n",
       "      <th></th>\n",
       "      <th>image</th>\n",
       "      <th>text</th>\n",
       "      <th>image_features</th>\n",
       "      <th>text_features</th>\n",
       "      <th>dest_folder</th>\n",
       "    </tr>\n",
       "  </thead>\n",
       "  <tbody>\n",
       "    <tr>\n",
       "      <th>0</th>\n",
       "      <td>vit</td>\n",
       "      <td>bert</td>\n",
       "      <td>data/amazon/Movies_and_TV_vit_features.npz</td>\n",
       "      <td>data/amazon/Movies_and_TV_bert_features.npz</td>\n",
       "      <td>data/Movies_and_TV-vit_bert</td>\n",
       "    </tr>\n",
       "    <tr>\n",
       "      <th>1</th>\n",
       "      <td>none</td>\n",
       "      <td>bert</td>\n",
       "      <td>None</td>\n",
       "      <td>data/amazon/Movies_and_TV_bert_features.npz</td>\n",
       "      <td>data/Movies_and_TV-none_bert</td>\n",
       "    </tr>\n",
       "    <tr>\n",
       "      <th>2</th>\n",
       "      <td>vit</td>\n",
       "      <td>none</td>\n",
       "      <td>data/amazon/Movies_and_TV_vit_features.npz</td>\n",
       "      <td>None</td>\n",
       "      <td>data/Movies_and_TV-vit_none</td>\n",
       "    </tr>\n",
       "    <tr>\n",
       "      <th>3</th>\n",
       "      <td>clip</td>\n",
       "      <td>clip</td>\n",
       "      <td>data/amazon/Movies_and_TV_clipimage_features.npz</td>\n",
       "      <td>data/amazon/Movies_and_TV_cliptext_features.npz</td>\n",
       "      <td>data/Movies_and_TV-clip_clip</td>\n",
       "    </tr>\n",
       "    <tr>\n",
       "      <th>4</th>\n",
       "      <td>none</td>\n",
       "      <td>clip</td>\n",
       "      <td>None</td>\n",
       "      <td>data/amazon/Movies_and_TV_cliptext_features.npz</td>\n",
       "      <td>data/Movies_and_TV-none_clip</td>\n",
       "    </tr>\n",
       "    <tr>\n",
       "      <th>5</th>\n",
       "      <td>clip</td>\n",
       "      <td>none</td>\n",
       "      <td>data/amazon/Movies_and_TV_clipimage_features.npz</td>\n",
       "      <td>None</td>\n",
       "      <td>data/Movies_and_TV-clip_none</td>\n",
       "    </tr>\n",
       "    <tr>\n",
       "      <th>6</th>\n",
       "      <td>none</td>\n",
       "      <td>none</td>\n",
       "      <td>None</td>\n",
       "      <td>None</td>\n",
       "      <td>data/Movies_and_TV-none_none</td>\n",
       "    </tr>\n",
       "  </tbody>\n",
       "</table>\n",
       "</div>"
      ],
      "text/plain": [
       "  image  text                                    image_features  \\\n",
       "0   vit  bert        data/amazon/Movies_and_TV_vit_features.npz   \n",
       "1  none  bert                                              None   \n",
       "2   vit  none        data/amazon/Movies_and_TV_vit_features.npz   \n",
       "3  clip  clip  data/amazon/Movies_and_TV_clipimage_features.npz   \n",
       "4  none  clip                                              None   \n",
       "5  clip  none  data/amazon/Movies_and_TV_clipimage_features.npz   \n",
       "6  none  none                                              None   \n",
       "\n",
       "                                     text_features  \\\n",
       "0      data/amazon/Movies_and_TV_bert_features.npz   \n",
       "1      data/amazon/Movies_and_TV_bert_features.npz   \n",
       "2                                             None   \n",
       "3  data/amazon/Movies_and_TV_cliptext_features.npz   \n",
       "4  data/amazon/Movies_and_TV_cliptext_features.npz   \n",
       "5                                             None   \n",
       "6                                             None   \n",
       "\n",
       "                    dest_folder  \n",
       "0   data/Movies_and_TV-vit_bert  \n",
       "1  data/Movies_and_TV-none_bert  \n",
       "2   data/Movies_and_TV-vit_none  \n",
       "3  data/Movies_and_TV-clip_clip  \n",
       "4  data/Movies_and_TV-none_clip  \n",
       "5  data/Movies_and_TV-clip_none  \n",
       "6  data/Movies_and_TV-none_none  "
      ]
     },
     "execution_count": 15,
     "metadata": {},
     "output_type": "execute_result"
    }
   ],
   "source": [
    "combinations = pd.DataFrame.from_records([\n",
    "    ('vit', 'bert', VIT_IMAGE_FEATURES, BERT_TEXT_FEATURES),\n",
    "    ('none', 'bert', None, BERT_TEXT_FEATURES),\n",
    "    ('vit', 'none', VIT_IMAGE_FEATURES, None),\n",
    "    ('clip', 'clip', CLIP_IMAGE_FEATURES, CLIP_TEXT_FEATURES),\n",
    "    ('none', 'clip', None, CLIP_TEXT_FEATURES),\n",
    "    ('clip', 'none', CLIP_IMAGE_FEATURES, None),\n",
    "    ('none', 'none', None, None),\n",
    "], columns=['image', 'text', 'image_features', 'text_features'])\n",
    "combinations['dest_folder'] = combinations.apply(\n",
    "    lambda x: Path(f'data/{DATASET}-{x[\"image\"]}_{x[\"text\"]}'), axis=1\n",
    ")\n",
    "combinations"
   ]
  },
  {
   "attachments": {},
   "cell_type": "markdown",
   "metadata": {},
   "source": [
    "Generate users"
   ]
  },
  {
   "cell_type": "code",
   "execution_count": 16,
   "metadata": {},
   "outputs": [],
   "source": [
    "for c in combinations.itertuples():\n",
    "    c.dest_folder.mkdir(exist_ok=True)\n",
    "\n",
    "    user_ids.to_csv(c.dest_folder / 'users.txt')\n",
    "    item_ids.to_csv(c.dest_folder / 'items.txt', header=['item_id'])"
   ]
  },
  {
   "cell_type": "code",
   "execution_count": 17,
   "metadata": {},
   "outputs": [],
   "source": [
    "NUMERIZED_COMMON_PARAMS = {\n",
    "    'uids': user_ids, \n",
    "    'product_ids': item_ids,\n",
    "    'user_id_column': 'user',\n",
    "    'item_ids_column': 'item',\n",
    "    'columns': ['user', 'item']\n",
    "}\n",
    "\n",
    "for c in combinations.itertuples():\n",
    "    c.dest_folder.mkdir(exist_ok=True)\n",
    "\n",
    "    save_numerized(\n",
    "        train_reviews, \n",
    "        dest=c.dest_folder / 'train.txt',\n",
    "        **NUMERIZED_COMMON_PARAMS\n",
    "    )\n"
   ]
  },
  {
   "cell_type": "code",
   "execution_count": 18,
   "metadata": {},
   "outputs": [
    {
     "data": {
      "text/plain": [
       "'Saved validation data'"
      ]
     },
     "execution_count": 18,
     "metadata": {},
     "output_type": "execute_result"
    }
   ],
   "source": [
    "for c in combinations.itertuples():\n",
    "    c.dest_folder.mkdir(exist_ok=True)\n",
    "\n",
    "    save_numerized(\n",
    "        validation_reviews, \n",
    "        dest=c.dest_folder / 'validation.txt',\n",
    "        **NUMERIZED_COMMON_PARAMS\n",
    "    )\n",
    "\n",
    "\n",
    "'Saved validation data'"
   ]
  },
  {
   "cell_type": "code",
   "execution_count": 19,
   "metadata": {},
   "outputs": [
    {
     "data": {
      "text/plain": [
       "'Saved test data'"
      ]
     },
     "execution_count": 19,
     "metadata": {},
     "output_type": "execute_result"
    }
   ],
   "source": [
    "for c in combinations.itertuples():\n",
    "    save_numerized(\n",
    "        test_reviews, \n",
    "        dest=c.dest_folder / 'test.txt',\n",
    "        **NUMERIZED_COMMON_PARAMS\n",
    "    )\n",
    "'Saved test data'"
   ]
  },
  {
   "cell_type": "code",
   "execution_count": 20,
   "metadata": {},
   "outputs": [
    {
     "name": "stdout",
     "output_type": "stream",
     "text": [
      "Pandas(Index=0, image='vit', text='bert', image_features=PosixPath('data/amazon/Movies_and_TV_vit_features.npz'), text_features=PosixPath('data/amazon/Movies_and_TV_bert_features.npz'), dest_folder=PosixPath('data/Movies_and_TV-vit_bert'))\n",
      "Opening file data/amazon/Movies_and_TV_vit_features.npz\n",
      "Initializing array (22632, 1024)\n"
     ]
    },
    {
     "name": "stderr",
     "output_type": "stream",
     "text": [
      "Copying features:   1%|          | 246/22.6k [00:00<00:27, 802items/s] "
     ]
    },
    {
     "name": "stdout",
     "output_type": "stream",
     "text": [
      "Item B0015XHR5C not found in features file\n"
     ]
    },
    {
     "name": "stderr",
     "output_type": "stream",
     "text": [
      "Copying features:  11%|█         | 2.50k/22.6k [00:03<00:23, 862items/s]"
     ]
    },
    {
     "name": "stdout",
     "output_type": "stream",
     "text": [
      "Item B001C3O6QS not found in features file\n"
     ]
    },
    {
     "name": "stderr",
     "output_type": "stream",
     "text": [
      "Copying features:  22%|██▏       | 4.94k/22.6k [00:06<00:20, 864items/s]"
     ]
    },
    {
     "name": "stdout",
     "output_type": "stream",
     "text": [
      "Item B0016MOWOG not found in features file\n"
     ]
    },
    {
     "name": "stderr",
     "output_type": "stream",
     "text": [
      "Copying features:  26%|██▌       | 5.79k/22.6k [00:07<00:21, 781items/s]"
     ]
    },
    {
     "name": "stdout",
     "output_type": "stream",
     "text": [
      "Item B0014VPFPO not found in features file\n",
      "Item B0017RFXRK not found in features file\n"
     ]
    },
    {
     "name": "stderr",
     "output_type": "stream",
     "text": [
      "Copying features:  29%|██▉       | 6.55k/22.6k [00:08<00:22, 707items/s]"
     ]
    },
    {
     "name": "stdout",
     "output_type": "stream",
     "text": [
      "Item B001ADKATC not found in features file\n"
     ]
    },
    {
     "name": "stderr",
     "output_type": "stream",
     "text": [
      "Copying features:  31%|███       | 6.92k/22.6k [00:08<00:21, 733items/s]"
     ]
    },
    {
     "name": "stdout",
     "output_type": "stream",
     "text": [
      "Item B0017ANB08 not found in features file\n"
     ]
    },
    {
     "name": "stderr",
     "output_type": "stream",
     "text": [
      "Copying features:  33%|███▎      | 7.38k/22.6k [00:09<00:20, 760items/s]"
     ]
    },
    {
     "name": "stdout",
     "output_type": "stream",
     "text": [
      "Item B0014CKCCY not found in features file\n"
     ]
    },
    {
     "name": "stderr",
     "output_type": "stream",
     "text": [
      "Copying features:  35%|███▍      | 7.88k/22.6k [00:10<00:17, 820items/s]"
     ]
    },
    {
     "name": "stdout",
     "output_type": "stream",
     "text": [
      "Item B0013KU93E not found in features file\n"
     ]
    },
    {
     "name": "stderr",
     "output_type": "stream",
     "text": [
      "Copying features:  40%|███▉      | 8.98k/22.6k [00:11<00:19, 686items/s]"
     ]
    },
    {
     "name": "stdout",
     "output_type": "stream",
     "text": [
      "Item B0013LRKRQ not found in features file\n"
     ]
    },
    {
     "name": "stderr",
     "output_type": "stream",
     "text": [
      "Copying features:  42%|████▏     | 9.57k/22.6k [00:12<00:17, 748items/s]"
     ]
    },
    {
     "name": "stdout",
     "output_type": "stream",
     "text": [
      "Item B001AQR39O not found in features file\n",
      "Item B001B3LIOC not found in features file\n"
     ]
    },
    {
     "name": "stderr",
     "output_type": "stream",
     "text": [
      "Copying features:  61%|██████▏   | 13.9k/22.6k [00:17<00:11, 770items/s]"
     ]
    },
    {
     "name": "stdout",
     "output_type": "stream",
     "text": [
      "Item B0018CWW96 not found in features file\n"
     ]
    },
    {
     "name": "stderr",
     "output_type": "stream",
     "text": [
      "Copying features:  63%|██████▎   | 14.3k/22.6k [00:18<00:11, 755items/s]"
     ]
    },
    {
     "name": "stdout",
     "output_type": "stream",
     "text": [
      "Item B0014F20GM not found in features file\n"
     ]
    },
    {
     "name": "stderr",
     "output_type": "stream",
     "text": [
      "Copying features:  71%|███████   | 16.1k/22.6k [00:20<00:08, 813items/s]"
     ]
    },
    {
     "name": "stdout",
     "output_type": "stream",
     "text": [
      "Item B0019ESNGE not found in features file\n",
      "Item B0013TR4GK not found in features file\n"
     ]
    },
    {
     "name": "stderr",
     "output_type": "stream",
     "text": [
      "Copying features:  74%|███████▍  | 16.8k/22.6k [00:21<00:07, 761items/s]"
     ]
    },
    {
     "name": "stdout",
     "output_type": "stream",
     "text": [
      "Item B001ANQY7Y not found in features file\n"
     ]
    },
    {
     "name": "stderr",
     "output_type": "stream",
     "text": [
      "Copying features:  88%|████████▊ | 19.8k/22.6k [00:25<00:03, 850items/s]"
     ]
    },
    {
     "name": "stdout",
     "output_type": "stream",
     "text": [
      "Item B0017W22LK not found in features file\n"
     ]
    },
    {
     "name": "stderr",
     "output_type": "stream",
     "text": [
      "Copying features:  96%|█████████▌| 21.8k/22.6k [00:27<00:01, 768items/s]"
     ]
    },
    {
     "name": "stdout",
     "output_type": "stream",
     "text": [
      "Item B0013K7ZUE not found in features file\n"
     ]
    },
    {
     "name": "stderr",
     "output_type": "stream",
     "text": [
      "Copying features:  98%|█████████▊| 22.1k/22.6k [00:27<00:00, 815items/s]"
     ]
    },
    {
     "name": "stdout",
     "output_type": "stream",
     "text": [
      "Item B0013LRKV2 not found in features file\n"
     ]
    },
    {
     "name": "stderr",
     "output_type": "stream",
     "text": [
      "Copying features: 100%|██████████| 22.6k/22.6k [00:28<00:00, 791items/s]\n"
     ]
    },
    {
     "name": "stdout",
     "output_type": "stream",
     "text": [
      "data/Movies_and_TV-vit_bert/embed_image.npy: 176MiB\n",
      "Pandas(Index=1, image='none', text='bert', image_features=None, text_features=PosixPath('data/amazon/Movies_and_TV_bert_features.npz'), dest_folder=PosixPath('data/Movies_and_TV-none_bert'))\n",
      "Returning Zeros\n",
      "data/Movies_and_TV-none_bert/embed_image.npy: 22MiB\n",
      "Pandas(Index=2, image='vit', text='none', image_features=PosixPath('data/amazon/Movies_and_TV_vit_features.npz'), text_features=None, dest_folder=PosixPath('data/Movies_and_TV-vit_none'))\n",
      "data/Movies_and_TV-vit_none/embed_image.npy: 176MiB\n",
      "Pandas(Index=3, image='clip', text='clip', image_features=PosixPath('data/amazon/Movies_and_TV_clipimage_features.npz'), text_features=PosixPath('data/amazon/Movies_and_TV_cliptext_features.npz'), dest_folder=PosixPath('data/Movies_and_TV-clip_clip'))\n",
      "Opening file data/amazon/Movies_and_TV_clipimage_features.npz\n",
      "Initializing array (22632, 768)\n"
     ]
    },
    {
     "name": "stderr",
     "output_type": "stream",
     "text": [
      "Copying features:   0%|          | 91.0/22.6k [00:00<00:24, 909items/s]"
     ]
    },
    {
     "name": "stdout",
     "output_type": "stream",
     "text": [
      "Item B0015XHR5C not found in features file\n"
     ]
    },
    {
     "name": "stderr",
     "output_type": "stream",
     "text": [
      "Copying features:  11%|█         | 2.51k/22.6k [00:03<00:24, 816items/s]"
     ]
    },
    {
     "name": "stdout",
     "output_type": "stream",
     "text": [
      "Item B001C3O6QS not found in features file\n"
     ]
    },
    {
     "name": "stderr",
     "output_type": "stream",
     "text": [
      "Copying features:  22%|██▏       | 4.91k/22.6k [00:05<00:21, 836items/s]"
     ]
    },
    {
     "name": "stdout",
     "output_type": "stream",
     "text": [
      "Item B0016MOWOG not found in features file\n"
     ]
    },
    {
     "name": "stderr",
     "output_type": "stream",
     "text": [
      "Copying features:  26%|██▌       | 5.85k/22.6k [00:07<00:19, 872items/s]"
     ]
    },
    {
     "name": "stdout",
     "output_type": "stream",
     "text": [
      "Item B0014VPFPO not found in features file\n",
      "Item B0017RFXRK not found in features file\n"
     ]
    },
    {
     "name": "stderr",
     "output_type": "stream",
     "text": [
      "Copying features:  29%|██▉       | 6.64k/22.6k [00:08<00:18, 851items/s]"
     ]
    },
    {
     "name": "stdout",
     "output_type": "stream",
     "text": [
      "Item B001ADKATC not found in features file\n"
     ]
    },
    {
     "name": "stderr",
     "output_type": "stream",
     "text": [
      "Copying features:  30%|███       | 6.90k/22.6k [00:08<00:18, 839items/s]"
     ]
    },
    {
     "name": "stdout",
     "output_type": "stream",
     "text": [
      "Item B0017ANB08 not found in features file\n"
     ]
    },
    {
     "name": "stderr",
     "output_type": "stream",
     "text": [
      "Copying features:  33%|███▎      | 7.40k/22.6k [00:08<00:18, 834items/s]"
     ]
    },
    {
     "name": "stdout",
     "output_type": "stream",
     "text": [
      "Item B0014CKCCY not found in features file\n"
     ]
    },
    {
     "name": "stderr",
     "output_type": "stream",
     "text": [
      "Copying features:  35%|███▍      | 7.91k/22.6k [00:09<00:17, 823items/s]"
     ]
    },
    {
     "name": "stdout",
     "output_type": "stream",
     "text": [
      "Item B0013KU93E not found in features file\n"
     ]
    },
    {
     "name": "stderr",
     "output_type": "stream",
     "text": [
      "Copying features:  40%|███▉      | 9.00k/22.6k [00:10<00:16, 836items/s]"
     ]
    },
    {
     "name": "stdout",
     "output_type": "stream",
     "text": [
      "Item B0013LRKRQ not found in features file\n"
     ]
    },
    {
     "name": "stderr",
     "output_type": "stream",
     "text": [
      "Copying features:  42%|████▏     | 9.56k/22.6k [00:11<00:14, 907items/s]"
     ]
    },
    {
     "name": "stdout",
     "output_type": "stream",
     "text": [
      "Item B001AQR39O not found in features file\n",
      "Item B001B3LIOC not found in features file\n"
     ]
    },
    {
     "name": "stderr",
     "output_type": "stream",
     "text": [
      "Copying features:  62%|██████▏   | 14.0k/22.6k [00:16<00:09, 887items/s]"
     ]
    },
    {
     "name": "stdout",
     "output_type": "stream",
     "text": [
      "Item B0018CWW96 not found in features file\n"
     ]
    },
    {
     "name": "stderr",
     "output_type": "stream",
     "text": [
      "Copying features:  63%|██████▎   | 14.2k/22.6k [00:17<00:10, 768items/s]"
     ]
    },
    {
     "name": "stdout",
     "output_type": "stream",
     "text": [
      "Item B0014F20GM not found in features file\n"
     ]
    },
    {
     "name": "stderr",
     "output_type": "stream",
     "text": [
      "Copying features:  71%|███████   | 16.1k/22.6k [00:19<00:09, 707items/s]"
     ]
    },
    {
     "name": "stdout",
     "output_type": "stream",
     "text": [
      "Item B0019ESNGE not found in features file\n",
      "Item B0013TR4GK not found in features file\n"
     ]
    },
    {
     "name": "stderr",
     "output_type": "stream",
     "text": [
      "Copying features:  74%|███████▍  | 16.7k/22.6k [00:20<00:08, 736items/s]"
     ]
    },
    {
     "name": "stdout",
     "output_type": "stream",
     "text": [
      "Item B001ANQY7Y not found in features file\n"
     ]
    },
    {
     "name": "stderr",
     "output_type": "stream",
     "text": [
      "Copying features:  87%|████████▋ | 19.8k/22.6k [00:25<00:04, 704items/s]"
     ]
    },
    {
     "name": "stdout",
     "output_type": "stream",
     "text": [
      "Item B0017W22LK not found in features file\n"
     ]
    },
    {
     "name": "stderr",
     "output_type": "stream",
     "text": [
      "Copying features:  96%|█████████▌| 21.8k/22.6k [00:27<00:01, 823items/s]"
     ]
    },
    {
     "name": "stdout",
     "output_type": "stream",
     "text": [
      "Item B0013K7ZUE not found in features file\n"
     ]
    },
    {
     "name": "stderr",
     "output_type": "stream",
     "text": [
      "Copying features:  98%|█████████▊| 22.1k/22.6k [00:28<00:00, 820items/s]"
     ]
    },
    {
     "name": "stdout",
     "output_type": "stream",
     "text": [
      "Item B0013LRKV2 not found in features file\n"
     ]
    },
    {
     "name": "stderr",
     "output_type": "stream",
     "text": [
      "Copying features: 100%|██████████| 22.6k/22.6k [00:28<00:00, 784items/s]\n"
     ]
    },
    {
     "name": "stdout",
     "output_type": "stream",
     "text": [
      "data/Movies_and_TV-clip_clip/embed_image.npy: 132MiB\n",
      "Pandas(Index=4, image='none', text='clip', image_features=None, text_features=PosixPath('data/amazon/Movies_and_TV_cliptext_features.npz'), dest_folder=PosixPath('data/Movies_and_TV-none_clip'))\n",
      "data/Movies_and_TV-none_clip/embed_image.npy: 22MiB\n",
      "Pandas(Index=5, image='clip', text='none', image_features=PosixPath('data/amazon/Movies_and_TV_clipimage_features.npz'), text_features=None, dest_folder=PosixPath('data/Movies_and_TV-clip_none'))\n",
      "data/Movies_and_TV-clip_none/embed_image.npy: 132MiB\n",
      "Pandas(Index=6, image='none', text='none', image_features=None, text_features=None, dest_folder=PosixPath('data/Movies_and_TV-none_none'))\n",
      "data/Movies_and_TV-none_none/embed_image.npy: 22MiB\n"
     ]
    }
   ],
   "source": [
    "@lru_cache()\n",
    "def copy_features(features_file: Optional[Path]):\n",
    "    if features_file is None:\n",
    "        print('Returning Zeros')\n",
    "        return np.zeros((len(item_ids), 256), dtype=np.float32)\n",
    "\n",
    "    print(f'Opening file {features_file}')\n",
    "    with np.load(features_file) as features:\n",
    "        some_embedding = next(iter(features.values()))\n",
    "        embedding_shape, = some_embedding.shape\n",
    "        array_shape = (len(item_ids),  embedding_shape)\n",
    "        print(f'Initializing array {array_shape}')\n",
    "        res = np.full(array_shape,  fill_value=np.nan)\n",
    "\n",
    "        for item_id, idx in tqdm(item_ids.items(), \n",
    "                total=len(item_ids), unit_scale=True, unit='items', \n",
    "                desc='Copying features'):\n",
    "            value = features.get(str(item_id))\n",
    "            if value is None:\n",
    "                print(f'Item {item_id} not found in features file')\n",
    "                res[idx, :] = 0    \n",
    "            else:\n",
    "                assert np.isnan(value).sum() == 0, \"Feature has NaN Values\"\n",
    "                res[idx, :] = value\n",
    "\n",
    "        return res\n",
    "\n",
    "for c in combinations.itertuples():\n",
    "    print(c)\n",
    "    features_array = copy_features(features_file=c.image_features)\n",
    "    embed_dest = c.dest_folder / 'embed_image.npy'\n",
    "    np.save(embed_dest, features_array)\n",
    "\n",
    "    print(f'{str(embed_dest)}: {embed_dest.stat().st_size // 2**20}MiB')\n",
    "\n",
    "copy_features.cache_clear()"
   ]
  },
  {
   "cell_type": "code",
   "execution_count": 21,
   "metadata": {},
   "outputs": [
    {
     "name": "stdout",
     "output_type": "stream",
     "text": [
      "Pandas(Index=0, image='vit', text='bert', image_features=PosixPath('data/amazon/Movies_and_TV_vit_features.npz'), text_features=PosixPath('data/amazon/Movies_and_TV_bert_features.npz'), dest_folder=PosixPath('data/Movies_and_TV-vit_bert'))\n",
      "Opening file data/amazon/Movies_and_TV_bert_features.npz\n",
      "Initializing array (22632, 1024)\n"
     ]
    },
    {
     "name": "stderr",
     "output_type": "stream",
     "text": [
      "Copying features:   0%|          | 74.0/22.6k [00:00<00:30, 731items/s]"
     ]
    },
    {
     "name": "stdout",
     "output_type": "stream",
     "text": [
      "Item B0015XHR5C not found in features file\n"
     ]
    },
    {
     "name": "stderr",
     "output_type": "stream",
     "text": [
      "Copying features:  11%|█▏        | 2.58k/22.6k [00:03<00:22, 903items/s]"
     ]
    },
    {
     "name": "stdout",
     "output_type": "stream",
     "text": [
      "Item B001C3O6QS not found in features file\n"
     ]
    },
    {
     "name": "stderr",
     "output_type": "stream",
     "text": [
      "Copying features:  22%|██▏       | 4.95k/22.6k [00:06<00:19, 914items/s]"
     ]
    },
    {
     "name": "stdout",
     "output_type": "stream",
     "text": [
      "Item B0016MOWOG not found in features file\n"
     ]
    },
    {
     "name": "stderr",
     "output_type": "stream",
     "text": [
      "Copying features:  26%|██▌       | 5.83k/22.6k [00:07<00:21, 782items/s]"
     ]
    },
    {
     "name": "stdout",
     "output_type": "stream",
     "text": [
      "Item B0014VPFPO not found in features file\n",
      "Item B0017RFXRK not found in features file\n"
     ]
    },
    {
     "name": "stderr",
     "output_type": "stream",
     "text": [
      "Copying features:  29%|██▉       | 6.58k/22.6k [00:08<00:19, 818items/s]"
     ]
    },
    {
     "name": "stdout",
     "output_type": "stream",
     "text": [
      "Item B001ADKATC not found in features file\n"
     ]
    },
    {
     "name": "stderr",
     "output_type": "stream",
     "text": [
      "Copying features:  30%|███       | 6.89k/22.6k [00:08<00:22, 696items/s]"
     ]
    },
    {
     "name": "stdout",
     "output_type": "stream",
     "text": [
      "Item B0017ANB08 not found in features file\n"
     ]
    },
    {
     "name": "stderr",
     "output_type": "stream",
     "text": [
      "Copying features:  32%|███▏      | 7.32k/22.6k [00:09<00:24, 613items/s]"
     ]
    },
    {
     "name": "stdout",
     "output_type": "stream",
     "text": [
      "Item B0014CKCCY not found in features file\n"
     ]
    },
    {
     "name": "stderr",
     "output_type": "stream",
     "text": [
      "Copying features:  35%|███▍      | 7.90k/22.6k [00:10<00:18, 788items/s]"
     ]
    },
    {
     "name": "stdout",
     "output_type": "stream",
     "text": [
      "Item B0013KU93E not found in features file\n"
     ]
    },
    {
     "name": "stderr",
     "output_type": "stream",
     "text": [
      "Copying features:  40%|███▉      | 9.02k/22.6k [00:11<00:18, 727items/s]"
     ]
    },
    {
     "name": "stdout",
     "output_type": "stream",
     "text": [
      "Item B0013LRKRQ not found in features file\n"
     ]
    },
    {
     "name": "stderr",
     "output_type": "stream",
     "text": [
      "Copying features:  42%|████▏     | 9.59k/22.6k [00:12<00:15, 820items/s]"
     ]
    },
    {
     "name": "stdout",
     "output_type": "stream",
     "text": [
      "Item B001AQR39O not found in features file\n",
      "Item B001B3LIOC not found in features file\n"
     ]
    },
    {
     "name": "stderr",
     "output_type": "stream",
     "text": [
      "Copying features:  61%|██████▏   | 13.9k/22.6k [00:18<00:10, 813items/s]"
     ]
    },
    {
     "name": "stdout",
     "output_type": "stream",
     "text": [
      "Item B0018CWW96 not found in features file\n"
     ]
    },
    {
     "name": "stderr",
     "output_type": "stream",
     "text": [
      "Copying features:  63%|██████▎   | 14.3k/22.6k [00:18<00:10, 807items/s]"
     ]
    },
    {
     "name": "stdout",
     "output_type": "stream",
     "text": [
      "Item B0014F20GM not found in features file\n"
     ]
    },
    {
     "name": "stderr",
     "output_type": "stream",
     "text": [
      "Copying features:  71%|███████▏  | 16.1k/22.6k [00:21<00:09, 716items/s]"
     ]
    },
    {
     "name": "stdout",
     "output_type": "stream",
     "text": [
      "Item B0019ESNGE not found in features file\n",
      "Item B0013TR4GK not found in features file\n"
     ]
    },
    {
     "name": "stderr",
     "output_type": "stream",
     "text": [
      "Copying features:  74%|███████▍  | 16.8k/22.6k [00:22<00:07, 806items/s]"
     ]
    },
    {
     "name": "stdout",
     "output_type": "stream",
     "text": [
      "Item B001ANQY7Y not found in features file\n"
     ]
    },
    {
     "name": "stderr",
     "output_type": "stream",
     "text": [
      "Copying features:  87%|████████▋ | 19.8k/22.6k [00:25<00:03, 752items/s]"
     ]
    },
    {
     "name": "stdout",
     "output_type": "stream",
     "text": [
      "Item B0017W22LK not found in features file\n"
     ]
    },
    {
     "name": "stderr",
     "output_type": "stream",
     "text": [
      "Copying features:  96%|█████████▋| 21.8k/22.6k [00:28<00:01, 810items/s]"
     ]
    },
    {
     "name": "stdout",
     "output_type": "stream",
     "text": [
      "Item B0013K7ZUE not found in features file\n"
     ]
    },
    {
     "name": "stderr",
     "output_type": "stream",
     "text": [
      "Copying features:  97%|█████████▋| 22.1k/22.6k [00:28<00:00, 782items/s]"
     ]
    },
    {
     "name": "stdout",
     "output_type": "stream",
     "text": [
      "Item B0013LRKV2 not found in features file\n"
     ]
    },
    {
     "name": "stderr",
     "output_type": "stream",
     "text": [
      "Copying features: 100%|██████████| 22.6k/22.6k [00:29<00:00, 765items/s]\n"
     ]
    },
    {
     "name": "stdout",
     "output_type": "stream",
     "text": [
      "data/Movies_and_TV-vit_bert/embed_text.npy: 176MiB\n",
      "Pandas(Index=1, image='none', text='bert', image_features=None, text_features=PosixPath('data/amazon/Movies_and_TV_bert_features.npz'), dest_folder=PosixPath('data/Movies_and_TV-none_bert'))\n",
      "data/Movies_and_TV-none_bert/embed_text.npy: 176MiB\n",
      "Pandas(Index=2, image='vit', text='none', image_features=PosixPath('data/amazon/Movies_and_TV_vit_features.npz'), text_features=None, dest_folder=PosixPath('data/Movies_and_TV-vit_none'))\n",
      "Returning Zeros\n",
      "data/Movies_and_TV-vit_none/embed_text.npy: 22MiB\n",
      "Pandas(Index=3, image='clip', text='clip', image_features=PosixPath('data/amazon/Movies_and_TV_clipimage_features.npz'), text_features=PosixPath('data/amazon/Movies_and_TV_cliptext_features.npz'), dest_folder=PosixPath('data/Movies_and_TV-clip_clip'))\n",
      "Opening file data/amazon/Movies_and_TV_cliptext_features.npz\n",
      "Initializing array (22632, 768)\n"
     ]
    },
    {
     "name": "stderr",
     "output_type": "stream",
     "text": [
      "Copying features:   0%|          | 88.0/22.6k [00:00<00:25, 869items/s]"
     ]
    },
    {
     "name": "stdout",
     "output_type": "stream",
     "text": [
      "Item B0015XHR5C not found in features file\n"
     ]
    },
    {
     "name": "stderr",
     "output_type": "stream",
     "text": [
      "Copying features:  11%|█         | 2.48k/22.6k [00:03<00:30, 662items/s]"
     ]
    },
    {
     "name": "stdout",
     "output_type": "stream",
     "text": [
      "Item B001C3O6QS not found in features file\n"
     ]
    },
    {
     "name": "stderr",
     "output_type": "stream",
     "text": [
      "Copying features:  22%|██▏       | 4.89k/22.6k [00:06<00:21, 816items/s]"
     ]
    },
    {
     "name": "stdout",
     "output_type": "stream",
     "text": [
      "Item B0016MOWOG not found in features file\n"
     ]
    },
    {
     "name": "stderr",
     "output_type": "stream",
     "text": [
      "Copying features:  26%|██▌       | 5.81k/22.6k [00:07<00:20, 820items/s]"
     ]
    },
    {
     "name": "stdout",
     "output_type": "stream",
     "text": [
      "Item B0014VPFPO not found in features file\n",
      "Item B0017RFXRK not found in features file\n"
     ]
    },
    {
     "name": "stderr",
     "output_type": "stream",
     "text": [
      "Copying features:  29%|██▉       | 6.62k/22.6k [00:08<00:20, 786items/s]"
     ]
    },
    {
     "name": "stdout",
     "output_type": "stream",
     "text": [
      "Item B001ADKATC not found in features file\n"
     ]
    },
    {
     "name": "stderr",
     "output_type": "stream",
     "text": [
      "Copying features:  31%|███       | 6.96k/22.6k [00:09<00:18, 836items/s]"
     ]
    },
    {
     "name": "stdout",
     "output_type": "stream",
     "text": [
      "Item B0017ANB08 not found in features file\n"
     ]
    },
    {
     "name": "stderr",
     "output_type": "stream",
     "text": [
      "Copying features:  33%|███▎      | 7.41k/22.6k [00:09<00:17, 882items/s]"
     ]
    },
    {
     "name": "stdout",
     "output_type": "stream",
     "text": [
      "Item B0014CKCCY not found in features file\n"
     ]
    },
    {
     "name": "stderr",
     "output_type": "stream",
     "text": [
      "Copying features:  35%|███▍      | 7.86k/22.6k [00:10<00:16, 881items/s]"
     ]
    },
    {
     "name": "stdout",
     "output_type": "stream",
     "text": [
      "Item B0013KU93E not found in features file\n"
     ]
    },
    {
     "name": "stderr",
     "output_type": "stream",
     "text": [
      "Copying features:  40%|███▉      | 9.03k/22.6k [00:11<00:15, 888items/s]"
     ]
    },
    {
     "name": "stdout",
     "output_type": "stream",
     "text": [
      "Item B0013LRKRQ not found in features file\n"
     ]
    },
    {
     "name": "stderr",
     "output_type": "stream",
     "text": [
      "Copying features:  42%|████▏     | 9.57k/22.6k [00:12<00:14, 898items/s]"
     ]
    },
    {
     "name": "stdout",
     "output_type": "stream",
     "text": [
      "Item B001AQR39O not found in features file\n",
      "Item B001B3LIOC not found in features file\n"
     ]
    },
    {
     "name": "stderr",
     "output_type": "stream",
     "text": [
      "Copying features:  62%|██████▏   | 13.9k/22.6k [00:16<00:09, 933items/s]"
     ]
    },
    {
     "name": "stdout",
     "output_type": "stream",
     "text": [
      "Item B0018CWW96 not found in features file\n"
     ]
    },
    {
     "name": "stderr",
     "output_type": "stream",
     "text": [
      "Copying features:  63%|██████▎   | 14.3k/22.6k [00:17<00:09, 922items/s]"
     ]
    },
    {
     "name": "stdout",
     "output_type": "stream",
     "text": [
      "Item B0014F20GM not found in features file\n"
     ]
    },
    {
     "name": "stderr",
     "output_type": "stream",
     "text": [
      "Copying features:  71%|███████   | 16.1k/22.6k [00:19<00:08, 766items/s]"
     ]
    },
    {
     "name": "stdout",
     "output_type": "stream",
     "text": [
      "Item B0019ESNGE not found in features file\n",
      "Item B0013TR4GK not found in features file\n"
     ]
    },
    {
     "name": "stderr",
     "output_type": "stream",
     "text": [
      "Copying features:  74%|███████▍  | 16.8k/22.6k [00:20<00:06, 859items/s]"
     ]
    },
    {
     "name": "stdout",
     "output_type": "stream",
     "text": [
      "Item B001ANQY7Y not found in features file\n"
     ]
    },
    {
     "name": "stderr",
     "output_type": "stream",
     "text": [
      "Copying features:  88%|████████▊ | 19.9k/22.6k [00:23<00:03, 925items/s]"
     ]
    },
    {
     "name": "stdout",
     "output_type": "stream",
     "text": [
      "Item B0017W22LK not found in features file\n"
     ]
    },
    {
     "name": "stderr",
     "output_type": "stream",
     "text": [
      "Copying features:  96%|█████████▋| 21.8k/22.6k [00:25<00:00, 956items/s]"
     ]
    },
    {
     "name": "stdout",
     "output_type": "stream",
     "text": [
      "Item B0013K7ZUE not found in features file\n"
     ]
    },
    {
     "name": "stderr",
     "output_type": "stream",
     "text": [
      "Copying features:  98%|█████████▊| 22.1k/22.6k [00:26<00:00, 989items/s]"
     ]
    },
    {
     "name": "stdout",
     "output_type": "stream",
     "text": [
      "Item B0013LRKV2 not found in features file\n"
     ]
    },
    {
     "name": "stderr",
     "output_type": "stream",
     "text": [
      "Copying features: 100%|██████████| 22.6k/22.6k [00:26<00:00, 851items/s]\n"
     ]
    },
    {
     "name": "stdout",
     "output_type": "stream",
     "text": [
      "data/Movies_and_TV-clip_clip/embed_text.npy: 132MiB\n",
      "Pandas(Index=4, image='none', text='clip', image_features=None, text_features=PosixPath('data/amazon/Movies_and_TV_cliptext_features.npz'), dest_folder=PosixPath('data/Movies_and_TV-none_clip'))\n",
      "data/Movies_and_TV-none_clip/embed_text.npy: 132MiB\n",
      "Pandas(Index=5, image='clip', text='none', image_features=PosixPath('data/amazon/Movies_and_TV_clipimage_features.npz'), text_features=None, dest_folder=PosixPath('data/Movies_and_TV-clip_none'))\n",
      "data/Movies_and_TV-clip_none/embed_text.npy: 22MiB\n",
      "Pandas(Index=6, image='none', text='none', image_features=None, text_features=None, dest_folder=PosixPath('data/Movies_and_TV-none_none'))\n",
      "data/Movies_and_TV-none_none/embed_text.npy: 22MiB\n"
     ]
    }
   ],
   "source": [
    "for c in combinations.itertuples():\n",
    "    print(c)\n",
    "    features_array = copy_features(features_file=c.text_features)\n",
    "    embed_dest = c.dest_folder / 'embed_text.npy'\n",
    "    np.save(embed_dest, features_array)\n",
    "\n",
    "    print(f'{str(embed_dest)}: {embed_dest.stat().st_size // 2**20}MiB')\n",
    "\n",
    "copy_features.cache_clear()"
   ]
  }
 ],
 "metadata": {
  "kernelspec": {
   "display_name": ".venv",
   "language": "python",
   "name": "python3"
  },
  "language_info": {
   "codemirror_mode": {
    "name": "ipython",
    "version": 3
   },
   "file_extension": ".py",
   "mimetype": "text/x-python",
   "name": "python",
   "nbconvert_exporter": "python",
   "pygments_lexer": "ipython3",
   "version": "3.8.16"
  },
  "orig_nbformat": 4,
  "vscode": {
   "interpreter": {
    "hash": "4c22d1444aa3f68a820bd00264b529de9aca8b813336c5d71bda95dadce90fbf"
   }
  }
 },
 "nbformat": 4,
 "nbformat_minor": 2
}
